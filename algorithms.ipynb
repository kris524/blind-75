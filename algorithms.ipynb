{
 "cells": [
  {
   "cell_type": "markdown",
   "metadata": {},
   "source": [
    "Longest Substring Without Repeating Characters: https://leetcode.com/problems/longest-substring-without-repeating-characters/?envType=study-plan&id=algorithm-i"
   ]
  },
  {
   "cell_type": "code",
   "execution_count": 25,
   "metadata": {},
   "outputs": [],
   "source": [
    "from cmath import inf\n",
    "\n",
    "\n",
    "def lengthOfLongestSubstring( s: str) -> int:\n",
    "    #use two pointers\n",
    "    if s == \"\":\n",
    "        return 0\n",
    "    biggest_substring = 1\n",
    "    i = 0\n",
    "    j = 0\n",
    "    final_storage = []\n",
    "    have_seen = {}\n",
    "    s_list = list(s)\n",
    "    for i in range(len(s_list)):\n",
    "        for j in range(i, len(s_list)):\n",
    "    # while i < len(s_list):\n",
    "    \n",
    "            if s_list[j] not in have_seen:\n",
    "                have_seen[s_list[j]] = True\n",
    "                final_storage.append(s_list[j])\n",
    "            else:\n",
    "                # print(len(final_storage))\n",
    "                if len(final_storage)>=biggest_substring:\n",
    "                    biggest_substring = len(final_storage)\n",
    "                final_storage = []\n",
    "                have_seen={}\n",
    "                break\n",
    "    print(biggest_substring)\n",
    "    "
   ]
  },
  {
   "cell_type": "code",
   "execution_count": 26,
   "metadata": {},
   "outputs": [
    {
     "name": "stdout",
     "output_type": "stream",
     "text": [
      "1\n"
     ]
    }
   ],
   "source": [
    "lengthOfLongestSubstring(\" \")"
   ]
  },
  {
   "cell_type": "code",
   "execution_count": null,
   "metadata": {},
   "outputs": [],
   "source": [
    "def lengthOfLongestSubstring( s: str) -> int:\n",
    "    charSet = set()\n",
    "    l = 0\n",
    "    res = 0\n",
    "    for r in range(len(s)): \n",
    "        #dont use an if because that would do this action only one time\n",
    "        #but if we reach a case like \"abcB\", we need to do the action as long as its inside (b in this case)\n",
    "        while s[r] in charSet:\n",
    "            charSet.remove(s[l])\n",
    "            l+=1 #update the sliding window\n",
    "        charSet.add(s[r]) #\"a\"\n",
    "        res = max(res, r-l+1 )\n",
    "    return res\n",
    "\n",
    "\n"
   ]
  },
  {
   "cell_type": "code",
   "execution_count": null,
   "metadata": {},
   "outputs": [],
   "source": []
  },
  {
   "attachments": {},
   "cell_type": "markdown",
   "metadata": {},
   "source": [
    "---"
   ]
  },
  {
   "attachments": {},
   "cell_type": "markdown",
   "metadata": {},
   "source": [
    " Count Binary Substrings: https://leetcode.com/problems/count-binary-substrings/"
   ]
  },
  {
   "cell_type": "code",
   "execution_count": 19,
   "metadata": {},
   "outputs": [],
   "source": [
    "class Solution:\n",
    "    def countBinarySubstrings(self, s: str) -> int:\n",
    "        group = [1]\n",
    "        for i in range(1, len(s)):\n",
    "            if s[i-1] != s[i]:\n",
    "                group.append(1)\n",
    "            else:\n",
    "                group[-1] +=1\n",
    "        # print(group)\n",
    "        total = 0\n",
    "        for i in range(1, len(group)):\n",
    "            # print(min(group[i-1], group[i]))\n",
    "            total += min(group[i-1], group[i] )\n",
    "        return total"
   ]
  },
  {
   "cell_type": "code",
   "execution_count": null,
   "metadata": {},
   "outputs": [],
   "source": [
    "class Solution:\n",
    "    def countBinarySubstrings(self, s: str) -> int:\n",
    "        ans, prev, cur = 0, 0, 1\n",
    "        # print(group)\n",
    "        \n",
    "        for i in range(1, len(s)):\n",
    "            if s[i-1] != s[i]:\n",
    "                ans += min(prev, cur)\n",
    "                prev, cur = cur, 1\n",
    "            else:\n",
    "                cur+=1\n",
    "            \n",
    "        return ans + min(prev, cur)"
   ]
  }
 ],
 "metadata": {
  "kernelspec": {
   "display_name": "Python 3.10.3 64-bit",
   "language": "python",
   "name": "python3"
  },
  "language_info": {
   "codemirror_mode": {
    "name": "ipython",
    "version": 3
   },
   "file_extension": ".py",
   "mimetype": "text/x-python",
   "name": "python",
   "nbconvert_exporter": "python",
   "pygments_lexer": "ipython3",
   "version": "3.10.3 (v3.10.3:a342a49189, Mar 16 2022, 09:34:18) [Clang 13.0.0 (clang-1300.0.29.30)]"
  },
  "orig_nbformat": 4,
  "vscode": {
   "interpreter": {
    "hash": "aee8b7b246df8f9039afb4144a1f6fd8d2ca17a180786b69acc140d282b71a49"
   }
  }
 },
 "nbformat": 4,
 "nbformat_minor": 2
}
