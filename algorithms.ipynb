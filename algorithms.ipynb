{
 "cells": [
  {
   "cell_type": "markdown",
   "metadata": {},
   "source": [
    "Longest Substring Without Repeating Characters: https://leetcode.com/problems/longest-substring-without-repeating-characters/?envType=study-plan&id=algorithm-i"
   ]
  },
  {
   "cell_type": "code",
   "execution_count": 25,
   "metadata": {},
   "outputs": [],
   "source": [
    "from cmath import inf\n",
    "\n",
    "\n",
    "def lengthOfLongestSubstring( s: str) -> int:\n",
    "    #use two pointers\n",
    "    if s == \"\":\n",
    "        return 0\n",
    "    biggest_substring = 1\n",
    "    i = 0\n",
    "    j = 0\n",
    "    final_storage = []\n",
    "    have_seen = {}\n",
    "    s_list = list(s)\n",
    "    for i in range(len(s_list)):\n",
    "        for j in range(i, len(s_list)):\n",
    "    # while i < len(s_list):\n",
    "    \n",
    "            if s_list[j] not in have_seen:\n",
    "                have_seen[s_list[j]] = True\n",
    "                final_storage.append(s_list[j])\n",
    "            else:\n",
    "                # print(len(final_storage))\n",
    "                if len(final_storage)>=biggest_substring:\n",
    "                    biggest_substring = len(final_storage)\n",
    "                final_storage = []\n",
    "                have_seen={}\n",
    "                break\n",
    "    print(biggest_substring)\n",
    "    "
   ]
  },
  {
   "cell_type": "code",
   "execution_count": 26,
   "metadata": {},
   "outputs": [
    {
     "name": "stdout",
     "output_type": "stream",
     "text": [
      "1\n"
     ]
    }
   ],
   "source": [
    "lengthOfLongestSubstring(\" \")"
   ]
  },
  {
   "cell_type": "code",
   "execution_count": null,
   "metadata": {},
   "outputs": [],
   "source": [
    "def lengthOfLongestSubstring( s: str) -> int:\n",
    "    charSet = set()\n",
    "    l = 0\n",
    "    res = 0\n",
    "    for r in range(len(s)): \n",
    "        #dont use an if because that would do this action only one time\n",
    "        #but if we reach a case like \"abcB\", we need to do the action as long as its inside (b in this case)\n",
    "        while s[r] in charSet:\n",
    "            charSet.remove(s[l])\n",
    "            l+=1 #update the sliding window\n",
    "        charSet.add(s[r]) #\"a\"\n",
    "        res = max(res, r-l+1 )\n",
    "    return res\n",
    "\n",
    "\n"
   ]
  },
  {
   "cell_type": "code",
   "execution_count": 27,
   "metadata": {},
   "outputs": [
    {
     "ename": "KeyError",
     "evalue": "'A'",
     "output_type": "error",
     "traceback": [
      "\u001b[0;31m---------------------------------------------------------------------------\u001b[0m",
      "\u001b[0;31mKeyError\u001b[0m                                  Traceback (most recent call last)",
      "\u001b[1;32m/Users/kristiyandilov/grind-75/algorithms.ipynb Cell 5\u001b[0m in \u001b[0;36m<cell line: 2>\u001b[0;34m()\u001b[0m\n\u001b[1;32m      <a href='vscode-notebook-cell:/Users/kristiyandilov/grind-75/algorithms.ipynb#X11sZmlsZQ%3D%3D?line=0'>1</a>\u001b[0m s \u001b[39m=\u001b[39m \u001b[39mset\u001b[39m()\n\u001b[0;32m----> <a href='vscode-notebook-cell:/Users/kristiyandilov/grind-75/algorithms.ipynb#X11sZmlsZQ%3D%3D?line=1'>2</a>\u001b[0m s\u001b[39m.\u001b[39;49mremove(\u001b[39m\"\u001b[39;49m\u001b[39mA\u001b[39;49m\u001b[39m\"\u001b[39;49m)\n",
      "\u001b[0;31mKeyError\u001b[0m: 'A'"
     ]
    }
   ],
   "source": [
    "s = set(\"\")\n",
    "s.remove(\"A\")"
   ]
  },
  {
   "cell_type": "code",
   "execution_count": null,
   "metadata": {},
   "outputs": [],
   "source": []
  }
 ],
 "metadata": {
  "kernelspec": {
   "display_name": "Python 3.10.3 64-bit",
   "language": "python",
   "name": "python3"
  },
  "language_info": {
   "codemirror_mode": {
    "name": "ipython",
    "version": 3
   },
   "file_extension": ".py",
   "mimetype": "text/x-python",
   "name": "python",
   "nbconvert_exporter": "python",
   "pygments_lexer": "ipython3",
   "version": "3.10.3"
  },
  "orig_nbformat": 4,
  "vscode": {
   "interpreter": {
    "hash": "aee8b7b246df8f9039afb4144a1f6fd8d2ca17a180786b69acc140d282b71a49"
   }
  }
 },
 "nbformat": 4,
 "nbformat_minor": 2
}
