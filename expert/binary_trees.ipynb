{
 "cells": [
  {
   "cell_type": "code",
   "execution_count": null,
   "metadata": {},
   "outputs": [],
   "source": [
    "#Invert Binary Tree\n",
    "\n",
    "def invertBinaryTree(tree):\n",
    "    if tree is not None:\n",
    "        tree.left, tree.right = tree.right, tree.left\n",
    "    \n",
    "        invertBinaryTree(tree.left)\n",
    "        invertBinaryTree(tree.right)\n",
    "    return tree"
   ]
  }
 ],
 "metadata": {
  "language_info": {
   "name": "python"
  },
  "orig_nbformat": 4
 },
 "nbformat": 4,
 "nbformat_minor": 2
}
