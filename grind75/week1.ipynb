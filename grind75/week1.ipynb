{
 "cells": [
  {
   "attachments": {},
   "cell_type": "markdown",
   "metadata": {},
   "source": [
    "---\n",
    "Valid Parentheses: https://leetcode.com/problems/valid-parentheses/"
   ]
  },
  {
   "cell_type": "code",
   "execution_count": null,
   "metadata": {},
   "outputs": [],
   "source": [
    "class Solution:\n",
    "    def isValid(self, s: str) -> bool:\n",
    "        stack = []\n",
    "        i = 0\n",
    "        while i < len(s):\n",
    "        # for i in s:\n",
    "            # print(i)\n",
    "            # stack.append(i)\n",
    "            stack.append(s[i])\n",
    "            # print(stack)\n",
    "            if len(stack)>=2:\n",
    "                if stack[-1] == \")\" and stack[-2] == \"(\":\n",
    "                    stack.pop()\n",
    "                    stack.pop()\n",
    "                    # i+=1\n",
    "                elif stack[-1] == \"}\" and stack[-2] == \"{\":\n",
    "                    stack.pop()\n",
    "                    stack.pop()\n",
    "                    # i+=1\n",
    "                elif stack[-1] == \"]\" and stack[-2] == \"[\":\n",
    "                    stack.pop()\n",
    "                    stack.pop()\n",
    "            else:\n",
    "                i+=1\n",
    "                continue\n",
    "                \n",
    "            i+=1\n",
    "            \n",
    "        # print(stack)\n",
    "        return stack == []"
   ]
  },
  {
   "cell_type": "code",
   "execution_count": null,
   "metadata": {},
   "outputs": [],
   "source": [
    "class Solution:\n",
    "    def isValid(self, s: str) -> bool:\n",
    "        stack = []\n",
    "        \n",
    "        mapping = {\")\": \"(\", \"}\": \"{\", \"]\": \"[\"} # this way you get the corresponding opening bracket depending on your closing one\n",
    "        \n",
    "        for c in s:\n",
    "            if c in mapping:\n",
    "                if stack and stack[-1] == mapping[c]:\n",
    "                    stack.pop()\n",
    "                else:\n",
    "                    return False\n",
    "            else:\n",
    "                stack.append(c) # we only append opening brackets, not closing ones\n",
    "                \n",
    "        return stack == []"
   ]
  },
  {
   "attachments": {},
   "cell_type": "markdown",
   "metadata": {},
   "source": [
    "---\n",
    " Flood Fill: https://leetcode.com/problems/flood-fill/"
   ]
  },
  {
   "cell_type": "code",
   "execution_count": null,
   "metadata": {},
   "outputs": [],
   "source": [
    "class Solution:\n",
    "    def floodFill(self, image: List[List[int]], sr: int, sc: int, new_color: int) -> List[List[int]]:\n",
    "\n",
    "        cur_color = image[sr][sc]\n",
    "        height = len(image)\n",
    "        width = len(image[0])\n",
    "        def dfs(sr, sc):\n",
    "            if 0 <= sr < height and 0 <= sc < width and image[sr][sc] == cur_color and image[sr][sc]!= new_color:\n",
    "                image[sr][sc] = new_color \n",
    "                dfs(sr-1, sc)\n",
    "                dfs(sr+1, sc)\n",
    "                dfs(sr, sc-1)\n",
    "                dfs(sr, sc+1)\n",
    "        dfs(sr, sc)\n",
    "        return image"
   ]
  },
  {
   "attachments": {},
   "cell_type": "markdown",
   "metadata": {},
   "source": [
    "---\n",
    "Merge Two Sorted Lists: https://leetcode.com/problems/merge-two-sorted-lists/description/"
   ]
  },
  {
   "cell_type": "code",
   "execution_count": null,
   "metadata": {},
   "outputs": [],
   "source": [
    "# Definition for singly-linked list.\n",
    "# class ListNode:\n",
    "#     def __init__(self, val=0, next=None):\n",
    "#         self.val = val\n",
    "#         self.next = next\n",
    "class Solution:\n",
    "    def mergeTwoLists(self, list1: Optional[ListNode], list2: Optional[ListNode]) -> Optional[ListNode]:\n",
    "        #build a -1 node that will be used to connect the correct order of nodes \n",
    "        prehead = ListNode(-1)\n",
    "        prev = prehead\n",
    "        p1 = list1 # no need for those two\n",
    "        p2 = list2\n",
    "\n",
    "        while p1 and p2:\n",
    "        \n",
    "            if p1.val <= p2.val:\n",
    "                # old = p1\n",
    "\n",
    "                prev.next = p1\n",
    "                \n",
    "                p1 = p1.next\n",
    "\n",
    "            else:\n",
    "                prev.next = p2\n",
    "                p2 = p2.next\n",
    "            # print(prev)\n",
    "            prev = prev.next\n",
    "        \n",
    "        prev.next = p1 if p2 is None else p2\n",
    "        return prehead.next\n",
    "\n",
    "                \n",
    "                \n",
    "            \n",
    "            \n",
    "        \n",
    "        \n",
    "                    \n",
    "                    \n",
    "                    \n",
    "            \n",
    "        "
   ]
  },
  {
   "attachments": {},
   "cell_type": "markdown",
   "metadata": {},
   "source": [
    "---\n",
    "Valid Palindrome: https://leetcode.com/problems/valid-palindrome/description/"
   ]
  },
  {
   "cell_type": "code",
   "execution_count": null,
   "metadata": {},
   "outputs": [],
   "source": [
    "# Two pointers\n",
    "class Solution:\n",
    "    def isPalindrome(self, s: str) -> bool:\n",
    "        i, j = 0, len(s)-1\n",
    "\n",
    "        while i<j:\n",
    "            while i<j and not s[i].isalnum():\n",
    "                i+=1\n",
    "            while i<j and not s[j].isalnum():\n",
    "                j-=1\n",
    "\n",
    "            if s[i].lower() != s[j].lower():\n",
    "                return False\n",
    "\n",
    "            i+=1\n",
    "            j-=1\n",
    "        return True"
   ]
  },
  {
   "attachments": {},
   "cell_type": "markdown",
   "metadata": {},
   "source": [
    "---\n",
    "Invert Binary Tree: https://leetcode.com/problems/invert-binary-tree/description/"
   ]
  },
  {
   "cell_type": "code",
   "execution_count": null,
   "metadata": {},
   "outputs": [],
   "source": [
    "# Definition for a binary tree node.\n",
    "# class TreeNode:\n",
    "#     def __init__(self, val=0, left=None, right=None):\n",
    "#         self.val = val\n",
    "#         self.left = left\n",
    "#         self.right = right\n",
    "class Solution:\n",
    "    def invertTree(self, root: Optional[TreeNode]) -> Optional[TreeNode]:\n",
    "        if root is None:\n",
    "            return None\n",
    "        head = root\n",
    "        temp_l = root.left\n",
    "        temp_r = root.right\n",
    "\n",
    "        head.left = temp_r\n",
    "        head.right = temp_l\n",
    "        # def inverter()\n",
    "        self.invertTree(temp_l)\n",
    "        self.invertTree(temp_r)\n",
    "        return head\n",
    "        print(head)\n",
    "\n"
   ]
  }
 ],
 "metadata": {
  "kernelspec": {
   "display_name": "Python 3",
   "language": "python",
   "name": "python3"
  },
  "language_info": {
   "name": "python",
   "version": "3.10.3 (v3.10.3:a342a49189, Mar 16 2022, 09:34:18) [Clang 13.0.0 (clang-1300.0.29.30)]"
  },
  "orig_nbformat": 4,
  "vscode": {
   "interpreter": {
    "hash": "aee8b7b246df8f9039afb4144a1f6fd8d2ca17a180786b69acc140d282b71a49"
   }
  }
 },
 "nbformat": 4,
 "nbformat_minor": 2
}
