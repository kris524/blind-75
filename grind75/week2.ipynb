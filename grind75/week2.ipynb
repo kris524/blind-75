{
 "cells": [
  {
   "attachments": {},
   "cell_type": "markdown",
   "metadata": {},
   "source": [
    "---\n",
    "Ransom Note: https://leetcode.com/problems/ransom-note/description/"
   ]
  },
  {
   "cell_type": "code",
   "execution_count": null,
   "metadata": {},
   "outputs": [],
   "source": [
    "class Solution:\n",
    "    def canConstruct(self, ransomNote: str, magazine: str) -> bool:\n",
    "        mag_dict = Counter(magazine)\n",
    "\n",
    "        ran_dict = Counter(ransomNote)\n",
    "\n",
    "        for key, value in ran_dict.items():\n",
    "            if key in mag_dict:\n",
    "                if mag_dict[key] < value:\n",
    "                    return False\n",
    "\n",
    "            else:\n",
    "                return False\n",
    "    \n",
    "        return True"
   ]
  },
  {
   "attachments": {},
   "cell_type": "markdown",
   "metadata": {},
   "source": [
    "---\n",
    "Climbing Stairs: https://leetcode.com/problems/climbing-stairs/description/"
   ]
  },
  {
   "cell_type": "code",
   "execution_count": null,
   "metadata": {},
   "outputs": [],
   "source": [
    "class Solution:\n",
    "    def climbStairs(self, n: int) -> int:\n",
    "        dp = [0 for i in range(n+1)]\n",
    "        dp[0] = 1\n",
    "        dp[1] = 1\n",
    "        # dp[2] = 2\n",
    "        for i in range(2, len(dp)):\n",
    "            dp[i] = dp[i-1] + dp[i-2]\n",
    "            \n",
    "        return dp[-1]\n",
    "        "
   ]
  },
  {
   "cell_type": "code",
   "execution_count": null,
   "metadata": {},
   "outputs": [],
   "source": []
  }
 ],
 "metadata": {
  "language_info": {
   "name": "python"
  },
  "orig_nbformat": 4
 },
 "nbformat": 4,
 "nbformat_minor": 2
}
