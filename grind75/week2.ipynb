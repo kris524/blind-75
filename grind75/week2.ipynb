{
 "cells": [
  {
   "attachments": {},
   "cell_type": "markdown",
   "metadata": {},
   "source": [
    "---\n",
    "Ransom Note: https://leetcode.com/problems/ransom-note/description/"
   ]
  },
  {
   "cell_type": "code",
   "execution_count": null,
   "metadata": {},
   "outputs": [],
   "source": [
    "class Solution:\n",
    "    def canConstruct(self, ransomNote: str, magazine: str) -> bool:\n",
    "        mag_dict = Counter(magazine)\n",
    "\n",
    "        ran_dict = Counter(ransomNote)\n",
    "\n",
    "        for key, value in ran_dict.items():\n",
    "            if key in mag_dict:\n",
    "                if mag_dict[key] < value:\n",
    "                    return False\n",
    "\n",
    "            else:\n",
    "                return False\n",
    "    \n",
    "        return True"
   ]
  },
  {
   "attachments": {},
   "cell_type": "markdown",
   "metadata": {},
   "source": [
    "---\n",
    "Climbing Stairs: https://leetcode.com/problems/climbing-stairs/description/"
   ]
  },
  {
   "cell_type": "code",
   "execution_count": null,
   "metadata": {},
   "outputs": [],
   "source": [
    "class Solution:\n",
    "    def climbStairs(self, n: int) -> int:\n",
    "        dp = [0 for i in range(n+1)]\n",
    "        dp[0] = 1\n",
    "        dp[1] = 1\n",
    "        # dp[2] = 2\n",
    "        for i in range(2, len(dp)):\n",
    "            dp[i] = dp[i-1] + dp[i-2]\n",
    "            \n",
    "        return dp[-1]\n",
    "        "
   ]
  },
  {
   "attachments": {},
   "cell_type": "markdown",
   "metadata": {},
   "source": [
    "---\n",
    "Longest Palindrome: https://leetcode.com/problems/longest-palindrome/description/"
   ]
  },
  {
   "cell_type": "code",
   "execution_count": null,
   "metadata": {},
   "outputs": [],
   "source": [
    "class Solution:\n",
    "    def longestPalindrome(self, s: str) -> int:\n",
    "\n",
    "        letters_dict = Counter(s)\n",
    "\n",
    "        if len(set(s)) == 1:\n",
    "            return  len(s)\n",
    "        setter = False\n",
    "        total_length = 0\n",
    "        for key,value in letters_dict.items():\n",
    "            print(value)\n",
    "            if value % 2 == 0:\n",
    "                total_length += value\n",
    "            else:\n",
    "                setter = True\n",
    "                total_length += value - 1\n",
    "\n",
    "        print(total_length) \n",
    "        \n",
    "        if setter:\n",
    "            return (total_length+1)\n",
    "        else:\n",
    "            return total_length"
   ]
  },
  {
   "cell_type": "code",
   "execution_count": null,
   "metadata": {},
   "outputs": [],
   "source": [
    "class Solution:\n",
    "    def longestPalindrome(self, s: str) -> int:\n",
    "        pairs = 0\n",
    "\n",
    "        unpaired_letters = set()\n",
    "\n",
    "        for char in s:\n",
    "            if char in unpaired_letters:\n",
    "                pairs +=1\n",
    "                unpaired_letters.remove(char)\n",
    "\n",
    "            else:\n",
    "                unpaired_letters.add(char)\n",
    "        return pairs*2 +1 if unpaired_letters else pairs *2 \n",
    "\n",
    "        "
   ]
  },
  {
   "attachments": {},
   "cell_type": "markdown",
   "metadata": {},
   "source": [
    "---\n",
    "Majority Element: https://leetcode.com/problems/majority-element/description/"
   ]
  },
  {
   "cell_type": "code",
   "execution_count": null,
   "metadata": {},
   "outputs": [],
   "source": [
    "# Space and time is O(n)\n",
    "class Solution:\n",
    "    def majorityElement(self, nums: List[int]) -> int:\n",
    "        elements = Counter(nums)\n",
    "        majority_element = None\n",
    "        max_value = 0\n",
    "        for key, value in elements.items():\n",
    "            # print(value)\n",
    "            print(max_value)\n",
    "            if value > max_value:\n",
    "                max_value = value\n",
    "                majority_element = key\n",
    "\n",
    "        return majority_element\n"
   ]
  },
  {
   "cell_type": "code",
   "execution_count": null,
   "metadata": {},
   "outputs": [],
   "source": [
    "class Solution:\n",
    "    def majorityElement(self, nums: List[int]) -> int:\n",
    "        elements = Counter(nums)\n",
    "        return max(elements.keys(), key = lambda k: elements.get(k) )\n",
    "\n"
   ]
  },
  {
   "cell_type": "code",
   "execution_count": null,
   "metadata": {},
   "outputs": [],
   "source": [
    "# This is the Boyer-Moore Voting Algorithm\n",
    "# Space compl is O(1) and Time is O(n)\n",
    "\n",
    "class Solution:\n",
    "    def majorityElement(self, nums: List[int]) -> int:\n",
    "        \n",
    "        counter = 1\n",
    "        res = nums[0]\n",
    "\n",
    "        for i in nums[1:]:\n",
    "            if counter == 0:\n",
    "                res = i\n",
    "                counter = 1\n",
    "\n",
    "            elif i != res:\n",
    "                counter -=1\n",
    "\n",
    "            elif i == res:\n",
    "                counter +=1 \n",
    "\n",
    "        return res\n"
   ]
  },
  {
   "attachments": {},
   "cell_type": "markdown",
   "metadata": {},
   "source": [
    "---\n",
    "Add Binary: https://leetcode.com/problems/add-binary/description/"
   ]
  },
  {
   "cell_type": "code",
   "execution_count": null,
   "metadata": {},
   "outputs": [],
   "source": [
    "class Solution:\n",
    "    def addBinary(self, a: str, b: str) -> str:\n",
    "        max_len = max(len(a), len(b))\n",
    "\n",
    "        x = a.zfill(max_len)\n",
    "        y = b.zfill(max_len)\n",
    "        print(x)\n",
    "        print(y)\n",
    "        carry = 0\n",
    "        res = \"\"\n",
    "\n",
    "        for i in range(max_len-1, -1, -1):\n",
    "\n",
    "            digitA = ord(x[i]) - ord(\"0\")\n",
    "            digitB = ord(y[i]) - ord(\"0\") \n",
    "            \n",
    "            total = digitA + digitB + carry\n",
    "\n",
    "            char = str(total %2)\n",
    "\n",
    "            res += char\n",
    "\n",
    "            carry = total//2\n",
    "        \n",
    "        res = res[::-1]\n",
    "        if carry:\n",
    "            res = '1' + res\n",
    "\n",
    "        return res"
   ]
  },
  {
   "cell_type": "code",
   "execution_count": null,
   "metadata": {},
   "outputs": [],
   "source": [
    "class Solution:\n",
    "    def addBinary(self, a: str, b: str) -> str:\n",
    "        max_len = max(len(a), len(b))\n",
    "\n",
    "        x = a.zfill(max_len)\n",
    "        y = b.zfill(max_len)\n",
    "        print(x)\n",
    "        print(y)\n",
    "        carry = 0\n",
    "        res = \"\"\n",
    "\n",
    "        for i in range(max_len-1, -1, -1):\n",
    "\n",
    "            if x[i] == \"1\":\n",
    "                carry+=1\n",
    "\n",
    "            if y[i] == '1':\n",
    "                carry+=1\n",
    "            \n",
    "            if carry %2 == 1:\n",
    "                res+=\"1\"\n",
    "            \n",
    "            else:\n",
    "                res+=\"0\"\n",
    "\n",
    "            carry //=2\n",
    "\n",
    "        res = res[::-1]\n",
    "        if carry:\n",
    "            res = \"1\" + res\n",
    "        return res"
   ]
  },
  {
   "cell_type": "code",
   "execution_count": 46,
   "metadata": {},
   "outputs": [
    {
     "data": {
      "text/plain": [
       "0"
      ]
     },
     "execution_count": 46,
     "metadata": {},
     "output_type": "execute_result"
    }
   ],
   "source": [
    "1//2"
   ]
  },
  {
   "attachments": {},
   "cell_type": "markdown",
   "metadata": {},
   "source": [
    "---\n",
    "Diameter of Binary Tree: https://leetcode.com/problems/diameter-of-binary-tree/description/"
   ]
  },
  {
   "cell_type": "code",
   "execution_count": null,
   "metadata": {},
   "outputs": [],
   "source": [
    "# Definition for a binary tree node.\n",
    "# class TreeNode:\n",
    "#     def __init__(self, val=0, left=None, right=None):\n",
    "#         self.val = val\n",
    "#         self.left = left\n",
    "#         self.right = right\n",
    "class Solution:\n",
    "    def diameterOfBinaryTree(self, root: Optional[TreeNode]) -> int:\n",
    "        \"\"\"\n",
    "        - Find the most right element in the tree,\n",
    "        - find the most left element in the tree\n",
    "        - save both distances to those nodes and finally add them together \n",
    "        \"\"\"\n",
    "        res = [0]\n",
    "\n",
    "        def dfs(root):\n",
    "            if root is None:\n",
    "                return -1\n",
    "\n",
    "            left = dfs(root.left)\n",
    "            right = dfs(root.right)\n",
    "\n",
    "            # evaluate the diameter, use 2+ for the two edges and\n",
    "            # to get the math working correctly\n",
    "            res[0] = max(res[0], 2+ left + right)\n",
    "\n",
    "            # return the height. use the +1 for the math to make sense\n",
    "            return 1 + max(left, right) \n",
    "\n",
    "        dfs(root)\n",
    "        return res[0]"
   ]
  },
  {
   "cell_type": "code",
   "execution_count": null,
   "metadata": {},
   "outputs": [],
   "source": [
    "#my attempt -> WRONG\n",
    "\n",
    "\n",
    "# Definition for a binary tree node.\n",
    "# class TreeNode:\n",
    "#     def __init__(self, val=0, left=None, right=None):\n",
    "#         self.val = val\n",
    "#         self.left = left\n",
    "#         self.right = right\n",
    "class Solution:\n",
    "    def diameterOfBinaryTree(self, root: Optional[TreeNode]) -> int:\n",
    "        \"\"\"\n",
    "        - Find the most right element in the tree,\n",
    "        - find the most left element in the tree\n",
    "        - save both distances to those nodes and finally add them together \n",
    "        \"\"\"\n",
    "        # if root is None:\n",
    "        #     return 1\n",
    "        # if root is None:\n",
    "        #     return \n",
    "\n",
    "        root1 = root \n",
    "        q_left = collections.deque()\n",
    "        q_left.append(root1.left)\n",
    "\n",
    "        q_right = collections.deque()\n",
    "        q_right.append(root1.right)\n",
    "\n",
    "        most_left = root.left\n",
    "        most_right = root.right\n",
    "\n",
    "        distance_left = 1\n",
    "        distance_right = 1\n",
    "\n",
    "        while q_left:\n",
    "            node = q_left.popleft()\n",
    "            # node = node[0]\n",
    "            # print(node)\n",
    "            # print(node)\n",
    "\n",
    "            if node is None:\n",
    "                distance_left = 0\n",
    "                break\n",
    "            \n",
    "            if node.left is not None:\n",
    "                most_left = node.left\n",
    "                distance_left +=1\n",
    "                q_left.append(node.left)\n",
    "\n",
    "            if node.right is not None:\n",
    "                q_left.append(node.right)\n",
    "\n",
    "        while q_right:\n",
    "            node = q_right.popleft()\n",
    "            \n",
    "            # most_right = node\n",
    "            print(node)\n",
    "            # print(distance_right)\n",
    "            if node is None:\n",
    "                distance_right = 0\n",
    "                break\n",
    "            if node.left is not None:\n",
    "                \n",
    "                q_right.append(node.left)\n",
    "                \n",
    "            if node.right is not None:\n",
    "                most_right = node.right\n",
    "                distance_right+=1\n",
    "                q_right.append(node.right)\n",
    "\n",
    "\n",
    "        return distance_left + distance_right\n",
    "\n",
    "\n",
    "        #     print(root)\n",
    "        #     # root.\n",
    "        #     root = root.left\n",
    "\n",
    "        # print(8)\n",
    "        # return 8"
   ]
  },
  {
   "attachments": {},
   "cell_type": "markdown",
   "metadata": {},
   "source": [
    "---\n",
    "Maximum Depth of Binary Tree: https://leetcode.com/problems/maximum-depth-of-binary-tree/description/"
   ]
  },
  {
   "cell_type": "code",
   "execution_count": null,
   "metadata": {},
   "outputs": [],
   "source": [
    "# Definition for a binary tree node.\n",
    "# class TreeNode:\n",
    "#     def __init__(self, val=0, left=None, right=None):\n",
    "#         self.val = val\n",
    "#         self.left = left\n",
    "#         self.right = right\n",
    "class Solution:\n",
    "    def maxDepth(self, root: Optional[TreeNode]) -> int:\n",
    "        \n",
    "        if root is None:\n",
    "            return 0\n",
    "        \n",
    "        queue = [  [root, 1]  ]\n",
    "        counter_l = 0\n",
    "        counter = 0\n",
    "        res = 0\n",
    "\n",
    "        while queue:\n",
    "            node, depth = queue.pop(0)\n",
    "            # counter +=1\n",
    "\n",
    "            if node.left is not None:\n",
    "                queue.append( [node.left, depth+1] )\n",
    "                \n",
    "            if node.right is not None:\n",
    "                queue.append( [node.right, depth+1] )\n",
    "            \n",
    "            res = max(res, depth)\n",
    "\n",
    "        return res\n",
    "        # print(res)"
   ]
  },
  {
   "attachments": {},
   "cell_type": "markdown",
   "metadata": {},
   "source": [
    "---\n",
    "Middle of the Linked List: https://leetcode.com/problems/middle-of-the-linked-list/description/"
   ]
  },
  {
   "cell_type": "code",
   "execution_count": null,
   "metadata": {},
   "outputs": [],
   "source": [
    "# Definition for singly-linked list.\n",
    "# class ListNode:\n",
    "#     def __init__(self, val=0, next=None):\n",
    "#         self.val = val\n",
    "#         self.next = next\n",
    "class Solution:\n",
    "    def middleNode(self, head: Optional[ListNode]) -> Optional[ListNode]:\n",
    "\n",
    "        length = 0\n",
    "        head1 = head\n",
    "        while head1 is not None:\n",
    "            length+=1\n",
    "            head1 = head1.next\n",
    "        mid = (0 + length)//2\n",
    "\n",
    "        print(mid)\n",
    "\n",
    "        counter = 0\n",
    "        head2 = head\n",
    "        while counter != mid:\n",
    "            head2 = head2.next\n",
    "            counter+=1\n",
    "        print(head2)\n",
    "        return head2"
   ]
  },
  {
   "attachments": {},
   "cell_type": "markdown",
   "metadata": {},
   "source": [
    "---\n",
    "Contains Duplicate: https://leetcode.com/problems/contains-duplicate/description/"
   ]
  },
  {
   "cell_type": "code",
   "execution_count": null,
   "metadata": {},
   "outputs": [],
   "source": [
    "class Solution:\n",
    "    def containsDuplicate(self, nums: List[int]) -> bool:\n",
    "        return len(set(nums)) != len(nums)"
   ]
  },
  {
   "attachments": {},
   "cell_type": "markdown",
   "metadata": {},
   "source": [
    "---\n",
    "Maximum Subarray: https://leetcode.com/problems/maximum-subarray/description/"
   ]
  },
  {
   "cell_type": "code",
   "execution_count": null,
   "metadata": {},
   "outputs": [],
   "source": [
    "class Solution:\n",
    "    def maxSubArray(self, nums: List[int]) -> int:\n",
    "        currSum = 0\n",
    "        max_sum = nums[0]\n",
    "        i = 0\n",
    "        j = 1\n",
    "        for n in nums:\n",
    "            print(currSum)\n",
    "            if currSum + n < n: \n",
    "                currSum = n\n",
    "            else:\n",
    "                currSum+=n\n",
    "            max_sum = max(max_sum, currSum)\n",
    "\n",
    "        return max_sum"
   ]
  }
 ],
 "metadata": {
  "kernelspec": {
   "display_name": "Python 3",
   "language": "python",
   "name": "python3"
  },
  "language_info": {
   "codemirror_mode": {
    "name": "ipython",
    "version": 3
   },
   "file_extension": ".py",
   "mimetype": "text/x-python",
   "name": "python",
   "nbconvert_exporter": "python",
   "pygments_lexer": "ipython3",
   "version": "3.10.3"
  },
  "orig_nbformat": 4,
  "vscode": {
   "interpreter": {
    "hash": "aee8b7b246df8f9039afb4144a1f6fd8d2ca17a180786b69acc140d282b71a49"
   }
  }
 },
 "nbformat": 4,
 "nbformat_minor": 2
}
