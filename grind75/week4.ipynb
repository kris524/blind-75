{
 "cells": [
  {
   "attachments": {},
   "cell_type": "markdown",
   "metadata": {},
   "source": [
    "---\n",
    "Path Sum: https://leetcode.com/problems/path-sum/"
   ]
  },
  {
   "cell_type": "code",
   "execution_count": null,
   "metadata": {},
   "outputs": [],
   "source": [
    "# Definition for a binary tree node.\n",
    "# class TreeNode:\n",
    "#     def __init__(self, val=0, left=None, right=None):\n",
    "#         self.val = val\n",
    "#         self.left = left\n",
    "#         self.right = right\n",
    "class Solution:\n",
    "    def hasPathSum(self, root: Optional[TreeNode], targetSum: int, carrySum=0) -> bool:\n",
    "        suma = []\n",
    "        self.calculateSum(root, 0, suma)\n",
    "        return targetSum in suma\n",
    "\n",
    "\n",
    "    def calculateSum(self, root, carrySum, suma):\n",
    "        if root is None:\n",
    "            return \n",
    "        newcarrySum = root.val + carrySum\n",
    "        if root.left is None and root.right is None:\n",
    "                suma.append(newcarrySum)    \n",
    "                return\n",
    "        \n",
    "        self.calculateSum(root.left, newcarrySum,suma)\n",
    "        self.calculateSum(root.right, newcarrySum, suma)"
   ]
  },
  {
   "attachments": {},
   "cell_type": "markdown",
   "metadata": {},
   "source": [
    "Course Schedule: https://leetcode.com/problems/course-schedule/description/"
   ]
  },
  {
   "cell_type": "code",
   "execution_count": null,
   "metadata": {},
   "outputs": [],
   "source": [
    "class Solution:\n",
    "    def canFinish(self, numCourses: int, prerequisites: List[List[int]]) -> bool:\n",
    "        #use adjesency list\n",
    "        #map each course to the prerequisites list\n",
    "        preMap = {i: [] for i in range(numCourses)}\n",
    "        for crs, pre in prerequisites:\n",
    "            preMap[crs].append(pre)\n",
    "\n",
    "        #visitor set\n",
    "        visit = set()\n",
    "        def dfs(crs):\n",
    "            if crs in visit:\n",
    "                return False\n",
    "            if preMap[crs] == []:\n",
    "                return True\n",
    "            visit.add(crs)\n",
    "            for pre in preMap[crs]:\n",
    "                if not dfs(pre): return False\n",
    "            visit.remove(crs)\n",
    "            preMap[crs] = []\n",
    "            return True\n",
    "            \n",
    "        for crs in range(numCourses):\n",
    "            if not dfs(crs): return False\n",
    "        return True"
   ]
  },
  {
   "attachments": {},
   "cell_type": "markdown",
   "metadata": {},
   "source": [
    "---\n",
    "Product of Array Except Self: https://leetcode.com/problems/product-of-array-except-self/description/"
   ]
  },
  {
   "cell_type": "code",
   "execution_count": null,
   "metadata": {},
   "outputs": [],
   "source": [
    "class Solution:\n",
    "    def productExceptSelf(self, nums: List[int]) -> List[int]:\n",
    "        prefix = 1\n",
    "        res = [1]*len(nums)\n",
    "        for i in range(len(nums)):\n",
    "            res[i] *= prefix\n",
    "            prefix *= nums[i]\n",
    "\n",
    "        postfix = 1\n",
    "        for i in range(len(nums)-1,-1,-1):\n",
    "            res[i] *= postfix\n",
    "            postfix *= nums[i]\n",
    "        return res"
   ]
  },
  {
   "attachments": {},
   "cell_type": "markdown",
   "metadata": {},
   "source": [
    "---\n",
    "Implement Trie (Prefix Tree): https://leetcode.com/problems/implement-trie-prefix-tree/description/"
   ]
  },
  {
   "cell_type": "code",
   "execution_count": null,
   "metadata": {},
   "outputs": [],
   "source": [
    "class TrieNode:\n",
    "    def __init__(self):\n",
    "        self.children = {}\n",
    "        self.endOfWord = False\n",
    "\n",
    "class Trie:\n",
    "    def __init__(self):\n",
    "        self.root = TrieNode()\n",
    "        \n",
    "\n",
    "    def insert(self, word: str) -> None:\n",
    "        node = self.root\n",
    "        for c in word:\n",
    "            if c not in node.children:\n",
    "                node.children[c] = TrieNode()\n",
    "\n",
    "            node = node.children[c]\n",
    "        node.endOfWord = True\n",
    "            \n",
    "        \n",
    "\n",
    "    def search(self, word: str) -> bool:\n",
    "        cur = self.root\n",
    "        for c in word:\n",
    "            if c not in cur.children:\n",
    "                return False\n",
    "            cur = cur.children[c]\n",
    "        return cur.endOfWord\n",
    "        \n",
    "\n",
    "    def startsWith(self, prefix: str) -> bool:\n",
    "        cur = self.root\n",
    "\n",
    "        for c in prefix:\n",
    "            if c not in cur.children:\n",
    "                return False\n",
    "            cur = cur.children[c]\n",
    "        return True\n",
    "        \n",
    "\n",
    "\n",
    "# Your Trie object will be instantiated and called as such:\n",
    "# obj = Trie()\n",
    "# obj.insert(word)\n",
    "# param_2 = obj.search(word)\n",
    "# param_3 = obj.startsWith(prefix)"
   ]
  }
 ],
 "metadata": {
  "kernelspec": {
   "display_name": "Python 3",
   "language": "python",
   "name": "python3"
  },
  "language_info": {
   "name": "python",
   "version": "3.10.3 (v3.10.3:a342a49189, Mar 16 2022, 09:34:18) [Clang 13.0.0 (clang-1300.0.29.30)]"
  },
  "orig_nbformat": 4,
  "vscode": {
   "interpreter": {
    "hash": "aee8b7b246df8f9039afb4144a1f6fd8d2ca17a180786b69acc140d282b71a49"
   }
  }
 },
 "nbformat": 4,
 "nbformat_minor": 2
}
