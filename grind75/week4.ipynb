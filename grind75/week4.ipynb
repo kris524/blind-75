{
 "cells": [
  {
   "attachments": {},
   "cell_type": "markdown",
   "metadata": {},
   "source": [
    "---\n",
    "Path Sum: https://leetcode.com/problems/path-sum/"
   ]
  },
  {
   "cell_type": "code",
   "execution_count": null,
   "metadata": {},
   "outputs": [],
   "source": [
    "# Definition for a binary tree node.\n",
    "# class TreeNode:\n",
    "#     def __init__(self, val=0, left=None, right=None):\n",
    "#         self.val = val\n",
    "#         self.left = left\n",
    "#         self.right = right\n",
    "class Solution:\n",
    "    def hasPathSum(self, root: Optional[TreeNode], targetSum: int, carrySum=0) -> bool:\n",
    "        suma = []\n",
    "        self.calculateSum(root, 0, suma)\n",
    "        return targetSum in suma\n",
    "\n",
    "\n",
    "    def calculateSum(self, root, carrySum, suma):\n",
    "        if root is None:\n",
    "            return \n",
    "        newcarrySum = root.val + carrySum\n",
    "        if root.left is None and root.right is None:\n",
    "                suma.append(newcarrySum)    \n",
    "                return\n",
    "        \n",
    "        self.calculateSum(root.left, newcarrySum,suma)\n",
    "        self.calculateSum(root.right, newcarrySum, suma)"
   ]
  },
  {
   "attachments": {},
   "cell_type": "markdown",
   "metadata": {},
   "source": [
    "Course Schedule: https://leetcode.com/problems/course-schedule/description/"
   ]
  },
  {
   "cell_type": "code",
   "execution_count": null,
   "metadata": {},
   "outputs": [],
   "source": [
    "class Solution:\n",
    "    def canFinish(self, numCourses: int, prerequisites: List[List[int]]) -> bool:\n",
    "        #use adjesency list\n",
    "        #map each course to the prerequisites list\n",
    "        preMap = {i: [] for i in range(numCourses)}\n",
    "        for crs, pre in prerequisites:\n",
    "            preMap[crs].append(pre)\n",
    "\n",
    "        #visitor set\n",
    "        visit = set()\n",
    "        def dfs(crs):\n",
    "            if crs in visit:\n",
    "                return False\n",
    "            if preMap[crs] == []:\n",
    "                return True\n",
    "            visit.add(crs)\n",
    "            for pre in preMap[crs]:\n",
    "                if not dfs(pre): return False\n",
    "            visit.remove(crs)\n",
    "            preMap[crs] = []\n",
    "            return True\n",
    "            \n",
    "        for crs in range(numCourses):\n",
    "            if not dfs(crs): return False\n",
    "        return True"
   ]
  }
 ],
 "metadata": {
  "kernelspec": {
   "display_name": "Python 3",
   "language": "python",
   "name": "python3"
  },
  "language_info": {
   "name": "python",
   "version": "3.10.3 (v3.10.3:a342a49189, Mar 16 2022, 09:34:18) [Clang 13.0.0 (clang-1300.0.29.30)]"
  },
  "orig_nbformat": 4,
  "vscode": {
   "interpreter": {
    "hash": "aee8b7b246df8f9039afb4144a1f6fd8d2ca17a180786b69acc140d282b71a49"
   }
  }
 },
 "nbformat": 4,
 "nbformat_minor": 2
}
