{
 "cells": [
  {
   "attachments": {},
   "cell_type": "markdown",
   "metadata": {},
   "source": [
    "---\n",
    "Path Sum: https://leetcode.com/problems/path-sum/"
   ]
  },
  {
   "cell_type": "code",
   "execution_count": null,
   "metadata": {},
   "outputs": [],
   "source": [
    "# Definition for a binary tree node.\n",
    "# class TreeNode:\n",
    "#     def __init__(self, val=0, left=None, right=None):\n",
    "#         self.val = val\n",
    "#         self.left = left\n",
    "#         self.right = right\n",
    "class Solution:\n",
    "    def hasPathSum(self, root: Optional[TreeNode], targetSum: int, carrySum=0) -> bool:\n",
    "        suma = []\n",
    "        self.calculateSum(root, 0, suma)\n",
    "        return targetSum in suma\n",
    "\n",
    "\n",
    "    def calculateSum(self, root, carrySum, suma):\n",
    "        if root is None:\n",
    "            return \n",
    "        newcarrySum = root.val + carrySum\n",
    "        if root.left is None and root.right is None:\n",
    "                suma.append(newcarrySum)    \n",
    "                return\n",
    "        \n",
    "        self.calculateSum(root.left, newcarrySum,suma)\n",
    "        self.calculateSum(root.right, newcarrySum, suma)"
   ]
  },
  {
   "attachments": {},
   "cell_type": "markdown",
   "metadata": {},
   "source": [
    "Course Schedule: https://leetcode.com/problems/course-schedule/description/"
   ]
  },
  {
   "cell_type": "code",
   "execution_count": null,
   "metadata": {},
   "outputs": [],
   "source": [
    "class Solution:\n",
    "    def canFinish(self, numCourses: int, prerequisites: List[List[int]]) -> bool:\n",
    "        #use adjesency list\n",
    "        #map each course to the prerequisites list\n",
    "        preMap = {i: [] for i in range(numCourses)}\n",
    "        for crs, pre in prerequisites:\n",
    "            preMap[crs].append(pre)\n",
    "\n",
    "        #visitor set\n",
    "        visit = set()\n",
    "        def dfs(crs):\n",
    "            if crs in visit:\n",
    "                return False\n",
    "            if preMap[crs] == []:\n",
    "                return True\n",
    "            visit.add(crs)\n",
    "            for pre in preMap[crs]:\n",
    "                if not dfs(pre): return False\n",
    "            visit.remove(crs)\n",
    "            preMap[crs] = []\n",
    "            return True\n",
    "            \n",
    "        for crs in range(numCourses):\n",
    "            if not dfs(crs): return False\n",
    "        return True"
   ]
  },
  {
   "attachments": {},
   "cell_type": "markdown",
   "metadata": {},
   "source": [
    "---\n",
    "Product of Array Except Self: https://leetcode.com/problems/product-of-array-except-self/description/"
   ]
  },
  {
   "cell_type": "code",
   "execution_count": null,
   "metadata": {},
   "outputs": [],
   "source": [
    "class Solution:\n",
    "    def productExceptSelf(self, nums: List[int]) -> List[int]:\n",
    "        prefix = 1\n",
    "        res = [1]*len(nums)\n",
    "        for i in range(len(nums)):\n",
    "            res[i] *= prefix\n",
    "            prefix *= nums[i]\n",
    "\n",
    "        postfix = 1\n",
    "        for i in range(len(nums)-1,-1,-1):\n",
    "            res[i] *= postfix\n",
    "            postfix *= nums[i]\n",
    "        return res"
   ]
  },
  {
   "attachments": {},
   "cell_type": "markdown",
   "metadata": {},
   "source": [
    "---\n",
    "Implement Trie (Prefix Tree): https://leetcode.com/problems/implement-trie-prefix-tree/description/"
   ]
  },
  {
   "cell_type": "code",
   "execution_count": null,
   "metadata": {},
   "outputs": [],
   "source": [
    "class TrieNode:\n",
    "    def __init__(self):\n",
    "        self.children = {}\n",
    "        self.endOfWord = False\n",
    "\n",
    "class Trie:\n",
    "    def __init__(self):\n",
    "        self.root = TrieNode()\n",
    "        \n",
    "\n",
    "    def insert(self, word: str) -> None:\n",
    "        node = self.root\n",
    "        for c in word:\n",
    "            if c not in node.children:\n",
    "                node.children[c] = TrieNode()\n",
    "\n",
    "            node = node.children[c]\n",
    "        node.endOfWord = True\n",
    "            \n",
    "        \n",
    "\n",
    "    def search(self, word: str) -> bool:\n",
    "        cur = self.root\n",
    "        for c in word:\n",
    "            if c not in cur.children:\n",
    "                return False\n",
    "            cur = cur.children[c]\n",
    "        return cur.endOfWord\n",
    "        \n",
    "\n",
    "    def startsWith(self, prefix: str) -> bool:\n",
    "        cur = self.root\n",
    "\n",
    "        for c in prefix:\n",
    "            if c not in cur.children:\n",
    "                return False\n",
    "            cur = cur.children[c]\n",
    "        return True\n",
    "        \n",
    "\n",
    "\n",
    "# Your Trie object will be instantiated and called as such:\n",
    "# obj = Trie()\n",
    "# obj.insert(word)\n",
    "# param_2 = obj.search(word)\n",
    "# param_3 = obj.startsWith(prefix)"
   ]
  },
  {
   "attachments": {},
   "cell_type": "markdown",
   "metadata": {},
   "source": [
    "---\n",
    "Coin Change: https://leetcode.com/problems/coin-change/description/"
   ]
  },
  {
   "cell_type": "code",
   "execution_count": null,
   "metadata": {},
   "outputs": [],
   "source": [
    "class Solution:\n",
    "    def coinChange(self, coins: List[int], amount: int) -> int:\n",
    "\n",
    "        dp = [float('inf') for _ in range(amount+1)]\n",
    "\n",
    "        dp[0] = 0\n",
    "        for i in range(len(dp)):\n",
    "            for c in coins:\n",
    "                if i - c >=0:\n",
    "                    dp[i] = min(dp[i], dp[i-c]+1)\n",
    "        return -1 if dp[-1]==float(\"inf\") else dp[-1]\n"
   ]
  },
  {
   "attachments": {},
   "cell_type": "markdown",
   "metadata": {},
   "source": [
    "---\n",
    "Number of islands: https://leetcode.com/problems/number-of-islands/"
   ]
  },
  {
   "cell_type": "code",
   "execution_count": null,
   "metadata": {},
   "outputs": [],
   "source": [
    "class Solution:\n",
    "    def numIslands(self, grid: List[List[str]]) -> int:\n",
    "        # if not grid:\n",
    "        #     return 0\n",
    "               \n",
    "        rows, cols =  len(grid), len(grid[0])\n",
    "        islands = 0\n",
    "        visited = set()\n",
    "\n",
    "        def bfs(r, c):\n",
    "            visited.add((r,c))\n",
    "            queue = collections.deque()\n",
    "            queue.append((r,c))\n",
    "\n",
    "            directions = [[1,0], [-1,0], [0,1], [0,-1]]\n",
    "            while queue:\n",
    "                row, col = queue.popleft()\n",
    "                \n",
    "                for dr, dc in directions:\n",
    "                    if row+dr in range(rows) and col+dc in range(cols) and grid[row+dr][col+dc] == \"1\" and (row+dr,col+dc) not in visited:\n",
    "                        \n",
    "                        queue.append( (row+dr, col+dc))\n",
    "                        visited.add((row+dr, col+dc))\n",
    "\n",
    "        \n",
    "        for r in range(rows):\n",
    "            for c in range(cols):\n",
    "                if grid[r][c] == \"1\" and (r,c) not in visited:\n",
    "                    bfs(r, c) #it will not add an island until its done with the bfs\n",
    "                    islands+=1\n",
    "        return islands\n"
   ]
  },
  {
   "attachments": {},
   "cell_type": "markdown",
   "metadata": {},
   "source": [
    "---\n",
    "Rotting Oranges: https://leetcode.com/problems/rotting-oranges/"
   ]
  },
  {
   "cell_type": "code",
   "execution_count": null,
   "metadata": {},
   "outputs": [],
   "source": [
    "#MY VERSION THAT IS NOT WORKING\n",
    "\n",
    "class Solution:\n",
    "    def orangesRotting(self, grid: List[List[int]]) -> int:\n",
    "        if not grid or grid == [[0]]:\n",
    "            return 0\n",
    "        \n",
    "\n",
    "        rows, cols = len(grid), len(grid[0])\n",
    "        \n",
    "        visited = set()\n",
    "\n",
    "        def bfs(bfs_args: List):\n",
    "            minutes = 0\n",
    "            queue = collections.deque()\n",
    "            level = 0\n",
    "            for coords in bfs_args:\n",
    "                visited.add( coords )\n",
    "                queue.append( (coords[0], coords[1], level ) )\n",
    "            \n",
    "            max_depth = 0\n",
    "             #count the levels in the Tree\n",
    "\n",
    "            directions = [[1,0], [-1, 0], [0, 1], [0, -1]]\n",
    "            while queue:\n",
    "                row, col, level = queue.popleft()\n",
    "                for dr, dc in directions:\n",
    "                    if row+dr in range(rows) and col+dc in range(cols) and grid[row+dr][col+dc] == 1 and (row+dr, col+dc) not in visited:\n",
    "                        grid[row+dr][col+dc] = 2\n",
    "                        visited.add((row+dr, col+dc))\n",
    "                        level+=1\n",
    "                        max_depth = level\n",
    "                        queue.append( (row+dr, col+dc, level) )\n",
    "\n",
    "\n",
    "            for section in grid:\n",
    "                if 1 in section:\n",
    "                    return -1\n",
    "\n",
    "            return max_depth\n",
    "\n",
    "        bfs_args = []\n",
    "        for r in range(rows):\n",
    "            for c in range(cols): # Fix this by taking all the rotten oranges and placing all of them in the queue \n",
    "                # if grid[r][c] == 2 and (r,c) not in visited:\n",
    "                #     return bfs(r, c)\n",
    "                if grid[r][c] == 2 and (r, c) not in visited:\n",
    "                    bfs_args.append((r,c)) \n",
    "\n",
    "        return bfs(bfs_args)\n",
    "        \n",
    "        for section in grid:\n",
    "                if 1 in section:\n",
    "                    return -1\n",
    "        return 0\n",
    "\n"
   ]
  },
  {
   "cell_type": "code",
   "execution_count": null,
   "metadata": {},
   "outputs": [],
   "source": [
    "#Real, working solution\n",
    "\n",
    "class Solution:\n",
    "    def orangesRotting(self, grid: List[List[int]]) -> int:\n",
    "        q = collections.deque()\n",
    "        fresh = 0\n",
    "        time =0 \n",
    "        rows, cols = len(grid), len(grid[0])\n",
    "\n",
    "        for r in range(rows):\n",
    "            for c in range(cols):\n",
    "                if grid[r][c] == 1:\n",
    "                    fresh+=1\n",
    "                elif grid[r][c] == 2:\n",
    "                    q.append([r,c])\n",
    "        directions = [[1,0], [-1,0], [0,1], [0,-1]]\n",
    "        while q and fresh > 0:\n",
    "\n",
    "            for i in range(len(q)):\n",
    "                row, col = q.popleft()\n",
    "                for dr, dc in directions:\n",
    "                    r, c = row+dr, col+dc\n",
    "                    if r in range(rows) and c in range(cols) and grid[r][c] == 1:\n",
    "                        grid[r][c] = 2\n",
    "                        fresh -=1\n",
    "                        q.append([r,c])\n",
    "            time+=1\n",
    "        \n",
    "        return time if fresh ==0 else -1\n"
   ]
  },
  {
   "attachments": {},
   "cell_type": "markdown",
   "metadata": {},
   "source": [
    "---\n",
    "Merge Intervals: https://leetcode.com/problems/merge-intervals/"
   ]
  },
  {
   "cell_type": "code",
   "execution_count": null,
   "metadata": {},
   "outputs": [],
   "source": [
    "#My attempt \n",
    "\n",
    "class Solution:\n",
    "    def merge(self, intervals: List[List[int]]) -> List[List[int]]:\n",
    "        if len(intervals) == 1:\n",
    "            return intervals\n",
    "\n",
    "        start = 0\n",
    "        end = 1\n",
    "        res = []\n",
    "        \n",
    "\n",
    "        intervals.sort(key= lambda i: i[0])\n",
    "        print(intervals)\n",
    "        \n",
    "\n",
    "\n",
    "\n",
    "        for i in range(len(intervals)):\n",
    "\n",
    "            # print(intervals[i][end])\n",
    "            # print(intervals[i+1][start])\n",
    "            if  i+1!=len(intervals) and intervals[i][end] >= intervals[i+1][start]:\n",
    "                res.append( [intervals[i][start], max(intervals[i+1][end], intervals[i][end])] )\n",
    "\n",
    "            elif res and res[-1][1] >= intervals[i][end]:\n",
    "                continue\n",
    "            else:\n",
    "                res.append(intervals[i])\n",
    "        return res\n",
    "\n"
   ]
  },
  {
   "cell_type": "code",
   "execution_count": null,
   "metadata": {},
   "outputs": [],
   "source": [
    "#Real solution\n",
    "class Solution:\n",
    "    def merge(self, intervals: List[List[int]]) -> List[List[int]]:\n",
    "        if len(intervals) == 1:\n",
    "            return intervals\n",
    "\n",
    "        start = 0\n",
    "        end = 1\n",
    "        \n",
    "        \n",
    "\n",
    "        intervals.sort(key= lambda i: i[0])\n",
    "        print(intervals)\n",
    "        res = [intervals[0]]\n",
    "        \n",
    "\n",
    "        for start, end in intervals[1:]:\n",
    "            print(start, end)\n",
    "\n",
    "            if res[-1][1] >= start:\n",
    "                res[-1][1] = max(end, res[-1][1])\n",
    "            else:\n",
    "                res.append([start, end])\n",
    "\n",
    "            \n",
    "        return res\n",
    "\n"
   ]
  },
  {
   "attachments": {},
   "cell_type": "markdown",
   "metadata": {},
   "source": [
    "---\n",
    "Find First and Last Position of Element in Sorted Array: https://leetcode.com/problems/find-first-and-last-position-of-element-in-sorted-array/description/"
   ]
  },
  {
   "cell_type": "code",
   "execution_count": null,
   "metadata": {},
   "outputs": [],
   "source": [
    "#My solution\n",
    "class Solution:\n",
    "    def searchRange(self, nums: List[int], target: int) -> List[int]:\n",
    "        high = len(nums)-1\n",
    "        low = 0\n",
    "        # res = []\n",
    "        \n",
    "\n",
    "        while high>=low:\n",
    "            mid_index = (high+low)//2\n",
    "            print(mid_index)\n",
    "            if nums[mid_index] == target:\n",
    "                # return [mid_index]\n",
    "                print(mid_index)\n",
    "                lower = mid_index\n",
    "                upper = mid_index\n",
    "\n",
    "                while lower-1 in range(len(nums)) and nums[lower-1] == target:\n",
    "                    lower-=1\n",
    "                while upper+1 in range(len(nums)) and nums[upper+1] == target:\n",
    "                    upper+=1\n",
    "\n",
    "                return [lower, upper ]\n",
    "\n",
    "            if nums[mid_index] > target:\n",
    "                high = mid_index-1\n",
    "            else:\n",
    "                low = mid_index+1\n",
    "        return [-1,-1]\n"
   ]
  },
  {
   "cell_type": "code",
   "execution_count": 10,
   "metadata": {},
   "outputs": [
    {
     "data": {
      "text/plain": [
       "5"
      ]
     },
     "execution_count": 10,
     "metadata": {},
     "output_type": "execute_result"
    }
   ],
   "source": [
    "# Internet help solution\n",
    "\n",
    "class Solution:\n",
    "    def searchRange(self, nums: List[int], target: int) -> List[int]:\n",
    "        leftmost = self.binSearch(nums, target, False)\n",
    "        rightmost = self.binSearch(nums, target, True)        \n",
    "\n",
    "        return [leftmost, rightmost]\n",
    "\n",
    "    \n",
    "    def binSearch(self, nums, target, rightsearch):\n",
    "        right, left = len(nums)-1, 0\n",
    "        i = -1\n",
    "        while right>= left:\n",
    "            mid_index = (right+left)//2\n",
    "            \n",
    "            if nums[mid_index] > target:\n",
    "                right = mid_index -1\n",
    "            elif nums[mid_index] < target:\n",
    "                left = mid_index +1\n",
    "            else:\n",
    "                i = mid_index\n",
    "                if rightsearch:\n",
    "                    left = mid_index+1\n",
    "                else:\n",
    "                    right = mid_index - 1\n",
    "        return i\n"
   ]
  },
  {
   "attachments": {},
   "cell_type": "markdown",
   "metadata": {},
   "source": [
    "---\n",
    "Generate Parentheses: https://leetcode.com/problems/generate-parentheses/description/"
   ]
  },
  {
   "cell_type": "code",
   "execution_count": null,
   "metadata": {},
   "outputs": [],
   "source": [
    "class Solution:\n",
    "    def generateParenthesis(self, n: int) -> List[str]:\n",
    "        output = []\n",
    "\n",
    "        def rec(left, right, stack, brackets):\n",
    "            if left == right == 0:\n",
    "                output.append(brackets)\n",
    "                return\n",
    "            if left > 0:\n",
    "                rec(left-1, right, stack+1, brackets+\"(\")\n",
    "            if right > 0 and stack >0:\n",
    "                rec(left, right-1, stack-1, brackets+\")\")\n",
    "        \n",
    "        rec(n,n,0, \"\")\n",
    "        return output\n"
   ]
  },
  {
   "cell_type": "code",
   "execution_count": null,
   "metadata": {},
   "outputs": [],
   "source": [
    "class Solution:\n",
    "    def generateParenthesis(self, n: int) -> List[str]:\n",
    "        open, close = 0, 0\n",
    "        res = []\n",
    "        #backtracking means only recursion\n",
    "        def rec(open, close, stack, char):\n",
    "            if open == close == n:\n",
    "                res.append(char)\n",
    "                return\n",
    "            if open < n:\n",
    "                # char+\"(\"\n",
    "                rec(open+1, close, stack+1, char+\"(\")\n",
    "            if close < open:\n",
    "                rec(open, close+1, stack-1, char+\")\")\n",
    "\n",
    "        rec(0,0,0,\"\")\n",
    "        return res"
   ]
  },
  {
   "cell_type": "code",
   "execution_count": 2,
   "metadata": {},
   "outputs": [
    {
     "data": {
      "text/plain": [
       "123"
      ]
     },
     "execution_count": 2,
     "metadata": {},
     "output_type": "execute_result"
    }
   ],
   "source": [
    "int(\"123\")"
   ]
  },
  {
   "cell_type": "code",
   "execution_count": null,
   "metadata": {},
   "outputs": [],
   "source": []
  }
 ],
 "metadata": {
  "kernelspec": {
   "display_name": "Python 3",
   "language": "python",
   "name": "python3"
  },
  "language_info": {
   "codemirror_mode": {
    "name": "ipython",
    "version": 3
   },
   "file_extension": ".py",
   "mimetype": "text/x-python",
   "name": "python",
   "nbconvert_exporter": "python",
   "pygments_lexer": "ipython3",
   "version": "3.10.3"
  },
  "orig_nbformat": 4,
  "vscode": {
   "interpreter": {
    "hash": "aee8b7b246df8f9039afb4144a1f6fd8d2ca17a180786b69acc140d282b71a49"
   }
  }
 },
 "nbformat": 4,
 "nbformat_minor": 2
}
