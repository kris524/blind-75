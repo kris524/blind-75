{
 "cells": [
  {
   "attachments": {},
   "cell_type": "markdown",
   "metadata": {},
   "source": [
    "---\n",
    "Fizz Buzz: https://leetcode.com/problems/fizz-buzz/description/"
   ]
  },
  {
   "cell_type": "code",
   "execution_count": null,
   "metadata": {},
   "outputs": [],
   "source": [
    "class Solution:\n",
    "    def fizzBuzz(self, n: int) -> List[str]:\n",
    "        res = []\n",
    "        for i in range(1,n+1):\n",
    "            if i % 5 == 0 and i%3 ==0:\n",
    "                res.append(\"FizzBuzz\")\n",
    "            elif i%3 == 0:\n",
    "                res.append(\"Fizz\")\n",
    "            elif i%5 == 0:\n",
    "                res.append(\"Buzz\")\n",
    "            else:\n",
    "                res.append(str(i))\n",
    "        return res"
   ]
  },
  {
   "attachments": {},
   "cell_type": "markdown",
   "metadata": {},
   "source": [
    "---\n",
    "Count Primes: https://leetcode.com/problems/count-primes/description/"
   ]
  },
  {
   "cell_type": "code",
   "execution_count": null,
   "metadata": {},
   "outputs": [],
   "source": [
    "class Solution:\n",
    "    def countPrimes(self, n: int) -> int:\n",
    "        if n<2:\n",
    "            return 0\n",
    "\n",
    "        primes = [1]*n\n",
    "        primes[0]=0\n",
    "        primes[1]=0\n",
    "\n",
    "        i=2\n",
    "\n",
    "        while i<n:\n",
    "            k=i\n",
    "            if primes[i]:\n",
    "                k+=i\n",
    "                while k<n:\n",
    "                    primes[k] = 0\n",
    "                    k+=i\n",
    "            i+=1\n",
    "        return sum(primes)"
   ]
  },
  {
   "attachments": {},
   "cell_type": "markdown",
   "metadata": {},
   "source": [
    "---\n",
    "Power of Three: https://leetcode.com/problems/power-of-three/description/"
   ]
  },
  {
   "cell_type": "code",
   "execution_count": null,
   "metadata": {},
   "outputs": [],
   "source": [
    "class Solution:\n",
    "    def isPowerOfThree(self, n: int) -> bool:\n",
    "        if n == 0:\n",
    "            return False\n",
    "\n",
    "        while n%3==0:\n",
    "            n = int(n/3)\n",
    "\n",
    "        if n==1:\n",
    "            return True\n",
    "        return False\n"
   ]
  },
  {
   "attachments": {},
   "cell_type": "markdown",
   "metadata": {},
   "source": [
    "---\n",
    "Roman to Integer: https://leetcode.com/problems/roman-to-integer/description/"
   ]
  },
  {
   "cell_type": "code",
   "execution_count": null,
   "metadata": {},
   "outputs": [],
   "source": [
    "class Solution:\n",
    "    def romanToInt(self, s: str) :\n",
    "        mapper = {\"I\": 1, \"V\": 5, \"X\":10, \"L\":50, \"C\":100, \"D\":500, \"M\":1000, \"0\":0}\n",
    "        mapper_minus = {\"IV\": 4, \"IX\":9, \"XL\":40, \"XC\": 90, \"CD\": 400, \"CM\":900}\n",
    "        s = list(s)\n",
    "        counter = 0\n",
    "        for i in range(len(s)):\n",
    "            print(s[i])\n",
    "            \n",
    "               #add this breakpoint\n",
    "            if i!=len(s)-1 and s[i]+s[i+1] in mapper_minus:\n",
    "                print(s[i]+s[i+1])\n",
    "                counter += mapper_minus[s[i]+s[i+1]]\n",
    "                s[i+1]=\"0\"\n",
    "            else:\n",
    "                counter += mapper[s[i]]\n",
    "            print(counter)\n",
    "        return counter\n",
    "\n",
    "#Time is O(1) but space is O(n)"
   ]
  },
  {
   "cell_type": "code",
   "execution_count": null,
   "metadata": {},
   "outputs": [],
   "source": [
    "class Solution:\n",
    "    def romanToInt(self, s: str) :\n",
    "        mapper = {\"I\": 1, \"V\": 5, \"X\":10, \"L\":50, \"C\":100, \"D\":500, \"M\":1000, \"0\":0}\n",
    "        mapper_minus = {\"IV\": 4, \"IX\":9, \"XL\":40, \"XC\": 90, \"CD\": 400, \"CM\":900}\n",
    "        # s = list(s)\n",
    "        counter = 0\n",
    "        i=0\n",
    "        # for i in range(len(s)):\n",
    "        while i<len(s):\n",
    "            print(s[i])\n",
    "            \n",
    "               #add this breakpoint\n",
    "            if i!=len(s)-1 and s[i]+s[i+1] in mapper_minus:\n",
    "                print(s[i]+s[i+1])\n",
    "                counter += mapper_minus[s[i]+s[i+1]]\n",
    "                # s[i+1]=\"0\"\n",
    "                i+=2\n",
    "            else:\n",
    "                counter += mapper[s[i]]\n",
    "                i+=1\n",
    "            print(counter)\n",
    "        return counter\n",
    "\n",
    "\n",
    "\n",
    "#Time is O(1) and space is O(1) as we removed the list\n",
    "\n",
    "# I             1\n",
    "# V             5\n",
    "# X             10\n",
    "# L             50\n",
    "# C             100\n",
    "# D             500\n",
    "# M             1000"
   ]
  }
 ],
 "metadata": {
  "kernelspec": {
   "display_name": "Python 3",
   "language": "python",
   "name": "python3"
  },
  "language_info": {
   "codemirror_mode": {
    "name": "ipython",
    "version": 3
   },
   "file_extension": ".py",
   "mimetype": "text/x-python",
   "name": "python",
   "nbconvert_exporter": "python",
   "pygments_lexer": "ipython3",
   "version": "3.10.3"
  },
  "orig_nbformat": 4,
  "vscode": {
   "interpreter": {
    "hash": "aee8b7b246df8f9039afb4144a1f6fd8d2ca17a180786b69acc140d282b71a49"
   }
  }
 },
 "nbformat": 4,
 "nbformat_minor": 2
}
