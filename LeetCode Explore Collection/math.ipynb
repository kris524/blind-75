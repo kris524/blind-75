{
 "cells": [
  {
   "attachments": {},
   "cell_type": "markdown",
   "metadata": {},
   "source": [
    "---\n",
    "Fizz Buzz: https://leetcode.com/problems/fizz-buzz/description/"
   ]
  },
  {
   "cell_type": "code",
   "execution_count": null,
   "metadata": {},
   "outputs": [],
   "source": [
    "class Solution:\n",
    "    def fizzBuzz(self, n: int) -> List[str]:\n",
    "        res = []\n",
    "        for i in range(1,n+1):\n",
    "            if i % 5 == 0 and i%3 ==0:\n",
    "                res.append(\"FizzBuzz\")\n",
    "            elif i%3 == 0:\n",
    "                res.append(\"Fizz\")\n",
    "            elif i%5 == 0:\n",
    "                res.append(\"Buzz\")\n",
    "            else:\n",
    "                res.append(str(i))\n",
    "        return res"
   ]
  },
  {
   "attachments": {},
   "cell_type": "markdown",
   "metadata": {},
   "source": [
    "---\n",
    "Count Primes: https://leetcode.com/problems/count-primes/description/"
   ]
  },
  {
   "cell_type": "code",
   "execution_count": null,
   "metadata": {},
   "outputs": [],
   "source": [
    "class Solution:\n",
    "    def countPrimes(self, n: int) -> int:\n",
    "        if n<2:\n",
    "            return 0\n",
    "\n",
    "        primes = [1]*n\n",
    "        primes[0]=0\n",
    "        primes[1]=0\n",
    "\n",
    "        i=2\n",
    "\n",
    "        while i<n:\n",
    "            k=i\n",
    "            if primes[i]:\n",
    "                k+=i\n",
    "                while k<n:\n",
    "                    primes[k] = 0\n",
    "                    k+=i\n",
    "            i+=1\n",
    "        return sum(primes)"
   ]
  }
 ],
 "metadata": {
  "kernelspec": {
   "display_name": "Python 3",
   "language": "python",
   "name": "python3"
  },
  "language_info": {
   "codemirror_mode": {
    "name": "ipython",
    "version": 3
   },
   "file_extension": ".py",
   "mimetype": "text/x-python",
   "name": "python",
   "nbconvert_exporter": "python",
   "pygments_lexer": "ipython3",
   "version": "3.10.3"
  },
  "orig_nbformat": 4,
  "vscode": {
   "interpreter": {
    "hash": "aee8b7b246df8f9039afb4144a1f6fd8d2ca17a180786b69acc140d282b71a49"
   }
  }
 },
 "nbformat": 4,
 "nbformat_minor": 2
}
