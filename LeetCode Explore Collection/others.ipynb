{
 "cells": [
  {
   "attachments": {},
   "cell_type": "markdown",
   "metadata": {},
   "source": [
    "---\n",
    "Number of 1 Bits: https://leetcode.com/problems/number-of-1-bits/description/"
   ]
  },
  {
   "cell_type": "code",
   "execution_count": 8,
   "metadata": {},
   "outputs": [],
   "source": [
    "class Solution:\n",
    "    def hammingWeight(self, n: int) -> int:\n",
    "        count = 0\n",
    "        \n",
    "        n_str = str(bin(n))\n",
    "        for i in n_str:\n",
    "            print(i)\n",
    "            if i == \"1\":\n",
    "                count +=1\n",
    "        return count"
   ]
  },
  {
   "cell_type": "code",
   "execution_count": 9,
   "metadata": {},
   "outputs": [],
   "source": [
    "#O(1) \n",
    "class Solution:\n",
    "    def hammingWeight(self, n: int) -> int:\n",
    "        res = 0\n",
    "        # n = bin(n)[2:]\n",
    "        # print(n)\n",
    "        while n:\n",
    "            # if n%2 == 0 \n",
    "            res += n%2\n",
    "            n = n >> 1\n",
    "            # print(n)\n",
    "        return res"
   ]
  },
  {
   "cell_type": "code",
   "execution_count": 17,
   "metadata": {},
   "outputs": [
    {
     "data": {
      "text/plain": [
       "0"
      ]
     },
     "execution_count": 17,
     "metadata": {},
     "output_type": "execute_result"
    }
   ],
   "source": [
    "class Solution:\n",
    "    def hammingWeight(self, n: int) -> int:\n",
    "       res = 0\n",
    "       while n:\n",
    "           n = n & (n-1)\n",
    "           res +=1\n",
    "       return res"
   ]
  },
  {
   "attachments": {},
   "cell_type": "markdown",
   "metadata": {},
   "source": [
    "---\n",
    "Neetcode and Pan interview"
   ]
  },
  {
   "cell_type": "code",
   "execution_count": 126,
   "metadata": {},
   "outputs": [],
   "source": [
    "import random\n",
    "class Storage:\n",
    "    def __init__(self):\n",
    "        self.storage = []\n",
    "\n",
    "    def insert(self, value): \n",
    "        \"\"\"Insert the given value\"\"\"\n",
    "        if value not in self.storage:\n",
    "            self.storage.append(value)\n",
    "\n",
    "    #Remove via the value instead of the index\n",
    "    #Dont assume the value is present in the storage already\n",
    "    def remove(self, value):\n",
    "        \"\"\"Remove the given value\"\"\"\n",
    "        # index = mapper[value]\n",
    "        # s_list.pop(index)\n",
    "\n",
    "\n",
    "        if value not in self.storage:\n",
    "            return \n",
    "        \n",
    "        s_list = self.storage  #if you want it to be faster use a hashmap.\n",
    "        for i in range(len(s_list)):   #[1,2,3,4] -> [1,3,4]\n",
    "            if s_list[i] == value:\n",
    "                remove = s_list.pop(i)\n",
    "                break\n",
    "                \n",
    "        return s_list\n",
    "                \n",
    "\n",
    "    def get_random(self):\n",
    "        \"\"\"Get a random value\"\"\"\n",
    "        index = random.randint(a=0, b=len(self.storage)-1)\n",
    "        return self.storage[index]\n",
    "\n",
    "\n",
    "\n",
    "\n",
    "\n"
   ]
  },
  {
   "cell_type": "code",
   "execution_count": 153,
   "metadata": {},
   "outputs": [],
   "source": [
    "import random\n",
    "class Storage2:\n",
    "    def __init__(self):\n",
    "        self.storage = []\n",
    "        self.hashmap = {}\n",
    "\n",
    "    def insert(self, value): \n",
    "        \"\"\"Insert the given value\"\"\"\n",
    "        if value not in self.hashmap:\n",
    "            self.storage.append(value)\n",
    "            self.hashmap[value] = len(self.storage)-1\n",
    "\n",
    "    #Remove via the value instead of the index\n",
    "    #Dont assume the value is present in the storage already\n",
    "    def remove(self, value):\n",
    "        \"\"\"Remove the given value\"\"\"\n",
    "        if value not in self.hashmap:\n",
    "            return\n",
    "        #exchange the last value with the removed value\n",
    "       \n",
    "        rem_index = self.hashmap[value]\n",
    "        last_value = self.storage[-1]\n",
    "\n",
    "        self.storage[-1] = value\n",
    "        self.storage[rem_index] = last_value  \n",
    " \n",
    "        self.storage.pop() #removed the value in question\n",
    "        self.hashmap[last_value] = rem_index\n",
    "\n",
    "        del self.hashmap[value]\n",
    "\n",
    "\n",
    "\n",
    "    def get_random(self):\n",
    "        \"\"\"Get a random value\"\"\"\n",
    "        # index = random.randint(a=0, b=len(self.storage)-1)\n",
    "        # return self.storage[index]\n",
    "        return random.choice(self.storage)\n",
    "\n",
    "\n",
    "\n",
    "\n",
    "\n"
   ]
  },
  {
   "cell_type": "code",
   "execution_count": 154,
   "metadata": {},
   "outputs": [],
   "source": [
    "a = Storage2()"
   ]
  },
  {
   "cell_type": "code",
   "execution_count": 155,
   "metadata": {},
   "outputs": [],
   "source": [
    "a.insert(54)\n",
    "a.insert(63)\n",
    "a.insert(542)\n",
    "a.insert(24)"
   ]
  },
  {
   "cell_type": "code",
   "execution_count": 156,
   "metadata": {},
   "outputs": [
    {
     "data": {
      "text/plain": [
       "[54, 63, 542, 24]"
      ]
     },
     "execution_count": 156,
     "metadata": {},
     "output_type": "execute_result"
    }
   ],
   "source": [
    "a.storage"
   ]
  },
  {
   "cell_type": "code",
   "execution_count": 160,
   "metadata": {},
   "outputs": [],
   "source": [
    "a.remove(52)"
   ]
  },
  {
   "cell_type": "code",
   "execution_count": 161,
   "metadata": {},
   "outputs": [
    {
     "data": {
      "text/plain": [
       "{63: 1, 542: 2, 24: 0}"
      ]
     },
     "execution_count": 161,
     "metadata": {},
     "output_type": "execute_result"
    }
   ],
   "source": [
    "a.hashmap"
   ]
  },
  {
   "cell_type": "code",
   "execution_count": 162,
   "metadata": {},
   "outputs": [
    {
     "data": {
      "text/plain": [
       "[24, 63, 542]"
      ]
     },
     "execution_count": 162,
     "metadata": {},
     "output_type": "execute_result"
    }
   ],
   "source": [
    "a.storage"
   ]
  },
  {
   "cell_type": "code",
   "execution_count": 163,
   "metadata": {},
   "outputs": [
    {
     "data": {
      "text/plain": [
       "{'a': 2}"
      ]
     },
     "execution_count": 163,
     "metadata": {},
     "output_type": "execute_result"
    }
   ],
   "source": [
    "{\"a\":1, \"a\":2}"
   ]
  },
  {
   "cell_type": "code",
   "execution_count": 164,
   "metadata": {},
   "outputs": [],
   "source": [
    "import random\n",
    "class Storage3: #This is the case when we have multiple integers in the list, mine is wrong :(\n",
    "    def __init__(self):\n",
    "        self.storage = []\n",
    "        self.hashmap = {}\n",
    "\n",
    "    def insert(self, value): \n",
    "        \"\"\"Insert the given value\"\"\"\n",
    "        if value in self.hashmap:\n",
    "    \n",
    "            self.storage.append(value)\n",
    "            self.hashmap[value][1] += 1\n",
    "            self.hashmap[value][0] = len(self.storage)-1 #[1,4,4,1,4,5] #{4: [3,2], 5: [3,1] }\n",
    "        \n",
    "        self.storage.append(value)\n",
    "        self.hashmap[value] = [len(self.storage)-1, 1]\n",
    "\n",
    "    #Remove via the value instead of the index\n",
    "    #Dont assume the value is present in the storage already\n",
    "    def remove(self, value):\n",
    "        \"\"\"Remove the given value\"\"\"\n",
    "        if value not in self.hashmap:\n",
    "            return\n",
    "        #exchange the last value with the removed value\n",
    "       \n",
    "        rem_index, counter = self.hashmap[value]\n",
    "        last_value = self.storage[-1]\n",
    "\n",
    "        self.storage[-1] = value\n",
    "        self.storage[rem_index] = last_value  \n",
    " \n",
    "        self.storage.pop() #removed the value in question\n",
    "\n",
    "\n",
    "        self.hashmap[last_value][0] = rem_index\n",
    "        self.hashmap[value][1] = counter - 1 #or -=1\n",
    "        self.hashmap[value][0] = rem_index - 1\n",
    "        # del self.hashmap[value]\n",
    "\n",
    "\n",
    "    def get_random(self):\n",
    "        \"\"\"Get a random value\"\"\"\n",
    "        # index = random.randint(a=0, b=len(self.storage)-1)\n",
    "        # return self.storage[index]\n",
    "        return random.choice(self.storage)\n",
    "\n",
    "\n",
    "\n",
    "\n",
    "\n"
   ]
  },
  {
   "attachments": {},
   "cell_type": "markdown",
   "metadata": {},
   "source": [
    "---\n",
    "Hamming distance: https://leetcode.com/problems/hamming-distance/description/\n"
   ]
  },
  {
   "cell_type": "code",
   "execution_count": null,
   "metadata": {},
   "outputs": [],
   "source": [
    "class Solution:\n",
    "    def hammingDistance(self, x: int, y: int) -> int:\n",
    "        xor = x^y\n",
    "        xor = \"{:b}\".format(xor)\n",
    "        res = 0\n",
    "        for i in xor:\n",
    "            res += int(i)\n",
    "        return res\n"
   ]
  },
  {
   "cell_type": "code",
   "execution_count": 168,
   "metadata": {},
   "outputs": [
    {
     "data": {
      "text/plain": [
       "'cba'"
      ]
     },
     "execution_count": 168,
     "metadata": {},
     "output_type": "execute_result"
    }
   ],
   "source": [
    "a = \"abc\"\n",
    "a[::-1]"
   ]
  },
  {
   "cell_type": "code",
   "execution_count": 182,
   "metadata": {},
   "outputs": [
    {
     "data": {
      "text/plain": [
       "'0b00111001011110000010100101'"
      ]
     },
     "execution_count": 182,
     "metadata": {},
     "output_type": "execute_result"
    }
   ],
   "source": [
    "n = bin(43261596)[2:]\n",
    "n = \"0b\"+ n[::-1]\n",
    "n"
   ]
  },
  {
   "cell_type": "code",
   "execution_count": 181,
   "metadata": {},
   "outputs": [
    {
     "data": {
      "text/plain": [
       "15065253"
      ]
     },
     "execution_count": 181,
     "metadata": {},
     "output_type": "execute_result"
    }
   ],
   "source": [
    "int(n,2)"
   ]
  },
  {
   "cell_type": "code",
   "execution_count": 183,
   "metadata": {},
   "outputs": [
    {
     "name": "stdout",
     "output_type": "stream",
     "text": [
      "4\n",
      "3\n",
      "2\n",
      "1\n"
     ]
    }
   ],
   "source": [
    "coins = [1,2,3,4]\n",
    "for i in range(len(coins)-1, -1,-1):\n",
    "    print(coins[i])"
   ]
  },
  {
   "cell_type": "code",
   "execution_count": null,
   "metadata": {},
   "outputs": [],
   "source": []
  }
 ],
 "metadata": {
  "kernelspec": {
   "display_name": "Python 3",
   "language": "python",
   "name": "python3"
  },
  "language_info": {
   "codemirror_mode": {
    "name": "ipython",
    "version": 3
   },
   "file_extension": ".py",
   "mimetype": "text/x-python",
   "name": "python",
   "nbconvert_exporter": "python",
   "pygments_lexer": "ipython3",
   "version": "3.10.3 (v3.10.3:a342a49189, Mar 16 2022, 09:34:18) [Clang 13.0.0 (clang-1300.0.29.30)]"
  },
  "orig_nbformat": 4,
  "vscode": {
   "interpreter": {
    "hash": "aee8b7b246df8f9039afb4144a1f6fd8d2ca17a180786b69acc140d282b71a49"
   }
  }
 },
 "nbformat": 4,
 "nbformat_minor": 2
}
