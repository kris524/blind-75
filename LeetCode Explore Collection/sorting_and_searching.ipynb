{
 "cells": [
  {
   "attachments": {},
   "cell_type": "markdown",
   "metadata": {},
   "source": [
    "Merge Sorted Array: https://leetcode.com/problems/merge-sorted-array/description/"
   ]
  },
  {
   "cell_type": "code",
   "execution_count": 40,
   "metadata": {},
   "outputs": [],
   "source": [
    "def merge(nums1, m, nums2, n):\n",
    "    for i in range(m, len(nums1)):\n",
    "        nums1[i] = nums2[i-m]\n",
    "    # print(nums1.sort())\n",
    "    nums1.sort() # the built in sorting algorithm has O(n) space complexity\n",
    "    # Time complexity is  O (n+m)log(n+m)"
   ]
  },
  {
   "cell_type": "code",
   "execution_count": null,
   "metadata": {},
   "outputs": [],
   "source": [
    "# Another way but I dont know why we need the p2 condition\n",
    "# my guess is that in cases where p2 exceeds n so we dont get the index out of range error\n",
    "class Solution:\n",
    "    def merge(self, nums1: List[int], m: int, nums2: List[int], n: int) -> None:\n",
    "        \"\"\"\n",
    "        Do not return anything, modify nums1 in-place instead.\n",
    "        \"\"\"\n",
    "        nums1_copy = nums1[:m]\n",
    "        p1 = 0\n",
    "        p2 = 0\n",
    "        p = 0\n",
    "        while p < len(nums1):\n",
    "            # print(nums1_copy[p1])\n",
    "            print(p2)\n",
    "            if p2 >= n or (p1 < m and nums1_copy[p1] <= nums2[p2]):\n",
    "                nums1[p] = nums1_copy[p1]\n",
    "                p1+=1\n",
    "            else:\n",
    "                nums1[p] = nums2[p2]\n",
    "                p2+=1\n",
    "            p+=1\n",
    "        "
   ]
  },
  {
   "cell_type": "code",
   "execution_count": null,
   "metadata": {},
   "outputs": [],
   "source": []
  }
 ],
 "metadata": {
  "kernelspec": {
   "display_name": "Python 3",
   "language": "python",
   "name": "python3"
  },
  "language_info": {
   "codemirror_mode": {
    "name": "ipython",
    "version": 3
   },
   "file_extension": ".py",
   "mimetype": "text/x-python",
   "name": "python",
   "nbconvert_exporter": "python",
   "pygments_lexer": "ipython3",
   "version": "3.10.3"
  },
  "orig_nbformat": 4,
  "vscode": {
   "interpreter": {
    "hash": "aee8b7b246df8f9039afb4144a1f6fd8d2ca17a180786b69acc140d282b71a49"
   }
  }
 },
 "nbformat": 4,
 "nbformat_minor": 2
}
