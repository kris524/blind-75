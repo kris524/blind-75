{
 "cells": [
  {
   "cell_type": "markdown",
   "metadata": {},
   "source": [
    "Remove Linked List Elements: https://leetcode.com/problems/remove-linked-list-elements/"
   ]
  },
  {
   "cell_type": "code",
   "execution_count": null,
   "metadata": {},
   "outputs": [],
   "source": [
    "# Definition for singly-linked list.\n",
    "# class ListNode:\n",
    "#     def __init__(self, val=0, next=None):\n",
    "#         self.val = val\n",
    "#         self.next = next\n",
    "class Solution:\n",
    "    def removeElements(self, head: Optional[ListNode], val: int) -> Optional[ListNode]:\n",
    "        sentinel = ListNode(0)\n",
    "        sentinel.next = head\n",
    "        \n",
    "        prev = sentinel\n",
    "        curr = head\n",
    "        \n",
    "        while curr: #while this is not a null pointer\n",
    "            if curr.val == val:\n",
    "                prev.next = curr.next #this is how you delete a node\n",
    "            else:\n",
    "                prev = curr\n",
    "                \n",
    "            curr = curr.next\n",
    "        return sentinel.next"
   ]
  },
  {
   "cell_type": "markdown",
   "metadata": {},
   "source": [
    "Delete Node in a Linked List: https://leetcode.com/problems/delete-node-in-a-linked-list/"
   ]
  },
  {
   "cell_type": "code",
   "execution_count": 1,
   "metadata": {},
   "outputs": [],
   "source": [
    "# Definition for singly-linked list.\n",
    "# class ListNode:\n",
    "#     def __init__(self, x):\n",
    "#         self.val = x\n",
    "#         self.next = None\n",
    "\n",
    "class Solution:\n",
    "    def deleteNode(self, node):\n",
    "        \"\"\"\n",
    "        :type node: ListNode\n",
    "        :rtype: void Do not return anything, modify node in-place instead.\n",
    "        \"\"\"\n",
    "        # temp = node.next\n",
    "        node.val = node.next.val\n",
    "        node.next = node.next.next"
   ]
  },
  {
   "cell_type": "markdown",
   "metadata": {},
   "source": [
    "Remove Nth Node From End of List: https://leetcode.com/problems/remove-nth-node-from-end-of-list/"
   ]
  },
  {
   "cell_type": "code",
   "execution_count": null,
   "metadata": {},
   "outputs": [],
   "source": [
    "# Definition for singly-linked list.\n",
    "# class ListNode:\n",
    "#     def __init__(self, val=0, next=None):\n",
    "#         self.val = val\n",
    "#         self.next = next\n",
    "class Solution:\n",
    "    def removeNthFromEnd(self, head: Optional[ListNode], n: int) -> Optional[ListNode]:\n",
    "        \n",
    "        #first get the length of the LL\n",
    "        dummy = ListNode(0, head)\n",
    "        length = 0\n",
    "        curr = dummy\n",
    "        while curr:\n",
    "            length +=1\n",
    "            curr=curr.next\n",
    "        print(length)\n",
    "        \n",
    "        #find the index that must be deleted\n",
    "        # backwars_index = n-1\n",
    "        index_front_to_back = length - n \n",
    "        \n",
    "        #traverse to find the index and remove it \n",
    "        curr = dummy\n",
    "        \n",
    "        for i in range(1, length+1):\n",
    "            print(curr)\n",
    "            print(i)\n",
    "            if i == index_front_to_back:\n",
    "                curr.next = curr.next.next\n",
    "                # curr.val = curr.next.val\n",
    "                # curr.next = curr.next.next\n",
    "            else:\n",
    "                curr = curr.next\n",
    "            # curr = curr.next\n",
    "            \n",
    "        return dummy.next"
   ]
  },
  {
   "cell_type": "code",
   "execution_count": null,
   "metadata": {},
   "outputs": [],
   "source": [
    "# Definition for singly-linked list.\n",
    "# class ListNode:\n",
    "#     def __init__(self, val=0, next=None):\n",
    "#         self.val = val\n",
    "#         self.next = next\n",
    "class Solution:\n",
    "    def removeNthFromEnd2(self, head: Optional[ListNode], n: int) -> Optional[ListNode]:\n",
    "        dummy = fast = slow = ListNode(0, head)\n",
    "        \n",
    "        #move fast ahead n steps\n",
    "        for _ in range(n):\n",
    "            fast = fast.next\n",
    "            \n",
    "        #move both pointers up until fast.next points to nothing\n",
    "        while fast.next:\n",
    "            slow = slow.next\n",
    "            fast = fast.next\n",
    "          \n",
    "        #after you reach your right indecies, you can remove the node\n",
    "        slow.next = slow.next.next\n",
    "        return dummy.next"
   ]
  },
  {
   "cell_type": "markdown",
   "metadata": {},
   "source": [
    "Reverse Linked List: https://leetcode.com/problems/reverse-linked-list/"
   ]
  },
  {
   "cell_type": "code",
   "execution_count": null,
   "metadata": {},
   "outputs": [],
   "source": [
    "#My attempt - fail\n",
    "\n",
    "# Definition for singly-linked list.\n",
    "# class ListNode:\n",
    "#     def __init__(self, val=0, next=None):\n",
    "#         self.val = val\n",
    "#         self.next = next\n",
    "class Solution:\n",
    "    def reverseList(self, head: Optional[ListNode]) -> Optional[ListNode]:\n",
    "        #THIS ONLY WORKS FOR INCREASING VALUES IN A LL \n",
    "        length = 0\n",
    "        curr = head\n",
    "        while curr:\n",
    "            length +=1\n",
    "            curr = curr.next\n",
    "        curr = head\n",
    "        #add a check with every change of positions to see if the curr.val < curr.next.value\n",
    "        for i in range(length-1):\n",
    "            print(i)\n",
    "            while curr.next and curr.val < curr.next.val: #iterate until the value is placed at the end wherever it can\n",
    "                curr.next.val, curr.val = curr.val, curr.next.val\n",
    "                print(head)\n",
    "                curr = curr.next\n",
    "            curr = head #refresh and start from the new head\n",
    "        return head\n",
    "                \n",
    "                \n",
    "        "
   ]
  },
  {
   "cell_type": "code",
   "execution_count": null,
   "metadata": {},
   "outputs": [],
   "source": [
    "#Iterative solution - pass\n",
    "# Definition for singly-linked list.\n",
    "# class ListNode:\n",
    "#     def __init__(self, val=0, next=None):\n",
    "#         self.val = val\n",
    "#         self.next = next\n",
    "class Solution:\n",
    "    def reverseList(self, head: Optional[ListNode]) -> Optional[ListNode]:\n",
    "        #use two pointers\n",
    "        curr = head\n",
    "        prev = None\n",
    "        while curr:\n",
    "            saved = curr.next # we will break the link so we need to save it here\n",
    "            curr.next = prev #make the curr point at None\n",
    "            prev = curr # move the prev pointer \n",
    "            curr = saved # move the curr to the saved \n",
    "                \n",
    "        return prev #return the head, the prev stops at the new head\n",
    "        "
   ]
  },
  {
   "cell_type": "code",
   "execution_count": null,
   "metadata": {},
   "outputs": [],
   "source": [
    "#I cannot understand the recursive version, will get back to it later"
   ]
  },
  {
   "cell_type": "markdown",
   "metadata": {},
   "source": [
    "Merge Two Sorted Lists: https://leetcode.com/problems/merge-two-sorted-lists/"
   ]
  },
  {
   "cell_type": "code",
   "execution_count": null,
   "metadata": {},
   "outputs": [],
   "source": [
    "# Definition for singly-linked list.\n",
    "# class ListNode:\n",
    "#     def __init__(self, val=0, next=None):\n",
    "#         self.val = val\n",
    "#         self.next = next\n",
    "class Solution:\n",
    "    def mergeTwoLists(self, list1: Optional[ListNode], list2: Optional[ListNode]) -> Optional[ListNode]:\n",
    "        #fix the index to list2 and take a pair in list1 and compare the values to see if it fits\n",
    "        #for a fit, we are looking at its either equal to one of the pairs or it sits beteween them\n",
    "        \n",
    "        \n",
    "        prehead = ListNode(-1)\n",
    "        prev = prehead\n",
    "        l1 = list1\n",
    "        l2 = list2\n",
    "        while l1 and l2:\n",
    "            if l1.val <= l2.val:\n",
    "                prev.next = l1\n",
    "                l1 = l1.next\n",
    "                prev = prev.next\n",
    "            elif l1.val >= l2.val:\n",
    "                prev.next = l2\n",
    "                l2 = l2.next\n",
    "                prev = prev.next\n",
    "        prev.next = l1 if l1 is not None else l2\n",
    "        return prehead.next"
   ]
  },
  {
   "cell_type": "markdown",
   "metadata": {},
   "source": [
    "Palindrome Linked List: https://leetcode.com/problems/palindrome-linked-list/description/"
   ]
  },
  {
   "cell_type": "code",
   "execution_count": null,
   "metadata": {},
   "outputs": [],
   "source": [
    "# Definition for singly-linked list.\n",
    "# class ListNode:\n",
    "#     def __init__(self, val=0, next=None):\n",
    "#         self.val = val\n",
    "#         self.next = next\n",
    "import copy\n",
    "class Solution:\n",
    "    def isPalindrome(self, head: Optional[ListNode]) -> bool:\n",
    "        #I have a betten plac, reverse the linked list and compare it to the original\n",
    "        # copy1 = deepcopy(head)\n",
    "        \n",
    "        copy2 =copy.deepcopy(head)\n",
    "       \n",
    "        prev = None\n",
    "        \n",
    "        while copy2:\n",
    "            # print(head)\n",
    "            saved = copy2.next\n",
    "            copy2.next = prev\n",
    "            prev = copy2\n",
    "            copy2 = saved\n",
    "\n",
    "        print(head)\n",
    "        print(prev)\n",
    "        # print(copy1)\n",
    "        \n",
    "        while head and prev:\n",
    "            if prev.val == head.val:\n",
    "                prev = prev.next\n",
    "                head = head.next\n",
    "            else:\n",
    "                return False\n",
    "        return True\n",
    "\n",
    "                \n",
    "            \n",
    "                \n",
    "            "
   ]
  }
 ],
 "metadata": {
  "kernelspec": {
   "display_name": "Python 3.10.3 64-bit",
   "language": "python",
   "name": "python3"
  },
  "language_info": {
   "codemirror_mode": {
    "name": "ipython",
    "version": 3
   },
   "file_extension": ".py",
   "mimetype": "text/x-python",
   "name": "python",
   "nbconvert_exporter": "python",
   "pygments_lexer": "ipython3",
   "version": "3.10.3"
  },
  "orig_nbformat": 4,
  "vscode": {
   "interpreter": {
    "hash": "aee8b7b246df8f9039afb4144a1f6fd8d2ca17a180786b69acc140d282b71a49"
   }
  }
 },
 "nbformat": 4,
 "nbformat_minor": 2
}
