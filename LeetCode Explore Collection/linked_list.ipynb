{
 "cells": [
  {
   "cell_type": "markdown",
   "metadata": {},
   "source": [
    "Remove Linked List Elements: https://leetcode.com/problems/remove-linked-list-elements/"
   ]
  },
  {
   "cell_type": "code",
   "execution_count": null,
   "metadata": {},
   "outputs": [],
   "source": [
    "# Definition for singly-linked list.\n",
    "# class ListNode:\n",
    "#     def __init__(self, val=0, next=None):\n",
    "#         self.val = val\n",
    "#         self.next = next\n",
    "class Solution:\n",
    "    def removeElements(self, head: Optional[ListNode], val: int) -> Optional[ListNode]:\n",
    "        sentinel = ListNode(0)\n",
    "        sentinel.next = head\n",
    "        \n",
    "        prev = sentinel\n",
    "        curr = head\n",
    "        \n",
    "        while curr: #while this is not a null pointer\n",
    "            if curr.val == val:\n",
    "                prev.next = curr.next #this is how you delete a node\n",
    "            else:\n",
    "                prev = curr\n",
    "                \n",
    "            curr = curr.next\n",
    "        return sentinel.next"
   ]
  }
 ],
 "metadata": {
  "language_info": {
   "name": "python"
  },
  "orig_nbformat": 4
 },
 "nbformat": 4,
 "nbformat_minor": 2
}
