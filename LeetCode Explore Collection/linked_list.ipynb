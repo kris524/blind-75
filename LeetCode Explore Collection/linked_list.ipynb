{
 "cells": [
  {
   "cell_type": "markdown",
   "metadata": {},
   "source": [
    "Remove Linked List Elements: https://leetcode.com/problems/remove-linked-list-elements/"
   ]
  },
  {
   "cell_type": "code",
   "execution_count": null,
   "metadata": {},
   "outputs": [],
   "source": [
    "# Definition for singly-linked list.\n",
    "# class ListNode:\n",
    "#     def __init__(self, val=0, next=None):\n",
    "#         self.val = val\n",
    "#         self.next = next\n",
    "class Solution:\n",
    "    def removeElements(self, head: Optional[ListNode], val: int) -> Optional[ListNode]:\n",
    "        sentinel = ListNode(0)\n",
    "        sentinel.next = head\n",
    "        \n",
    "        prev = sentinel\n",
    "        curr = head\n",
    "        \n",
    "        while curr: #while this is not a null pointer\n",
    "            if curr.val == val:\n",
    "                prev.next = curr.next #this is how you delete a node\n",
    "            else:\n",
    "                prev = curr\n",
    "                \n",
    "            curr = curr.next\n",
    "        return sentinel.next"
   ]
  },
  {
   "cell_type": "markdown",
   "metadata": {},
   "source": [
    "Delete Node in a Linked List: https://leetcode.com/problems/delete-node-in-a-linked-list/"
   ]
  },
  {
   "cell_type": "code",
   "execution_count": 1,
   "metadata": {},
   "outputs": [],
   "source": [
    "# Definition for singly-linked list.\n",
    "# class ListNode:\n",
    "#     def __init__(self, x):\n",
    "#         self.val = x\n",
    "#         self.next = None\n",
    "\n",
    "class Solution:\n",
    "    def deleteNode(self, node):\n",
    "        \"\"\"\n",
    "        :type node: ListNode\n",
    "        :rtype: void Do not return anything, modify node in-place instead.\n",
    "        \"\"\"\n",
    "        # temp = node.next\n",
    "        node.val = node.next.val\n",
    "        node.next = node.next.next"
   ]
  },
  {
   "cell_type": "markdown",
   "metadata": {},
   "source": [
    "Remove Nth Node From End of List: https://leetcode.com/problems/remove-nth-node-from-end-of-list/"
   ]
  },
  {
   "cell_type": "code",
   "execution_count": null,
   "metadata": {},
   "outputs": [],
   "source": [
    "# Definition for singly-linked list.\n",
    "# class ListNode:\n",
    "#     def __init__(self, val=0, next=None):\n",
    "#         self.val = val\n",
    "#         self.next = next\n",
    "class Solution:\n",
    "    def removeNthFromEnd(self, head: Optional[ListNode], n: int) -> Optional[ListNode]:\n",
    "        \n",
    "        #first get the length of the LL\n",
    "        dummy = ListNode(0, head)\n",
    "        length = 0\n",
    "        curr = dummy\n",
    "        while curr:\n",
    "            length +=1\n",
    "            curr=curr.next\n",
    "        print(length)\n",
    "        \n",
    "        #find the index that must be deleted\n",
    "        # backwars_index = n-1\n",
    "        index_front_to_back = length - n \n",
    "        \n",
    "        #traverse to find the index and remove it \n",
    "        curr = dummy\n",
    "        \n",
    "        for i in range(1, length+1):\n",
    "            print(curr)\n",
    "            print(i)\n",
    "            if i == index_front_to_back:\n",
    "                curr.next = curr.next.next\n",
    "                # curr.val = curr.next.val\n",
    "                # curr.next = curr.next.next\n",
    "            else:\n",
    "                curr = curr.next\n",
    "            # curr = curr.next\n",
    "            \n",
    "        return dummy.next"
   ]
  },
  {
   "cell_type": "code",
   "execution_count": null,
   "metadata": {},
   "outputs": [],
   "source": [
    "# Definition for singly-linked list.\n",
    "# class ListNode:\n",
    "#     def __init__(self, val=0, next=None):\n",
    "#         self.val = val\n",
    "#         self.next = next\n",
    "class Solution:\n",
    "    def removeNthFromEnd2(self, head: Optional[ListNode], n: int) -> Optional[ListNode]:\n",
    "        dummy = fast = slow = ListNode(0, head)\n",
    "        \n",
    "        #move fast ahead n steps\n",
    "        for _ in range(n):\n",
    "            fast = fast.next\n",
    "            \n",
    "        #move both pointers up until fast.next points to nothing\n",
    "        while fast.next:\n",
    "            slow = slow.next\n",
    "            fast = fast.next\n",
    "          \n",
    "        #after you reach your right indecies, you can remove the node\n",
    "        slow.next = slow.next.next\n",
    "        return dummy.next"
   ]
  },
  {
   "cell_type": "code",
   "execution_count": null,
   "metadata": {},
   "outputs": [],
   "source": []
  }
 ],
 "metadata": {
  "kernelspec": {
   "display_name": "Python 3.10.3 64-bit",
   "language": "python",
   "name": "python3"
  },
  "language_info": {
   "codemirror_mode": {
    "name": "ipython",
    "version": 3
   },
   "file_extension": ".py",
   "mimetype": "text/x-python",
   "name": "python",
   "nbconvert_exporter": "python",
   "pygments_lexer": "ipython3",
   "version": "3.10.3"
  },
  "orig_nbformat": 4,
  "vscode": {
   "interpreter": {
    "hash": "aee8b7b246df8f9039afb4144a1f6fd8d2ca17a180786b69acc140d282b71a49"
   }
  }
 },
 "nbformat": 4,
 "nbformat_minor": 2
}
