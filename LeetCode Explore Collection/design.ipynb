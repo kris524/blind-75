{
 "cells": [
  {
   "attachments": {},
   "cell_type": "markdown",
   "metadata": {},
   "source": [
    "---\n",
    "Shuffle an array: https://leetcode.com/problems/shuffle-an-array/description/"
   ]
  },
  {
   "cell_type": "code",
   "execution_count": null,
   "metadata": {},
   "outputs": [],
   "source": [
    "class Solution:\n",
    "\n",
    "    def __init__(self, nums: List[int]):\n",
    "        self.nums = nums\n",
    "\n",
    "        self.a = None\n",
    "        \n",
    "\n",
    "    def reset(self) -> List[int]:\n",
    "        \n",
    "        a =  self.nums\n",
    "        return a\n",
    "\n",
    "\n",
    "    def shuffle(self) -> List[int]:\n",
    "        \n",
    "        # for i in range(len(a)-1):\n",
    "        #     a[i] = a[i+1]\n",
    "        # self.a = a\n",
    "        # return [self.nums[-1]] + self.nums[:-1]\n",
    "        return random.sample(self.nums, len(self.nums))\n",
    "            \n",
    "        \n",
    "\n",
    "\n",
    "# Your Solution object will be instantiated and called as such:\n",
    "# obj = Solution(nums)\n",
    "# param_1 = obj.reset()\n",
    "# param_2 = obj.shuffle()"
   ]
  },
  {
   "cell_type": "code",
   "execution_count": 24,
   "metadata": {},
   "outputs": [
    {
     "data": {
      "text/plain": [
       "1"
      ]
     },
     "execution_count": 24,
     "metadata": {},
     "output_type": "execute_result"
    }
   ],
   "source": [
    "import random\n",
    "\n",
    "remove_idx = random.randrange(5)\n",
    "remove_idx"
   ]
  },
  {
   "attachments": {},
   "cell_type": "markdown",
   "metadata": {},
   "source": [
    "---\n",
    "MinStack: https://leetcode.com/problems/min-stack/solutions/?orderBy=most_votes"
   ]
  },
  {
   "cell_type": "code",
   "execution_count": null,
   "metadata": {},
   "outputs": [],
   "source": [
    "class MinStack:\n",
    "\n",
    "    def __init__(self):\n",
    "        self.stack = []\n",
    "        self.min = 0\n",
    "        \n",
    "\n",
    "    def push(self, val: int) -> None:\n",
    "        if val < self.min:\n",
    "            self.min = val\n",
    "        self.stack.append(val) #[-2, 0, -3]\n",
    "        \n",
    "\n",
    "    def pop(self) -> None:\n",
    "        self.stack.pop()\n",
    "\n",
    "    def top(self) -> int:\n",
    "        return self.stack[-1]\n",
    "        \n",
    "\n",
    "    def getMin(self) -> int:\n",
    "        copy = list(self.stack)\n",
    "        copy.sort()\n",
    "        return copy[0]\n",
    "        \n",
    "\n",
    "\n",
    "# Your MinStack object will be instantiated and called as such:\n",
    "# obj = MinStack()\n",
    "# obj.push(val)\n",
    "# obj.pop()\n",
    "# param_3 = obj.top()\n",
    "# param_4 = obj.getMin()"
   ]
  },
  {
   "cell_type": "code",
   "execution_count": null,
   "metadata": {},
   "outputs": [],
   "source": [
    "class MinStack:\n",
    "\n",
    "    def __init__(self):\n",
    "        self.stack = []\n",
    "        self.min = 0\n",
    "        \n",
    "\n",
    "    def push(self, val: int) -> None:\n",
    "        if not self.stack:\n",
    "            self.stack.append([val,val])\n",
    "            return\n",
    "\n",
    "        curr_min = self.stack[-1][1]\n",
    "        new_min = min(curr_min, val)\n",
    "        self.stack.append([val, new_min])\n",
    "        \n",
    "\n",
    "    def pop(self) -> None:\n",
    "        self.stack.pop()\n",
    "\n",
    "    def top(self) -> int:\n",
    "        return self.stack[-1][0]\n",
    "        \n",
    "\n",
    "    def getMin(self) -> int:\n",
    "        return self.stack[-1][1]\n",
    "        \n",
    "\n",
    "\n",
    "# Your MinStack object will be instantiated and called as such:\n",
    "# obj = MinStack()\n",
    "# obj.push(val)\n",
    "# obj.pop()\n",
    "# param_3 = obj.top()\n",
    "# param_4 = obj.getMin()"
   ]
  }
 ],
 "metadata": {
  "kernelspec": {
   "display_name": "Python 3",
   "language": "python",
   "name": "python3"
  },
  "language_info": {
   "codemirror_mode": {
    "name": "ipython",
    "version": 3
   },
   "file_extension": ".py",
   "mimetype": "text/x-python",
   "name": "python",
   "nbconvert_exporter": "python",
   "pygments_lexer": "ipython3",
   "version": "3.10.3"
  },
  "orig_nbformat": 4,
  "vscode": {
   "interpreter": {
    "hash": "aee8b7b246df8f9039afb4144a1f6fd8d2ca17a180786b69acc140d282b71a49"
   }
  }
 },
 "nbformat": 4,
 "nbformat_minor": 2
}
