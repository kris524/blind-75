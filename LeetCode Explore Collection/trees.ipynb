{
 "cells": [
  {
   "cell_type": "markdown",
   "metadata": {},
   "source": [
    "Maximum Depth of Binary Tree: https://leetcode.com/problems/maximum-depth-of-binary-tree/description/"
   ]
  },
  {
   "cell_type": "code",
   "execution_count": null,
   "metadata": {},
   "outputs": [],
   "source": [
    "# Recursive DFS\n",
    "# Definition for a binary tree node.\n",
    "# class TreeNode:\n",
    "#     def __init__(self, val=0, left=None, right=None):\n",
    "#         self.val = val\n",
    "#         self.left = left\n",
    "#         self.right = right\n",
    "class Solution:\n",
    "    def maxDepth(self, root: Optional[TreeNode]) -> int:\n",
    "        if root is None:\n",
    "            return 0\n",
    "        else:\n",
    "            left_node = self.maxDepth(root.left)\n",
    "            right_node = self.maxDepth(root.right)\n",
    "            return max(left_node, right_node)+1  # 1 is there to start counting from bottom to top\n",
    "                                                 # its there to count the node we are currently at\n"
   ]
  },
  {
   "cell_type": "code",
   "execution_count": null,
   "metadata": {},
   "outputs": [],
   "source": [
    "#Iterative BFS\n",
    "\n",
    "# Definition for a binary tree node.\n",
    "# class TreeNode:\n",
    "#     def __init__(self, val=0, left=None, right=None):\n",
    "#         self.val = val\n",
    "#         self.left = left\n",
    "#         self.right = right\n",
    "class Solution:\n",
    "    def maxDepth(self, root: Optional[TreeNode]) -> int:\n",
    "        if root is None:\n",
    "            return 0\n",
    "        level = 0\n",
    "        q = collections.deque([root])\n",
    "        while q:\n",
    "            print(q)\n",
    "            for i in range(len(q)):\n",
    "                #remove the node from the left\n",
    "                node = q.popleft()\n",
    "                #add its children to the right only if they are not Null\n",
    "                if node.left:\n",
    "                    q.append(node.left)\n",
    "                if node.right:\n",
    "                    q.append(node.right)\n",
    "            \n",
    "            level +=1\n",
    "        return level\n",
    "        "
   ]
  },
  {
   "cell_type": "code",
   "execution_count": null,
   "metadata": {},
   "outputs": [],
   "source": [
    "#Iterative DFS\n",
    "# Definition for a binary tree node.\n",
    "# class TreeNode:\n",
    "#     def __init__(self, val=0, left=None, right=None):\n",
    "#         self.val = val\n",
    "#         self.left = left\n",
    "#         self.right = right\n",
    "class Solution:\n",
    "    def maxDepth(self, root: Optional[TreeNode]) -> int:\n",
    "        res= 0\n",
    "        stack = [ [root, 1] ]\n",
    "\n",
    "        while stack:\n",
    "            print(stack)\n",
    "            node, depth = stack.pop()\n",
    "            \n",
    "            if node: # this will filter any None nodes and will not allow to wrongly increase the res\n",
    "                stack.append([node.left, depth+1])\n",
    "                stack.append([node.right, depth+1])\n",
    "                res = max(res, depth) # use this to keep track of the max result\n",
    "                print(res)\n",
    "        return res"
   ]
  },
  {
   "cell_type": "markdown",
   "metadata": {},
   "source": [
    "Validate a Binary Search Tree: https://leetcode.com/problems/validate-binary-search-tree/solutions/"
   ]
  },
  {
   "cell_type": "code",
   "execution_count": null,
   "metadata": {},
   "outputs": [],
   "source": [
    "# Recursion way\n",
    "# Definition for a binary tree node.\n",
    "# class TreeNode:\n",
    "#     def __init__(self, val=0, left=None, right=None):\n",
    "#         self.val = val\n",
    "#         self.left = left\n",
    "#         self.right = right\n",
    "class Solution:\n",
    "    def isValidBST(self, root: Optional[TreeNode]) -> bool:\n",
    "        \n",
    "        def validate(node, lower_limit = -math.inf, upper_limit = math.inf):\n",
    "            if node is None:\n",
    "                return True\n",
    "\n",
    "            elif node.val <= lower_limit or node.val >= upper_limit:\n",
    "                return False\n",
    "            print(lower_limit)\n",
    "            return (validate(node.left, lower_limit, node.val) and validate(node.right, node.val,upper_limit))\n",
    "\n",
    "        return validate(root)\n",
    "\n",
    "\n"
   ]
  },
  {
   "cell_type": "code",
   "execution_count": null,
   "metadata": {},
   "outputs": [],
   "source": [
    "# Using a stack\n",
    "# Definition for a binary tree node.\n",
    "# class TreeNode:\n",
    "#     def __init__(self, val=0, left=None, right=None):\n",
    "#         self.val = val\n",
    "#         self.left = left\n",
    "#         self.right = right\n",
    "class Solution:\n",
    "    def isValidBST(self, root: Optional[TreeNode]) -> bool:\n",
    "        if root is None:\n",
    "            return True\n",
    "        \n",
    "        stack = [ [root, -math.inf, math.inf]  ]\n",
    "\n",
    "        while stack:\n",
    "            \n",
    "            node, low, high = stack.pop()\n",
    "            if node is None:\n",
    "                continue\n",
    "\n",
    "            if (node.val >= high or node.val <= low):\n",
    "                return False\n",
    "\n",
    "            stack.append([node.left, low, node.val])\n",
    "            stack.append([node.right, node.val, high])\n",
    "        return True\n"
   ]
  },
  {
   "cell_type": "markdown",
   "metadata": {},
   "source": [
    "Symmetric Tree: https://leetcode.com/problems/symmetric-tree/description/"
   ]
  },
  {
   "cell_type": "code",
   "execution_count": 4,
   "metadata": {},
   "outputs": [],
   "source": [
    "# Definition for a binary tree node.\n",
    "# class TreeNode:\n",
    "#     def __init__(self, val=0, left=None, right=None):\n",
    "#         self.val = val\n",
    "#         self.left = left\n",
    "#         self.right = right\n",
    "class Solution:\n",
    "    def isSymmetric(self, root: Optional[TreeNode]) -> bool:\n",
    "        \n",
    "        if root is None:\n",
    "            return True\n",
    "\n",
    "        return self.isMirror(root.left, root.right)\n",
    "\n",
    "    def isMirror(self, leftnode, rightnode):\n",
    "        \n",
    "        if leftnode and rightnode:\n",
    "            return leftnode.val == rightnode.val and self.isMirror(leftnode.left, rightnode.right) and self.isMirror(leftnode.right, rightnode.left)\n",
    "        else:\n",
    "            return leftnode == rightnode # this is activated when the leftnode or/and rightnode become None\n",
    "            # just check if they are equal, and you can use a .val since they could be None\n",
    "            "
   ]
  },
  {
   "cell_type": "markdown",
   "metadata": {},
   "source": [
    "NOT A LEETCODE QUESTION: Get the sum of all values in a BST"
   ]
  },
  {
   "cell_type": "code",
   "execution_count": null,
   "metadata": {},
   "outputs": [],
   "source": [
    "# My way\n",
    "# Definition for a binary tree node.\n",
    "# class TreeNode:\n",
    "#     def __init__(self, val=0, left=None, right=None):\n",
    "#         self.val = val\n",
    "#         self.left = left\n",
    "#         self.right = right\n",
    "class Solution:\n",
    "    def sum_values(self, root: Optional[TreeNode]) -> bool:\n",
    "        \n",
    "        all_values = []\n",
    "        stack = [root]\n",
    "        while stack:\n",
    "            node = stack.pop()\n",
    "            if node:\n",
    "                print(node)\n",
    "                stack.append(node.left)\n",
    "                stack.append(node.right)\n",
    "                all_values.append(node.val)\n",
    "                print(all_values)\n",
    "                # all_values.append(node.right.val)\n",
    "        print(sum(all_values))"
   ]
  },
  {
   "cell_type": "code",
   "execution_count": 3,
   "metadata": {},
   "outputs": [],
   "source": [
    "# CS Dojo way -> Recursion: https://www.youtube.com/watch?v=1-l_UOFi1Xw\n",
    "# class Node:\n",
    "#     def __init__(self, data):\n",
    "#         self.val = data\n",
    "#         self.left = None\n",
    "#         self.right = None\n",
    "\n",
    "def sum_values(root):\n",
    "    if root == None:\n",
    "        return 0\n",
    "    return root.val + sum_values(root.left) + sum_values(root.right)\n"
   ]
  },
  {
   "cell_type": "code",
   "execution_count": null,
   "metadata": {},
   "outputs": [],
   "source": []
  }
 ],
 "metadata": {
  "kernelspec": {
   "display_name": "Python 3.10.3 64-bit",
   "language": "python",
   "name": "python3"
  },
  "language_info": {
   "codemirror_mode": {
    "name": "ipython",
    "version": 3
   },
   "file_extension": ".py",
   "mimetype": "text/x-python",
   "name": "python",
   "nbconvert_exporter": "python",
   "pygments_lexer": "ipython3",
   "version": "3.10.3"
  },
  "orig_nbformat": 4,
  "vscode": {
   "interpreter": {
    "hash": "aee8b7b246df8f9039afb4144a1f6fd8d2ca17a180786b69acc140d282b71a49"
   }
  }
 },
 "nbformat": 4,
 "nbformat_minor": 2
}
