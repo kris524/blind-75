{
 "cells": [
  {
   "cell_type": "markdown",
   "metadata": {},
   "source": [
    "Maximum Depth of Binary Tree: https://leetcode.com/problems/maximum-depth-of-binary-tree/description/"
   ]
  },
  {
   "cell_type": "code",
   "execution_count": null,
   "metadata": {},
   "outputs": [],
   "source": [
    "# Recursive DFS\n",
    "# Definition for a binary tree node.\n",
    "# class TreeNode:\n",
    "#     def __init__(self, val=0, left=None, right=None):\n",
    "#         self.val = val\n",
    "#         self.left = left\n",
    "#         self.right = right\n",
    "class Solution:\n",
    "    def maxDepth(self, root: Optional[TreeNode]) -> int:\n",
    "        if root is None:\n",
    "            return 0\n",
    "        else:\n",
    "            left_node = self.maxDepth(root.left)\n",
    "            right_node = self.maxDepth(root.right)\n",
    "            return max(left_node, right_node)+1  # 1 is there to start counting from bottom to top\n",
    "                                                 # its there to count the node we are currently at\n"
   ]
  },
  {
   "cell_type": "code",
   "execution_count": null,
   "metadata": {},
   "outputs": [],
   "source": [
    "#Iterative BFS\n",
    "\n",
    "# Definition for a binary tree node.\n",
    "# class TreeNode:\n",
    "#     def __init__(self, val=0, left=None, right=None):\n",
    "#         self.val = val\n",
    "#         self.left = left\n",
    "#         self.right = right\n",
    "class Solution:\n",
    "    def maxDepth(self, root: Optional[TreeNode]) -> int:\n",
    "        if root is None:\n",
    "            return 0\n",
    "        level = 0\n",
    "        q = collections.deque([root])\n",
    "        while q:\n",
    "            print(q)\n",
    "            for i in range(len(q)):\n",
    "                #remove the node from the left\n",
    "                node = q.popleft()\n",
    "                #add its children to the right only if they are not Null\n",
    "                if node.left:\n",
    "                    q.append(node.left)\n",
    "                if node.right:\n",
    "                    q.append(node.right)\n",
    "            \n",
    "            level +=1\n",
    "        return level\n",
    "        "
   ]
  },
  {
   "cell_type": "code",
   "execution_count": null,
   "metadata": {},
   "outputs": [],
   "source": [
    "#Iterative DFS\n",
    "# Definition for a binary tree node.\n",
    "# class TreeNode:\n",
    "#     def __init__(self, val=0, left=None, right=None):\n",
    "#         self.val = val\n",
    "#         self.left = left\n",
    "#         self.right = right\n",
    "class Solution:\n",
    "    def maxDepth(self, root: Optional[TreeNode]) -> int:\n",
    "        res= 0\n",
    "        stack = [ [root, 1] ]\n",
    "\n",
    "        while stack:\n",
    "            print(stack)\n",
    "            node, depth = stack.pop()\n",
    "            \n",
    "            if node: # this will filter any None nodes and will not allow to wrongly increase the res\n",
    "                stack.append([node.left, depth+1])\n",
    "                stack.append([node.right, depth+1])\n",
    "                res = max(res, depth) # use this to keep track of the max result\n",
    "                print(res)\n",
    "        return res"
   ]
  },
  {
   "cell_type": "markdown",
   "metadata": {},
   "source": [
    "---"
   ]
  },
  {
   "cell_type": "markdown",
   "metadata": {},
   "source": [
    "Validate a Binary Search Tree: https://leetcode.com/problems/validate-binary-search-tree/solutions/"
   ]
  },
  {
   "cell_type": "code",
   "execution_count": null,
   "metadata": {},
   "outputs": [],
   "source": [
    "# Recursion way\n",
    "# Definition for a binary tree node.\n",
    "# class TreeNode:\n",
    "#     def __init__(self, val=0, left=None, right=None):\n",
    "#         self.val = val\n",
    "#         self.left = left\n",
    "#         self.right = right\n",
    "class Solution:\n",
    "    def isValidBST(self, root: Optional[TreeNode]) -> bool:\n",
    "        \n",
    "        def validate(node, lower_limit = -math.inf, upper_limit = math.inf):\n",
    "            if node is None:\n",
    "                return True\n",
    "\n",
    "            elif node.val <= lower_limit or node.val >= upper_limit:\n",
    "                return False\n",
    "            print(lower_limit)\n",
    "            return (validate(node.left, lower_limit, node.val) and validate(node.right, node.val,upper_limit))\n",
    "\n",
    "        return validate(root)\n",
    "\n",
    "\n"
   ]
  },
  {
   "cell_type": "code",
   "execution_count": null,
   "metadata": {},
   "outputs": [],
   "source": [
    "# Using a stack\n",
    "# Definition for a binary tree node.\n",
    "# class TreeNode:\n",
    "#     def __init__(self, val=0, left=None, right=None):\n",
    "#         self.val = val\n",
    "#         self.left = left\n",
    "#         self.right = right\n",
    "class Solution:\n",
    "    def isValidBST(self, root: Optional[TreeNode]) -> bool:\n",
    "        if root is None:\n",
    "            return True\n",
    "        \n",
    "        stack = [ [root, -math.inf, math.inf]  ]\n",
    "\n",
    "        while stack:\n",
    "            \n",
    "            node, low, high = stack.pop()\n",
    "            if node is None:\n",
    "                continue\n",
    "\n",
    "            if (node.val >= high or node.val <= low):\n",
    "                return False\n",
    "\n",
    "            stack.append([node.left, low, node.val])\n",
    "            stack.append([node.right, node.val, high])\n",
    "        return True\n"
   ]
  },
  {
   "cell_type": "markdown",
   "metadata": {},
   "source": [
    "---"
   ]
  },
  {
   "cell_type": "markdown",
   "metadata": {},
   "source": [
    "Symmetric Tree: https://leetcode.com/problems/symmetric-tree/description/"
   ]
  },
  {
   "cell_type": "code",
   "execution_count": 4,
   "metadata": {},
   "outputs": [],
   "source": [
    "# Definition for a binary tree node.\n",
    "# class TreeNode:\n",
    "#     def __init__(self, val=0, left=None, right=None):\n",
    "#         self.val = val\n",
    "#         self.left = left\n",
    "#         self.right = right\n",
    "class Solution:\n",
    "    def isSymmetric(self, root: Optional[TreeNode]) -> bool:\n",
    "        \n",
    "        if root is None:\n",
    "            return True\n",
    "\n",
    "        return self.isMirror(root.left, root.right)\n",
    "\n",
    "    def isMirror(self, leftnode, rightnode):\n",
    "        \n",
    "        if leftnode and rightnode:\n",
    "            return leftnode.val == rightnode.val and self.isMirror(leftnode.left, rightnode.right) and self.isMirror(leftnode.right, rightnode.left)\n",
    "        else:\n",
    "            return leftnode == rightnode # this is activated when the leftnode or/and rightnode become None\n",
    "            # just check if they are equal, and you can use a .val since they could be None\n",
    "            "
   ]
  },
  {
   "cell_type": "markdown",
   "metadata": {},
   "source": [
    "---"
   ]
  },
  {
   "cell_type": "markdown",
   "metadata": {},
   "source": [
    "Binary Tree Level Order Traversal: https://leetcode.com/problems/binary-tree-level-order-traversal/description/"
   ]
  },
  {
   "cell_type": "code",
   "execution_count": null,
   "metadata": {},
   "outputs": [],
   "source": [
    "# \n",
    "# My attempt, WRONG because my dummy_stack splits the tree in its subtrees and doesnt keep it united\n",
    "# Thus splitting the resulting levels in half\n",
    "# Definition for a binary tree node.\n",
    "# class TreeNode:\n",
    "#     def __init__(self, val=0, left=None, right=None):\n",
    "#         self.val = val\n",
    "#         self.left = left\n",
    "#         self.right = right\n",
    "class Solution:\n",
    "    def levelOrder(self, root: Optional[TreeNode]) -> List[List[int]]:\n",
    "\n",
    "        if root is None:\n",
    "            return []\n",
    "\n",
    "        stack = [[root.val]]\n",
    "        dummy_stack = [[root]]\n",
    "        while dummy_stack: #this stack is used for removing and keeping track\n",
    "            node = dummy_stack.pop()[0]\n",
    "            level_length = len(dummy_stack)\n",
    "            if node is None:\n",
    "                continue\n",
    "\n",
    "            else:\n",
    "                if node.left and node.right: # I need a proper filter of Nones here\n",
    "                    stack.append([node.left.val, node.right.val])\n",
    "                if node.left and node.right is None:\n",
    "                    stack.append([node.left.val])\n",
    "                if node.right and node.left is None:\n",
    "                    stack.append([node.right.val])\n",
    "                \n",
    "                \n",
    "                dummy_stack.append([node.left])\n",
    "                dummy_stack.append([node.right])\n",
    "        # print(stack)\n",
    "        return stack\n",
    "\n",
    "# stack = [[1], [2,3] ]\n",
    "# dummy_stack = [ [1][2]  ] node = 3"
   ]
  },
  {
   "cell_type": "code",
   "execution_count": null,
   "metadata": {},
   "outputs": [],
   "source": [
    "# Correct method Approach: Iteration\n",
    "# Definition for a binary tree node.\n",
    "# class TreeNode:\n",
    "#     def __init__(self, val=0, left=None, right=None):\n",
    "#         self.val = val\n",
    "#         self.left = left\n",
    "#         self.right = right\n",
    "class Solution:\n",
    "    def levelOrder(self, root: Optional[TreeNode]) -> List[List[int]]:\n",
    "        level = 0\n",
    "        levels = []\n",
    "        if root is None:\n",
    "            return levels\n",
    "\n",
    "        queue = collections.deque([root])\n",
    "\n",
    "        while queue:\n",
    "            levels.append([]) # start the new level and append to it\n",
    "\n",
    "            level_length = len(queue)\n",
    "            for i in range(level_length):\n",
    "                node = queue.popleft()\n",
    "                \n",
    "                levels[level].append(node.val)\n",
    "\n",
    "                if node.left:\n",
    "                    queue.append(node.left)\n",
    "                if node.right:\n",
    "                    queue.append(node.right)\n",
    "                print(queue)\n",
    "            level+=1\n",
    "        return levels\n",
    "\n"
   ]
  },
  {
   "cell_type": "markdown",
   "metadata": {},
   "source": [
    "---"
   ]
  },
  {
   "cell_type": "markdown",
   "metadata": {},
   "source": [
    "Convert Sorted Array to Binary Search Tree: https://leetcode.com/problems/convert-sorted-array-to-binary-search-tree/description/"
   ]
  },
  {
   "cell_type": "code",
   "execution_count": null,
   "metadata": {},
   "outputs": [],
   "source": [
    "# MY ATTEMPT -> WRONG\n",
    "#  Definition for a binary tree node.\n",
    "# class TreeNode:\n",
    "#     def __init__(self, val=0, left=None, right=None):\n",
    "#         self.val = val\n",
    "#         self.left = left\n",
    "#         self.right = right\n",
    "class Solution:\n",
    "    def sortedArrayToBST(self, nums: List[int]) -> Optional[TreeNode]:\n",
    "        # use the fact that its sorted\n",
    "        # take the middle of the list and use that as the root\n",
    "        mid_index = (len(nums)-1)//2\n",
    "        print(nums[mid_index])\n",
    "        root = TreeNode(nums[mid_index])\n",
    "        # root.left = \n",
    "        root.right = TreeNode(nums[mid_index+1])\n",
    "\n",
    "\n",
    "        #build the left branch\n",
    "        left_branch = TreeNode(nums[0])\n",
    "        counter = \n",
    "        # root = root.left\n",
    "        for i in range(len(nums[:mid_index])):\n",
    "        #     print(nums[i])\n",
    "            left_branch.left = TreeNode(nums[i])\n",
    "            # left_branch = left_branch.left\n",
    "        print(left_branch)\n",
    "            # root = root.left\n",
    "        print(root)\n",
    "        \n"
   ]
  },
  {
   "cell_type": "code",
   "execution_count": 11,
   "metadata": {},
   "outputs": [
    {
     "data": {
      "text/plain": [
       "4"
      ]
     },
     "execution_count": 11,
     "metadata": {},
     "output_type": "execute_result"
    }
   ],
   "source": [
    "# CORRECT WAY USING RECURSION\n",
    "\n",
    "# Definition for a binary tree node.\n",
    "# class TreeNode:\n",
    "#     def __init__(self, val=0, left=None, right=None):\n",
    "#         self.val = val\n",
    "#         self.left = left\n",
    "#         self.right = right\n",
    "class Solution:\n",
    "    def sortedArrayToBST(self, nums: List[int]) -> Optional[TreeNode]:\n",
    "        def helper(l, r):\n",
    "            if l>r:\n",
    "                return None\n",
    "            m = (l+r)//2\n",
    "            root = TreeNode(nums[m])\n",
    "\n",
    "            root.left = helper(l, m-1)\n",
    "            root.right = helper(m+1, r)\n",
    "            return root\n",
    "        return helper(0, len(nums)-1)\n",
    "\n",
    "        # use the fact that its sorted\n",
    "        # take the middle of the list and use that as the root"
   ]
  },
  {
   "cell_type": "markdown",
   "metadata": {},
   "source": [
    "---"
   ]
  },
  {
   "cell_type": "markdown",
   "metadata": {},
   "source": [
    "NOT A LEETCODE QUESTION: Get the sum of all values in a BST"
   ]
  },
  {
   "cell_type": "code",
   "execution_count": null,
   "metadata": {},
   "outputs": [],
   "source": [
    "# My way\n",
    "# Definition for a binary tree node.\n",
    "# class TreeNode:\n",
    "#     def __init__(self, val=0, left=None, right=None):\n",
    "#         self.val = val\n",
    "#         self.left = left\n",
    "#         self.right = right\n",
    "class Solution:\n",
    "    def sum_values(self, root: Optional[TreeNode]) -> bool:\n",
    "        \n",
    "        all_values = []\n",
    "        stack = [root]\n",
    "        while stack:\n",
    "            node = stack.pop()\n",
    "            if node:\n",
    "                print(node)\n",
    "                stack.append(node.left)\n",
    "                stack.append(node.right)\n",
    "                all_values.append(node.val)\n",
    "                print(all_values)\n",
    "                # all_values.append(node.right.val)\n",
    "        print(sum(all_values))"
   ]
  },
  {
   "cell_type": "code",
   "execution_count": 3,
   "metadata": {},
   "outputs": [],
   "source": [
    "# CS Dojo way -> Recursion: https://www.youtube.com/watch?v=1-l_UOFi1Xw\n",
    "# class Node:\n",
    "#     def __init__(self, data):\n",
    "#         self.val = data\n",
    "#         self.left = None\n",
    "#         self.right = None\n",
    "\n",
    "def sum_values(root):\n",
    "    if root == None:\n",
    "        return 0\n",
    "    return root.val + sum_values(root.left) + sum_values(root.right)\n"
   ]
  },
  {
   "cell_type": "markdown",
   "metadata": {},
   "source": [
    "---"
   ]
  },
  {
   "cell_type": "markdown",
   "metadata": {},
   "source": [
    "Univalued Binary Tree: https://leetcode.com/problems/univalued-binary-tree/description/"
   ]
  },
  {
   "cell_type": "code",
   "execution_count": null,
   "metadata": {},
   "outputs": [],
   "source": [
    "# Definition for a binary tree node.\n",
    "# class TreeNode:\n",
    "#     def __init__(self, val=0, left=None, right=None):\n",
    "#         self.val = val\n",
    "#         self.left = left\n",
    "#         self.right = right\n",
    "class Solution:\n",
    "    def isUnivalTree(self, root: Optional[TreeNode]) -> bool:\n",
    "        \n",
    "\n",
    "        queue = collections.deque([root])\n",
    "        stack = set()\n",
    "        while queue:\n",
    "            node = queue.popleft()\n",
    "            if node is None:\n",
    "                continue\n",
    "            \n",
    "            stack.add(node.val)\n",
    "\n",
    "            if len(stack) > 1: # Add a checker here to immediately detect if we get something different\n",
    "                return False\n",
    "\n",
    "            if node.left:\n",
    "                queue.append(node.left)\n",
    "            if node.right:\n",
    "                queue.append(node.right)\n",
    "        return True\n",
    "        "
   ]
  },
  {
   "cell_type": "markdown",
   "metadata": {},
   "source": [
    "---"
   ]
  },
  {
   "cell_type": "markdown",
   "metadata": {},
   "source": [
    "Count Univalue Subtrees: https://leetcode.com/problems/count-univalue-subtrees/description/"
   ]
  },
  {
   "cell_type": "code",
   "execution_count": null,
   "metadata": {},
   "outputs": [],
   "source": [
    "# Definition for a binary tree node.\n",
    "# class TreeNode:\n",
    "#     def __init__(self, val=0, left=None, right=None):\n",
    "#         self.val = val\n",
    "#         self.left = left\n",
    "#         self.right = right\n",
    "class Solution:\n",
    "    def countUnivalSubtrees(self, root: Optional[TreeNode]) -> int:\n",
    "        if root is None:\n",
    "            return 0\n",
    "        \n",
    "        self.count = 0\n",
    "        self.is_uni(root)\n",
    "        return self.count\n",
    "\n",
    "    def is_uni(self, node):\n",
    "\n",
    "        if node.left is None and node.right is None:\n",
    "            self.count+=1\n",
    "            return True\n",
    "\n",
    "        is_uni = True # set this as default if we have no left and right\n",
    "\n",
    "        if node.left is not None:\n",
    "            is_uni = self.is_uni(node.left) and node.left.val == node.val\n",
    "        print(is_uni)\n",
    "        if node.right is not None:\n",
    "            is_uni = self.is_uni(node.right) and node.right.val == node.val and is_uni \n",
    "                                # The extra is_uni condition is added here \n",
    "                                # as we need to give it an answer if the left node was unival\n",
    "                                # if it was not with respect to the root, then right must also be False\n",
    "                                # so we prevent a artificial switch of the is_uni boolean and add \n",
    "                                # an extra count when we are not having a is_uni\n",
    "        print(\"2:\", is_uni)\n",
    "        self.count += is_uni\n",
    "\n",
    "        return is_uni"
   ]
  },
  {
   "cell_type": "markdown",
   "metadata": {},
   "source": [
    "---"
   ]
  },
  {
   "cell_type": "markdown",
   "metadata": {},
   "source": [
    "NOT LEETCODE, Code is a solution to the Count Unival Subtrees from question in here -> YOUTUBE https://www.youtube.com/watch?v=7HgsS8bRvjo"
   ]
  },
  {
   "cell_type": "code",
   "execution_count": null,
   "metadata": {},
   "outputs": [],
   "source": [
    "def is_unival(root):\n",
    "    if root is None:\n",
    "        return True\n",
    "    if root.left is not None and root.left.val != root.val:\n",
    "        return False\n",
    "    if root.right is not None and root.right.val != root.val:\n",
    "        return False\n",
    "\n",
    "    if is_unival(root.left) and is_unival(root.right):\n",
    "        return True  \n",
    "    return False\n",
    "\n",
    "def count_unival(root):\n",
    "    if root is None:\n",
    "        return 0\n",
    "    total_count = count_unival(root.left) + count_unival(root.right)\n",
    "    if is_unival(root):\n",
    "        total_count+=1\n",
    "    return total_count\n",
    "\n",
    "# But this has time complexity of O(n^2)"
   ]
  },
  {
   "cell_type": "code",
   "execution_count": null,
   "metadata": {},
   "outputs": [],
   "source": [
    "# Instead, let combine them\n",
    "def count_univals(root):\n",
    "    total_count, is_unival = helper(root)\n",
    "    return total_count\n",
    "\n",
    "def helper(root):\n",
    "    if root is None: return (0, True)\n",
    "\n",
    "    left_count, is_unival_left = helper(root.left)\n",
    "    right_count, is_unival_right = helper(root.right)\n",
    "\n",
    "    is_unival = True  # This keeps track for the root and if its a unival\n",
    "\n",
    "    if not is_unival_left or not is_unival_right:\n",
    "        is_unival = False\n",
    "\n",
    "    if root.left != None and root.left.val != root.val:\n",
    "        is_unival = False\n",
    "\n",
    "    if root.right != None and root.right.val != root.val:\n",
    "        is_unival = False\n",
    "\n",
    "    if is_unival:\n",
    "        return (left_count + right_count+1, True) # add the 1 to include the current root we are on\n",
    "    else:\n",
    "        return (left_count+right_count, False)"
   ]
  }
 ],
 "metadata": {
  "kernelspec": {
   "display_name": "Python 3",
   "language": "python",
   "name": "python3"
  },
  "language_info": {
   "codemirror_mode": {
    "name": "ipython",
    "version": 3
   },
   "file_extension": ".py",
   "mimetype": "text/x-python",
   "name": "python",
   "nbconvert_exporter": "python",
   "pygments_lexer": "ipython3",
   "version": "3.8.9 (default, Apr 13 2022, 08:48:06) \n[Clang 13.1.6 (clang-1316.0.21.2.5)]"
  },
  "orig_nbformat": 4,
  "vscode": {
   "interpreter": {
    "hash": "31f2aee4e71d21fbe5cf8b01ff0e069b9275f58929596ceb00d14d90e3e16cd6"
   }
  }
 },
 "nbformat": 4,
 "nbformat_minor": 2
}
