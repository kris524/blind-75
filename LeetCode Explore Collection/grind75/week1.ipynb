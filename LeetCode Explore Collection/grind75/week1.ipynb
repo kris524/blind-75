{
 "cells": [
  {
   "attachments": {},
   "cell_type": "markdown",
   "metadata": {},
   "source": [
    "---\n",
    "Valid Parentheses: https://leetcode.com/problems/valid-parentheses/"
   ]
  },
  {
   "cell_type": "code",
   "execution_count": null,
   "metadata": {},
   "outputs": [],
   "source": [
    "class Solution:\n",
    "    def isValid(self, s: str) -> bool:\n",
    "        stack = []\n",
    "        i = 0\n",
    "        while i < len(s):\n",
    "        # for i in s:\n",
    "            # print(i)\n",
    "            # stack.append(i)\n",
    "            stack.append(s[i])\n",
    "            # print(stack)\n",
    "            if len(stack)>=2:\n",
    "                if stack[-1] == \")\" and stack[-2] == \"(\":\n",
    "                    stack.pop()\n",
    "                    stack.pop()\n",
    "                    # i+=1\n",
    "                elif stack[-1] == \"}\" and stack[-2] == \"{\":\n",
    "                    stack.pop()\n",
    "                    stack.pop()\n",
    "                    # i+=1\n",
    "                elif stack[-1] == \"]\" and stack[-2] == \"[\":\n",
    "                    stack.pop()\n",
    "                    stack.pop()\n",
    "            else:\n",
    "                i+=1\n",
    "                continue\n",
    "                \n",
    "            i+=1\n",
    "            \n",
    "        # print(stack)\n",
    "        return stack == []"
   ]
  },
  {
   "cell_type": "code",
   "execution_count": null,
   "metadata": {},
   "outputs": [],
   "source": []
  }
 ],
 "metadata": {
  "kernelspec": {
   "display_name": "Python 3",
   "language": "python",
   "name": "python3"
  },
  "language_info": {
   "name": "python",
   "version": "3.10.3 (v3.10.3:a342a49189, Mar 16 2022, 09:34:18) [Clang 13.0.0 (clang-1300.0.29.30)]"
  },
  "orig_nbformat": 4,
  "vscode": {
   "interpreter": {
    "hash": "aee8b7b246df8f9039afb4144a1f6fd8d2ca17a180786b69acc140d282b71a49"
   }
  }
 },
 "nbformat": 4,
 "nbformat_minor": 2
}
