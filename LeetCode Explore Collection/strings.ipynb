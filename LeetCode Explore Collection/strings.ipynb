{
 "cells": [
  {
   "cell_type": "markdown",
   "metadata": {},
   "source": [
    "Valid Sudoku: https://leetcode.com/problems/valid-sudoku/"
   ]
  },
  {
   "cell_type": "code",
   "execution_count": 1,
   "metadata": {},
   "outputs": [],
   "source": [
    "import collections\n",
    "\n",
    "def isValidSudoku(board):\n",
    "    #detect duplicates with a HashSet\n",
    "    #here the key is going to be the column number and the value is going to be another set\n",
    "    #the set is going to be the values in the column\n",
    "    cols = collections.defaultdict(set) \n",
    "    #the thing inside the brackets tells you in what DS we place the vale in\n",
    "    #make the same one for the rows\n",
    "    rows = collections.defaultdict(set)\n",
    "    #make for the squares as well\n",
    "    squares = collections.defaultdict(set) #key = (r//3, c//3)\n",
    "\n",
    "    for r in range(len(board)):\n",
    "        for c in range(len(board)):\n",
    "            if board[r][c] == \".\":\n",
    "                continue\n",
    "            if board[r][c] in cols[c] or board[r][c] in rows[r] or board[r][c] in squares[(r//3, c//3)]:\n",
    "                return False\n",
    "            else:\n",
    "                cols[c].add(board[r][c])\n",
    "                rows[r].add(board[r][c])\n",
    "                squares[(r//3, c//3)].add(board[r][c])\n",
    "    return True"
   ]
  },
  {
   "cell_type": "markdown",
   "metadata": {},
   "source": [
    "Reverse Integer: https://leetcode.com/problems/reverse-integer/"
   ]
  },
  {
   "cell_type": "code",
   "execution_count": 2,
   "metadata": {},
   "outputs": [],
   "source": [
    "def reverse(x):\n",
    "    if x < -2**31 or x > ((2**31) - 1): return 0\n",
    "    elif x>=0:\n",
    "        a = str(x)\n",
    "        a = a[::-1]\n",
    "        # return int(a)\n",
    "        print(int(a)) \n",
    "    elif x<0:\n",
    "        a = str(x)\n",
    "        sign, number = a[0], a[1:]\n",
    "        number = number[::-1]\n",
    "        final_number = sign+number\n",
    "        # return int(final_number)\n",
    "        print(int(final_number))\n",
    "    \n",
    "        \n"
   ]
  },
  {
   "cell_type": "markdown",
   "metadata": {},
   "source": [
    "First Unique Character in a String: https://leetcode.com/problems/first-unique-character-in-a-string/solution/"
   ]
  },
  {
   "cell_type": "code",
   "execution_count": 13,
   "metadata": {},
   "outputs": [],
   "source": [
    "def firstUniqChar(s):\n",
    "    seen = set()\n",
    "    s_list = list(s)\n",
    "    for i in range(len(s_list)):\n",
    "        print(s[i])\n",
    "        print(s[i+1:])\n",
    "        if not s[i] in s[i+1:] and s[i] not in seen:\n",
    "            return i\n",
    "        else:\n",
    "            seen.add(s[i])\n",
    "    return -1"
   ]
  },
  {
   "cell_type": "code",
   "execution_count": 15,
   "metadata": {},
   "outputs": [
    {
     "name": "stdout",
     "output_type": "stream",
     "text": [
      "l\n",
      "eetcode\n"
     ]
    },
    {
     "data": {
      "text/plain": [
       "0"
      ]
     },
     "execution_count": 15,
     "metadata": {},
     "output_type": "execute_result"
    }
   ],
   "source": [
    "firstUniqChar(\"leetcode\")"
   ]
  },
  {
   "cell_type": "code",
   "execution_count": 21,
   "metadata": {},
   "outputs": [],
   "source": [
    "from collections import Counter\n",
    "def firstUniqChar2(s):\n",
    "    s_list = list(s)\n",
    "    s_dict = Counter(s_list)\n",
    "    print(s_dict)\n",
    "\n",
    "    for i in range(len(s_list)):\n",
    "        if s_dict [s_list[i]] == 1:\n",
    "            return i\n",
    "    return -1\n"
   ]
  },
  {
   "cell_type": "code",
   "execution_count": 22,
   "metadata": {},
   "outputs": [
    {
     "name": "stdout",
     "output_type": "stream",
     "text": [
      "Counter({'e': 4, 'l': 2, 'o': 2, 'v': 1, 't': 1, 'c': 1, 'd': 1})\n"
     ]
    },
    {
     "data": {
      "text/plain": [
       "2"
      ]
     },
     "execution_count": 22,
     "metadata": {},
     "output_type": "execute_result"
    }
   ],
   "source": [
    "firstUniqChar2(\"loveleetcode\")"
   ]
  },
  {
   "cell_type": "markdown",
   "metadata": {},
   "source": [
    "Valid Anagram: https://leetcode.com/problems/valid-anagram/"
   ]
  },
  {
   "cell_type": "code",
   "execution_count": 30,
   "metadata": {},
   "outputs": [],
   "source": [
    "from collections import Counter\n",
    "def isAnagram(s, t):\n",
    "    s_dict = Counter(list(s))\n",
    "    t_dict = Counter(list(t))\n",
    "    if s_dict == t_dict: return True \n",
    "    else: return False"
   ]
  },
  {
   "cell_type": "code",
   "execution_count": 31,
   "metadata": {},
   "outputs": [
    {
     "data": {
      "text/plain": [
       "False"
      ]
     },
     "execution_count": 31,
     "metadata": {},
     "output_type": "execute_result"
    }
   ],
   "source": [
    "isAnagram(\"anagradm\", t = \"nagaram\")"
   ]
  },
  {
   "cell_type": "markdown",
   "metadata": {},
   "source": [
    "Valid Palindrome: https://leetcode.com/problems/valid-palindrome/"
   ]
  },
  {
   "cell_type": "code",
   "execution_count": null,
   "metadata": {},
   "outputs": [],
   "source": [
    "import string\n",
    "def isPalindrome(s):\n",
    "        \n",
    "    s = s.translate(str.maketrans('', '', string.punctuation))\n",
    "    s= s.replace(\" \", \"\")\n",
    "    s = s.lower()\n",
    "    return s == s[::-1]"
   ]
  },
  {
   "cell_type": "markdown",
   "metadata": {},
   "source": [
    "String to Integer (atoi): https://leetcode.com/problems/string-to-integer-atoi/"
   ]
  },
  {
   "cell_type": "code",
   "execution_count": 148,
   "metadata": {},
   "outputs": [],
   "source": [
    "class Solution:\n",
    "    def myAtoi(self, s: str) -> int:\n",
    "        MAX_INT = 2**31 - 1\n",
    "        MIN_INT = -2**31\n",
    "        i = 0\n",
    "        res = 0\n",
    "        sign = 1 #this is the sign of the integer \n",
    "        \n",
    "        #whitespace\n",
    "        s = s.strip()\n",
    "        # while i<len(s) and s[i] == \" \":\n",
    "        #     i+=1\n",
    "            \n",
    "        #check for +/- symbol\n",
    "        if i<len(s) and s[i] == \"-\":\n",
    "            i+=1\n",
    "            sign =-1\n",
    "        elif i<len(s) and s[i] ==\"+\":\n",
    "            i+=1\n",
    "            \n",
    "        #check for number between 0-9\n",
    "        checker = set('0123456789')\n",
    "        while i<len(s) and s[i] in checker:\n",
    "             \n",
    "            # if res > MAX_INT/10 or (res == MAX_INT/10 and int(s[i])>7):\n",
    "                # return MAX_INT if sign == 1 else MIN_INT\n",
    "            \n",
    "            res = res*10 + int(s[i]) #slowly build up the res to capture all the numbers, currently we allow it to overflow\n",
    "            i+=1\n",
    "            \n",
    "        res = res * sign\n",
    "        \n",
    "        #check max/min\n",
    "        if res>MAX_INT:\n",
    "            return MAX_INT\n",
    "        elif res<MIN_INT:\n",
    "            return MIN_INT\n",
    "        else:\n",
    "            return res\n",
    "        \n",
    "            \n",
    "           "
   ]
  },
  {
   "cell_type": "code",
   "execution_count": null,
   "metadata": {},
   "outputs": [],
   "source": []
  },
  {
   "cell_type": "code",
   "execution_count": null,
   "metadata": {},
   "outputs": [],
   "source": []
  }
 ],
 "metadata": {
  "kernelspec": {
   "display_name": "Python 3.10.3 64-bit",
   "language": "python",
   "name": "python3"
  },
  "language_info": {
   "codemirror_mode": {
    "name": "ipython",
    "version": 3
   },
   "file_extension": ".py",
   "mimetype": "text/x-python",
   "name": "python",
   "nbconvert_exporter": "python",
   "pygments_lexer": "ipython3",
   "version": "3.10.3"
  },
  "orig_nbformat": 4,
  "vscode": {
   "interpreter": {
    "hash": "aee8b7b246df8f9039afb4144a1f6fd8d2ca17a180786b69acc140d282b71a49"
   }
  }
 },
 "nbformat": 4,
 "nbformat_minor": 2
}
