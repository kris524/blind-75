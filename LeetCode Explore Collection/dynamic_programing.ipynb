{
 "cells": [
  {
   "attachments": {},
   "cell_type": "markdown",
   "metadata": {},
   "source": [
    "Climbing Stairs: https://leetcode.com/problems/climbing-stairs/description/"
   ]
  },
  {
   "cell_type": "code",
   "execution_count": null,
   "metadata": {},
   "outputs": [],
   "source": [
    "class Solution:\n",
    "    def climbStairs(self, n: int) -> int:\n",
    "       one, two = 1, 1\n",
    "       for i in range(n-1):\n",
    "            temp = one\n",
    "            one = one + two\n",
    "            two = temp\n",
    "       return one"
   ]
  },
  {
   "cell_type": "code",
   "execution_count": 4,
   "metadata": {},
   "outputs": [
    {
     "name": "stdout",
     "output_type": "stream",
     "text": [
      "[0, 1, 2]\n"
     ]
    }
   ],
   "source": [
    "class Solution:\n",
    "    def climbStairs2(self, n: int) -> int:\n",
    "\n",
    "        dp = [0 for i in range(n+1)]\n",
    "        dp[0] = 1 # step 0\n",
    "        dp[1] = 1 # step 1\n",
    "        for i in range(2, n+1): #from step 2 onwards\n",
    "            dp[i] = dp[i-1] + dp[i-2] # for step 2 (i=2), we have 2 ways\n",
    "        print(dp)\n",
    "        return dp[n]"
   ]
  },
  {
   "attachments": {},
   "cell_type": "markdown",
   "metadata": {},
   "source": [
    "---\n",
    "121. Best Time to Buy and Sell Stock: https://leetcode.com/problems/best-time-to-buy-and-sell-stock/description/"
   ]
  },
  {
   "cell_type": "code",
   "execution_count": 24,
   "metadata": {},
   "outputs": [],
   "source": [
    "def maxProfit(prices):\n",
    "    max_profit = 0\n",
    "\n",
    "    for i in range(len(prices)):\n",
    "        for j in range(i+1, len(prices)):\n",
    "            # print(prices[j])\n",
    "            # if prices[j] - prices[i]>0:\n",
    "            #     diff = prices[j] - prices[i]\n",
    "                \n",
    "            # print('diff:', diff)\n",
    "            # print(max_profit)\n",
    "            if prices[j] - prices[i]>0 and prices[j] - prices[i] > max_profit:\n",
    "                max_profit = prices[j] - prices[i]\n",
    "\n",
    "    return max_profit"
   ]
  },
  {
   "cell_type": "code",
   "execution_count": null,
   "metadata": {},
   "outputs": [],
   "source": [
    "class Solution:\n",
    "    def maxProfit(self, prices: List[int]) -> int:\n",
    "        l, r = 0, 1\n",
    "        max_profit = 0\n",
    "        while r < len(prices):\n",
    "            print(prices[r] -  prices[l])\n",
    "            if prices[l] < prices[r]:\n",
    "                if prices[r] -  prices[l] > max_profit:\n",
    "                    max_profit = prices[r]- prices[l]\n",
    "\n",
    "            else:\n",
    "                l = r\n",
    "            r+=1\n",
    "\n",
    "        return max_profit"
   ]
  },
  {
   "cell_type": "code",
   "execution_count": null,
   "metadata": {},
   "outputs": [],
   "source": [
    "class Solution:\n",
    "    def maxProfit2(self, prices: List[int]) -> int:\n",
    "        min_price = float('inf')\n",
    "        max_profit = 0\n",
    "        \n",
    "        for i in range(len(prices)):\n",
    "            if prices[i] < min_price:\n",
    "                min_price = prices[i]\n",
    "                \n",
    "            elif prices[i] - min_price > max_profit:\n",
    "                max_profit = prices[i] - min_price\n",
    "        \n",
    "        return max_profit"
   ]
  },
  {
   "attachments": {},
   "cell_type": "markdown",
   "metadata": {},
   "source": [
    "---\n",
    "Maximum Subarray: https://leetcode.com/explore/interview/card/top-interview-questions-easy/97/dynamic-programming/566/"
   ]
  },
  {
   "cell_type": "code",
   "execution_count": null,
   "metadata": {},
   "outputs": [],
   "source": [
    "class Solution:\n",
    "    def maxSubArray(self, nums: List[int]) -> int:\n",
    "        curSum = 0\n",
    "        maxed = nums[0]\n",
    "        for n in nums:\n",
    "            if curSum + n < n:\n",
    "                curSum = n\n",
    "            else:\n",
    "                curSum+=n\n",
    "\n",
    "            maxed = max(maxed, curSum)\n",
    "        return maxed\n"
   ]
  }
 ],
 "metadata": {
  "kernelspec": {
   "display_name": "Python 3",
   "language": "python",
   "name": "python3"
  },
  "language_info": {
   "codemirror_mode": {
    "name": "ipython",
    "version": 3
   },
   "file_extension": ".py",
   "mimetype": "text/x-python",
   "name": "python",
   "nbconvert_exporter": "python",
   "pygments_lexer": "ipython3",
   "version": "3.10.3"
  },
  "orig_nbformat": 4,
  "vscode": {
   "interpreter": {
    "hash": "aee8b7b246df8f9039afb4144a1f6fd8d2ca17a180786b69acc140d282b71a49"
   }
  }
 },
 "nbformat": 4,
 "nbformat_minor": 2
}
