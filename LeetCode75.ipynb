{
 "cells": [
  {
   "cell_type": "markdown",
   "metadata": {},
   "source": [
    "Running Sum: https://leetcode.com/problems/running-sum-of-1d-array/?envType=study-plan&id=level-1"
   ]
  },
  {
   "cell_type": "code",
   "execution_count": 3,
   "metadata": {},
   "outputs": [],
   "source": [
    "def solution(nums):\n",
    "    new_list = []\n",
    "    for i in range(len(nums)):\n",
    "        value = sum(nums[:i+1])\n",
    "        new_list.append(value)\n",
    "    print(new_list)"
   ]
  },
  {
   "cell_type": "code",
   "execution_count": 4,
   "metadata": {},
   "outputs": [
    {
     "name": "stdout",
     "output_type": "stream",
     "text": [
      "[1, 3, 6, 10]\n"
     ]
    }
   ],
   "source": [
    "solution([1,2,3,4])"
   ]
  },
  {
   "cell_type": "code",
   "execution_count": 26,
   "metadata": {},
   "outputs": [],
   "source": [
    "def pivotIndex( nums) -> int:\n",
    "    for i in range(len(nums)):\n",
    "        # print(sum(nums[:i]))\n",
    "        # print(sum(nums[i+1:]))\n",
    "        if sum(nums[:i]) == sum(nums[i+1:]):\n",
    "            return i\n",
    "    return -1"
   ]
  },
  {
   "cell_type": "code",
   "execution_count": 27,
   "metadata": {},
   "outputs": [
    {
     "name": "stdout",
     "output_type": "stream",
     "text": [
      "3\n"
     ]
    },
    {
     "data": {
      "text/plain": [
       "-1"
      ]
     },
     "execution_count": 27,
     "metadata": {},
     "output_type": "execute_result"
    }
   ],
   "source": [
    "pivotIndex([1,7,3,6,5,6])"
   ]
  },
  {
   "cell_type": "code",
   "execution_count": 17,
   "metadata": {},
   "outputs": [
    {
     "data": {
      "text/plain": [
       "([1, 7, 3], [6, 5, 6])"
      ]
     },
     "execution_count": 17,
     "metadata": {},
     "output_type": "execute_result"
    }
   ],
   "source": [
    "class Solution:\n",
    "    def pivotIndex(self, nums: List[int]) -> int:\n",
    "    \n",
    "        leftSum, rightSum = 0, sum(nums)\n",
    "       \n",
    "        for idx, ele in enumerate(nums):\n",
    "            rightSum -= ele\n",
    "            \n",
    "            if leftSum == rightSum:\n",
    "                return idx      # Return the pivot index...\n",
    "            leftSum += ele\n",
    "        return -1  \n",
    "\n",
    "            \n",
    "            "
   ]
  },
  {
   "cell_type": "markdown",
   "metadata": {},
   "source": [
    "Valid Sudoku: https://leetcode.com/problems/valid-sudoku/"
   ]
  },
  {
   "cell_type": "code",
   "execution_count": null,
   "metadata": {},
   "outputs": [],
   "source": [
    "import collections\n",
    "\n",
    "def isValidSudoku(board):\n",
    "    #detect duplicates with a HashSet\n",
    "    #here the key is going to be the column number and the value is going to be another set\n",
    "    #the set is going to be the values in the column\n",
    "    cols = collections.defaultdict(set) \n",
    "    #the thing inside the brackets tells you in what DS we place the vale in\n",
    "    #make the same one for the rows\n",
    "    rows = collections.defaultdict(set)\n",
    "    #make for the squares as well\n",
    "    squares = collections.defaultdict(set) #key = (r//3, c//3)\n",
    "\n",
    "    for r in range(9):\n",
    "        for c in range(9):\n",
    "            if board[r][c] == '.':\n",
    "                continue\n",
    "            if (board[r][c] in rows[r] or board[r][c] in cols[c] or board[r][c] in squares[(r//3, c//3)]):\n",
    "                return False\n",
    "            cols[c].add(board[r][c])\n",
    "            rows[r].add(board[r][c])\n",
    "            squares[(r//3, c//3)].add(board[r][c])\n",
    "    return True\n",
    "                #add the element to all - row, col and square"
   ]
  },
  {
   "cell_type": "code",
   "execution_count": null,
   "metadata": {},
   "outputs": [],
   "source": [
    "somedict = {}\n",
    "# print(somedict[3]) # KeyError\n",
    "import collections\n",
    "someddict = collections.defaultdict(int)\n",
    "\n",
    "print(someddict[3]) # print int(), thus 0\n",
    "someddict[4] = 5\n",
    "print(someddict.items())"
   ]
  },
  {
   "cell_type": "markdown",
   "metadata": {},
   "source": [
    "3Sum: https://leetcode.com/problems/3sum/"
   ]
  },
  {
   "cell_type": "code",
   "execution_count": 36,
   "metadata": {},
   "outputs": [],
   "source": [
    "def threeSum(nums):\n",
    "    #Time Complexity: O(n^2), Space is either O(1) or O(n)\n",
    "    nums = sorted(nums) #sorting can take some space\n",
    "    grand_list = []\n",
    "    print(nums)\n",
    "    for i in range(len(nums)):\n",
    "        #dont want to reuse the same value, you want to continue\n",
    "        if i > 0 and nums[i] == nums[i - 1]:\n",
    "                continue\n",
    "        j = i+1\n",
    "        k = len(nums)-1\n",
    "        while j < k:\n",
    "            print(nums[j],nums[k] )\n",
    "            print(\"enter\")\n",
    "            diff = nums[i]+ nums[j]+ nums[k]\n",
    "            if diff < 0:\n",
    "                j+=1\n",
    "            elif diff > 0:\n",
    "                k-=1\n",
    "            else:\n",
    "\n",
    "                grand_list.append([nums[i], nums[j], nums[k]])\n",
    "                j+=1\n",
    "                #\n",
    "                while nums[j] == nums[j - 1] and j < k:\n",
    "                    j += 1\n",
    "                \n",
    "\n",
    "    print(grand_list)"
   ]
  },
  {
   "cell_type": "code",
   "execution_count": 37,
   "metadata": {},
   "outputs": [
    {
     "name": "stdout",
     "output_type": "stream",
     "text": [
      "[-4, -1, -1, 0, 1, 2]\n",
      "0\n",
      "-4 2\n",
      "---------------\n",
      "-1 2\n",
      "enter\n",
      "-1 2\n",
      "enter\n",
      "0 2\n",
      "enter\n",
      "1 2\n",
      "enter\n",
      "1\n",
      "-1 -4\n",
      "---------------\n",
      "-1 2\n",
      "enter\n",
      "0 2\n",
      "enter\n",
      "0 1\n",
      "enter\n",
      "2\n",
      "-1 -1\n",
      "---------------\n",
      "3\n",
      "0 -1\n",
      "---------------\n",
      "1 2\n",
      "enter\n",
      "4\n",
      "1 0\n",
      "---------------\n",
      "5\n",
      "2 1\n",
      "---------------\n",
      "[[-1, -1, 2], [-1, 0, 1]]\n"
     ]
    }
   ],
   "source": [
    "threeSum([-1,0,1,2,-1,-4])"
   ]
  },
  {
   "cell_type": "code",
   "execution_count": null,
   "metadata": {},
   "outputs": [],
   "source": [
    "class Solution:\n",
    "    def threeSum(self, nums: List[int]) -> List[List[int]]:\n",
    "        res = []\n",
    "        nums.sort()\n",
    "\n",
    "        for i, a in enumerate(nums):\n",
    "            if i > 0 and a == nums[i - 1]:\n",
    "                continue\n",
    "\n",
    "            l, r = i + 1, len(nums) - 1\n",
    "            while l < r:\n",
    "                threeSum = a + nums[l] + nums[r]\n",
    "                if threeSum > 0:\n",
    "                    r -= 1\n",
    "                elif threeSum < 0:\n",
    "                    l += 1\n",
    "                else:\n",
    "                    res.append([a, nums[l], nums[r]])\n",
    "                    l += 1\n",
    "                    while nums[l] == nums[l - 1] and l < r:\n",
    "                        l += 1\n",
    "        return res"
   ]
  },
  {
   "attachments": {},
   "cell_type": "markdown",
   "metadata": {},
   "source": [
    "---\n",
    "Add Two Numbers: https://leetcode.com/problems/add-two-numbers/description/"
   ]
  },
  {
   "cell_type": "code",
   "execution_count": null,
   "metadata": {},
   "outputs": [],
   "source": [
    "# Definition for singly-linked list.\n",
    "# class ListNode:\n",
    "#     def __init__(self, val=0):\n",
    "#         self.val = val\n",
    "#         self.next = None\n",
    "class Solution:\n",
    "    def addTwoNumbers(self, l1: Optional[ListNode], l2: Optional[ListNode]) -> Optional[ListNode]:\n",
    "        reverse_l1 =  self.reverse(l1)\n",
    "        reverse_l2 = self.reverse(l2)\n",
    "        reverse_l1_str =\"\"\n",
    "        reverse_l2_str =\"\"\n",
    "\n",
    "        while reverse_l2:\n",
    "            reverse_l2_str += str(reverse_l2.val)\n",
    "            reverse_l2 = reverse_l2.next\n",
    "\n",
    "        while reverse_l1:\n",
    "            reverse_l1_str += str(reverse_l1.val)\n",
    "            reverse_l1 = reverse_l1.next\n",
    "        \n",
    "        value = int(reverse_l2_str) + int(reverse_l1_str)\n",
    "\n",
    "        cur = dummy = ListNode(-1)\n",
    "        for i in str(value)[::-1]:\n",
    "\n",
    "            cur.next = ListNode(int(i))\n",
    "            cur = cur.next\n",
    "            \n",
    "        return dummy.next\n",
    "\n",
    "    def reverse(self,l1):\n",
    "        \n",
    "        curr = l1\n",
    "        prev = None\n",
    "        while curr:\n",
    "            temp = curr.next\n",
    "            curr.next = prev\n",
    "            prev = curr\n",
    "            curr = temp\n",
    "        return prev\n",
    "\n"
   ]
  }
 ],
 "metadata": {
  "kernelspec": {
   "display_name": "Python 3.8.9 64-bit",
   "language": "python",
   "name": "python3"
  },
  "language_info": {
   "codemirror_mode": {
    "name": "ipython",
    "version": 3
   },
   "file_extension": ".py",
   "mimetype": "text/x-python",
   "name": "python",
   "nbconvert_exporter": "python",
   "pygments_lexer": "ipython3",
   "version": "3.8.9"
  },
  "orig_nbformat": 4,
  "vscode": {
   "interpreter": {
    "hash": "31f2aee4e71d21fbe5cf8b01ff0e069b9275f58929596ceb00d14d90e3e16cd6"
   }
  }
 },
 "nbformat": 4,
 "nbformat_minor": 2
}
