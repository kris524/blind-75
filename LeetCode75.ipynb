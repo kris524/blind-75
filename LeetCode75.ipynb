{
 "cells": [
  {
   "cell_type": "markdown",
   "metadata": {},
   "source": [
    "Running Sum: https://leetcode.com/problems/running-sum-of-1d-array/?envType=study-plan&id=level-1"
   ]
  },
  {
   "cell_type": "code",
   "execution_count": 3,
   "metadata": {},
   "outputs": [],
   "source": [
    "def solution(nums):\n",
    "    new_list = []\n",
    "    for i in range(len(nums)):\n",
    "        value = sum(nums[:i+1])\n",
    "        new_list.append(value)\n",
    "    print(new_list)"
   ]
  },
  {
   "cell_type": "code",
   "execution_count": 4,
   "metadata": {},
   "outputs": [
    {
     "name": "stdout",
     "output_type": "stream",
     "text": [
      "[1, 3, 6, 10]\n"
     ]
    }
   ],
   "source": [
    "solution([1,2,3,4])"
   ]
  },
  {
   "cell_type": "code",
   "execution_count": 26,
   "metadata": {},
   "outputs": [],
   "source": [
    "def pivotIndex( nums) -> int:\n",
    "    for i in range(len(nums)):\n",
    "        # print(sum(nums[:i]))\n",
    "        # print(sum(nums[i+1:]))\n",
    "        if sum(nums[:i]) == sum(nums[i+1:]):\n",
    "            return i\n",
    "    return -1"
   ]
  },
  {
   "cell_type": "code",
   "execution_count": 27,
   "metadata": {},
   "outputs": [
    {
     "name": "stdout",
     "output_type": "stream",
     "text": [
      "3\n"
     ]
    },
    {
     "data": {
      "text/plain": [
       "-1"
      ]
     },
     "execution_count": 27,
     "metadata": {},
     "output_type": "execute_result"
    }
   ],
   "source": [
    "pivotIndex([1,7,3,6,5,6])"
   ]
  },
  {
   "cell_type": "code",
   "execution_count": 17,
   "metadata": {},
   "outputs": [
    {
     "data": {
      "text/plain": [
       "([1, 7, 3], [6, 5, 6])"
      ]
     },
     "execution_count": 17,
     "metadata": {},
     "output_type": "execute_result"
    }
   ],
   "source": [
    "class Solution:\n",
    "    def pivotIndex(self, nums: List[int]) -> int:\n",
    "    \n",
    "        leftSum, rightSum = 0, sum(nums)\n",
    "       \n",
    "        for idx, ele in enumerate(nums):\n",
    "            rightSum -= ele\n",
    "            \n",
    "            if leftSum == rightSum:\n",
    "                return idx      # Return the pivot index...\n",
    "            leftSum += ele\n",
    "        return -1  \n",
    "\n",
    "            \n",
    "            "
   ]
  },
  {
   "cell_type": "markdown",
   "metadata": {},
   "source": [
    "Valid Sudoku: https://leetcode.com/problems/valid-sudoku/"
   ]
  },
  {
   "cell_type": "code",
   "execution_count": null,
   "metadata": {},
   "outputs": [],
   "source": [
    "import collections\n",
    "\n",
    "def isValidSudoku(board):\n",
    "    #detect duplicates with a HashSet\n",
    "    #here the key is going to be the column number and the value is going to be another set\n",
    "    #the set is going to be the values in the column\n",
    "    cols = collections.defaultdict(set) \n",
    "    #the thing inside the brackets tells you in what DS we place the vale in\n",
    "    #make the same one for the rows\n",
    "    rows = collections.defaultdict(set)\n",
    "    #make for the squares as well\n",
    "    squares = collections.defaultdict(set) #key = (r//3, c//3)\n",
    "\n",
    "    for r in range(9):\n",
    "        for c in range(9):\n",
    "            if board[r][c] == '.':\n",
    "                continue\n",
    "            if (board[r][c] in rows[r] or board[r][c] in cols[c] or board[r][c] in squares[(r//3, c//3)]):\n",
    "                return False\n",
    "            cols[c].add(board[r][c])\n",
    "            rows[r].add(board[r][c])\n",
    "            squares[(r//3, c//3)].add(board[r][c])\n",
    "    return True\n",
    "                #add the element to all - row, col and square"
   ]
  },
  {
   "cell_type": "code",
   "execution_count": null,
   "metadata": {},
   "outputs": [],
   "source": [
    "somedict = {}\n",
    "# print(somedict[3]) # KeyError\n",
    "import collections\n",
    "someddict = collections.defaultdict(int)\n",
    "\n",
    "print(someddict[3]) # print int(), thus 0\n",
    "someddict[4] = 5\n",
    "print(someddict.items())"
   ]
  },
  {
   "cell_type": "markdown",
   "metadata": {},
   "source": [
    "3Sum: https://leetcode.com/problems/3sum/"
   ]
  },
  {
   "cell_type": "code",
   "execution_count": 36,
   "metadata": {},
   "outputs": [],
   "source": [
    "def threeSum(nums):\n",
    "    #Time Complexity: O(n^2), Space is either O(1) or O(n)\n",
    "    nums = sorted(nums) #sorting can take some space\n",
    "    grand_list = []\n",
    "    print(nums)\n",
    "    for i in range(len(nums)):\n",
    "        #dont want to reuse the same value, you want to continue\n",
    "        if i > 0 and nums[i] == nums[i - 1]:\n",
    "                continue\n",
    "        j = i+1\n",
    "        k = len(nums)-1\n",
    "        while j < k:\n",
    "            print(nums[j],nums[k] )\n",
    "            print(\"enter\")\n",
    "            diff = nums[i]+ nums[j]+ nums[k]\n",
    "            if diff < 0:\n",
    "                j+=1\n",
    "            elif diff > 0:\n",
    "                k-=1\n",
    "            else:\n",
    "\n",
    "                grand_list.append([nums[i], nums[j], nums[k]])\n",
    "                j+=1\n",
    "                #\n",
    "                while nums[j] == nums[j - 1] and j < k:\n",
    "                    j += 1\n",
    "                \n",
    "\n",
    "    print(grand_list)"
   ]
  },
  {
   "cell_type": "code",
   "execution_count": 37,
   "metadata": {},
   "outputs": [
    {
     "name": "stdout",
     "output_type": "stream",
     "text": [
      "[-4, -1, -1, 0, 1, 2]\n",
      "0\n",
      "-4 2\n",
      "---------------\n",
      "-1 2\n",
      "enter\n",
      "-1 2\n",
      "enter\n",
      "0 2\n",
      "enter\n",
      "1 2\n",
      "enter\n",
      "1\n",
      "-1 -4\n",
      "---------------\n",
      "-1 2\n",
      "enter\n",
      "0 2\n",
      "enter\n",
      "0 1\n",
      "enter\n",
      "2\n",
      "-1 -1\n",
      "---------------\n",
      "3\n",
      "0 -1\n",
      "---------------\n",
      "1 2\n",
      "enter\n",
      "4\n",
      "1 0\n",
      "---------------\n",
      "5\n",
      "2 1\n",
      "---------------\n",
      "[[-1, -1, 2], [-1, 0, 1]]\n"
     ]
    }
   ],
   "source": [
    "threeSum([-1,0,1,2,-1,-4])"
   ]
  },
  {
   "cell_type": "code",
   "execution_count": null,
   "metadata": {},
   "outputs": [],
   "source": [
    "class Solution:\n",
    "    def threeSum(self, nums: List[int]) -> List[List[int]]:\n",
    "        res = []\n",
    "        nums.sort()\n",
    "\n",
    "        for i, a in enumerate(nums):\n",
    "            if i > 0 and a == nums[i - 1]:\n",
    "                continue\n",
    "\n",
    "            l, r = i + 1, len(nums) - 1\n",
    "            while l < r:\n",
    "                threeSum = a + nums[l] + nums[r]\n",
    "                if threeSum > 0:\n",
    "                    r -= 1\n",
    "                elif threeSum < 0:\n",
    "                    l += 1\n",
    "                else:\n",
    "                    res.append([a, nums[l], nums[r]])\n",
    "                    l += 1\n",
    "                    while nums[l] == nums[l - 1] and l < r:\n",
    "                        l += 1\n",
    "        return res"
   ]
  },
  {
   "attachments": {},
   "cell_type": "markdown",
   "metadata": {},
   "source": [
    "---\n",
    "Add Two Numbers: https://leetcode.com/problems/add-two-numbers/description/"
   ]
  },
  {
   "cell_type": "code",
   "execution_count": null,
   "metadata": {},
   "outputs": [],
   "source": [
    "# Definition for singly-linked list.\n",
    "# class ListNode:\n",
    "#     def __init__(self, val=0,next= None):\n",
    "#         self.val = val\n",
    "#         self.next = next\n",
    "class Solution:\n",
    "    def addTwoNumbers(self, l1: Optional[ListNode], l2: Optional[ListNode]) -> Optional[ListNode]:\n",
    "        node1 = l1\n",
    "        node2 = l2\n",
    "        dummy = ListNode(-1)\n",
    "        curr = dummy\n",
    "        carry = 0\n",
    "        while node1 or node2:\n",
    "\n",
    "            if node1 is not None:\n",
    "                value1 = node1.val\n",
    "            else:\n",
    "                value1 = 0\n",
    "\n",
    "\n",
    "            # value1 = node1.val\n",
    "            if node2 is not None:\n",
    "                value2 = node2.val\n",
    "            else:\n",
    "                value2 = 0\n",
    "\n",
    "            fin = value1+value2 + carry\n",
    "            carry = 0\n",
    "            print(fin)\n",
    "            if fin >= 10:\n",
    "                fin = fin-10\n",
    "                carry = 1\n",
    "\n",
    "            curr.next = ListNode(fin)\n",
    "            curr = curr.next\n",
    "\n",
    "            #move to the next iteration\n",
    "            if node1 is not None:\n",
    "                node1 = node1.next\n",
    "\n",
    "            if node2 is not None:\n",
    "                node2 = node2.next\n",
    "        \n",
    "        if carry:\n",
    "            curr.next = ListNode(1)\n",
    "\n",
    "\n",
    "        return dummy.next\n",
    "\n",
    "\n"
   ]
  },
  {
   "cell_type": "code",
   "execution_count": null,
   "metadata": {},
   "outputs": [],
   "source": [
    "# First iteration that is working but not elegant\n",
    "# Definition for singly-linked list.\n",
    "# class ListNode:\n",
    "#     def __init__(self, val=0):\n",
    "#         self.val = val\n",
    "#         self.next = None\n",
    "class Solution:\n",
    "    def addTwoNumbers(self, l1: Optional[ListNode], l2: Optional[ListNode]) -> Optional[ListNode]:\n",
    "        reverse_l1 =  self.reverse(l1)\n",
    "        reverse_l2 = self.reverse(l2)\n",
    "        reverse_l1_str =\"\"\n",
    "        reverse_l2_str =\"\"\n",
    "\n",
    "        while reverse_l2:\n",
    "            reverse_l2_str += str(reverse_l2.val)\n",
    "            reverse_l2 = reverse_l2.next\n",
    "\n",
    "        while reverse_l1:\n",
    "            reverse_l1_str += str(reverse_l1.val)\n",
    "            reverse_l1 = reverse_l1.next\n",
    "        \n",
    "        value = int(reverse_l2_str) + int(reverse_l1_str)\n",
    "\n",
    "        \n",
    "        dummy = ListNode(-1)\n",
    "        cur = dummy\n",
    "        for i in str(value)[::-1]:\n",
    "\n",
    "            cur.next = ListNode(int(i))\n",
    "            cur = cur.next\n",
    "            \n",
    "        return dummy.next\n",
    "\n",
    "    def reverse(self,l1):\n",
    "        \n",
    "        curr = l1\n",
    "        prev = None\n",
    "        while curr:\n",
    "            temp = curr.next\n",
    "            curr.next = prev\n",
    "            prev = curr\n",
    "            curr = temp\n",
    "        return prev\n",
    "\n"
   ]
  },
  {
   "attachments": {},
   "cell_type": "markdown",
   "metadata": {},
   "source": [
    "---\n",
    "Longet Palindromic Substring: https://leetcode.com/problems/longest-palindromic-substring/description/"
   ]
  },
  {
   "cell_type": "code",
   "execution_count": null,
   "metadata": {},
   "outputs": [],
   "source": [
    "class Solution:\n",
    "    def longestPalindrome(self, s: str) -> str:\n",
    "        if len(s) == 1:\n",
    "            return s\n",
    "        longest = 0\n",
    "        res = None\n",
    "        for i in range(len(s)):\n",
    "            for j in range(len(s)+1):\n",
    "                # print(s[i:j])\n",
    "\n",
    "\n",
    "                if i!=j and s[i:j] == s[i:j][::-1]:\n",
    "                    \n",
    "                    if len(s[i:j]) > longest:\n",
    "                        longest = len(s[i:j])\n",
    "                        res = s[i:j]\n",
    "        return res"
   ]
  },
  {
   "attachments": {},
   "cell_type": "markdown",
   "metadata": {},
   "source": [
    "---\n",
    "Longest Palindromic Substring: https://leetcode.com/problems/longest-palindromic-substring/description/"
   ]
  },
  {
   "cell_type": "code",
   "execution_count": null,
   "metadata": {},
   "outputs": [],
   "source": [
    "class Solution:\n",
    "    def longestPalindrome(self, s: str) -> str:\n",
    "        res = \"\"\n",
    "        lenght = 0\n",
    "\n",
    "        for i in range(len(s)):\n",
    "\n",
    "          \n",
    "            l, r = i, i\n",
    "            while l >= 0 and r < len(s) and s[l]==s[r]:\n",
    "\n",
    "                if lenght < (r-l+1):\n",
    "                    res = s[l:r+1]\n",
    "                    lenght = r-l+1\n",
    "                l-=1\n",
    "                r+=1\n",
    "            \n",
    "            l, r = i, i+1\n",
    "            while l >= 0 and r < len(s) and s[l]==s[r]:\n",
    "                if lenght < (r-l+1):\n",
    "                    res = s[l:r+1]\n",
    "                    lenght = r-l+1\n",
    "                l-=1\n",
    "                r+=1\n",
    "        return res"
   ]
  },
  {
   "attachments": {},
   "cell_type": "markdown",
   "metadata": {},
   "source": [
    "---\n",
    "Sqrt(x): https://leetcode.com/problems/sqrtx/"
   ]
  },
  {
   "cell_type": "code",
   "execution_count": null,
   "metadata": {},
   "outputs": [],
   "source": [
    "class Solution:\n",
    "    def mySqrt(self, x: int) -> int:\n",
    "        start = 1\n",
    "        end = x\n",
    "        ans = 0\n",
    "        while start<=end:\n",
    "            mid = (start+end)//2\n",
    "            mid_sq = mid*mid\n",
    "\n",
    "            if mid_sq == x:\n",
    "                return mid\n",
    "\n",
    "            if mid_sq < x:\n",
    "                start = mid+1\n",
    "                ans = mid\n",
    "            else:\n",
    "                end = mid-1\n",
    "        return ans\n"
   ]
  },
  {
   "attachments": {},
   "cell_type": "markdown",
   "metadata": {},
   "source": [
    "---\n",
    "Binary Tree Inorder Traversal: https://leetcode.com/problems/binary-tree-inorder-traversal/description/\n"
   ]
  },
  {
   "cell_type": "code",
   "execution_count": null,
   "metadata": {},
   "outputs": [],
   "source": [
    "#Recursive way\n",
    "\n",
    "# Definition for a binary tree node.\n",
    "# class TreeNode:\n",
    "#     def __init__(self, val=0, left=None, right=None):\n",
    "#         self.val = val\n",
    "#         self.left = left\n",
    "#         self.right = right\n",
    "class Solution:\n",
    "    def inorderTraversal(self, root: Optional[TreeNode] ) -> List[int]:\n",
    "        res = []\n",
    "        if root:\n",
    "            res = self.inorderTraversal(root.left)\n",
    "            res.append(root.val)\n",
    "            res = res + self.inorderTraversal(root.right)\n",
    "        return res\n",
    "\n"
   ]
  },
  {
   "cell_type": "code",
   "execution_count": null,
   "metadata": {},
   "outputs": [],
   "source": [
    "# Definition for a binary tree node.\n",
    "# class TreeNode:\n",
    "#     def __init__(self, val=0, left=None, right=None):\n",
    "#         self.val = val\n",
    "#         self.left = left\n",
    "#         self.right = right\n",
    "class Solution:\n",
    "    def inorderTraversal(self, root: Optional[TreeNode] ) -> List[int]:\n",
    "        res = []\n",
    "        stack = []\n",
    "        curr = root\n",
    "        while curr or stack:\n",
    "            while curr:\n",
    "                stack.append(curr)\n",
    "                curr = curr.left\n",
    "\n",
    "            curr = stack.pop()\n",
    "            res.append(curr.val)\n",
    "            curr = curr.right\n",
    "        return res\n",
    "            "
   ]
  },
  {
   "attachments": {},
   "cell_type": "markdown",
   "metadata": {},
   "source": [
    "---\n",
    "Missing Number: https://leetcode.com/problems/missing-number/description/"
   ]
  },
  {
   "cell_type": "code",
   "execution_count": null,
   "metadata": {},
   "outputs": [],
   "source": [
    "class Solution:\n",
    "    def missingNumber(self, nums: List[int]) -> int:\n",
    "        # nums = sorted(nums)\n",
    "        actual = list(range(len(nums)+1))\n",
    "        return sum(actual) - sum(nums)"
   ]
  },
  {
   "cell_type": "code",
   "execution_count": null,
   "metadata": {},
   "outputs": [],
   "source": [
    "class Solution:\n",
    "    def missingNumber(self, nums: List[int]) -> int:\n",
    "        nums = set(nums)\n",
    "        print(nums)\n",
    "        actual = set(range(len(nums)+1))\n",
    "        res = actual - nums\n",
    "        return list(res)[0]"
   ]
  },
  {
   "cell_type": "code",
   "execution_count": null,
   "metadata": {},
   "outputs": [],
   "source": [
    "class Solution:\n",
    "    def missingNumber(self, nums: List[int]) -> int:\n",
    "        # nums = sorted(nums)\n",
    "        the_dict = collections.Counter(nums)\n",
    "        for i in range(len(nums)+1):\n",
    "            if i not in the_dict:\n",
    "                return i\n",
    "\n"
   ]
  },
  {
   "attachments": {},
   "cell_type": "markdown",
   "metadata": {},
   "source": [
    "---\n",
    "Container With Most Water: https://leetcode.com/problems/container-with-most-water/description/"
   ]
  },
  {
   "cell_type": "code",
   "execution_count": null,
   "metadata": {},
   "outputs": [],
   "source": [
    "class Solution:\n",
    "    def maxArea(self, height: List[int]) -> int:\n",
    "        \n",
    "        max_area = 0\n",
    "        i = 0\n",
    "        j = len(height)-1\n",
    "        while i<j:\n",
    "            lenghtq = abs(j-i)\n",
    "            heightq = height[i] if height[i] < height[j] else height[j]\n",
    "            area = lenghtq * heightq\n",
    "\n",
    "            if area > max_area:\n",
    "                max_area = area \n",
    "            \n",
    "            if height[i] < height[j]:\n",
    "                i+=1\n",
    "            else:\n",
    "                j-=1\n",
    "        return max_area"
   ]
  },
  {
   "attachments": {},
   "cell_type": "markdown",
   "metadata": {},
   "source": [
    "---\n",
    "Letter Combinations of a Phone Number: https://leetcode.com/problems/letter-combinations-of-a-phone-number/description/"
   ]
  },
  {
   "cell_type": "code",
   "execution_count": null,
   "metadata": {},
   "outputs": [],
   "source": [
    "class Solution: \n",
    "    def letterCombinations(self, digits: str) -> List[str]:\n",
    "        numbers = {\"2\": \"abc\", \"3\": \"def\", \"4\": \"ghi\", \"5\": \"jkl\", \n",
    "                   \"6\": \"mno\", \"7\": \"pqrs\", \"8\": \"tuv\", \"9\": \"wxyz\"}\n",
    "        res = []\n",
    "        \n",
    "        def backtracking(i, curStr):\n",
    "            #base case\n",
    "            if len(curStr) == len(digits):\n",
    "                res.append(curStr)\n",
    "                return\n",
    "            \n",
    "            else:\n",
    "                for c in numbers[digits[i]]:\n",
    "                    backtracking(i+1, curStr+ c)\n",
    "        \n",
    "        if digits:\n",
    "            backtracking(0, \"\")\n",
    "        return res\n",
    "        "
   ]
  },
  {
   "attachments": {},
   "cell_type": "markdown",
   "metadata": {},
   "source": [
    "---\n",
    "Binary Tree Paths: https://leetcode.com/problems/binary-tree-paths/description/"
   ]
  },
  {
   "cell_type": "code",
   "execution_count": null,
   "metadata": {},
   "outputs": [],
   "source": [
    "# Definition for a binary tree node.\n",
    "# class TreeNode:\n",
    "#     def __init__(self, val=0, left=None, right=None):\n",
    "#         self.val = val\n",
    "#         self.left = left\n",
    "#         self.right = right\n",
    "class Solution:\n",
    "    def binaryTreePaths(self, root: Optional[TreeNode]) -> List[str]:\n",
    "        \n",
    "        res = []\n",
    "\n",
    "        def backtracking(root, curStr):\n",
    "            if root is None:\n",
    "                return \n",
    "\n",
    "            if root.left is None and root.right is None:\n",
    "                curStr += f\"{root.val}\"\n",
    "                res.append(curStr)\n",
    "                return\n",
    "            else:\n",
    "                curStr += f\"{root.val}->\"\n",
    "                # if root.left:\n",
    "                backtracking(root.left, curStr)\n",
    "                # else:\n",
    "                backtracking(root.right, curStr)\n",
    "        \n",
    "        if root:\n",
    "            backtracking(root, \"\")           \n",
    "        return res\n",
    "\n",
    "\n"
   ]
  },
  {
   "attachments": {},
   "cell_type": "markdown",
   "metadata": {},
   "source": [
    "---\n",
    "Permutations: https://leetcode.com/problems/permutations/description/"
   ]
  },
  {
   "cell_type": "code",
   "execution_count": null,
   "metadata": {},
   "outputs": [],
   "source": [
    "#my attempt but it only gives half the solutions\n",
    "\n",
    "class Solution:\n",
    "    def permute(self, nums: List[int]) -> List[List[int]]:\n",
    "        res = []\n",
    "        def backtrack(nums, used, perm ):\n",
    "            if len(perm) == len(nums):\n",
    "                res.append(perm)\n",
    "                return\n",
    "\n",
    "            else:\n",
    "                for i in range(len(nums)):\n",
    "                    if not used[i]:\n",
    "                        used[i] = True\n",
    "                        perm.append(nums[i])\n",
    "                        backtrack(nums, used, perm)\n",
    "                        used[i] = False\n",
    "                        perm = []\n",
    "\n",
    "        used = [False] * len(nums)\n",
    "        backtrack(nums, used, [])\n",
    "        return res\n",
    "\n",
    "\n",
    "\n"
   ]
  },
  {
   "cell_type": "code",
   "execution_count": null,
   "metadata": {},
   "outputs": [],
   "source": [
    "#Real solution\n",
    "class Solution:\n",
    "    def permute(self, nums: List[int]) -> List[List[int]]:\n",
    "        result = []\n",
    "\n",
    "        if len(nums) == 1:\n",
    "            return [nums[:]]\n",
    "\n",
    "        for i in range(len(nums)):\n",
    "            n = nums.pop(0)\n",
    "            perms = self.permute(nums) #[3]\n",
    "\n",
    "            for perm in perms:\n",
    "                perm.append(n)\n",
    "            result.extend(perms)\n",
    "            nums.append(n)\n",
    "        return result\n"
   ]
  },
  {
   "attachments": {},
   "cell_type": "markdown",
   "metadata": {},
   "source": [
    "---\n",
    "Count and Say: https://leetcode.com/problems/count-and-say/description/"
   ]
  },
  {
   "cell_type": "code",
   "execution_count": null,
   "metadata": {},
   "outputs": [],
   "source": [
    "class Solution:\n",
    "    def countAndSay(self, n: int, res=\"1\" , k=1) -> str:\n",
    "        \n",
    "        #base case\n",
    "        # if n='1':\n",
    "        if n == 1:\n",
    "            return \"1\"\n",
    "\n",
    "        prev = self.countAndSay(n-1)\n",
    "        count = 1\n",
    "        res = \"\"\n",
    "\n",
    "        for i in range(len(prev)):\n",
    "            if i == len(prev)-1 or prev[i] != prev[i+1]:\n",
    "                res  += str(count) + prev[i]\n",
    "                count = 1\n",
    "            else:\n",
    "                count+=1\n",
    "        return res\n",
    "        \n",
    "\n",
    "\n"
   ]
  },
  {
   "attachments": {},
   "cell_type": "markdown",
   "metadata": {},
   "source": [
    "---\n",
    "Intersection of Two Linked Lists: https://leetcode.com/problems/intersection-of-two-linked-lists/description/"
   ]
  },
  {
   "cell_type": "code",
   "execution_count": null,
   "metadata": {},
   "outputs": [],
   "source": [
    "# Definition for singly-linked list.\n",
    "# class ListNode:\n",
    "#     def __init__(self, x):\n",
    "#         self.val = x\n",
    "#         self.next = None\n",
    "\n",
    "class Solution:\n",
    "    def getIntersectionNode(self, headA: ListNode, headB: ListNode) -> Optional[ListNode]:\n",
    "        nodeA = headA\n",
    "        nodeB = headB\n",
    "        \n",
    "        #they need to start the check at the same level\n",
    "        #first get their lengths\n",
    "        lA = self.lenghts(nodeA)\n",
    "        lB = self.lenghts(nodeB)\n",
    "        \n",
    "         \n",
    "        while lA != lB:\n",
    "            if lA < lB:\n",
    "                nodeB = nodeB.next\n",
    "                lB-=1\n",
    "            else:\n",
    "                nodeA = nodeA.next\n",
    "                lA -=1\n",
    "\n",
    "        #need to have this extra case as we might have intersection at the place we are at\n",
    "        if nodeA.next == nodeB.next and nodeA.val == nodeB.val:\n",
    "            return nodeA\n",
    "        \n",
    "        \n",
    "        #after you set them to start at the same level, you can then \n",
    "        while nodeA and nodeB:\n",
    "            # print(nodeA.next)\n",
    "            if nodeA.next and nodeA.next == nodeB.next:\n",
    "                return nodeA.next\n",
    "            nodeA = nodeA.next\n",
    "            nodeB = nodeB.next\n",
    "\n",
    "        \n",
    "    def lenghts(self, llist):\n",
    "        node = llist\n",
    "        counter = 0\n",
    "        while node:\n",
    "            counter+=1\n",
    "            node=node.next\n",
    "        return counter"
   ]
  },
  {
   "cell_type": "code",
   "execution_count": null,
   "metadata": {},
   "outputs": [],
   "source": [
    "# Definition for singly-linked list.\n",
    "# class ListNode:\n",
    "#     def __init__(self, x):\n",
    "#         self.val = x\n",
    "#         self.next = None\n",
    "\n",
    "class Solution:\n",
    "    def getIntersectionNode(self, headA: ListNode, headB: ListNode) -> Optional[ListNode]:\n",
    "        hashB = set()\n",
    "        nodeB = headB\n",
    "        while nodeB:\n",
    "            hashB.add(nodeB)\n",
    "            nodeB = nodeB.next\n",
    "\n",
    "        nodeA= headA\n",
    "        while nodeA:\n",
    "            if nodeA in hashB:\n",
    "                return nodeA\n",
    "            nodeA = nodeA.next\n"
   ]
  },
  {
   "attachments": {},
   "cell_type": "markdown",
   "metadata": {},
   "source": [
    "---\n",
    "Pascals Triangle: https://leetcode.com/problems/pascals-triangle/description/"
   ]
  },
  {
   "cell_type": "code",
   "execution_count": null,
   "metadata": {},
   "outputs": [],
   "source": [
    "class Solution:\n",
    "    def generate(self, numRows: int) -> List[List[int]]:\n",
    "        res = [[1]]\n",
    "\n",
    "        for i in range(numRows-1): #-1 because we already have the base case above covered\n",
    "            temp = [0] + res[-1] + [0]\n",
    "            row = []\n",
    "\n",
    "            for j in range(len(res[-1])+1 ):\n",
    "                row.append( temp[j]+temp[j+1] )\n",
    "\n",
    "            res.append(row)\n",
    "        return res\n"
   ]
  },
  {
   "attachments": {},
   "cell_type": "markdown",
   "metadata": {},
   "source": [
    "---\n",
    "Excel Sheet Column Number: https://leetcode.com/problems/excel-sheet-column-number/description/"
   ]
  },
  {
   "cell_type": "code",
   "execution_count": null,
   "metadata": {},
   "outputs": [],
   "source": [
    "class Solution:\n",
    "    def titleToNumber(self, columnTitle: str):\n",
    "        \n",
    "        letters = list(columnTitle)\n",
    "        res  = 0\n",
    "        power = len(letters)-1\n",
    "        for letter in letters:\n",
    "\n",
    "            num = (ord(letter)-64) * (26)**power \n",
    "            power-=1\n",
    "            res += num\n",
    "                \n",
    "        return res"
   ]
  },
  {
   "attachments": {},
   "cell_type": "markdown",
   "metadata": {},
   "source": [
    "---\n",
    "Happy Number: https://leetcode.com/problems/happy-number/description/"
   ]
  },
  {
   "cell_type": "code",
   "execution_count": null,
   "metadata": {},
   "outputs": [],
   "source": [
    "class Solution:\n",
    "    def isHappy(self, n: int) -> bool:\n",
    "        if n == 1:\n",
    "            return True\n",
    "        # if n < 10:\n",
    "        #     return False\n",
    "        else:\n",
    "            n_str = str(n)\n",
    "            seen = set()\n",
    "            return self.recurse(n_str, seen)\n",
    "\n",
    "    def recurse(self, n_str, seen):\n",
    "        res = 0\n",
    "        digits = list(n_str)\n",
    "        for digit in digits:\n",
    "            res += int(digit) ** 2\n",
    "\n",
    "        if res == 1:\n",
    "            return True\n",
    "\n",
    "        elif res in seen:\n",
    "            return False\n",
    "\n",
    "        else:\n",
    "            seen.add(res)\n",
    "            return self.recurse(str(res), seen)\n"
   ]
  },
  {
   "attachments": {},
   "cell_type": "markdown",
   "metadata": {},
   "source": [
    "---\n",
    "Search in rotated array: https://leetcode.com/problems/search-in-rotated-sorted-array/"
   ]
  },
  {
   "cell_type": "code",
   "execution_count": null,
   "metadata": {},
   "outputs": [],
   "source": [
    "#VERY WRONG ATTEMPT\n",
    "class Solution:\n",
    "    def search(self, nums: List[int], target: int) -> int:\n",
    "        # while nums[i] < nums[i+1]:\n",
    "        high = len(nums)-1\n",
    "        low = 0\n",
    "        # if len(nums) %2 != 0:\n",
    "        while high >= low:\n",
    "            mid_index = (low+high)//2\n",
    "            if nums[mid_index] == target:\n",
    "                return mid_index\n",
    "\n",
    "            if mid_index+1 <=len(nums)-1 and nums[mid_index] > nums[mid_index+1]:\n",
    "                # if target > nums[mid_index+1]:\n",
    "                #     high = mid_index-1\n",
    "                # else:\n",
    "                low = mid_index+1\n",
    "\n",
    "            if mid_index+1<=len(nums)-1 and nums[mid_index+1] == target:\n",
    "                    return mid_index+1\n",
    "\n",
    "            if mid_index-1>=0 and nums[mid_index-1] == target:\n",
    "                    return mid_index-1\n",
    "\n",
    "            elif mid_index+1 <=len(nums)-1 and mid_index+2 <=len(nums)-1 and nums[mid_index+1] > nums[mid_index+2]:\n",
    "                    low = mid_index+2\n",
    "            else:\n",
    "                high = mid_index-1\n",
    "\n",
    "        return -1\n"
   ]
  },
  {
   "cell_type": "code",
   "execution_count": null,
   "metadata": {},
   "outputs": [],
   "source": [
    "#CORRECT SOLUTION\n",
    "class Solution:\n",
    "    def search(self, nums: List[int], target: int) -> int:\n",
    "        # while nums[i] < nums[i+1]:\n",
    "        h = len(nums)-1\n",
    "        l = 0\n",
    "        # if len(nums) %2 != 0:\n",
    "        while h >= l:\n",
    "            mid = (l+h)//2\n",
    "            if nums[mid] == target:\n",
    "                return mid\n",
    "\n",
    "            if nums[l] <= nums[mid]:\n",
    "                if target > nums[mid] or target<nums[l]:\n",
    "                    l = mid+1\n",
    "                else:\n",
    "                    h = mid-1\n",
    "            else:\n",
    "                if target < nums[mid] or target > nums[h]:\n",
    "                    h = mid-1\n",
    "                else:\n",
    "                    l=mid+1\n",
    "        return -1"
   ]
  },
  {
   "attachments": {},
   "cell_type": "markdown",
   "metadata": {},
   "source": [
    "---\n",
    "N-Queens: https://leetcode.com/problems/n-queens/description/"
   ]
  },
  {
   "cell_type": "code",
   "execution_count": null,
   "metadata": {},
   "outputs": [],
   "source": [
    "class Solution:\n",
    "    def solveNQueens(self, n: int) -> List[List[str]]:\n",
    "        cols = set()\n",
    "        posDiag = set()\n",
    "        negDiag = set()\n",
    "        res = []\n",
    "        board = [[\".\"]*n for i in range(n)]\n",
    "        print(board)\n",
    "\n",
    "\n",
    "        def backtracking(r):\n",
    "\n",
    "            # for r in range(board[0]):\n",
    "            #OUR GOAL\n",
    "            if r == n:\n",
    "                clone = [ \"\".join(row) for row in board ]\n",
    "                res.append(clone)\n",
    "                return\n",
    "\n",
    "\n",
    "            for c in range(n):  \n",
    "                # OUR CONSTRAINT\n",
    "                if c in cols or (r-c) in posDiag or (r+c) in negDiag:\n",
    "                    continue\n",
    "                    \n",
    "                else:\n",
    "                    #OUT CHOICE \n",
    "                    board[r][c] = \"Q\"\n",
    "                    cols.add(c)\n",
    "                    posDiag.add(r-c)\n",
    "                    negDiag.add(r+c)\n",
    "\n",
    "                    #EXPLORE\n",
    "                    backtracking(r+1)\n",
    "                    \n",
    "                    #UNDO\n",
    "                    board[r][c]= \".\"\n",
    "                    cols.remove(c)\n",
    "                    posDiag.remove(r-c)\n",
    "                    negDiag.remove(r+c)\n",
    "         \n",
    "            \n",
    "        backtracking(0)\n",
    "        return res"
   ]
  },
  {
   "attachments": {},
   "cell_type": "markdown",
   "metadata": {},
   "source": [
    "---\n",
    "Search a 2D Matrix: https://leetcode.com/problems/search-a-2d-matrix/description/"
   ]
  },
  {
   "cell_type": "code",
   "execution_count": null,
   "metadata": {},
   "outputs": [],
   "source": [
    "#This is one way of doing things, but the TC is O(m + log(n))\n",
    "class Solution:\n",
    "    def searchMatrix(self, matrix: List[List[int]], target: int) -> bool:\n",
    "\n",
    "        row = len(matrix[0])-1\n",
    "        l, r = 0, len(matrix[0])-1\n",
    "        count = 0\n",
    "        while count < len(matrix)-1:\n",
    "            if target > matrix[count][row]:\n",
    "                count+=1\n",
    "            else:\n",
    "                break\n",
    "\n",
    "        row_to_investigate = matrix[count]\n",
    "        print(row_to_investigate)\n",
    "        while l<=r:\n",
    "            mid_index = (l+r)//2\n",
    "\n",
    "            if target == row_to_investigate[mid_index]:\n",
    "                return True\n",
    "            \n",
    "            if row_to_investigate[mid_index] < target:\n",
    "                l = mid_index + 1\n",
    "            else:\n",
    "                r = mid_index-1\n",
    "        return False"
   ]
  },
  {
   "attachments": {},
   "cell_type": "markdown",
   "metadata": {},
   "source": [
    "---\n",
    "Same Tree: https://leetcode.com/problems/same-tree/description/"
   ]
  },
  {
   "cell_type": "code",
   "execution_count": null,
   "metadata": {},
   "outputs": [],
   "source": [
    "class Solution:\n",
    "    def isSameTree(self, p: Optional[TreeNode], q: Optional[TreeNode]) -> bool:\n",
    "        stack = [(p, q)]\n",
    "        while stack:\n",
    "            root_p, root_q = stack.pop()\n",
    "            if root_p is None and root_q is None:\n",
    "                continue\n",
    "            if root_p is None and root_q is not None or root_p is not None and root_q is None:\n",
    "                return False\n",
    "                \n",
    "            \n",
    "            if root_p and root_q and root_p.val != root_q.val:\n",
    "                return False\n",
    "\n",
    "            stack.append((root_p.right, root_q.right))\n",
    "            stack.append((root_p.left, root_q.left))\n",
    "\n",
    "\n",
    "        return True"
   ]
  },
  {
   "attachments": {},
   "cell_type": "markdown",
   "metadata": {},
   "source": [
    "---\n",
    "Subtree of Another Tree: https://leetcode.com/problems/subtree-of-another-tree/description/"
   ]
  },
  {
   "cell_type": "code",
   "execution_count": null,
   "metadata": {},
   "outputs": [],
   "source": [
    "#THIS IS THE ITERATIVE WAY wrt isSubtree using a stack\n",
    "\n",
    "# Definition for a binary tree node.\n",
    "# class TreeNode:\n",
    "#     def __init__(self, val=0, left=None, right=None):\n",
    "#         self.val = val\n",
    "#         self.left = left\n",
    "#         self.right = right\n",
    "class Solution:\n",
    "    def isSubtree(self, root: Optional[TreeNode], subRoot: Optional[TreeNode]) -> bool:\n",
    "        node1 = root\n",
    "        sub = subRoot\n",
    "        print(sub)\n",
    "        stack = [node1]\n",
    "        while stack:\n",
    "            root = stack.pop()\n",
    "\n",
    "            if root is None:\n",
    "                continue\n",
    "\n",
    "            if self.same_tree(root, subRoot):\n",
    "                return True\n",
    "            \n",
    "            stack.append(root.right)\n",
    "            stack.append(root.left)\n",
    "\n",
    "        return False\n",
    "\n",
    "    def same_tree(self, p, q):\n",
    "        if not p and not q:\n",
    "            return True\n",
    "\n",
    "        if p and q and p.val == q.val:\n",
    "            return (self.same_tree(p.left, q.left) and self.same_tree(p.right, q.right))\n",
    "        return False\n",
    "\n",
    "\n"
   ]
  },
  {
   "cell_type": "code",
   "execution_count": null,
   "metadata": {},
   "outputs": [],
   "source": [
    "#THIS IS THE RECURSIVE WAY\n",
    "\n",
    "# Definition for a binary tree node.\n",
    "# class TreeNode:\n",
    "#     def __init__(self, val=0, left=None, right=None):\n",
    "#         self.val = val\n",
    "#         self.left = left\n",
    "#         self.right = right\n",
    "class Solution:\n",
    "    def isSubtree(self, root: Optional[TreeNode], subRoot: Optional[TreeNode]) -> bool:\n",
    "\n",
    "        if root:\n",
    "            if self.same_tree(root, subRoot):\n",
    "                return True\n",
    "            else:\n",
    "                return (self.isSubtree(root.left, subRoot) or self.isSubtree(root.right, subRoot))\n",
    "        return False \n",
    "\n",
    "    def same_tree(self, p, q):\n",
    "        if not p and not q:\n",
    "            return True\n",
    "\n",
    "        if p and q and p.val == q.val:\n",
    "            return (self.same_tree(p.left, q.left) and self.same_tree(p.right, q.right))\n",
    "        return False\n",
    "\n",
    "\n"
   ]
  },
  {
   "attachments": {},
   "cell_type": "markdown",
   "metadata": {},
   "source": [
    "---\n",
    "Subsets: https://leetcode.com/problems/subsets/description/"
   ]
  },
  {
   "cell_type": "code",
   "execution_count": null,
   "metadata": {},
   "outputs": [],
   "source": [
    "class Solution:\n",
    "    def subsets(self, nums: List[int]) -> List[List[int]]:\n",
    "        res = []\n",
    "        subset = []\n",
    "        def dfs(i):\n",
    "            if i >= len(nums):\n",
    "                res.append(subset.copy()) \n",
    "                return\n",
    "            \n",
    "            subset.append(nums[i])\n",
    "            dfs(i+1)\n",
    "\n",
    "            subset.pop()\n",
    "            dfs(i+1)\n",
    "  \n",
    "        dfs(0)\n",
    "        return res\n",
    "\n"
   ]
  },
  {
   "attachments": {},
   "cell_type": "markdown",
   "metadata": {},
   "source": [
    "---\n",
    "Longest Consecutive Sequence: https://leetcode.com/problems/longest-consecutive-sequence/description/"
   ]
  },
  {
   "cell_type": "code",
   "execution_count": null,
   "metadata": {},
   "outputs": [],
   "source": [
    "class Solution:\n",
    "    def longestConsecutive(self, nums: List[int]) -> int:\n",
    "        nums = set(nums)\n",
    "        best = 0\n",
    "        for x in nums:\n",
    "            if x-1 not in nums: # you want to make sure you start from the beginning \n",
    "                y = x+1\n",
    "                while y in nums:\n",
    "                    y+=1\n",
    "                best = max(best, y-x)\n",
    "\n",
    "        return best\n"
   ]
  },
  {
   "attachments": {},
   "cell_type": "markdown",
   "metadata": {},
   "source": [
    "---\n",
    "Combination Sum: https://leetcode.com/problems/combination-sum/description/"
   ]
  },
  {
   "cell_type": "code",
   "execution_count": null,
   "metadata": {},
   "outputs": [],
   "source": [
    "class Solution:\n",
    "    def combinationSum(self, candidates: List[int], target: int) -> List[List[int]]:\n",
    "        res = []\n",
    "        def backtracking(i, arr):\n",
    "            if sum(arr)>target or i>=len(candidates):\n",
    "                return\n",
    "\n",
    "            elif sum(arr) == target:\n",
    "                res.append(arr.copy())\n",
    "                return \n",
    "            else:\n",
    "                # for i in candidates:\n",
    "                arr.append(candidates[i])\n",
    "                backtracking(i, arr)\n",
    "                arr.pop() \n",
    "                backtracking(i+1, arr)\n",
    "                # arr = []\n",
    "\n",
    "        backtracking(0,[])     \n",
    "        return res\n",
    "            "
   ]
  },
  {
   "attachments": {},
   "cell_type": "markdown",
   "metadata": {},
   "source": [
    "---\n",
    "Permutations: https://leetcode.com/problems/permutations/description/"
   ]
  },
  {
   "cell_type": "code",
   "execution_count": null,
   "metadata": {},
   "outputs": [],
   "source": [
    "class Solution:\n",
    "    def permute(self, nums: List[int]) -> List[List[int]]:\n",
    "        \n",
    "        n = len(nums)\n",
    "        res = []\n",
    "        def backtracking(first=0):\n",
    "\n",
    "            if first == n:\n",
    "                res.append(nums[:])\n",
    "            else:\n",
    "                for i in range(first, n):\n",
    "\n",
    "                    #do a swap\n",
    "                    nums[first], nums[i] = nums[i], nums[first]\n",
    "\n",
    "                    backtracking(first+1)\n",
    "\n",
    "                    nums[first], nums[i] = nums[i], nums[first]\n",
    "        \n",
    "        backtracking()\n",
    "        return res\n",
    "\n",
    "\n"
   ]
  },
  {
   "attachments": {},
   "cell_type": "markdown",
   "metadata": {},
   "source": [
    "---\n",
    "Lowest Common Ancestor of a Binary Tree: https://leetcode.com/problems/lowest-common-ancestor-of-a-binary-tree/description/"
   ]
  },
  {
   "cell_type": "code",
   "execution_count": null,
   "metadata": {},
   "outputs": [],
   "source": [
    "# Definition for a binary tree node.\n",
    "# class TreeNode:\n",
    "#     def __init__(self, x):\n",
    "#         self.val = x\n",
    "#         self.left = None\n",
    "#         self.right = None\n",
    "\n",
    "class Solution:\n",
    "    def lowestCommonAncestor(self, root: 'TreeNode', p: 'TreeNode', q: 'TreeNode') -> 'TreeNode':\n",
    "        cur = root\n",
    "        self.ans = None\n",
    "        def dfs(node):\n",
    "            if node is None:\n",
    "                return False\n",
    "            left = dfs(node.left)\n",
    "            right = dfs(node.right)\n",
    "            mid = node==q or node==p\n",
    "\n",
    "            if mid + left +right >=2:\n",
    "                self.ans = node\n",
    "            return mid or left or right\n",
    "\n",
    "        dfs(root)\n",
    "        return self.ans\n",
    "\n",
    "                \n"
   ]
  },
  {
   "attachments": {},
   "cell_type": "markdown",
   "metadata": {},
   "source": [
    "---\n",
    "LRU Cache: https://leetcode.com/problems/lru-cache/"
   ]
  },
  {
   "cell_type": "code",
   "execution_count": 6,
   "metadata": {},
   "outputs": [
    {
     "data": {
      "text/plain": [
       "dict_items([('a', [1, 2]), ('b', [4, 5])])"
      ]
     },
     "execution_count": 6,
     "metadata": {},
     "output_type": "execute_result"
    }
   ],
   "source": [
    "#My attempt -> WRONG\n",
    "\n",
    "class LRUCache:\n",
    "    def __init__(self, capacity: int):\n",
    "        self.cap = capacity\n",
    "        self.cache = {}\n",
    "        self.count_of_operation = 0\n",
    "        \n",
    "\n",
    "    def get(self, key: int) -> int:\n",
    "        self.count_of_operation+=1\n",
    "        if str(key) in self.cache:\n",
    "            # print(self.cache[str(key)] )\n",
    "            self.cache[str(key)][1]+=self.count_of_operation #increase the count of operation for 1\n",
    "            # print(self.cache[str(key)] )\n",
    "\n",
    "            return self.cache.get(str(key), -1)[0]\n",
    "        else:\n",
    "            return -1\n",
    "\n",
    "        \n",
    "\n",
    "    def put(self, key: int, value: int) -> None:\n",
    "        if len(self.cache) < self.cap:\n",
    "            self.count_of_operation+=1\n",
    "            self.cache[str(key)] = [value, self.count_of_operation]\n",
    "        else:\n",
    "            # self.count_of_operation+=1\n",
    "            #find the one element with the lowest count_of_operation\n",
    "            min_key = min(self.cache.items(), key=lambda x: x[1][1])\n",
    "            print(min_key)\n",
    "            del self.cache[min_key[0]]#remove the key with the lowest count_of_operation\n",
    "\n",
    "            #add the new member\n",
    "            self.count_of_operation+=1\n",
    "            self.cache[str(key)] = [value, self.count_of_operation]\n",
    "\n",
    "\n",
    "# Your LRUCache object will be instantiated and called as such:\n",
    "# obj = LRUCache(capacity)\n",
    "# param_1 = obj.get(key)\n",
    "# obj.put(key,value)"
   ]
  },
  {
   "cell_type": "code",
   "execution_count": null,
   "metadata": {},
   "outputs": [],
   "source": [
    "# REAL SOLUTION\n",
    "\n",
    "class Node:\n",
    "    def __init__(self, key, value):\n",
    "        self.key = key\n",
    "        self.value = value\n",
    "        self.prev=self.next = None\n",
    "\n",
    "\n",
    "class LRUCache:\n",
    "\n",
    "    def __init__(self, capacity: int):\n",
    "        self.cap = capacity\n",
    "        self.cache = {}\n",
    "        self.left, self.right = Node(0,0), Node(0,0)\n",
    "\n",
    "        self.left.next = self.right\n",
    "        self.right.prev = self.left\n",
    "\n",
    "    def remove(self, node):\n",
    "        prev, nex = node.prev, node.next\n",
    "        prev.next, nex.prev = nex, prev\n",
    "\n",
    "    def insert(self, node):\n",
    "        saved = self.right.prev\n",
    "        saved.next, node.prev = node, saved\n",
    "        node.next = self.right\n",
    "        self.right.prev = node\n",
    "\n",
    "\n",
    "    def get(self, key: int) -> int:\n",
    "        if key in self.cache:\n",
    "           self.remove(self.cache[key])\n",
    "           self.insert(self.cache[key])\n",
    "           return self.cache[key].value\n",
    "        else:\n",
    "            return -1\n",
    "\n",
    "    def put(self, key: int, value: int) -> None:\n",
    "        if key in self.cache:\n",
    "            self.remove(self.cache[key])\n",
    "        self.cache[key] = Node(key, value)\n",
    "        self.insert(self.cache[key])\n",
    "\n",
    "        if len(self.cache) > self.cap:\n",
    "            lru = self.left.next\n",
    "            self.remove(lru)\n",
    "            del self.cache[lru.key]\n",
    "\n",
    "\n",
    "\n",
    "\n",
    "        \n",
    "\n",
    "\n",
    "# Your LRUCache object will be instantiated and called as such:\n",
    "# obj = LRUCache(capacity)\n",
    "# param_1 = obj.get(key)\n",
    "# obj.put(key,value)"
   ]
  },
  {
   "attachments": {},
   "cell_type": "markdown",
   "metadata": {},
   "source": [
    "---\n",
    "Break a Palindrome: https://leetcode.com/problems/break-a-palindrome/"
   ]
  },
  {
   "cell_type": "code",
   "execution_count": 45,
   "metadata": {},
   "outputs": [
    {
     "data": {
      "text/plain": [
       "30"
      ]
     },
     "execution_count": 45,
     "metadata": {},
     "output_type": "execute_result"
    }
   ],
   "source": [
    "class Solution:\n",
    "    def breakPalindrome(self, palindrome: str) -> str:\n",
    "        # return \"a\"\n",
    "        if len(palindrome) == 1:\n",
    "            return \"\"\n",
    "        list_pal = list(palindrome)\n",
    "        mid = len(palindrome)//2\n",
    "        for i in range(mid):\n",
    "            if list_pal[i] != \"a\":\n",
    "                list_pal[i]=\"a\"\n",
    "                return ''.join(list_pal)\n",
    "        list_pal[-1]=\"b\"\n",
    "        return ''.join(list_pal)\n",
    " "
   ]
  },
  {
   "attachments": {},
   "cell_type": "markdown",
   "metadata": {},
   "source": [
    "---\n",
    "Pairs of Songs With Total Durations Divisible by 60: https://leetcode.com/problems/pairs-of-songs-with-total-durations-divisible-by-60/description/"
   ]
  },
  {
   "cell_type": "code",
   "execution_count": null,
   "metadata": {},
   "outputs": [],
   "source": [
    "class Solution:\n",
    "    def numPairsDivisibleBy60(self, time: List[int]) -> int:\n",
    "        remainder = collections.defaultdict(int)\n",
    "        # print(remainder)\n",
    "        remainders = [0] * 60\n",
    "        leftover = {}\n",
    "        res = 0\n",
    "        for i in time:\n",
    "            if i % 60 == 0:\n",
    "                res += remainders[0]\n",
    "            else:\n",
    "                res += remainders[60- i%60 ]\n",
    "            remainders[i%60]+=1\n",
    "            print(remainders)\n",
    "\n",
    "        return res\n",
    "\n",
    "\n",
    "            "
   ]
  },
  {
   "cell_type": "code",
   "execution_count": 73,
   "metadata": {},
   "outputs": [
    {
     "data": {
      "text/plain": [
       "40"
      ]
     },
     "execution_count": 73,
     "metadata": {},
     "output_type": "execute_result"
    }
   ],
   "source": [
    "100%60"
   ]
  },
  {
   "cell_type": "code",
   "execution_count": 75,
   "metadata": {},
   "outputs": [],
   "source": [
    "a = zip([7, 8, 9], [4, 5, 6], [1, 2, 3])"
   ]
  },
  {
   "cell_type": "code",
   "execution_count": 76,
   "metadata": {},
   "outputs": [
    {
     "data": {
      "text/plain": [
       "[(7, 4, 1), (8, 5, 2), (9, 6, 3)]"
      ]
     },
     "execution_count": 76,
     "metadata": {},
     "output_type": "execute_result"
    }
   ],
   "source": [
    "list(a)"
   ]
  },
  {
   "cell_type": "code",
   "execution_count": 77,
   "metadata": {},
   "outputs": [
    {
     "name": "stdout",
     "output_type": "stream",
     "text": [
      "a\n",
      "b\n"
     ]
    }
   ],
   "source": [
    "a= ['a', 'b', 'c']\n",
    "for i in a[:2]:\n",
    "    print(i)"
   ]
  },
  {
   "attachments": {},
   "cell_type": "markdown",
   "metadata": {},
   "source": [
    "---\n",
    "Reaching Points: https://leetcode.com/problems/reaching-points/description/"
   ]
  },
  {
   "cell_type": "code",
   "execution_count": null,
   "metadata": {},
   "outputs": [],
   "source": [
    "#My attempt -> Time limit exceeded \n",
    "class Solution:\n",
    "    def reachingPoints(self, sx: int, sy: int, tx: int, ty: int) -> bool:\n",
    "        start = [sx, sy]\n",
    "        end = [tx, ty]\n",
    "        while end[0] >= sx and end[1]>=sy:\n",
    "            if end == start:\n",
    "                return True\n",
    "            elif ty-tx >= sy:\n",
    "                ty -= tx\n",
    "                end = [tx,ty]\n",
    "            elif tx-ty >=sx:\n",
    "                tx -= ty\n",
    "                end = [tx, ty]\n",
    "            else:\n",
    "                break\n",
    "        return False\n"
   ]
  },
  {
   "cell_type": "code",
   "execution_count": 81,
   "metadata": {},
   "outputs": [
    {
     "data": {
      "text/plain": [
       "3"
      ]
     },
     "execution_count": 81,
     "metadata": {},
     "output_type": "execute_result"
    }
   ],
   "source": [
    "#REAL SOLUTION\n",
    "class Solution(object):\n",
    "    def reachingPoints(self, sx, sy, tx, ty):\n",
    "        \n",
    "        while tx>= sx and ty >=sy:\n",
    "            if tx == ty:\n",
    "                break\n",
    "            elif tx>ty:\n",
    "                if ty>sy:\n",
    "                    tx%=ty\n",
    "                else:\n",
    "                    return (tx-sx)%ty == 0\n",
    "\n",
    "            else:\n",
    "                if tx>sx:\n",
    "                    ty%=tx\n",
    "                else:\n",
    "                    return (ty-sy)%tx == 0\n",
    "        return tx==sx and ty==sy"
   ]
  },
  {
   "attachments": {},
   "cell_type": "markdown",
   "metadata": {},
   "source": [
    "---\n",
    "Remove Duplicates from Sorted List: https://leetcode.com/problems/remove-duplicates-from-sorted-list/description/"
   ]
  },
  {
   "cell_type": "code",
   "execution_count": null,
   "metadata": {},
   "outputs": [],
   "source": [
    "# Definition for singly-linked list.\n",
    "# class ListNode:\n",
    "#     def __init__(self, val=0, next=None):\n",
    "#         self.val = val\n",
    "#         self.next = next\n",
    "class Solution:\n",
    "    def deleteDuplicates(self, head: Optional[ListNode]) -> Optional[ListNode]:\n",
    "        if head is None:\n",
    "            return head\n",
    "        setter = set()\n",
    "        node = head\n",
    "        while node.next:\n",
    "            setter.add(node.val)\n",
    "            if node.next.val in setter:\n",
    "                node.next = node.next.next\n",
    "                \n",
    "            else:\n",
    "                node = node.next\n",
    "        return head\n",
    "                "
   ]
  },
  {
   "attachments": {},
   "cell_type": "markdown",
   "metadata": {},
   "source": [
    "---\n",
    "Remove Duplicates from Sorted List II: https://leetcode.com/problems/remove-duplicates-from-sorted-list-ii/description/"
   ]
  },
  {
   "cell_type": "code",
   "execution_count": null,
   "metadata": {},
   "outputs": [],
   "source": [
    "# REAL SOLUTION\n",
    "\n",
    "# Definition for singly-linked list.\n",
    "# class ListNode:\n",
    "#     def __init__(self, val=0, next=None):\n",
    "#         self.val = val\n",
    "#         self.next = next\n",
    "class Solution:\n",
    "    def deleteDuplicates(self, head: Optional[ListNode]) -> Optional[ListNode]:\n",
    "        dummy = ListNode(0, head)\n",
    "        prev = dummy\n",
    "        while head:\n",
    "\n",
    "            if head.next and head.val == head.next.val:\n",
    "                while head.next and head.val == head.next.val:\n",
    "                    head = head.next\n",
    "\n",
    "                prev.next = head.next\n",
    "\n",
    "            else:\n",
    "                prev = prev.next\n",
    "            head = head.next\n",
    "        return dummy.next"
   ]
  },
  {
   "cell_type": "code",
   "execution_count": null,
   "metadata": {},
   "outputs": [],
   "source": [
    "#MY WAY -> WRONG\n",
    "\n",
    "# Definition for singly-linked list.\n",
    "# class ListNode:\n",
    "#     def __init__(self, val=0, next=None):\n",
    "#         self.val = val\n",
    "#         self.next = next\n",
    "class Solution:\n",
    "    def deleteDuplicates(self, head: Optional[ListNode]) -> Optional[ListNode]:\n",
    "        if head is None:\n",
    "            return head\n",
    "        counter = self.make_counter(head)\n",
    "        node = head\n",
    "        dummy = ListNode(-1)\n",
    "        counter[dummy.val] = 1\n",
    "        dummy.next = node\n",
    "        print(dummy)\n",
    "        while dummy.next:\n",
    "            cur = dummy\n",
    "            while counter[dummy.next.val] > 1:\n",
    "                \n",
    "                cur.next = dummy.next.next\n",
    "                \n",
    "            dummy = dummy.next\n",
    "        return node\n",
    "        \n",
    "\n",
    "    def make_counter(self, head):\n",
    "        counter = {}\n",
    "        node = head\n",
    "        while node:\n",
    "            if node.val in counter:\n",
    "                counter[node.val]+=1\n",
    "            \n",
    "            else:\n",
    "                counter[node.val] = 1\n",
    "            node = node.next\n",
    "\n",
    "        return counter\n",
    "        "
   ]
  },
  {
   "attachments": {},
   "cell_type": "markdown",
   "metadata": {},
   "source": [
    "---\n",
    "Remove Duplicates From an Unsorted Linked List: https://leetcode.com/problems/remove-duplicates-from-an-unsorted-linked-list/description/"
   ]
  },
  {
   "cell_type": "code",
   "execution_count": null,
   "metadata": {},
   "outputs": [],
   "source": [
    "# Definition for singly-linked list.\n",
    "# class ListNode:\n",
    "#     def __init__(self, val=0, next=None):\n",
    "#         self.val = val\n",
    "#         self.next = next\n",
    "class Solution:\n",
    "    def deleteDuplicatesUnsorted(self, head: ListNode) -> ListNode:\n",
    "\n",
    "        dummy = ListNode(0,head)\n",
    "        \n",
    "        prev = dummy\n",
    "        counter = self.make_counter(head)\n",
    "        counter[dummy.val] = 1\n",
    "\n",
    "        while head:\n",
    "            if counter[head.val] >1:\n",
    "                prev.next = head.next\n",
    "            else:\n",
    "                prev = prev.next\n",
    "            head = head.next\n",
    "        return dummy.next\n",
    "\n",
    "    \n",
    "\n",
    "    def make_counter(self, head):\n",
    "        counter = {}\n",
    "        node = head\n",
    "        while node:\n",
    "            if node.val in counter:\n",
    "                counter[node.val]+=1\n",
    "            \n",
    "            else:\n",
    "                counter[node.val] = 1\n",
    "            node = node.next\n",
    "\n",
    "        return counter"
   ]
  },
  {
   "attachments": {},
   "cell_type": "markdown",
   "metadata": {},
   "source": [
    "---\n",
    "Insert Delete GetRandom O(1): https://leetcode.com/problems/insert-delete-getrandom-o1/description/"
   ]
  },
  {
   "cell_type": "code",
   "execution_count": null,
   "metadata": {},
   "outputs": [],
   "source": [
    "class RandomizedSet:\n",
    "\n",
    "    def __init__(self):\n",
    "        self.array = []\n",
    "        self.hash = {}\n",
    "        self.count = 0\n",
    "        \n",
    "\n",
    "    def insert(self, val: int) -> bool:\n",
    "        if val in self.hash:\n",
    "            return False\n",
    "        else:\n",
    "            self.array.append(val)\n",
    "            self.hash[val] = len(self.array)-1\n",
    "            return True\n",
    "\n",
    "    def remove(self, val: int) -> bool:\n",
    "        # print(self.hash)\n",
    "        # print(self.array)\n",
    "        if val in self.hash:\n",
    "            index = self.hash[val]\n",
    "            last_index = self.hash[self.array[-1]]\n",
    "            self.hash[self.array[-1]] = index\n",
    "\n",
    "            del self.hash[val]\n",
    "            #swap and remove last element\n",
    "            self.array[-1], self.array[index] = self.array[index], self.array[-1]\n",
    "            self.array.pop()\n",
    "\n",
    "            return True\n",
    "        else:\n",
    "            return False\n",
    "        \n",
    "\n",
    "    def getRandom(self) -> int:\n",
    "        \n",
    "        # print(self.array)\n",
    "        ri = random.randint(0, len(self.array)-1)\n",
    "        # if type(self.array[ri])!= str:\n",
    "        return self.array[ri] \n",
    "        \n",
    "\n",
    "\n",
    "# Your RandomizedSet object will be instantiated and called as such:\n",
    "# obj = RandomizedSet()\n",
    "# param_1 = obj.insert(val)\n",
    "# param_2 = obj.remove(val)\n",
    "# param_3 = obj.getRandom()"
   ]
  },
  {
   "cell_type": "code",
   "execution_count": 84,
   "metadata": {},
   "outputs": [
    {
     "data": {
      "text/plain": [
       "2"
      ]
     },
     "execution_count": 84,
     "metadata": {},
     "output_type": "execute_result"
    }
   ],
   "source": [
    "4//2"
   ]
  },
  {
   "attachments": {},
   "cell_type": "markdown",
   "metadata": {},
   "source": [
    "---\n",
    "Design an Ordered Stream: https://leetcode.com/problems/design-an-ordered-stream/description/"
   ]
  },
  {
   "cell_type": "code",
   "execution_count": null,
   "metadata": {},
   "outputs": [],
   "source": [
    "class OrderedStream:\n",
    "\n",
    "    def __init__(self, n: int):\n",
    "        self.arr = [0]*n\n",
    "        self.pointer = 0\n",
    "        \n",
    "\n",
    "    def insert(self, idKey: int, value: str) -> List[str]:\n",
    "        idx = idKey-1\n",
    "        self.arr[idx] = value\n",
    "        temp = []\n",
    "        while self.pointer<len(self.arr) and self.arr[self.pointer]:\n",
    "            temp.append(self.arr[self.pointer])\n",
    "            self.pointer+=1\n",
    "\n",
    "        return temp\n"
   ]
  },
  {
   "cell_type": "code",
   "execution_count": 95,
   "metadata": {},
   "outputs": [],
   "source": [
    "L = [ \"alice,20,800,mtv\", \"bob,50,1200,mtv\",\"alice,50,100,beijing\"]\n",
    "\n",
    "\n",
    "L.sort(key = lambda x: x[0])\n"
   ]
  },
  {
   "cell_type": "code",
   "execution_count": 96,
   "metadata": {},
   "outputs": [
    {
     "data": {
      "text/plain": [
       "['alice,20,800,mtv', 'alice,50,100,beijing', 'bob,50,1200,mtv']"
      ]
     },
     "execution_count": 96,
     "metadata": {},
     "output_type": "execute_result"
    }
   ],
   "source": [
    "L"
   ]
  },
  {
   "attachments": {},
   "cell_type": "markdown",
   "metadata": {},
   "source": [
    "---\n",
    "Flatten a Multilevel Doubly Linked List: https://leetcode.com/problems/flatten-a-multilevel-doubly-linked-list/description/"
   ]
  },
  {
   "cell_type": "code",
   "execution_count": null,
   "metadata": {},
   "outputs": [],
   "source": [
    "\"\"\"\n",
    "# Definition for a Node.\n",
    "class Node:\n",
    "    def __init__(self, val, prev, next, child):\n",
    "        self.val = val\n",
    "        self.prev = prev\n",
    "        self.next = next\n",
    "        self.child = child\n",
    "\"\"\"\n",
    "\n",
    "class Solution:\n",
    "    def flatten(self, head: 'Optional[Node]') -> 'Optional[Node]':\n",
    "        node=head\n",
    "        while node:\n",
    "            if node.child:\n",
    "                saved = node.next\n",
    "                added = self.flatten(node.child)\n",
    "                node.next, added.prev = added, node\n",
    "                #you need to do this with the end of added, not the head\n",
    "                #go to the end of added,\n",
    "                while added.next:\n",
    "                    added = added.next\n",
    "\n",
    "                added.next = saved\n",
    "                if saved:\n",
    "                    saved.prev =  added\n",
    "                node.child=None\n",
    "                node = node.next\n",
    "\n",
    "            else:\n",
    "                print(node.val)\n",
    "                node = node.next\n",
    "            \n",
    "        return head"
   ]
  },
  {
   "cell_type": "code",
   "execution_count": null,
   "metadata": {},
   "outputs": [],
   "source": [
    "class UndergroundSystem:\n",
    "\n",
    "    def __init__(self):\n",
    "        self.guys_on_train = {}\n",
    "        self.distances = collections.defaultdict(list)\n",
    "        \n",
    "\n",
    "    def checkIn(self, id: int, stationName: str, t: int) -> None:\n",
    "        self.guys_on_train[id] = (stationName, t)\n",
    "        \n",
    "        \n",
    "\n",
    "    def checkOut(self, id: int, stationName: str, t: int) -> None:\n",
    "        prev_stop = self.guys_on_train[id][0]\n",
    "        start_time = self.guys_on_train[id][1]\n",
    "\n",
    "        self.distances[prev_stop, stationName ].append(t-start_time)\n",
    "\n",
    "        del self.guys_on_train[id]\n",
    "\n",
    "        \n",
    "\n",
    "    def getAverageTime(self, startStation: str, endStation: str) -> float:\n",
    "        return sum(self.distances[startStation, endStation]) / len(self.distances[startStation, endStation])\n",
    "        \n",
    "\n",
    "\n",
    "# Your UndergroundSystem object will be instantiated and called as such:\n",
    "# obj = UndergroundSystem()\n",
    "# obj.checkIn(id,stationName,t)\n",
    "# obj.checkOut(id,stationName,t)\n",
    "# param_3 = obj.getAverageTime(startStation,endStation)"
   ]
  },
  {
   "attachments": {},
   "cell_type": "markdown",
   "metadata": {},
   "source": [
    "---\n",
    "Meeting rooms: https://leetcode.com/problems/meeting-rooms/description/"
   ]
  },
  {
   "cell_type": "code",
   "execution_count": null,
   "metadata": {},
   "outputs": [],
   "source": [
    "class Solution:\n",
    "    def canAttendMeetings(self, intervals: List[List[int]]) -> bool:\n",
    "\n",
    "        if intervals == []:\n",
    "            return True\n",
    "        intervals.sort(key=lambda x: x[0])\n",
    "        res = [intervals[0]]\n",
    "        for start, end in intervals[1:]:\n",
    "\n",
    "            if res[-1][1] > start:\n",
    "                return False\n",
    "            else:\n",
    "                res.append([start,end])\n",
    "            \n",
    "        return True"
   ]
  },
  {
   "attachments": {},
   "cell_type": "markdown",
   "metadata": {},
   "source": [
    "---\n",
    "Meeting Rooms II: https://leetcode.com/problems/meeting-rooms-ii/description/"
   ]
  },
  {
   "cell_type": "code",
   "execution_count": null,
   "metadata": {},
   "outputs": [],
   "source": [
    "class Solution:\n",
    "    def minMeetingRooms(self, intervals: List[List[int]]) -> int:\n",
    "\n",
    "        start = sorted([i[0] for i in intervals  ])\n",
    "        end = sorted([i[1] for i in intervals ])\n",
    "\n",
    "        res, count = 0, 0\n",
    "        s, e = 0,0\n",
    "\n",
    "        while s< len(intervals):\n",
    "            if start[s] < end[e]:\n",
    "                count+=1 #number of meeting rooms active\n",
    "                s+=1 #pointer\n",
    "            else:\n",
    "                count-=1\n",
    "                e+=1\n",
    "            res = max(res, count)\n",
    "        return res"
   ]
  },
  {
   "attachments": {},
   "cell_type": "markdown",
   "metadata": {},
   "source": [
    "---\n",
    "Remove All Adjacent Duplicates In String: https://leetcode.com/problems/remove-all-adjacent-duplicates-in-string/description/\n"
   ]
  },
  {
   "cell_type": "code",
   "execution_count": null,
   "metadata": {},
   "outputs": [],
   "source": [
    "class Solution:\n",
    "    def removeDuplicates(self, s: str) -> str:\n",
    "        stack = []\n",
    "        for i in s:\n",
    "            stack.append(i)\n",
    "            if len(stack)>=2 and stack[-1] == stack[-2]:\n",
    "                stack.pop()\n",
    "                stack.pop()\n",
    "        print(stack)\n",
    "        return \"\".join(stack)"
   ]
  },
  {
   "attachments": {},
   "cell_type": "markdown",
   "metadata": {},
   "source": [
    "---\n",
    "Remove All Adjacent Duplicates in String II: https://leetcode.com/problems/remove-all-adjacent-duplicates-in-string-ii/description/"
   ]
  },
  {
   "cell_type": "code",
   "execution_count": null,
   "metadata": {},
   "outputs": [],
   "source": [
    "class Solution:\n",
    "    def removeDuplicates(self, s: str, k: int) -> str:\n",
    "        \n",
    "        stack = [[\"#\", 0]]\n",
    "\n",
    "        for c in s:\n",
    "            if stack[-1][0] == c:\n",
    "                stack[-1][1]+=1\n",
    "                if stack[-1][1] == k:\n",
    "                    stack.pop()\n",
    "                \n",
    "            else:\n",
    "                stack.append([c,1])\n",
    "        print(stack)\n",
    "        return \"\".join([i*j for i,j in stack[1:]])"
   ]
  },
  {
   "attachments": {},
   "cell_type": "markdown",
   "metadata": {},
   "source": [
    "---\n",
    "Count Unhappy Friends: https://leetcode.com/problems/count-unhappy-friends/description/"
   ]
  },
  {
   "cell_type": "code",
   "execution_count": 5,
   "metadata": {},
   "outputs": [
    {
     "data": {
      "text/plain": [
       "[]"
      ]
     },
     "execution_count": 5,
     "metadata": {},
     "output_type": "execute_result"
    }
   ],
   "source": [
    "class Solution:\n",
    "    def unhappyFriends(self, n: int, preferences: List[List[int]], pairs: List[List[int]]) -> int:\n",
    "\n",
    "\n",
    "        #dd[0] = [1]\n",
    "        #dd[1] = []\n",
    "        #dd[2] = []\n",
    "        #dd[3] = [1]\n",
    "    \n",
    "        dd = {}\n",
    "        for i,x in pairs:\n",
    "            dd[i] = preferences[i][:preferences[i].index(x)]\n",
    "            dd[x] = preferences[x][:preferences[x].index(i)]\n",
    "        count=0\n",
    "        for i in dd:\n",
    "            for x in dd[i]:\n",
    "                if i in dd[x]:\n",
    "                    count+=1\n",
    "                    break\n",
    "        # they have to both want each other, \n",
    "        # a double connection, not only one wanting the other but the other doesnt want it\n",
    "    \n",
    "        return count\n",
    "        \n"
   ]
  },
  {
   "cell_type": "code",
   "execution_count": 6,
   "metadata": {},
   "outputs": [
    {
     "data": {
      "text/plain": [
       "True"
      ]
     },
     "execution_count": 6,
     "metadata": {},
     "output_type": "execute_result"
    }
   ],
   "source": [
    "[4,4] == sorted([4,4])"
   ]
  },
  {
   "attachments": {},
   "cell_type": "markdown",
   "metadata": {},
   "source": [
    "---\n",
    "Count Strictly Increasing Subarrays: https://leetcode.com/problems/count-strictly-increasing-subarrays/description/"
   ]
  },
  {
   "cell_type": "code",
   "execution_count": null,
   "metadata": {},
   "outputs": [],
   "source": [
    "#Help from Programing live with Larry\n",
    "class Solution:\n",
    "    def countSubarrays(self, nums: List[int]) -> int:\n",
    "        # sub_of_one = len(nums)\n",
    "        count = 0\n",
    "        last = -1\n",
    "        streak = 0\n",
    "        \n",
    "\n",
    "        for i in nums:\n",
    "            if i > last:\n",
    "                streak+=1\n",
    "            else:\n",
    "                streak = 1\n",
    "            last = i\n",
    "            count+=streak\n",
    "        return count\n"
   ]
  },
  {
   "attachments": {},
   "cell_type": "markdown",
   "metadata": {},
   "source": [
    "---\n",
    "Maximum Ascending Subarray Sum: https://leetcode.com/problems/maximum-ascending-subarray-sum/description/"
   ]
  },
  {
   "cell_type": "code",
   "execution_count": null,
   "metadata": {},
   "outputs": [],
   "source": [
    "class Solution:\n",
    "    def maxAscendingSum(self, nums: List[int]) -> int:\n",
    "        res = nums[0]\n",
    "        count = nums[0]\n",
    "        for i in range(1,len(nums)):\n",
    "            if nums[i-1] < nums[i]:\n",
    "                count+=nums[i]\n",
    "            else:\n",
    "                res = max(res, count)\n",
    "                count = nums[i]\n",
    "            res = max(res, count)\n",
    "            \n",
    "        return res"
   ]
  },
  {
   "cell_type": "code",
   "execution_count": null,
   "metadata": {},
   "outputs": [],
   "source": [
    "class Solution:\n",
    "    def maxAscendingSum(self, nums: List[int]) -> int:\n",
    "        res = 0\n",
    "        count = 0\n",
    "        for i in range(len(nums)):\n",
    "            if i==0 or nums[i-1] < nums[i]:\n",
    "                count+=nums[i]\n",
    "            else:\n",
    "                \n",
    "                count = nums[i]\n",
    "            res = max(res, count)\n",
    "            \n",
    "            \n",
    "        return res"
   ]
  },
  {
   "attachments": {},
   "cell_type": "markdown",
   "metadata": {},
   "source": [
    "---\n",
    "Encode and Decode Strings: https://leetcode.com/problems/encode-and-decode-strings/description/"
   ]
  },
  {
   "cell_type": "code",
   "execution_count": null,
   "metadata": {},
   "outputs": [],
   "source": [
    "class Codec:\n",
    "    def encode(self, strs: List[str]) -> str:\n",
    "        \"\"\"Encodes a list of strings to a single string.\n",
    "        \"\"\"\n",
    "        return \";;!!\".join(strs)\n",
    "\n",
    "        \n",
    "\n",
    "    def decode(self, s: str) -> List[str]:\n",
    "        \"\"\"Decodes a single string to a list of strings.\n",
    "        \"\"\"\n",
    "        return s.split(\";;!!\")\n",
    "\n",
    "\n",
    "\n",
    "\n",
    "# Your Codec object will be instantiated and called as such:\n",
    "# codec = Codec()\n",
    "# codec.decode(codec.encode(strs))"
   ]
  },
  {
   "cell_type": "code",
   "execution_count": null,
   "metadata": {},
   "outputs": [],
   "source": [
    "#Real solution\n",
    "\n",
    "class Codec:\n",
    "    def encode(self, strs: List[str]) -> str:\n",
    "        \"\"\"Encodes a list of strings to a single string.\n",
    "        \"\"\"\n",
    "        res = \"\"\n",
    "        for i in strs:\n",
    "            res += str(len(i))+\"#\"+i\n",
    "        return res\n",
    "\n",
    "        \n",
    "    def decode(self, s: str) -> List[str]:\n",
    "        \"\"\"Decodes a single string to a list of strings.\n",
    "        \"\"\"\n",
    "        res = []\n",
    "        i = 0\n",
    "        while i<len(s):\n",
    "            j=i\n",
    "            while s[j]!=\"#\":\n",
    "                j+=1\n",
    "            length = int(s[i:j])\n",
    "            c = s[j+1:j+1+length]\n",
    "            res.append(c)\n",
    "            i=length+j+1\n",
    "        return res\n",
    "\n",
    "# Your Codec object will be instantiated and called as such:\n",
    "# codec = Codec()\n",
    "# codec.decode(codec.encode(strs))"
   ]
  },
  {
   "cell_type": "code",
   "execution_count": 49,
   "metadata": {},
   "outputs": [
    {
     "name": "stdout",
     "output_type": "stream",
     "text": [
      "1 2\n",
      "2 3\n",
      "3 4\n",
      "4 5\n",
      "5 6\n"
     ]
    }
   ],
   "source": [
    "arr = [1,2,3,4,5,6]\n",
    "arr = [1,2,3,4,5,6]\n",
    "\n",
    "for x,y in zip(arr, arr[1:]):\n",
    "    print(x,y)\n",
    "\n"
   ]
  },
  {
   "cell_type": "code",
   "execution_count": 45,
   "metadata": {},
   "outputs": [
    {
     "name": "stdout",
     "output_type": "stream",
     "text": [
      "True\n"
     ]
    }
   ],
   "source": [
    "for i in range(len([])):\n",
    "    if arr[i] < arr[i+1]:\n",
    "        False\n",
    "print(True)"
   ]
  },
  {
   "attachments": {},
   "cell_type": "markdown",
   "metadata": {},
   "source": [
    "---\n",
    "Find Good Days to Rob the Bank: https://leetcode.com/problems/find-good-days-to-rob-the-bank/description/"
   ]
  },
  {
   "cell_type": "code",
   "execution_count": null,
   "metadata": {},
   "outputs": [],
   "source": [
    "#Programming live with larry helped me a lot\n",
    "class Solution:\n",
    "    def goodDaysToRobBank(self, security: List[int], time: int) -> List[int]:   \n",
    "        \"\"\"\n",
    "        - Start pointer from the index at index=time to skip the first unnecesary iterations\n",
    "        - bear in mind when to stop, when the len of the arr at the index+time == len(arr)\n",
    "        - need to check the left side of the chunk is all >=\n",
    "        - need to check the right side of the chuck is all <= (use helper functions)\n",
    "        - add the fullfilling to a res\n",
    "        \"\"\"\n",
    "        increasing = [0]\n",
    "        decreasing = [0]\n",
    "\n",
    "        for x,y in zip(security, security[1:]):\n",
    "            if x >= y:\n",
    "                decreasing.append(decreasing[-1]+1)\n",
    "            else:\n",
    "                decreasing.append(0)\n",
    "\n",
    "        \n",
    "        security = security[::-1]\n",
    "        for x,y in zip(security, security[1:]):\n",
    "            if x >=y:\n",
    "                increasing.append(increasing[-1]+1)\n",
    "            else:\n",
    "                increasing.append(0)        \n",
    "\n",
    "        increasing.reverse()\n",
    "\n",
    "        ans = []\n",
    "        for i in range(len(security)):\n",
    "            if i>= time and i+time < len(security) and increasing[i]>=time and decreasing[i]>=time:\n",
    "                ans.append(i)\n",
    "        return ans\n",
    "            \n"
   ]
  },
  {
   "attachments": {},
   "cell_type": "markdown",
   "metadata": {},
   "source": [
    "Non-decreasing Array: https://leetcode.com/problems/non-decreasing-array/description/"
   ]
  },
  {
   "cell_type": "code",
   "execution_count": null,
   "metadata": {},
   "outputs": [],
   "source": [
    "class Solution:\n",
    "    def checkPossibility(self, nums: List[int]) -> bool:\n",
    "        count = 0\n",
    "        \n",
    "        for i in range(len(nums)-1):\n",
    "            print(nums[i], nums[i+1])\n",
    "            \n",
    "\n",
    "            if nums[i]>nums[i+1]:\n",
    "                saved = nums[i]\n",
    "                nums[i] = nums[i+1]\n",
    "                if i!=0 and nums[i] < nums[i-1]:\n",
    "                    nums[i]=saved\n",
    "                    nums[i+1]=nums[i]\n",
    "                count+=1\n",
    "\n",
    "        if count > 1:\n",
    "                return False\n",
    "        return True"
   ]
  },
  {
   "cell_type": "code",
   "execution_count": null,
   "metadata": {},
   "outputs": [],
   "source": [
    "class Solution:\n",
    "    def trap(self, height: List[int]) -> int:\n",
    "\n",
    "        l, r = 0, len(height)-1\n",
    "        lm = 0\n",
    "        rm = 0\n",
    "        ans = 0\n",
    "\n",
    "        while l<r:\n",
    "            if height[l]<lm:\n",
    "                ans+= (lm-height[l])\n",
    "            if height[r]<rm:\n",
    "                ans+= (rm-height[r])\n",
    "\n",
    "            rm = max(height[r], rm)\n",
    "            lm = max(height[l], lm)\n",
    "                \n",
    "            if height[l]<height[r]:\n",
    "                l+=1\n",
    "            else:\n",
    "                r-=1\n",
    "\n",
    "        return ans"
   ]
  },
  {
   "attachments": {},
   "cell_type": "markdown",
   "metadata": {},
   "source": [
    "---\n",
    "Koko Eating Bananas: https://leetcode.com/problems/koko-eating-bananas/description/"
   ]
  },
  {
   "cell_type": "code",
   "execution_count": null,
   "metadata": {},
   "outputs": [],
   "source": [
    "class Solution:\n",
    "    def minEatingSpeed(self, piles: List[int], h: int) -> int:\n",
    "        \n",
    "        l, r = 1, max(piles)\n",
    "\n",
    "        while l<r:\n",
    "            hours_spent=0\n",
    "            mid = (l+r)//2\n",
    "\n",
    "            for pile in piles:\n",
    "                hours_spent+= math.ceil(pile/mid)\n",
    "            \n",
    "            if hours_spent <= h:\n",
    "                r=mid\n",
    "            else:\n",
    "                l=mid+1\n",
    "        return r\n",
    "        \n",
    "\n",
    "\n"
   ]
  },
  {
   "attachments": {},
   "cell_type": "markdown",
   "metadata": {},
   "source": [
    "---\n",
    "Find Minimum in Rotated Sorted Array: https://leetcode.com/problems/find-minimum-in-rotated-sorted-array/description/"
   ]
  },
  {
   "cell_type": "code",
   "execution_count": null,
   "metadata": {},
   "outputs": [],
   "source": [
    "class Solution:\n",
    "    def findMin(self, nums: List[int]) -> int:\n",
    "        if len(nums)==1:\n",
    "            return nums[0]\n",
    "        l, r = 0, len(nums)-1\n",
    "        new_min = math.inf\n",
    "        while l<=r:\n",
    "            mid = (l+r)//2\n",
    "            \n",
    "            new_min = min(new_min, nums[mid])\n",
    "            if nums[mid]<nums[l]:\n",
    "                r=mid-1\n",
    "\n",
    "            elif nums[mid]>=nums[l]:\n",
    "                if nums[l] > nums[r]:\n",
    "                    l = mid+1\n",
    "                else:\n",
    "                    r=mid-1\n",
    "            else:\n",
    "                break\n",
    "            \n",
    "        return new_min\n",
    "            \n",
    "            "
   ]
  },
  {
   "attachments": {},
   "cell_type": "markdown",
   "metadata": {},
   "source": [
    "---\n",
    "Lowest Common Ancestor of a Binary Search Tree: https://leetcode.com/problems/lowest-common-ancestor-of-a-binary-search-tree/description/"
   ]
  },
  {
   "cell_type": "code",
   "execution_count": null,
   "metadata": {},
   "outputs": [],
   "source": [
    "\n",
    "# Definition for a binary tree node.\n",
    "# class TreeNode:\n",
    "#     def __init__(self, x):\n",
    "#         self.val = x\n",
    "#         self.left = None\n",
    "#         self.right = None\n",
    "\n",
    "class Solution:\n",
    "    def lowestCommonAncestor(self, root: 'TreeNode', p: 'TreeNode', q: 'TreeNode') -> 'TreeNode':\n",
    "        #build up the parents dict so we can later use it to build the ansestors\n",
    "        par_val = root.val\n",
    "        p_val = p.val\n",
    "        q_val = q.val\n",
    "        \n",
    "        if p_val > par_val and q_val>par_val:\n",
    "            return self.lowestCommonAncestor(root.right,p,q)\n",
    "        elif p_val < par_val and q_val<par_val:\n",
    "            return self.lowestCommonAncestor(root.left,p,q)\n",
    "        else:\n",
    "            return root\n",
    "\n",
    "\n",
    "            \n",
    "\n",
    "\n",
    "\n"
   ]
  },
  {
   "cell_type": "markdown",
   "metadata": {},
   "source": []
  },
  {
   "cell_type": "code",
   "execution_count": null,
   "metadata": {},
   "outputs": [],
   "source": [
    "# Correct method Approach: Iteration\n",
    "# Definition for a binary tree node.\n",
    "# class TreeNode:\n",
    "#     def __init__(self, val=0, left=None, right=None):\n",
    "#         self.val = val\n",
    "#         self.left = left\n",
    "#         self.right = right\n",
    "class Solution:\n",
    "    def levelOrder(self, root: Optional[TreeNode]) -> List[List[int]]:\n",
    "        cur = root\n",
    "        queue = [cur]\n",
    "        final = []\n",
    "        while queue:\n",
    "            # print(queue)\n",
    "            res = []\n",
    "            queue2 = queue[:]\n",
    "            for root in queue2:\n",
    "                s = queue.pop(0)\n",
    "                if s is not None:\n",
    "                    queue.append(s.left)\n",
    "                    queue.append(s.right)\n",
    "\n",
    "                if root is None:\n",
    "                    continue\n",
    "                else:\n",
    "                    res.append(root.val)\n",
    "                    \n",
    "            final.append(res)\n",
    "        final.pop()\n",
    "        return final"
   ]
  },
  {
   "attachments": {},
   "cell_type": "markdown",
   "metadata": {},
   "source": [
    "---\n",
    "Binray Tree right side view: https://leetcode.com/problems/binary-tree-right-side-view/description/"
   ]
  },
  {
   "cell_type": "code",
   "execution_count": null,
   "metadata": {},
   "outputs": [],
   "source": [
    "# Definition for a binary tree node.\n",
    "# class TreeNode:\n",
    "#     def __init__(self, val=0, left=None, right=None):\n",
    "#         self.val = val\n",
    "#         self.left = left\n",
    "#         self.right = right\n",
    "class Solution:\n",
    "    def rightSideView(self, root: Optional[TreeNode]) -> List[int]:\n",
    "        res = []\n",
    "        queue = collections.deque([root])\n",
    "\n",
    "        while queue:\n",
    "            rightSide = None\n",
    "            qLevel = len(queue)\n",
    "            for i in range(qLevel):\n",
    "                node = queue.popleft()\n",
    "                if node:\n",
    "                    rightSide = node\n",
    "                    queue.append(node.left)\n",
    "                    queue.append(node.right)\n",
    "            if rightSide:\n",
    "                res.append(rightSide.val)\n",
    "        return res\n"
   ]
  },
  {
   "cell_type": "code",
   "execution_count": 99,
   "metadata": {},
   "outputs": [
    {
     "data": {
      "text/plain": [
       "'asdcdafasd'"
      ]
     },
     "execution_count": 99,
     "metadata": {},
     "output_type": "execute_result"
    }
   ],
   "source": [
    "a = \"asd cdaf asd\"\n",
    "a=a.replace(\" \", \"\")\n",
    "a"
   ]
  },
  {
   "cell_type": "code",
   "execution_count": 105,
   "metadata": {},
   "outputs": [
    {
     "data": {
      "text/plain": [
       "(4, 3)"
      ]
     },
     "execution_count": 105,
     "metadata": {},
     "output_type": "execute_result"
    }
   ],
   "source": [
    "import math\n",
    "a = \"haveaniceday\"\n",
    "t = math.ceil(math.sqrt(12))\n",
    "l = math.floor(math.sqrt(12))\n",
    "t, l\n",
    "# a.split()"
   ]
  },
  {
   "cell_type": "code",
   "execution_count": 107,
   "metadata": {},
   "outputs": [
    {
     "name": "stdout",
     "output_type": "stream",
     "text": [
      "have anic eday "
     ]
    }
   ],
   "source": [
    "j=4\n",
    "k=0\n",
    "for i in range(3):\n",
    "    print(a[k:j], end=\" \")\n",
    "    \n",
    "    j+=4\n",
    "    k+=4\n"
   ]
  },
  {
   "cell_type": "code",
   "execution_count": 146,
   "metadata": {},
   "outputs": [],
   "source": [
    "def encryption(s):\n",
    "    # s = s.replace(\" \", \"\")\n",
    "    L = len(s)\n",
    "    sq = math.sqrt(L)\n",
    "    print(sq)\n",
    "    col = math.ceil(sq)\n",
    "    row = math.floor(sq)\n",
    "    print(col, row)\n",
    "    k=0\n",
    "    \n",
    "    res = \"\"\n",
    "    for i in range(col):\n",
    "        # res += s[k:col+1] + \" \"\n",
    "        print(s[i::col])\n",
    "       \n"
   ]
  },
  {
   "cell_type": "code",
   "execution_count": null,
   "metadata": {},
   "outputs": [],
   "source": [
    "class Solution:\n",
    "    def characterReplacement(self, s: str, k: int) -> int:\n",
    "\n",
    "        #[\"AA\", \"B\", \"A\", \"BB\", \"A\"]\n",
    "        # count = collections.Counter(list(s))\n",
    "\n",
    "        count = {}\n",
    "        res = 0\n",
    "        \n",
    "        l = 0\n",
    "        maxf = 0 \n",
    "        for r in range(len(s)):\n",
    "            count[s[r]] = 1 + count.get(s[r], 0)\n",
    "            maxf = max(maxf, count[s[r]])\n",
    "\n",
    "            if (r-l+1) - maxf <= k:\n",
    "                res = r-l+1\n",
    "            else:\n",
    "                count[s[l]] -= 1\n",
    "                l+=1\n",
    "        return res\n"
   ]
  },
  {
   "cell_type": "code",
   "execution_count": null,
   "metadata": {},
   "outputs": [],
   "source": [
    "\"\"\"\n",
    "# Definition for a Node.\n",
    "class Node:\n",
    "    def __init__(self, val = 0, neighbors = None):\n",
    "        self.val = val\n",
    "        self.neighbors = neighbors if neighbors is not None else []\n",
    "\"\"\"\n",
    "\n",
    "class Solution:\n",
    "\n",
    "    def __init__(self):\n",
    "        self.visited = {}\n",
    "\n",
    "\n",
    "    def cloneGraph(self, node: 'Node') -> 'Node':\n",
    "        if not node:\n",
    "            return node\n",
    "        if node in self.visited:\n",
    "            return self.visited[node]\n",
    "        \n",
    "        cloned = Node(node.val, [])\n",
    "        self.visited[node] = cloned\n",
    "\n",
    "        if node.neighbors:\n",
    "            cloned.neighbors = [ self.cloneGraph(n) for n in node.neighbors]\n",
    "        return cloned\n",
    "        \n",
    "\n"
   ]
  },
  {
   "cell_type": "code",
   "execution_count": 1,
   "metadata": {},
   "outputs": [],
   "source": [
    "graph = {'a': [\"b\", 'c'], 'b': [\"d\"], 'c':['e'], 'd':['f'], 'e':[], 'f':[]}"
   ]
  },
  {
   "cell_type": "code",
   "execution_count": 19,
   "metadata": {},
   "outputs": [],
   "source": [
    "def traverse_graph_recursively(graph,key):\n",
    "    if graph[key] == []:\n",
    "        print(key)\n",
    "        return\n",
    "    print(key)\n",
    "    for i in graph[key]:\n",
    "        traverse_graph_recursively(graph, i)\n"
   ]
  },
  {
   "cell_type": "code",
   "execution_count": 20,
   "metadata": {},
   "outputs": [
    {
     "name": "stdout",
     "output_type": "stream",
     "text": [
      "a\n",
      "b\n",
      "d\n",
      "f\n",
      "c\n",
      "e\n"
     ]
    }
   ],
   "source": [
    "traverse_graph_recursively(graph, \"a\")"
   ]
  },
  {
   "cell_type": "code",
   "execution_count": 21,
   "metadata": {},
   "outputs": [],
   "source": [
    "def traverse_graph_recursively_no_base_case(graph,key):\n",
    "    \n",
    "    print(key)\n",
    "    for i in graph[key]:\n",
    "        traverse_graph_recursively(graph, i)\n"
   ]
  },
  {
   "cell_type": "code",
   "execution_count": 22,
   "metadata": {},
   "outputs": [
    {
     "name": "stdout",
     "output_type": "stream",
     "text": [
      "a\n",
      "b\n",
      "d\n",
      "f\n",
      "c\n",
      "e\n"
     ]
    }
   ],
   "source": [
    "traverse_graph_recursively_no_base_case(graph, \"a\")"
   ]
  },
  {
   "cell_type": "code",
   "execution_count": null,
   "metadata": {},
   "outputs": [],
   "source": [
    "graph = {'a': [\"b\", 'c'], 'b': [\"d\"], 'c':['e'], 'd':['f'], 'e':[], 'f':[]}"
   ]
  },
  {
   "cell_type": "code",
   "execution_count": 32,
   "metadata": {},
   "outputs": [],
   "source": [
    "def traverse_graph_bfs(graph, key):\n",
    "    queue = [key]\n",
    "    while queue:\n",
    "        \n",
    "        # print(queue)\n",
    "        cur = queue.pop(0)\n",
    "        print(cur)\n",
    "        for i in graph[cur]:\n",
    "            queue.append(i)"
   ]
  },
  {
   "cell_type": "code",
   "execution_count": 33,
   "metadata": {},
   "outputs": [
    {
     "name": "stdout",
     "output_type": "stream",
     "text": [
      "a\n",
      "b\n",
      "c\n",
      "d\n",
      "e\n",
      "f\n"
     ]
    }
   ],
   "source": [
    "traverse_graph_bfs(graph, \"a\")"
   ]
  },
  {
   "cell_type": "code",
   "execution_count": 34,
   "metadata": {},
   "outputs": [],
   "source": [
    "new_graph= {'f': [\"g\", 'i'], 'g':['h'], 'h':[], 'i':['g', 'k'], 'j': ['i'], 'k':[]}\n"
   ]
  },
  {
   "cell_type": "code",
   "execution_count": 37,
   "metadata": {},
   "outputs": [],
   "source": [
    "def has_path(graph, start, end):\n",
    "    stack = [start]\n",
    "\n",
    "    while stack:\n",
    "        cur = stack.pop()\n",
    "        if cur == end:\n",
    "            return True\n",
    "\n",
    "        for i in graph[cur]:\n",
    "            stack.append(i)\n",
    "    return False"
   ]
  },
  {
   "cell_type": "code",
   "execution_count": 46,
   "metadata": {},
   "outputs": [
    {
     "data": {
      "text/plain": [
       "False"
      ]
     },
     "execution_count": 46,
     "metadata": {},
     "output_type": "execute_result"
    }
   ],
   "source": [
    "has_path(new_graph, 'h', 'f')"
   ]
  },
  {
   "cell_type": "code",
   "execution_count": 58,
   "metadata": {},
   "outputs": [],
   "source": [
    "def has_path_2(graph, curr, end):\n",
    "    \n",
    "    if curr == end:\n",
    "        return True\n",
    "    for i in graph[curr]:\n",
    "        if has_path_2(graph, i, end) == True:\n",
    "            return True\n",
    "    return False\n"
   ]
  },
  {
   "cell_type": "code",
   "execution_count": 59,
   "metadata": {},
   "outputs": [
    {
     "data": {
      "text/plain": [
       "True"
      ]
     },
     "execution_count": 59,
     "metadata": {},
     "output_type": "execute_result"
    }
   ],
   "source": [
    "has_path_2(new_graph, 'f', 'k')"
   ]
  },
  {
   "cell_type": "code",
   "execution_count": 67,
   "metadata": {},
   "outputs": [],
   "source": [
    "import collections\n",
    "def undirected_path(edges, start, end):\n",
    "\n",
    "    graph = collections.defaultdict(list)\n",
    "    for a, b in edges:\n",
    "        graph[a].append(b)\n",
    "        graph[b].append(a)\n",
    "    \n",
    "    visited = {key: False for key in graph.keys()}\n",
    "    print(visited)\n",
    "    stack = [start]\n",
    "    while stack:\n",
    "        cur = stack.pop()\n",
    "        visited[cur] = True\n",
    "        if cur == end:\n",
    "            return True\n",
    "\n",
    "        for i in graph[cur]:\n",
    "            if visited[i] == False:\n",
    "                stack.append(i)\n",
    "                \n",
    "    return False\n",
    "\n",
    "    \n"
   ]
  },
  {
   "cell_type": "code",
   "execution_count": 73,
   "metadata": {},
   "outputs": [
    {
     "name": "stdout",
     "output_type": "stream",
     "text": [
      "{'i': False, 'j': False, 'k': False, 'm': False, 'l': False, 'o': False, 'n': False}\n"
     ]
    },
    {
     "data": {
      "text/plain": [
       "True"
      ]
     },
     "execution_count": 73,
     "metadata": {},
     "output_type": "execute_result"
    }
   ],
   "source": [
    "undirected_path([ [\"i\",'j'], ['k','i'], ['m','k'], ['k', 'l'], ['o', 'n'] ] ,\"m\",\"j\")"
   ]
  },
  {
   "cell_type": "code",
   "execution_count": 79,
   "metadata": {},
   "outputs": [],
   "source": [
    "def connected_components_count(graph):\n",
    "\n",
    "    # graph = collections.defaultdict(list)\n",
    "    # for a, b in edges:\n",
    "    #     graph[a].append(b)\n",
    "    #     graph[b].append(a)\n",
    "    iter = [i for i in graph.keys()]\n",
    "    print(iter)\n",
    "    visited = {key: False for key in graph.keys()}\n",
    " \n",
    "    count = 0\n",
    "    for i in iter:\n",
    "        if visited[i]==False:\n",
    "\n",
    "            stack = [i]\n",
    "            while stack:\n",
    "                cur = stack.pop()\n",
    "                visited[cur] = True\n",
    "\n",
    "                for i in graph[cur]:\n",
    "                    if visited[i] == False:\n",
    "                        stack.append(i)\n",
    "            count+=1\n",
    "                    \n",
    "    return count\n",
    "\n",
    "\n",
    "\n",
    "\n"
   ]
  },
  {
   "cell_type": "code",
   "execution_count": 80,
   "metadata": {},
   "outputs": [
    {
     "name": "stdout",
     "output_type": "stream",
     "text": [
      "[0, 1, 5, 8, 2, 3, 4]\n"
     ]
    },
    {
     "data": {
      "text/plain": [
       "2"
      ]
     },
     "execution_count": 80,
     "metadata": {},
     "output_type": "execute_result"
    }
   ],
   "source": [
    "connected_components_count({\n",
    "  0: [8, 1, 5],\n",
    "  1: [0],\n",
    "  5: [0, 8],\n",
    "  8: [0, 5],\n",
    "  2: [3, 4],\n",
    "  3: [2, 4],\n",
    "  4: [3, 2]\n",
    "}) # -> 2"
   ]
  },
  {
   "cell_type": "code",
   "execution_count": null,
   "metadata": {},
   "outputs": [],
   "source": [
    "def largest_component(graph):\n",
    "  visited = set()\n",
    "  \n",
    "  largest = 0\n",
    "  for node in graph:\n",
    "    size = explore(graph, node, visited)\n",
    "    if size > largest:\n",
    "      largest = size\n",
    "  \n",
    "  return largest\n",
    "  \n",
    "  \n",
    "def explore(graph, node, visited):\n",
    "  if node in visited:\n",
    "    return 0\n",
    "  # visited.add(node)\n",
    "  \n",
    "  size = 0\n",
    "  stack = [node]\n",
    "  while stack:\n",
    "    print(stack)\n",
    "    print(size)\n",
    "    cur = stack.pop()\n",
    "    if cur not in visited:\n",
    "      size+=1\n",
    "    visited.add(cur)\n",
    "    \n",
    "    \n",
    "    \n",
    "    for n in graph[cur]:\n",
    "      print(\"n\", n)\n",
    "      if n not in visited:\n",
    "        stack.append(n)\n",
    "  return size"
   ]
  },
  {
   "cell_type": "code",
   "execution_count": null,
   "metadata": {},
   "outputs": [],
   "source": [
    "#Wrong implementation using DFS\n",
    "\n",
    "import collections\n",
    "def shortest_path(edges, node_a, node_b):\n",
    "\n",
    "    visited = set()\n",
    "    graph = collections.defaultdict(list)\n",
    "    for a,b in edges:\n",
    "        graph[a].append(b)\n",
    "        graph[b].append(a)\n",
    "    \n",
    "    stack = [node_a]\n",
    "    count = 0\n",
    "    res = math.inf\n",
    "    while stack:\n",
    "        cur = stack.pop()\n",
    "        visited.add(cur)\n",
    "        count+=1\n",
    "\n",
    "        if cur == node_b:\n",
    "            res = min(count,res )\n",
    "            #refresh the count\n",
    "            count = 1\n",
    "            # #refresh the stack\n",
    "            # stack = [node_a]\n",
    "            continue\n",
    "\n",
    "        for i in graph[cur]:\n",
    "            if i not in visited:\n",
    "                stack.append()\n",
    "\n",
    "    return res-1 if res != math.inf else -1\n",
    "\n",
    "# def short(graph,visited, start, end):"
   ]
  },
  {
   "cell_type": "code",
   "execution_count": null,
   "metadata": {},
   "outputs": [],
   "source": [
    "import collections\n",
    "import math\n",
    "def shortest_path(edges, start, end):\n",
    "\n",
    "    visited = set()\n",
    "    graph = collections.defaultdict(list)\n",
    "    for a,b in edges:\n",
    "        graph[a].append(b)\n",
    "        graph[b].append(a)\n",
    "    \n",
    "    queue = [(start, 0)]\n",
    "    res = math.inf\n",
    "    while queue:\n",
    "        cur, index = queue.pop(0)\n",
    "        visited.add(cur)\n",
    "        \n",
    "        if cur == end:\n",
    "            res = min(index, res)\n",
    "            continue\n",
    " \n",
    "        for i in graph[cur]:\n",
    "            if i not in visited:\n",
    "                queue.append((i, index+1))\n",
    "\n",
    "    return res if res != math.inf else -1\n",
    "\n"
   ]
  },
  {
   "cell_type": "code",
   "execution_count": null,
   "metadata": {},
   "outputs": [],
   "source": [
    "def island_count(grid):\n",
    "    visited = set()\n",
    "    rows = len(grid)\n",
    "    cols = len(grid[0])\n",
    "    islands = 0\n",
    "\n",
    "    def bfs(r,c):\n",
    "        visited.add((r,c))\n",
    "        queue = [(r,c)]\n",
    "        directions = [[0,1], [0, -1], [1,0], [-1,0]]\n",
    "\n",
    "        while queue:\n",
    "            r, c = queue.pop()\n",
    "            for dr, dc in directions:\n",
    "                if r+dr in range(rows) and c+dc in range(cols) and grid[r+dr][c+dc] == \"L\" and (r+dr, c+dc) not in visited:\n",
    "\n",
    "                    queue.append( (r+dr, c+dc))\n",
    "                    visited.add((r+dr, c+dc))\n",
    "    for i in range(rows):\n",
    "        for j in range(cols):\n",
    "            if grid[i][j] == \"L\" and (i,j) not in visited:\n",
    "                bfs(i,j)\n",
    "                islands+=1\n",
    "    return islands\n"
   ]
  },
  {
   "cell_type": "code",
   "execution_count": null,
   "metadata": {},
   "outputs": [],
   "source": [
    "class Solution:\n",
    "    def maxAreaOfIsland(self, grid: List[List[int]]) -> int:\n",
    "        \n",
    "        visited = set()\n",
    "        rows = len(grid)\n",
    "        cols = len(grid[0])\n",
    "        area = 0\n",
    "\n",
    "        def bfs(r,c):\n",
    "            a = 1\n",
    "            visited.add((r,c))\n",
    "            queue = [(r,c)]\n",
    "            directions = [[0,1], [0, -1], [1,0], [-1,0]]\n",
    "\n",
    "            while queue:\n",
    "                r, c = queue.pop()\n",
    "                for dr, dc in directions:\n",
    "                    if r+dr in range(rows) and c+dc in range(cols) and grid[r+dr][c+dc] == 1 and (r+dr, c+dc) not in visited:\n",
    "                        queue.append( (r+dr, c+dc))\n",
    "                        visited.add((r+dr, c+dc))\n",
    "                        a+=1\n",
    "            return a\n",
    "                        \n",
    "        for i in range(rows):\n",
    "            for j in range(cols):\n",
    "                if grid[i][j] == 1 and (i,j) not in visited:\n",
    "                    a = bfs(i,j)\n",
    "                    area = max(area, a)\n",
    "        return area\n"
   ]
  }
 ],
 "metadata": {
  "kernelspec": {
   "display_name": "Python 3.8.9 64-bit",
   "language": "python",
   "name": "python3"
  },
  "language_info": {
   "codemirror_mode": {
    "name": "ipython",
    "version": 3
   },
   "file_extension": ".py",
   "mimetype": "text/x-python",
   "name": "python",
   "nbconvert_exporter": "python",
   "pygments_lexer": "ipython3",
   "version": "3.8.9"
  },
  "orig_nbformat": 4,
  "vscode": {
   "interpreter": {
    "hash": "31f2aee4e71d21fbe5cf8b01ff0e069b9275f58929596ceb00d14d90e3e16cd6"
   }
  }
 },
 "nbformat": 4,
 "nbformat_minor": 2
}
