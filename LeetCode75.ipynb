{
 "cells": [
  {
   "cell_type": "markdown",
   "metadata": {},
   "source": [
    "Running Sum: https://leetcode.com/problems/running-sum-of-1d-array/?envType=study-plan&id=level-1"
   ]
  },
  {
   "cell_type": "code",
   "execution_count": 3,
   "metadata": {},
   "outputs": [],
   "source": [
    "def solution(nums):\n",
    "    new_list = []\n",
    "    for i in range(len(nums)):\n",
    "        value = sum(nums[:i+1])\n",
    "        new_list.append(value)\n",
    "    print(new_list)"
   ]
  },
  {
   "cell_type": "code",
   "execution_count": 4,
   "metadata": {},
   "outputs": [
    {
     "name": "stdout",
     "output_type": "stream",
     "text": [
      "[1, 3, 6, 10]\n"
     ]
    }
   ],
   "source": [
    "solution([1,2,3,4])"
   ]
  },
  {
   "cell_type": "code",
   "execution_count": 26,
   "metadata": {},
   "outputs": [],
   "source": [
    "def pivotIndex( nums) -> int:\n",
    "    for i in range(len(nums)):\n",
    "        # print(sum(nums[:i]))\n",
    "        # print(sum(nums[i+1:]))\n",
    "        if sum(nums[:i]) == sum(nums[i+1:]):\n",
    "            return i\n",
    "    return -1"
   ]
  },
  {
   "cell_type": "code",
   "execution_count": 27,
   "metadata": {},
   "outputs": [
    {
     "name": "stdout",
     "output_type": "stream",
     "text": [
      "3\n"
     ]
    },
    {
     "data": {
      "text/plain": [
       "-1"
      ]
     },
     "execution_count": 27,
     "metadata": {},
     "output_type": "execute_result"
    }
   ],
   "source": [
    "pivotIndex([1,7,3,6,5,6])"
   ]
  },
  {
   "cell_type": "code",
   "execution_count": 17,
   "metadata": {},
   "outputs": [
    {
     "data": {
      "text/plain": [
       "([1, 7, 3], [6, 5, 6])"
      ]
     },
     "execution_count": 17,
     "metadata": {},
     "output_type": "execute_result"
    }
   ],
   "source": [
    "class Solution:\n",
    "    def pivotIndex(self, nums: List[int]) -> int:\n",
    "    \n",
    "        leftSum, rightSum = 0, sum(nums)\n",
    "       \n",
    "        for idx, ele in enumerate(nums):\n",
    "            rightSum -= ele\n",
    "            \n",
    "            if leftSum == rightSum:\n",
    "                return idx      # Return the pivot index...\n",
    "            leftSum += ele\n",
    "        return -1  \n",
    "\n",
    "            \n",
    "            "
   ]
  },
  {
   "cell_type": "markdown",
   "metadata": {},
   "source": [
    "Valid Sudoku: https://leetcode.com/problems/valid-sudoku/"
   ]
  },
  {
   "cell_type": "code",
   "execution_count": null,
   "metadata": {},
   "outputs": [],
   "source": [
    "import collections\n",
    "\n",
    "def isValidSudoku(board):\n",
    "    #detect duplicates with a HashSet\n",
    "    #here the key is going to be the column number and the value is going to be another set\n",
    "    #the set is going to be the values in the column\n",
    "    cols = collections.defaultdict(set) \n",
    "    #the thing inside the brackets tells you in what DS we place the vale in\n",
    "    #make the same one for the rows\n",
    "    rows = collections.defaultdict(set)\n",
    "    #make for the squares as well\n",
    "    squares = collections.defaultdict(set) #key = (r//3, c//3)\n",
    "\n",
    "    for r in range(9):\n",
    "        for c in range(9):\n",
    "            if board[r][c] == '.':\n",
    "                continue\n",
    "            if (board[r][c] in rows[r] or board[r][c] in cols[c] or board[r][c] in squares[(r//3, c//3)]):\n",
    "                return False\n",
    "            cols[c].add(board[r][c])\n",
    "            rows[r].add(board[r][c])\n",
    "            squares[(r//3, c//3)].add(board[r][c])\n",
    "    return True\n",
    "                #add the element to all - row, col and square"
   ]
  },
  {
   "cell_type": "code",
   "execution_count": null,
   "metadata": {},
   "outputs": [],
   "source": [
    "somedict = {}\n",
    "# print(somedict[3]) # KeyError\n",
    "import collections\n",
    "someddict = collections.defaultdict(int)\n",
    "\n",
    "print(someddict[3]) # print int(), thus 0\n",
    "someddict[4] = 5\n",
    "print(someddict.items())"
   ]
  },
  {
   "cell_type": "markdown",
   "metadata": {},
   "source": [
    "3Sum: https://leetcode.com/problems/3sum/"
   ]
  },
  {
   "cell_type": "code",
   "execution_count": 36,
   "metadata": {},
   "outputs": [],
   "source": [
    "def threeSum(nums):\n",
    "    #Time Complexity: O(n^2), Space is either O(1) or O(n)\n",
    "    nums = sorted(nums) #sorting can take some space\n",
    "    grand_list = []\n",
    "    print(nums)\n",
    "    for i in range(len(nums)):\n",
    "        #dont want to reuse the same value, you want to continue\n",
    "        if i > 0 and nums[i] == nums[i - 1]:\n",
    "                continue\n",
    "        j = i+1\n",
    "        k = len(nums)-1\n",
    "        while j < k:\n",
    "            print(nums[j],nums[k] )\n",
    "            print(\"enter\")\n",
    "            diff = nums[i]+ nums[j]+ nums[k]\n",
    "            if diff < 0:\n",
    "                j+=1\n",
    "            elif diff > 0:\n",
    "                k-=1\n",
    "            else:\n",
    "\n",
    "                grand_list.append([nums[i], nums[j], nums[k]])\n",
    "                j+=1\n",
    "                #\n",
    "                while nums[j] == nums[j - 1] and j < k:\n",
    "                    j += 1\n",
    "                \n",
    "\n",
    "    print(grand_list)"
   ]
  },
  {
   "cell_type": "code",
   "execution_count": 37,
   "metadata": {},
   "outputs": [
    {
     "name": "stdout",
     "output_type": "stream",
     "text": [
      "[-4, -1, -1, 0, 1, 2]\n",
      "0\n",
      "-4 2\n",
      "---------------\n",
      "-1 2\n",
      "enter\n",
      "-1 2\n",
      "enter\n",
      "0 2\n",
      "enter\n",
      "1 2\n",
      "enter\n",
      "1\n",
      "-1 -4\n",
      "---------------\n",
      "-1 2\n",
      "enter\n",
      "0 2\n",
      "enter\n",
      "0 1\n",
      "enter\n",
      "2\n",
      "-1 -1\n",
      "---------------\n",
      "3\n",
      "0 -1\n",
      "---------------\n",
      "1 2\n",
      "enter\n",
      "4\n",
      "1 0\n",
      "---------------\n",
      "5\n",
      "2 1\n",
      "---------------\n",
      "[[-1, -1, 2], [-1, 0, 1]]\n"
     ]
    }
   ],
   "source": [
    "threeSum([-1,0,1,2,-1,-4])"
   ]
  },
  {
   "cell_type": "code",
   "execution_count": null,
   "metadata": {},
   "outputs": [],
   "source": [
    "class Solution:\n",
    "    def threeSum(self, nums: List[int]) -> List[List[int]]:\n",
    "        res = []\n",
    "        nums.sort()\n",
    "\n",
    "        for i, a in enumerate(nums):\n",
    "            if i > 0 and a == nums[i - 1]:\n",
    "                continue\n",
    "\n",
    "            l, r = i + 1, len(nums) - 1\n",
    "            while l < r:\n",
    "                threeSum = a + nums[l] + nums[r]\n",
    "                if threeSum > 0:\n",
    "                    r -= 1\n",
    "                elif threeSum < 0:\n",
    "                    l += 1\n",
    "                else:\n",
    "                    res.append([a, nums[l], nums[r]])\n",
    "                    l += 1\n",
    "                    while nums[l] == nums[l - 1] and l < r:\n",
    "                        l += 1\n",
    "        return res"
   ]
  },
  {
   "attachments": {},
   "cell_type": "markdown",
   "metadata": {},
   "source": [
    "---\n",
    "Add Two Numbers: https://leetcode.com/problems/add-two-numbers/description/"
   ]
  },
  {
   "cell_type": "code",
   "execution_count": null,
   "metadata": {},
   "outputs": [],
   "source": [
    "# Definition for singly-linked list.\n",
    "# class ListNode:\n",
    "#     def __init__(self, val=0,next= None):\n",
    "#         self.val = val\n",
    "#         self.next = next\n",
    "class Solution:\n",
    "    def addTwoNumbers(self, l1: Optional[ListNode], l2: Optional[ListNode]) -> Optional[ListNode]:\n",
    "        node1 = l1\n",
    "        node2 = l2\n",
    "        dummy = ListNode(-1)\n",
    "        curr = dummy\n",
    "        carry = 0\n",
    "        while node1 or node2:\n",
    "\n",
    "            if node1 is not None:\n",
    "                value1 = node1.val\n",
    "            else:\n",
    "                value1 = 0\n",
    "\n",
    "\n",
    "            # value1 = node1.val\n",
    "            if node2 is not None:\n",
    "                value2 = node2.val\n",
    "            else:\n",
    "                value2 = 0\n",
    "\n",
    "            fin = value1+value2 + carry\n",
    "            carry = 0\n",
    "            print(fin)\n",
    "            if fin >= 10:\n",
    "                fin = fin-10\n",
    "                carry = 1\n",
    "\n",
    "            curr.next = ListNode(fin)\n",
    "            curr = curr.next\n",
    "\n",
    "            #move to the next iteration\n",
    "            if node1 is not None:\n",
    "                node1 = node1.next\n",
    "\n",
    "            if node2 is not None:\n",
    "                node2 = node2.next\n",
    "        \n",
    "        if carry:\n",
    "            curr.next = ListNode(1)\n",
    "\n",
    "\n",
    "        return dummy.next\n",
    "\n",
    "\n"
   ]
  },
  {
   "cell_type": "code",
   "execution_count": null,
   "metadata": {},
   "outputs": [],
   "source": [
    "# First iteration that is working but not elegant\n",
    "# Definition for singly-linked list.\n",
    "# class ListNode:\n",
    "#     def __init__(self, val=0):\n",
    "#         self.val = val\n",
    "#         self.next = None\n",
    "class Solution:\n",
    "    def addTwoNumbers(self, l1: Optional[ListNode], l2: Optional[ListNode]) -> Optional[ListNode]:\n",
    "        reverse_l1 =  self.reverse(l1)\n",
    "        reverse_l2 = self.reverse(l2)\n",
    "        reverse_l1_str =\"\"\n",
    "        reverse_l2_str =\"\"\n",
    "\n",
    "        while reverse_l2:\n",
    "            reverse_l2_str += str(reverse_l2.val)\n",
    "            reverse_l2 = reverse_l2.next\n",
    "\n",
    "        while reverse_l1:\n",
    "            reverse_l1_str += str(reverse_l1.val)\n",
    "            reverse_l1 = reverse_l1.next\n",
    "        \n",
    "        value = int(reverse_l2_str) + int(reverse_l1_str)\n",
    "\n",
    "        \n",
    "        dummy = ListNode(-1)\n",
    "        cur = dummy\n",
    "        for i in str(value)[::-1]:\n",
    "\n",
    "            cur.next = ListNode(int(i))\n",
    "            cur = cur.next\n",
    "            \n",
    "        return dummy.next\n",
    "\n",
    "    def reverse(self,l1):\n",
    "        \n",
    "        curr = l1\n",
    "        prev = None\n",
    "        while curr:\n",
    "            temp = curr.next\n",
    "            curr.next = prev\n",
    "            prev = curr\n",
    "            curr = temp\n",
    "        return prev\n",
    "\n"
   ]
  },
  {
   "attachments": {},
   "cell_type": "markdown",
   "metadata": {},
   "source": [
    "---\n",
    "Longet Palindromic Substring: https://leetcode.com/problems/longest-palindromic-substring/description/"
   ]
  },
  {
   "cell_type": "code",
   "execution_count": null,
   "metadata": {},
   "outputs": [],
   "source": [
    "class Solution:\n",
    "    def longestPalindrome(self, s: str) -> str:\n",
    "        if len(s) == 1:\n",
    "            return s\n",
    "        longest = 0\n",
    "        res = None\n",
    "        for i in range(len(s)):\n",
    "            for j in range(len(s)+1):\n",
    "                # print(s[i:j])\n",
    "\n",
    "\n",
    "                if i!=j and s[i:j] == s[i:j][::-1]:\n",
    "                    \n",
    "                    if len(s[i:j]) > longest:\n",
    "                        longest = len(s[i:j])\n",
    "                        res = s[i:j]\n",
    "        return res"
   ]
  },
  {
   "attachments": {},
   "cell_type": "markdown",
   "metadata": {},
   "source": [
    "---\n",
    "Longest Palindromic Substring: https://leetcode.com/problems/longest-palindromic-substring/description/"
   ]
  },
  {
   "cell_type": "code",
   "execution_count": null,
   "metadata": {},
   "outputs": [],
   "source": [
    "class Solution:\n",
    "    def longestPalindrome(self, s: str) -> str:\n",
    "        res = \"\"\n",
    "        lenght = 0\n",
    "\n",
    "        for i in range(len(s)):\n",
    "\n",
    "          \n",
    "            l, r = i, i\n",
    "            while l >= 0 and r < len(s) and s[l]==s[r]:\n",
    "\n",
    "                if lenght < (r-l+1):\n",
    "                    res = s[l:r+1]\n",
    "                    lenght = r-l+1\n",
    "                l-=1\n",
    "                r+=1\n",
    "            \n",
    "            l, r = i, i+1\n",
    "            while l >= 0 and r < len(s) and s[l]==s[r]:\n",
    "                if lenght < (r-l+1):\n",
    "                    res = s[l:r+1]\n",
    "                    lenght = r-l+1\n",
    "                l-=1\n",
    "                r+=1\n",
    "        return res"
   ]
  },
  {
   "attachments": {},
   "cell_type": "markdown",
   "metadata": {},
   "source": [
    "---\n",
    "Sqrt(x): https://leetcode.com/problems/sqrtx/"
   ]
  },
  {
   "cell_type": "code",
   "execution_count": null,
   "metadata": {},
   "outputs": [],
   "source": [
    "class Solution:\n",
    "    def mySqrt(self, x: int) -> int:\n",
    "        start = 1\n",
    "        end = x\n",
    "        ans = 0\n",
    "        while start<=end:\n",
    "            mid = (start+end)//2\n",
    "            mid_sq = mid*mid\n",
    "\n",
    "            if mid_sq == x:\n",
    "                return mid\n",
    "\n",
    "            if mid_sq < x:\n",
    "                start = mid+1\n",
    "                ans = mid\n",
    "            else:\n",
    "                end = mid-1\n",
    "        return ans\n"
   ]
  },
  {
   "attachments": {},
   "cell_type": "markdown",
   "metadata": {},
   "source": [
    "---\n",
    "Binary Tree Inorder Traversal: https://leetcode.com/problems/binary-tree-inorder-traversal/description/\n"
   ]
  },
  {
   "cell_type": "code",
   "execution_count": null,
   "metadata": {},
   "outputs": [],
   "source": [
    "#Recursive way\n",
    "\n",
    "# Definition for a binary tree node.\n",
    "# class TreeNode:\n",
    "#     def __init__(self, val=0, left=None, right=None):\n",
    "#         self.val = val\n",
    "#         self.left = left\n",
    "#         self.right = right\n",
    "class Solution:\n",
    "    def inorderTraversal(self, root: Optional[TreeNode] ) -> List[int]:\n",
    "        res = []\n",
    "        if root:\n",
    "            res = self.inorderTraversal(root.left)\n",
    "            res.append(root.val)\n",
    "            res = res + self.inorderTraversal(root.right)\n",
    "        return res\n",
    "\n"
   ]
  },
  {
   "cell_type": "code",
   "execution_count": null,
   "metadata": {},
   "outputs": [],
   "source": [
    "# Definition for a binary tree node.\n",
    "# class TreeNode:\n",
    "#     def __init__(self, val=0, left=None, right=None):\n",
    "#         self.val = val\n",
    "#         self.left = left\n",
    "#         self.right = right\n",
    "class Solution:\n",
    "    def inorderTraversal(self, root: Optional[TreeNode] ) -> List[int]:\n",
    "        res = []\n",
    "        stack = []\n",
    "        curr = root\n",
    "        while curr or stack:\n",
    "            while curr:\n",
    "                stack.append(curr)\n",
    "                curr = curr.left\n",
    "\n",
    "            curr = stack.pop()\n",
    "            res.append(curr.val)\n",
    "            curr = curr.right\n",
    "        return res\n",
    "            "
   ]
  },
  {
   "attachments": {},
   "cell_type": "markdown",
   "metadata": {},
   "source": [
    "---\n",
    "Missing Number: https://leetcode.com/problems/missing-number/description/"
   ]
  },
  {
   "cell_type": "code",
   "execution_count": null,
   "metadata": {},
   "outputs": [],
   "source": [
    "class Solution:\n",
    "    def missingNumber(self, nums: List[int]) -> int:\n",
    "        # nums = sorted(nums)\n",
    "        actual = list(range(len(nums)+1))\n",
    "        return sum(actual) - sum(nums)"
   ]
  },
  {
   "cell_type": "code",
   "execution_count": null,
   "metadata": {},
   "outputs": [],
   "source": [
    "class Solution:\n",
    "    def missingNumber(self, nums: List[int]) -> int:\n",
    "        nums = set(nums)\n",
    "        print(nums)\n",
    "        actual = set(range(len(nums)+1))\n",
    "        res = actual - nums\n",
    "        return list(res)[0]"
   ]
  },
  {
   "cell_type": "code",
   "execution_count": null,
   "metadata": {},
   "outputs": [],
   "source": [
    "class Solution:\n",
    "    def missingNumber(self, nums: List[int]) -> int:\n",
    "        # nums = sorted(nums)\n",
    "        the_dict = collections.Counter(nums)\n",
    "        for i in range(len(nums)+1):\n",
    "            if i not in the_dict:\n",
    "                return i\n",
    "\n"
   ]
  },
  {
   "attachments": {},
   "cell_type": "markdown",
   "metadata": {},
   "source": [
    "---\n",
    "Container With Most Water: https://leetcode.com/problems/container-with-most-water/description/"
   ]
  },
  {
   "cell_type": "code",
   "execution_count": null,
   "metadata": {},
   "outputs": [],
   "source": [
    "class Solution:\n",
    "    def maxArea(self, height: List[int]) -> int:\n",
    "        \n",
    "        max_area = 0\n",
    "        i = 0\n",
    "        j = len(height)-1\n",
    "        while i<j:\n",
    "            lenghtq = abs(j-i)\n",
    "            heightq = height[i] if height[i] < height[j] else height[j]\n",
    "            area = lenghtq * heightq\n",
    "\n",
    "            if area > max_area:\n",
    "                max_area = area \n",
    "            \n",
    "            if height[i] < height[j]:\n",
    "                i+=1\n",
    "            else:\n",
    "                j-=1\n",
    "        return max_area"
   ]
  },
  {
   "attachments": {},
   "cell_type": "markdown",
   "metadata": {},
   "source": [
    "---\n",
    "Letter Combinations of a Phone Number: https://leetcode.com/problems/letter-combinations-of-a-phone-number/description/"
   ]
  },
  {
   "cell_type": "code",
   "execution_count": null,
   "metadata": {},
   "outputs": [],
   "source": [
    "class Solution: \n",
    "    def letterCombinations(self, digits: str) -> List[str]:\n",
    "        numbers = {\"2\": \"abc\", \"3\": \"def\", \"4\": \"ghi\", \"5\": \"jkl\", \n",
    "                   \"6\": \"mno\", \"7\": \"pqrs\", \"8\": \"tuv\", \"9\": \"wxyz\"}\n",
    "        res = []\n",
    "        \n",
    "        def backtracking(i, curStr):\n",
    "            #base case\n",
    "            if len(curStr) == len(digits):\n",
    "                res.append(curStr)\n",
    "                return\n",
    "            \n",
    "            else:\n",
    "                for c in numbers[digits[i]]:\n",
    "                    backtracking(i+1, curStr+ c)\n",
    "        \n",
    "        if digits:\n",
    "            backtracking(0, \"\")\n",
    "        return res\n",
    "        "
   ]
  },
  {
   "attachments": {},
   "cell_type": "markdown",
   "metadata": {},
   "source": [
    "---\n",
    "Binary Tree Paths: https://leetcode.com/problems/binary-tree-paths/description/"
   ]
  },
  {
   "cell_type": "code",
   "execution_count": null,
   "metadata": {},
   "outputs": [],
   "source": [
    "# Definition for a binary tree node.\n",
    "# class TreeNode:\n",
    "#     def __init__(self, val=0, left=None, right=None):\n",
    "#         self.val = val\n",
    "#         self.left = left\n",
    "#         self.right = right\n",
    "class Solution:\n",
    "    def binaryTreePaths(self, root: Optional[TreeNode]) -> List[str]:\n",
    "        \n",
    "        res = []\n",
    "\n",
    "        def backtracking(root, curStr):\n",
    "            if root is None:\n",
    "                return \n",
    "\n",
    "            if root.left is None and root.right is None:\n",
    "                curStr += f\"{root.val}\"\n",
    "                res.append(curStr)\n",
    "                return\n",
    "            else:\n",
    "                curStr += f\"{root.val}->\"\n",
    "                # if root.left:\n",
    "                backtracking(root.left, curStr)\n",
    "                # else:\n",
    "                backtracking(root.right, curStr)\n",
    "        \n",
    "        if root:\n",
    "            backtracking(root, \"\")           \n",
    "        return res\n",
    "\n",
    "\n"
   ]
  },
  {
   "attachments": {},
   "cell_type": "markdown",
   "metadata": {},
   "source": [
    "---\n",
    "Permutations: https://leetcode.com/problems/permutations/description/"
   ]
  },
  {
   "cell_type": "code",
   "execution_count": null,
   "metadata": {},
   "outputs": [],
   "source": [
    "#my attempt but it only gives half the solutions\n",
    "\n",
    "class Solution:\n",
    "    def permute(self, nums: List[int]) -> List[List[int]]:\n",
    "        res = []\n",
    "        def backtrack(nums, used, perm ):\n",
    "            if len(perm) == len(nums):\n",
    "                res.append(perm)\n",
    "                return\n",
    "\n",
    "            else:\n",
    "                for i in range(len(nums)):\n",
    "                    if not used[i]:\n",
    "                        used[i] = True\n",
    "                        perm.append(nums[i])\n",
    "                        backtrack(nums, used, perm)\n",
    "                        used[i] = False\n",
    "                        perm = []\n",
    "\n",
    "        used = [False] * len(nums)\n",
    "        backtrack(nums, used, [])\n",
    "        return res\n",
    "\n",
    "\n",
    "\n"
   ]
  },
  {
   "cell_type": "code",
   "execution_count": null,
   "metadata": {},
   "outputs": [],
   "source": [
    "#Real solution\n",
    "class Solution:\n",
    "    def permute(self, nums: List[int]) -> List[List[int]]:\n",
    "        result = []\n",
    "\n",
    "        if len(nums) == 1:\n",
    "            return [nums[:]]\n",
    "\n",
    "        for i in range(len(nums)):\n",
    "            n = nums.pop(0)\n",
    "            perms = self.permute(nums) #[3]\n",
    "\n",
    "            for perm in perms:\n",
    "                perm.append(n)\n",
    "            result.extend(perms)\n",
    "            nums.append(n)\n",
    "        return result\n"
   ]
  },
  {
   "attachments": {},
   "cell_type": "markdown",
   "metadata": {},
   "source": [
    "---\n",
    "Count and Say: https://leetcode.com/problems/count-and-say/description/"
   ]
  },
  {
   "cell_type": "code",
   "execution_count": null,
   "metadata": {},
   "outputs": [],
   "source": [
    "class Solution:\n",
    "    def countAndSay(self, n: int, res=\"1\" , k=1) -> str:\n",
    "        \n",
    "        #base case\n",
    "        # if n='1':\n",
    "        if n == 1:\n",
    "            return \"1\"\n",
    "\n",
    "        prev = self.countAndSay(n-1)\n",
    "        count = 1\n",
    "        res = \"\"\n",
    "\n",
    "        for i in range(len(prev)):\n",
    "            if i == len(prev)-1 or prev[i] != prev[i+1]:\n",
    "                res  += str(count) + prev[i]\n",
    "                count = 1\n",
    "            else:\n",
    "                count+=1\n",
    "        return res\n",
    "        \n",
    "\n",
    "\n"
   ]
  },
  {
   "attachments": {},
   "cell_type": "markdown",
   "metadata": {},
   "source": [
    "---\n",
    "Intersection of Two Linked Lists: https://leetcode.com/problems/intersection-of-two-linked-lists/description/"
   ]
  },
  {
   "cell_type": "code",
   "execution_count": null,
   "metadata": {},
   "outputs": [],
   "source": [
    "# Definition for singly-linked list.\n",
    "# class ListNode:\n",
    "#     def __init__(self, x):\n",
    "#         self.val = x\n",
    "#         self.next = None\n",
    "\n",
    "class Solution:\n",
    "    def getIntersectionNode(self, headA: ListNode, headB: ListNode) -> Optional[ListNode]:\n",
    "        nodeA = headA\n",
    "        nodeB = headB\n",
    "        \n",
    "        #they need to start the check at the same level\n",
    "        #first get their lengths\n",
    "        lA = self.lenghts(nodeA)\n",
    "        lB = self.lenghts(nodeB)\n",
    "        \n",
    "         \n",
    "        while lA != lB:\n",
    "            if lA < lB:\n",
    "                nodeB = nodeB.next\n",
    "                lB-=1\n",
    "            else:\n",
    "                nodeA = nodeA.next\n",
    "                lA -=1\n",
    "\n",
    "        #need to have this extra case as we might have intersection at the place we are at\n",
    "        if nodeA.next == nodeB.next and nodeA.val == nodeB.val:\n",
    "            return nodeA\n",
    "        \n",
    "        \n",
    "        #after you set them to start at the same level, you can then \n",
    "        while nodeA and nodeB:\n",
    "            # print(nodeA.next)\n",
    "            if nodeA.next and nodeA.next == nodeB.next:\n",
    "                return nodeA.next\n",
    "            nodeA = nodeA.next\n",
    "            nodeB = nodeB.next\n",
    "\n",
    "        \n",
    "    def lenghts(self, llist):\n",
    "        node = llist\n",
    "        counter = 0\n",
    "        while node:\n",
    "            counter+=1\n",
    "            node=node.next\n",
    "        return counter"
   ]
  },
  {
   "cell_type": "code",
   "execution_count": null,
   "metadata": {},
   "outputs": [],
   "source": [
    "# Definition for singly-linked list.\n",
    "# class ListNode:\n",
    "#     def __init__(self, x):\n",
    "#         self.val = x\n",
    "#         self.next = None\n",
    "\n",
    "class Solution:\n",
    "    def getIntersectionNode(self, headA: ListNode, headB: ListNode) -> Optional[ListNode]:\n",
    "        hashB = set()\n",
    "        nodeB = headB\n",
    "        while nodeB:\n",
    "            hashB.add(nodeB)\n",
    "            nodeB = nodeB.next\n",
    "\n",
    "        nodeA= headA\n",
    "        while nodeA:\n",
    "            if nodeA in hashB:\n",
    "                return nodeA\n",
    "            nodeA = nodeA.next\n"
   ]
  },
  {
   "attachments": {},
   "cell_type": "markdown",
   "metadata": {},
   "source": [
    "---\n",
    "Pascals Triangle: https://leetcode.com/problems/pascals-triangle/description/"
   ]
  },
  {
   "cell_type": "code",
   "execution_count": null,
   "metadata": {},
   "outputs": [],
   "source": [
    "class Solution:\n",
    "    def generate(self, numRows: int) -> List[List[int]]:\n",
    "        res = [[1]]\n",
    "\n",
    "        for i in range(numRows-1): #-1 because we already have the base case above covered\n",
    "            temp = [0] + res[-1] + [0]\n",
    "            row = []\n",
    "\n",
    "            for j in range(len(res[-1])+1 ):\n",
    "                row.append( temp[j]+temp[j+1] )\n",
    "\n",
    "            res.append(row)\n",
    "        return res\n"
   ]
  },
  {
   "attachments": {},
   "cell_type": "markdown",
   "metadata": {},
   "source": [
    "---\n",
    "Excel Sheet Column Number: https://leetcode.com/problems/excel-sheet-column-number/description/"
   ]
  },
  {
   "cell_type": "code",
   "execution_count": null,
   "metadata": {},
   "outputs": [],
   "source": [
    "class Solution:\n",
    "    def titleToNumber(self, columnTitle: str):\n",
    "        \n",
    "        letters = list(columnTitle)\n",
    "        res  = 0\n",
    "        power = len(letters)-1\n",
    "        for letter in letters:\n",
    "\n",
    "            num = (ord(letter)-64) * (26)**power \n",
    "            power-=1\n",
    "            res += num\n",
    "                \n",
    "        return res"
   ]
  },
  {
   "attachments": {},
   "cell_type": "markdown",
   "metadata": {},
   "source": [
    "---\n",
    "Happy Number: https://leetcode.com/problems/happy-number/description/"
   ]
  },
  {
   "cell_type": "code",
   "execution_count": null,
   "metadata": {},
   "outputs": [],
   "source": [
    "class Solution:\n",
    "    def isHappy(self, n: int) -> bool:\n",
    "        if n == 1:\n",
    "            return True\n",
    "        # if n < 10:\n",
    "        #     return False\n",
    "        else:\n",
    "            n_str = str(n)\n",
    "            seen = set()\n",
    "            return self.recurse(n_str, seen)\n",
    "\n",
    "    def recurse(self, n_str, seen):\n",
    "        res = 0\n",
    "        digits = list(n_str)\n",
    "        for digit in digits:\n",
    "            res += int(digit) ** 2\n",
    "\n",
    "        if res == 1:\n",
    "            return True\n",
    "\n",
    "        elif res in seen:\n",
    "            return False\n",
    "\n",
    "        else:\n",
    "            seen.add(res)\n",
    "            return self.recurse(str(res), seen)\n"
   ]
  },
  {
   "attachments": {},
   "cell_type": "markdown",
   "metadata": {},
   "source": [
    "---\n",
    "Search in rotated array: https://leetcode.com/problems/search-in-rotated-sorted-array/"
   ]
  },
  {
   "cell_type": "code",
   "execution_count": null,
   "metadata": {},
   "outputs": [],
   "source": [
    "#VERY WRONG ATTEMPT\n",
    "class Solution:\n",
    "    def search(self, nums: List[int], target: int) -> int:\n",
    "        # while nums[i] < nums[i+1]:\n",
    "        high = len(nums)-1\n",
    "        low = 0\n",
    "        # if len(nums) %2 != 0:\n",
    "        while high >= low:\n",
    "            mid_index = (low+high)//2\n",
    "            if nums[mid_index] == target:\n",
    "                return mid_index\n",
    "\n",
    "            if mid_index+1 <=len(nums)-1 and nums[mid_index] > nums[mid_index+1]:\n",
    "                # if target > nums[mid_index+1]:\n",
    "                #     high = mid_index-1\n",
    "                # else:\n",
    "                low = mid_index+1\n",
    "\n",
    "            if mid_index+1<=len(nums)-1 and nums[mid_index+1] == target:\n",
    "                    return mid_index+1\n",
    "\n",
    "            if mid_index-1>=0 and nums[mid_index-1] == target:\n",
    "                    return mid_index-1\n",
    "\n",
    "            elif mid_index+1 <=len(nums)-1 and mid_index+2 <=len(nums)-1 and nums[mid_index+1] > nums[mid_index+2]:\n",
    "                    low = mid_index+2\n",
    "            else:\n",
    "                high = mid_index-1\n",
    "\n",
    "        return -1\n"
   ]
  },
  {
   "cell_type": "code",
   "execution_count": null,
   "metadata": {},
   "outputs": [],
   "source": [
    "#CORRECT SOLUTION\n",
    "class Solution:\n",
    "    def search(self, nums: List[int], target: int) -> int:\n",
    "        # while nums[i] < nums[i+1]:\n",
    "        h = len(nums)-1\n",
    "        l = 0\n",
    "        # if len(nums) %2 != 0:\n",
    "        while h >= l:\n",
    "            mid = (l+h)//2\n",
    "            if nums[mid] == target:\n",
    "                return mid\n",
    "\n",
    "            if nums[l] <= nums[mid]:\n",
    "                if target > nums[mid] or target<nums[l]:\n",
    "                    l = mid+1\n",
    "                else:\n",
    "                    h = mid-1\n",
    "            else:\n",
    "                if target < nums[mid] or target > nums[h]:\n",
    "                    h = mid-1\n",
    "                else:\n",
    "                    l=mid+1\n",
    "        return -1"
   ]
  },
  {
   "attachments": {},
   "cell_type": "markdown",
   "metadata": {},
   "source": [
    "---\n",
    "N-Queens: https://leetcode.com/problems/n-queens/description/"
   ]
  },
  {
   "cell_type": "code",
   "execution_count": null,
   "metadata": {},
   "outputs": [],
   "source": [
    "class Solution:\n",
    "    def solveNQueens(self, n: int) -> List[List[str]]:\n",
    "        cols = set()\n",
    "        posDiag = set()\n",
    "        negDiag = set()\n",
    "        res = []\n",
    "        board = [[\".\"]*n for i in range(n)]\n",
    "        print(board)\n",
    "\n",
    "\n",
    "        def backtracking(r):\n",
    "\n",
    "            # for r in range(board[0]):\n",
    "            #OUR GOAL\n",
    "            if r == n:\n",
    "                clone = [ \"\".join(row) for row in board ]\n",
    "                res.append(clone)\n",
    "                return\n",
    "\n",
    "\n",
    "            for c in range(n):  \n",
    "                # OUR CONSTRAINT\n",
    "                if c in cols or (r-c) in posDiag or (r+c) in negDiag:\n",
    "                    continue\n",
    "                    \n",
    "                else:\n",
    "                    #OUT CHOICE \n",
    "                    board[r][c] = \"Q\"\n",
    "                    cols.add(c)\n",
    "                    posDiag.add(r-c)\n",
    "                    negDiag.add(r+c)\n",
    "\n",
    "                    #EXPLORE\n",
    "                    backtracking(r+1)\n",
    "                    \n",
    "                    #UNDO\n",
    "                    board[r][c]= \".\"\n",
    "                    cols.remove(c)\n",
    "                    posDiag.remove(r-c)\n",
    "                    negDiag.remove(r+c)\n",
    "         \n",
    "            \n",
    "        backtracking(0)\n",
    "        return res"
   ]
  },
  {
   "attachments": {},
   "cell_type": "markdown",
   "metadata": {},
   "source": [
    "---\n",
    "Search a 2D Matrix: https://leetcode.com/problems/search-a-2d-matrix/description/"
   ]
  },
  {
   "cell_type": "code",
   "execution_count": null,
   "metadata": {},
   "outputs": [],
   "source": [
    "#This is one way of doing things, but the TC is O(m + log(n))\n",
    "class Solution:\n",
    "    def searchMatrix(self, matrix: List[List[int]], target: int) -> bool:\n",
    "\n",
    "        row = len(matrix[0])-1\n",
    "        l, r = 0, len(matrix[0])-1\n",
    "        count = 0\n",
    "        while count < len(matrix)-1:\n",
    "            if target > matrix[count][row]:\n",
    "                count+=1\n",
    "            else:\n",
    "                break\n",
    "\n",
    "        row_to_investigate = matrix[count]\n",
    "        print(row_to_investigate)\n",
    "        while l<=r:\n",
    "            mid_index = (l+r)//2\n",
    "\n",
    "            if target == row_to_investigate[mid_index]:\n",
    "                return True\n",
    "            \n",
    "            if row_to_investigate[mid_index] < target:\n",
    "                l = mid_index + 1\n",
    "            else:\n",
    "                r = mid_index-1\n",
    "        return False"
   ]
  },
  {
   "attachments": {},
   "cell_type": "markdown",
   "metadata": {},
   "source": [
    "---\n",
    "Same Tree: https://leetcode.com/problems/same-tree/description/"
   ]
  },
  {
   "cell_type": "code",
   "execution_count": null,
   "metadata": {},
   "outputs": [],
   "source": [
    "class Solution:\n",
    "    def isSameTree(self, p: Optional[TreeNode], q: Optional[TreeNode]) -> bool:\n",
    "        stack = [(p, q)]\n",
    "        while stack:\n",
    "            root_p, root_q = stack.pop()\n",
    "            if root_p is None and root_q is None:\n",
    "                continue\n",
    "            if root_p is None and root_q is not None or root_p is not None and root_q is None:\n",
    "                return False\n",
    "                \n",
    "            \n",
    "            if root_p and root_q and root_p.val != root_q.val:\n",
    "                return False\n",
    "\n",
    "            stack.append((root_p.right, root_q.right))\n",
    "            stack.append((root_p.left, root_q.left))\n",
    "\n",
    "\n",
    "        return True"
   ]
  },
  {
   "attachments": {},
   "cell_type": "markdown",
   "metadata": {},
   "source": [
    "---\n",
    "Subtree of Another Tree: https://leetcode.com/problems/subtree-of-another-tree/description/"
   ]
  },
  {
   "cell_type": "code",
   "execution_count": null,
   "metadata": {},
   "outputs": [],
   "source": [
    "#THIS IS THE ITERATIVE WAY wrt isSubtree using a stack\n",
    "\n",
    "# Definition for a binary tree node.\n",
    "# class TreeNode:\n",
    "#     def __init__(self, val=0, left=None, right=None):\n",
    "#         self.val = val\n",
    "#         self.left = left\n",
    "#         self.right = right\n",
    "class Solution:\n",
    "    def isSubtree(self, root: Optional[TreeNode], subRoot: Optional[TreeNode]) -> bool:\n",
    "        node1 = root\n",
    "        sub = subRoot\n",
    "        print(sub)\n",
    "        stack = [node1]\n",
    "        while stack:\n",
    "            root = stack.pop()\n",
    "\n",
    "            if root is None:\n",
    "                continue\n",
    "\n",
    "            if self.same_tree(root, subRoot):\n",
    "                return True\n",
    "            \n",
    "            stack.append(root.right)\n",
    "            stack.append(root.left)\n",
    "\n",
    "        return False\n",
    "\n",
    "    def same_tree(self, p, q):\n",
    "        if not p and not q:\n",
    "            return True\n",
    "\n",
    "        if p and q and p.val == q.val:\n",
    "            return (self.same_tree(p.left, q.left) and self.same_tree(p.right, q.right))\n",
    "        return False\n",
    "\n",
    "\n"
   ]
  },
  {
   "cell_type": "code",
   "execution_count": null,
   "metadata": {},
   "outputs": [],
   "source": [
    "#THIS IS THE RECURSIVE WAY\n",
    "\n",
    "# Definition for a binary tree node.\n",
    "# class TreeNode:\n",
    "#     def __init__(self, val=0, left=None, right=None):\n",
    "#         self.val = val\n",
    "#         self.left = left\n",
    "#         self.right = right\n",
    "class Solution:\n",
    "    def isSubtree(self, root: Optional[TreeNode], subRoot: Optional[TreeNode]) -> bool:\n",
    "\n",
    "        if root:\n",
    "            if self.same_tree(root, subRoot):\n",
    "                return True\n",
    "            else:\n",
    "                return (self.isSubtree(root.left, subRoot) or self.isSubtree(root.right, subRoot))\n",
    "        return False \n",
    "\n",
    "    def same_tree(self, p, q):\n",
    "        if not p and not q:\n",
    "            return True\n",
    "\n",
    "        if p and q and p.val == q.val:\n",
    "            return (self.same_tree(p.left, q.left) and self.same_tree(p.right, q.right))\n",
    "        return False\n",
    "\n",
    "\n"
   ]
  },
  {
   "attachments": {},
   "cell_type": "markdown",
   "metadata": {},
   "source": [
    "---\n",
    "Subsets: https://leetcode.com/problems/subsets/description/"
   ]
  },
  {
   "cell_type": "code",
   "execution_count": null,
   "metadata": {},
   "outputs": [],
   "source": [
    "class Solution:\n",
    "    def subsets(self, nums: List[int]) -> List[List[int]]:\n",
    "        res = []\n",
    "        subset = []\n",
    "        def dfs(i):\n",
    "            if i >= len(nums):\n",
    "                res.append(subset.copy()) \n",
    "                return\n",
    "            \n",
    "            subset.append(nums[i])\n",
    "            dfs(i+1)\n",
    "\n",
    "            subset.pop()\n",
    "            dfs(i+1)\n",
    "  \n",
    "        dfs(0)\n",
    "        return res\n",
    "\n"
   ]
  },
  {
   "cell_type": "code",
   "execution_count": null,
   "metadata": {},
   "outputs": [],
   "source": []
  }
 ],
 "metadata": {
  "kernelspec": {
   "display_name": "Python 3.8.9 64-bit",
   "language": "python",
   "name": "python3"
  },
  "language_info": {
   "codemirror_mode": {
    "name": "ipython",
    "version": 3
   },
   "file_extension": ".py",
   "mimetype": "text/x-python",
   "name": "python",
   "nbconvert_exporter": "python",
   "pygments_lexer": "ipython3",
   "version": "3.8.9"
  },
  "orig_nbformat": 4,
  "vscode": {
   "interpreter": {
    "hash": "31f2aee4e71d21fbe5cf8b01ff0e069b9275f58929596ceb00d14d90e3e16cd6"
   }
  }
 },
 "nbformat": 4,
 "nbformat_minor": 2
}
