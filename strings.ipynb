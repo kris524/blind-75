{
 "cells": [
  {
   "cell_type": "markdown",
   "metadata": {},
   "source": [
    "205. Isomorphic Strings https://leetcode.com/problems/isomorphic-strings/"
   ]
  },
  {
   "cell_type": "code",
   "execution_count": 32,
   "metadata": {},
   "outputs": [],
   "source": [
    "def solution(s,t):\n",
    "    s_list = list(s)\n",
    "    t_list = list(t)\n",
    "    mapping = {}\n",
    "    for i in range(len(s_list)):\n",
    "        #condition with respect to the keys \n",
    "        if s_list[i] in mapping and mapping[s_list[i]] != t_list[i]:\n",
    "            return False\n",
    "        \n",
    "        elif t_list[i] in mapping.values() and s_list[i] not in mapping:\n",
    "            return False\n",
    "\n",
    "        else:\n",
    "            mapping[s_list[i]] = t_list[i]\n",
    "    \n",
    "        print(mapping)\n",
    "\n",
    "    return True"
   ]
  },
  {
   "cell_type": "code",
   "execution_count": 34,
   "metadata": {},
   "outputs": [
    {
     "name": "stdout",
     "output_type": "stream",
     "text": [
      "{'b': 'b'}\n",
      "{'b': 'b', 'a': 'a'}\n"
     ]
    },
    {
     "data": {
      "text/plain": [
       "False"
      ]
     },
     "execution_count": 34,
     "metadata": {},
     "output_type": "execute_result"
    }
   ],
   "source": [
    "solution( \"badc\", \"baba\")"
   ]
  },
  {
   "cell_type": "code",
   "execution_count": 13,
   "metadata": {},
   "outputs": [],
   "source": [
    "def solution(s, t):\n",
    "    t_dict  ={}\n",
    "    index_values = []\n",
    "    for i in range(len(t)):\n",
    "        t_dict[t[i]] = i\n",
    "    for j in s:\n",
    "        index = t_dict.get(j)\n",
    "        index_values.append(index)\n",
    "    # print(index_values)\n",
    "    try:\n",
    "        return all(x<y for x, y in zip(index_values,index_values[1:]))\n",
    "    except TypeError:\n",
    "        return False\n",
    "\n"
   ]
  },
  {
   "cell_type": "code",
   "execution_count": 14,
   "metadata": {},
   "outputs": [
    {
     "data": {
      "text/plain": [
       "False"
      ]
     },
     "execution_count": 14,
     "metadata": {},
     "output_type": "execute_result"
    }
   ],
   "source": [
    "solution(\"axc\",\"ahbgdc\")"
   ]
  },
  {
   "cell_type": "code",
   "execution_count": 21,
   "metadata": {},
   "outputs": [],
   "source": [
    "def solution(s,t):\n",
    "    i,j = 0,0\n",
    "    while i<len(s) and j<len(t):\n",
    "        if s[i] == t[j]:\n",
    "            i+=1\n",
    "\n",
    "            \n",
    "        j+=1\n",
    "    \n",
    "    return True if i == len(s) else False\n",
    "             \n"
   ]
  },
  {
   "cell_type": "code",
   "execution_count": 22,
   "metadata": {},
   "outputs": [
    {
     "data": {
      "text/plain": [
       "False"
      ]
     },
     "execution_count": 22,
     "metadata": {},
     "output_type": "execute_result"
    }
   ],
   "source": [
    "solution('b', 'c')"
   ]
  },
  {
   "cell_type": "code",
   "execution_count": 33,
   "metadata": {},
   "outputs": [],
   "source": [
    "def solution(s):\n",
    "    new_s = s.strip()\n",
    "    a = new_s.split(' ')\n",
    "    return len(a[-1])\n",
    "\n",
    "\n",
    "    "
   ]
  },
  {
   "cell_type": "code",
   "execution_count": null,
   "metadata": {},
   "outputs": [],
   "source": []
  },
  {
   "cell_type": "code",
   "execution_count": 30,
   "metadata": {},
   "outputs": [],
   "source": [
    "s = \"   fly me   to   the moon  \"\n",
    "a = s.strip()"
   ]
  },
  {
   "cell_type": "code",
   "execution_count": 32,
   "metadata": {},
   "outputs": [
    {
     "data": {
      "text/plain": [
       "['fly', 'me', '', '', 'to', '', '', 'the', 'moon']"
      ]
     },
     "execution_count": 32,
     "metadata": {},
     "output_type": "execute_result"
    }
   ],
   "source": [
    "a.split(' ')"
   ]
  },
  {
   "cell_type": "code",
   "execution_count": 36,
   "metadata": {},
   "outputs": [],
   "source": [
    "from collections import defaultdict\n",
    "\n",
    "\n",
    "def groupAnagrams(strs):\n",
    "    res = defaultdict(list)\n",
    "    for s in strs:\n",
    "        count = [0]*26\n",
    "        for c in s:\n",
    "            count[ord(c) - ord('a')] +=1\n",
    "\n",
    "        # res[tuple(count)] = s #if you use this it would be just a single value pair \n",
    "        #so we need to use this:\n",
    "        res[tuple(count)].append(s)\n",
    "\n",
    "    return list(res.values())\n",
    "    \n",
    "\n",
    "        \n",
    "\n",
    "\n"
   ]
  },
  {
   "cell_type": "code",
   "execution_count": 37,
   "metadata": {},
   "outputs": [
    {
     "data": {
      "text/plain": [
       "[['eat', 'tea', 'ate'], ['tan', 'nat'], ['bat']]"
      ]
     },
     "execution_count": 37,
     "metadata": {},
     "output_type": "execute_result"
    }
   ],
   "source": [
    "groupAnagrams([\"eat\",\"tea\",\"tan\",\"ate\",\"nat\",\"bat\"])"
   ]
  },
  {
   "cell_type": "code",
   "execution_count": null,
   "metadata": {},
   "outputs": [],
   "source": [
    "def mygroupAnagram(strs):\n",
    "    res = defaultdict(list)\n",
    "    new_list = []\n",
    "    for i in range(len(strs)):\n",
    "        \n",
    "        res[tuple(sorted(strs[i]))].append(strs[i])\n",
    "    return res.values()\n",
    "    \n"
   ]
  },
  {
   "cell_type": "code",
   "execution_count": null,
   "metadata": {},
   "outputs": [],
   "source": []
  }
 ],
 "metadata": {
  "kernelspec": {
   "display_name": "Python 3.8.9 64-bit",
   "language": "python",
   "name": "python3"
  },
  "language_info": {
   "codemirror_mode": {
    "name": "ipython",
    "version": 3
   },
   "file_extension": ".py",
   "mimetype": "text/x-python",
   "name": "python",
   "nbconvert_exporter": "python",
   "pygments_lexer": "ipython3",
   "version": "3.8.9"
  },
  "orig_nbformat": 4,
  "vscode": {
   "interpreter": {
    "hash": "31f2aee4e71d21fbe5cf8b01ff0e069b9275f58929596ceb00d14d90e3e16cd6"
   }
  }
 },
 "nbformat": 4,
 "nbformat_minor": 2
}
