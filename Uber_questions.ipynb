{
 "cells": [
  {
   "cell_type": "markdown",
   "metadata": {},
   "source": [
    "UBER QUESTIONS: https://app.codesignal.com/company-challenges/uber"
   ]
  },
  {
   "cell_type": "code",
   "execution_count": null,
   "metadata": {},
   "outputs": [],
   "source": [
    "def solution(ride_time, ride_distance, cost_per_minute, cost_per_mile):\n",
    "    values = []\n",
    "    for i in range(len(cost_per_minute)):\n",
    "        value = ride_time * cost_per_minute[i] + ride_distance*cost_per_mile[i]\n",
    "        values.append(value)\n",
    "    return values\n"
   ]
  },
  {
   "cell_type": "code",
   "execution_count": 2,
   "metadata": {},
   "outputs": [],
   "source": [
    "#Fancy Ride\n",
    "def solution(l, fares):\n",
    "    cars = [\"UberX\", \"UberXL\", \"UberPlus\", \"UberBlack\" , \"UberSUV\"]\n",
    "    costs = []\n",
    "    for i in fares:\n",
    "        cost = l*i\n",
    "        # if cost > 20:\n",
    "        \n",
    "        costs.append(cost)\n",
    "    costs2 = sorted(costs)\n",
    "    best_price = 0\n",
    "    for i in costs2:\n",
    "        if i<=20:\n",
    "            best_price = i\n",
    "            \n",
    "        else:\n",
    "            continue\n",
    "\n",
    "    car_cost = dict(map(lambda i,j : (i,j) ,costs2, cars))\n",
    "    return car_cost[best_price]\n",
    "\n"
   ]
  },
  {
   "cell_type": "code",
   "execution_count": 3,
   "metadata": {},
   "outputs": [
    {
     "data": {
      "text/plain": [
       "'UberXL'"
      ]
     },
     "execution_count": 3,
     "metadata": {},
     "output_type": "execute_result"
    }
   ],
   "source": [
    "solution(l = 30, fares = [0.3, 0.5, 0.7, 1, 1.3])"
   ]
  },
  {
   "cell_type": "code",
   "execution_count": null,
   "metadata": {},
   "outputs": [],
   "source": [
    "def secondSolution(l, fares):\n",
    "    best_option = None #0\n",
    "    options = [\"UberX\", \"UberXL\", \"UberPlus\", \"UberBlack\" , \"UberSUV\"]\n",
    "    for i, fare in enumerate(fares):\n",
    "        # cost = l*fare\n",
    "        if l*fare<=20:\n",
    "            best_option = options[i]\n",
    "        # else:\n",
    "        #     continue\n",
    "    return best_option"
   ]
  },
  {
   "cell_type": "code",
   "execution_count": null,
   "metadata": {},
   "outputs": [],
   "source": []
  },
  {
   "cell_type": "code",
   "execution_count": null,
   "metadata": {},
   "outputs": [],
   "source": []
  }
 ],
 "metadata": {
  "kernelspec": {
   "display_name": "Python 3.10.3 64-bit",
   "language": "python",
   "name": "python3"
  },
  "language_info": {
   "codemirror_mode": {
    "name": "ipython",
    "version": 3
   },
   "file_extension": ".py",
   "mimetype": "text/x-python",
   "name": "python",
   "nbconvert_exporter": "python",
   "pygments_lexer": "ipython3",
   "version": "3.10.3"
  },
  "orig_nbformat": 4,
  "vscode": {
   "interpreter": {
    "hash": "aee8b7b246df8f9039afb4144a1f6fd8d2ca17a180786b69acc140d282b71a49"
   }
  }
 },
 "nbformat": 4,
 "nbformat_minor": 2
}
