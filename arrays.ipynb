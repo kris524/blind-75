{
 "cells": [
  {
   "cell_type": "code",
   "execution_count": 6,
   "metadata": {},
   "outputs": [],
   "source": [
    "def twoSum(nums, target):\n",
    "    nums.sort()\n",
    "    for i in range(len(nums)):\n",
    "        for j in range(len(nums)):\n",
    "            if i!= j and nums[i] + nums[j] == target:\n",
    "                return [i,j]"
   ]
  },
  {
   "cell_type": "code",
   "execution_count": 28,
   "metadata": {},
   "outputs": [],
   "source": [
    "def twoSum2(nums, target):\n",
    "    nums_dict = {}\n",
    "    for idx, num in enumerate(nums):\n",
    "        potentialTarget = target - num\n",
    "        if potentialTarget in nums_dict:\n",
    "             print(nums_dict)\n",
    "             return [nums.index(potentialTarget), idx]\n",
    "        else:\n",
    "            nums_dict[num]= True\n",
    "    return []"
   ]
  },
  {
   "cell_type": "code",
   "execution_count": 30,
   "metadata": {},
   "outputs": [
    {
     "name": "stdout",
     "output_type": "stream",
     "text": [
      "{7: True, 1: True, 64: True, 11: True, 15: True}\n"
     ]
    },
    {
     "data": {
      "text/plain": [
       "[0, 5]"
      ]
     },
     "execution_count": 30,
     "metadata": {},
     "output_type": "execute_result"
    }
   ],
   "source": [
    "twoSum2([7,1,64,11,15,2], 9)"
   ]
  },
  {
   "cell_type": "code",
   "execution_count": 82,
   "metadata": {},
   "outputs": [],
   "source": [
    "def maxProfit(prices):\n",
    "    # profits = []\n",
    "    max_profit = 0\n",
    "    inverted_prices = prices[::-1]\n",
    "    for i in range(len(prices)):\n",
    "        current_sum = 0\n",
    "        for j in range(len(inverted_prices)):\n",
    "            if prices[i] > prices[j]:\n",
    "                continue\n",
    "            elif j > i:\n",
    "                print(max_profit)\n",
    "                if prices[j] - prices[i] > max_profit:\n",
    "                    max_profit = prices[j] - prices[i]\n",
    "\n",
    "    return max_profit\n",
    "\n",
    "\n",
    "\n",
    "\n"
   ]
  },
  {
   "cell_type": "code",
   "execution_count": 84,
   "metadata": {},
   "outputs": [
    {
     "data": {
      "text/plain": [
       "0"
      ]
     },
     "execution_count": 84,
     "metadata": {},
     "output_type": "execute_result"
    }
   ],
   "source": [
    "maxProfit([7,4,3,2,1])"
   ]
  },
  {
   "cell_type": "code",
   "execution_count": 35,
   "metadata": {},
   "outputs": [
    {
     "data": {
      "text/plain": [
       "[4, 6, 3, 5, 1, 7]"
      ]
     },
     "execution_count": 35,
     "metadata": {},
     "output_type": "execute_result"
    }
   ],
   "source": [
    "def maxProfit2(prices):\n",
    "    l, r =0, 1 #left is buy, right is sell\n",
    "    maxP = 0\n",
    "    while r < len(prices):\n",
    "        if prices[l] < prices[r]:\n",
    "            profit = prices[r] - prices[l]\n",
    "            if profit > maxP:\n",
    "                maxP = profit\n",
    "        else:\n",
    "            l = r #become the rightmost price that is the lowest detected\n",
    "        r+=1\n",
    "    return maxP"
   ]
  },
  {
   "cell_type": "code",
   "execution_count": 127,
   "metadata": {},
   "outputs": [],
   "source": [
    "def merge(nums1, m, nums2, n):\n",
    "    nums3 = nums1[:m]\n",
    "    \n",
    "    print(nums3)\n",
    "    final_array = nums3 + nums2\n",
    "    final_array.sort()\n",
    "    nums1[:] = list(final_array)\n",
    "    print(nums1)"
   ]
  },
  {
   "cell_type": "code",
   "execution_count": 128,
   "metadata": {},
   "outputs": [
    {
     "name": "stdout",
     "output_type": "stream",
     "text": [
      "[1]\n",
      "[1]\n"
     ]
    }
   ],
   "source": [
    "merge([1], m = 1, nums2 = [], n=0 )"
   ]
  },
  {
   "cell_type": "code",
   "execution_count": 134,
   "metadata": {},
   "outputs": [
    {
     "name": "stdout",
     "output_type": "stream",
     "text": [
      "[1, 2, 3]\n",
      "[1, 2, 5]\n"
     ]
    },
    {
     "data": {
      "text/plain": [
       "False"
      ]
     },
     "execution_count": 134,
     "metadata": {},
     "output_type": "execute_result"
    }
   ],
   "source": [
    "# merge([1,2,3,0,0,0], m = 3, nums2 = [2,5,6], n = 3)\n",
    "a = [1,2,3]\n",
    "print(a)\n",
    "a[-1] = 5\n",
    "print(a)\n",
    "3<3"
   ]
  },
  {
   "cell_type": "code",
   "execution_count": 135,
   "metadata": {},
   "outputs": [],
   "source": [
    "def merge2(nums1, m, nums2, n):\n",
    "    up, down = m, n\n",
    "    zero_idx = -1\n",
    "    while abs(zero_idx) <= down:\n",
    "        if nums1[up] < nums2[down]:\n",
    "            nums1[zero_idx] = nums2[down]\n",
    "\n",
    "        else:\n",
    "            nums1[zero_idx] = nums1[up]\n",
    "            up -=1 \n",
    "\n",
    "    zero_idx -=1\n",
    "    down -=1\n",
    "\n",
    "        \n"
   ]
  },
  {
   "cell_type": "code",
   "execution_count": null,
   "metadata": {},
   "outputs": [],
   "source": [
    "\n",
    "\n",
    "def merge3(nums1, m, nums2, n):\n",
    "    last = m+n-1\n",
    "    while m>0 and n>0:\n",
    "        if nums1[m-1] > nums2[n-1]: \n",
    "            nums1[last] = nums1[m-1]\n",
    "            m-=1\n",
    "        else:\n",
    "            nums1[last] = nums2[n-1]\n",
    "            n-=1\n",
    "        last-=1\n",
    "    \n",
    "    # for this case [2,2,2,3,5,6] #[1,5,6] -> [1,2,2,3,5,6]\n",
    "    while n>0: #while there are remaining elements in nums2, fill them inside nums1\n",
    "        nums1[last] = nums2[n-1]\n",
    "        n, last = n-1, last-1\n"
   ]
  },
  {
   "cell_type": "code",
   "execution_count": null,
   "metadata": {},
   "outputs": [],
   "source": [
    "#codewars regex password verifier\n",
    "\n",
    "regex = \"^(?=.*[a-z])(?=.*[A-Z])(?=.*\\d)[a-zA-Z\\d]{6,}$\""
   ]
  },
  {
   "cell_type": "code",
   "execution_count": 151,
   "metadata": {},
   "outputs": [],
   "source": [
    "import re\n",
    "'Pig latin is cool'\n",
    "def git_it(text):\n",
    "    final_new_txt = \"\"\n",
    "    list_text = (text).split()\n",
    "\n",
    "\n",
    "    print(list_text)\n",
    "    for i in list_text:\n",
    "        if i == \"!\" or i == \"?\":\n",
    "            final_new_txt += i\n",
    "            continue\n",
    "\n",
    "        first_letter = i[0]\n",
    "        the_rest = i[1:]\n",
    "        new_word = the_rest + first_letter + \"ay\"\n",
    "        final_new_txt += new_word + \" \"\n",
    "        print(new_word)\n",
    "    print(final_new_txt.strip())"
   ]
  },
  {
   "cell_type": "code",
   "execution_count": 152,
   "metadata": {},
   "outputs": [
    {
     "name": "stdout",
     "output_type": "stream",
     "text": [
      "['Pig', 'latin', 'is', 'cool', '!']\n",
      "igPay\n",
      "atinlay\n",
      "siay\n",
      "oolcay\n",
      "igPay atinlay siay oolcay !\n"
     ]
    }
   ],
   "source": [
    "git_it('Pig latin is cool !')"
   ]
  },
  {
   "cell_type": "code",
   "execution_count": 21,
   "metadata": {},
   "outputs": [],
   "source": [
    "def gradingStudents(grades):\n",
    "    new_grades = []\n",
    "    for i in grades:\n",
    "        \n",
    "        if i >= 38:\n",
    "            if (i + 2) % 5 ==0:\n",
    "                new_grades.append(i+2)\n",
    "                \n",
    "            elif (i+1) % 5 == 0:\n",
    "                new_grades.append(i+1)\n",
    "            else:\n",
    "                new_grades.append(i)\n",
    "        else:\n",
    "            new_grades.append(i)\n",
    "\n",
    "\n",
    "    return new_grades\n"
   ]
  },
  {
   "cell_type": "code",
   "execution_count": 22,
   "metadata": {},
   "outputs": [
    {
     "data": {
      "text/plain": [
       "[75, 67, 40, 33]"
      ]
     },
     "execution_count": 22,
     "metadata": {},
     "output_type": "execute_result"
    }
   ],
   "source": [
    "gradingStudents([73,67,38,33])"
   ]
  },
  {
   "cell_type": "markdown",
   "metadata": {},
   "source": [
    "---"
   ]
  },
  {
   "cell_type": "markdown",
   "metadata": {},
   "source": [
    "https://leetcode.com/problems/two-sum-ii-input-array-is-sorted/"
   ]
  },
  {
   "cell_type": "code",
   "execution_count": null,
   "metadata": {},
   "outputs": [],
   "source": [
    "def TwoSum2(nums, target):\n",
    "    nums_dict = {}\n",
    "    for idx, num in enumerate(nums):\n",
    "        potentialTarget = target - num\n",
    "        if potentialTarget in nums_dict:\n",
    "             \n",
    "             return [nums.index(potentialTarget)+1, idx+1]\n",
    "        else:\n",
    "            nums_dict[num]= True\n",
    "    return []\n",
    "    \n",
    "\n"
   ]
  },
  {
   "cell_type": "code",
   "execution_count": null,
   "metadata": {},
   "outputs": [],
   "source": [
    "def TwoSum2(numbers, target):\n",
    "    l, r = 0, len(numbers)-1\n",
    "    while l<r:\n",
    "        curSum = numbers[l] + numbers[r]\n",
    "        if curSum > target:\n",
    "            r-=1\n",
    "        elif curSum < target:\n",
    "            l+=1\n",
    "            \n",
    "        else:\n",
    "            return [l+1, r+1]\n",
    "    \n",
    "\n",
    "    \n",
    "\n"
   ]
  },
  {
   "cell_type": "markdown",
   "metadata": {},
   "source": [
    "Reverse String\n",
    "https://leetcode.com/problems/reverse-string/?envType=study-plan&id=algorithm-i"
   ]
  },
  {
   "cell_type": "code",
   "execution_count": 7,
   "metadata": {},
   "outputs": [],
   "source": [
    "def reverse(s):\n",
    "    l, r = 0, len(s)-1\n",
    "\n",
    "    while l < r:\n",
    "        s[l], s[r] = s[r], s[l]\n",
    "        l+=1\n",
    "        r-=1\n",
    "    return s"
   ]
  },
  {
   "cell_type": "code",
   "execution_count": 8,
   "metadata": {},
   "outputs": [
    {
     "data": {
      "text/plain": [
       "['o', 'l', 'l', 'e', 'h']"
      ]
     },
     "execution_count": 8,
     "metadata": {},
     "output_type": "execute_result"
    }
   ],
   "source": [
    "reverse([\"h\",\"e\",\"l\",\"l\",\"o\"])"
   ]
  },
  {
   "cell_type": "code",
   "execution_count": null,
   "metadata": {},
   "outputs": [],
   "source": [
    "def reverseString(s):\n",
    "    stack = []\n",
    "    for c in s:\n",
    "        stack.append(c)\n",
    "    i = 0\n",
    "    while stack:\n",
    "        s[i] = stack.pop()\n",
    "        i+=1\n"
   ]
  },
  {
   "cell_type": "markdown",
   "metadata": {},
   "source": [
    "Contains Duplicate\n",
    "https://leetcode.com/problems/contains-duplicate/"
   ]
  },
  {
   "cell_type": "code",
   "execution_count": 15,
   "metadata": {},
   "outputs": [],
   "source": [
    "def containstDuplicate(nums):\n",
    "    set_nums = set(nums)\n",
    "    if len(set_nums) != len(nums):\n",
    "        return True\n",
    "    else:\n",
    "        return False"
   ]
  },
  {
   "cell_type": "markdown",
   "metadata": {},
   "source": [
    "Reverse Words in a String |||\n",
    "https://leetcode.com/problems/reverse-words-in-a-string-iii/?envType=study-plan&id=algorithm-i"
   ]
  },
  {
   "cell_type": "code",
   "execution_count": 20,
   "metadata": {},
   "outputs": [],
   "source": [
    "def reverseWords(s):\n",
    "    new_str = \"\"\n",
    "    a = s.split(\" \")\n",
    "    for i in a:\n",
    "        new_i = i[::-1]\n",
    "        new_str+= new_i + \" \"\n",
    "\n",
    "    return new_str.strip()"
   ]
  },
  {
   "cell_type": "code",
   "execution_count": 21,
   "metadata": {},
   "outputs": [
    {
     "data": {
      "text/plain": [
       "\"s'teL ekat edoCteeL tsetnoc\""
      ]
     },
     "execution_count": 21,
     "metadata": {},
     "output_type": "execute_result"
    }
   ],
   "source": [
    "s = \"Let's take LeetCode contest\"\n",
    "reverseWords(s)"
   ]
  },
  {
   "cell_type": "markdown",
   "metadata": {},
   "source": [
    "Maximum Subarray:\n",
    "https://leetcode.com/problems/maximum-subarray/"
   ]
  },
  {
   "cell_type": "code",
   "execution_count": 49,
   "metadata": {},
   "outputs": [],
   "source": [
    "def maxSubArray(nums):\n",
    "    maxSub = nums[0]\n",
    "    curSum = 0\n",
    "    for n in nums:\n",
    "        print(\"n: \", n)\n",
    "        if curSum < 0:\n",
    "            curSum = 0\n",
    "        curSum +=n #-2, 1, -2, 4, 3\n",
    "        print(\"curSum: \", curSum)\n",
    "        maxSub = max(maxSub, curSum)\n",
    "        print(\"maxSub: \", maxSub)\n",
    "    return maxSub\n",
    "    \n",
    "\n"
   ]
  },
  {
   "cell_type": "code",
   "execution_count": 56,
   "metadata": {},
   "outputs": [
    {
     "name": "stdout",
     "output_type": "stream",
     "text": [
      "n:  -10\n",
      "curSum:  -10\n",
      "maxSub:  -10\n",
      "n:  100\n",
      "curSum:  100\n",
      "maxSub:  100\n",
      "n:  -100\n",
      "curSum:  0\n",
      "maxSub:  100\n",
      "n:  5\n",
      "curSum:  5\n",
      "maxSub:  100\n",
      "n:  4\n",
      "curSum:  9\n",
      "maxSub:  100\n",
      "n:  -1\n",
      "curSum:  8\n",
      "maxSub:  100\n",
      "n:  7\n",
      "curSum:  15\n",
      "maxSub:  100\n",
      "n:  8\n",
      "curSum:  23\n",
      "maxSub:  100\n"
     ]
    },
    {
     "data": {
      "text/plain": [
       "100"
      ]
     },
     "execution_count": 56,
     "metadata": {},
     "output_type": "execute_result"
    }
   ],
   "source": [
    "a = [-10, 100, -100,5,4,-1,7,8]\n",
    "maxSubArray(a)"
   ]
  },
  {
   "cell_type": "code",
   "execution_count": 54,
   "metadata": {},
   "outputs": [
    {
     "data": {
      "text/plain": [
       "[-10]"
      ]
     },
     "execution_count": 54,
     "metadata": {},
     "output_type": "execute_result"
    }
   ],
   "source": [
    "#brute force\n",
    "from cmath import inf\n",
    "\n",
    "\n",
    "def maxSubArray(nums):\n",
    "    ans = -inf\n",
    "    for i in range(len(nums)):\n",
    "        cur_sum = 0\n",
    "        for j in range(i, len(nums)):\n",
    "            cur_sum += nums[j]\n",
    "            ans = max(ans, cur_sum)\n",
    "    return ans"
   ]
  },
  {
   "cell_type": "code",
   "execution_count": null,
   "metadata": {},
   "outputs": [],
   "source": [
    "#using DP - need to study this from here:\n",
    "# https://leetcode.com/problems/maximum-subarray/discuss/1595195/C%2B%2BPython-7-Simple-Solutions-w-Explanation-or-Brute-Force-%2B-DP-%2B-Kadane-%2B-Divide-and-Conquer\n",
    "from functools import cache\n",
    "\n",
    "\n",
    "def maxSubArray(nums):\n",
    "    @cache\n",
    "    def solve(i, must_pick):\n",
    "        if i>=len(nums): return 0 if must_pick else -inf\n",
    "        return max(nums[i] + solve(i+1, True), 0 if must_pick else solve(i+1, False))\n",
    "    return solve(0, False)"
   ]
  },
  {
   "cell_type": "code",
   "execution_count": 64,
   "metadata": {},
   "outputs": [],
   "source": [
    "#Kadance's Algorithm\n",
    "\n",
    "#[-2,1,-3,4,-1,2,1,-5,4]\n",
    "from cmath import inf\n",
    "\n",
    "def maxSubArray(nums):\n",
    "    cur_max = 0\n",
    "    max_till_now = -inf\n",
    "    for n in nums:\n",
    "        print(\"n\", n)\n",
    "        cur_max = max(n, cur_max + n) #this is the same as before but this is a different type of fiter\n",
    "        #it states: a cutoff that picks n if the current n \n",
    "        #is bigger than the previous cur_sum with n. \n",
    "        print(\"cur_max:\", cur_max)\n",
    "        max_till_now = max(max_till_now, cur_max)\n",
    "        print(\"max_till_now\", max_till_now)\n",
    "\n",
    "    return max_till_now\n"
   ]
  },
  {
   "cell_type": "code",
   "execution_count": 65,
   "metadata": {},
   "outputs": [
    {
     "name": "stdout",
     "output_type": "stream",
     "text": [
      "n -2\n",
      "cur_max: -2\n",
      "max_till_now -2\n",
      "n 1\n",
      "cur_max: 1\n",
      "max_till_now 1\n",
      "n -3\n",
      "cur_max: -2\n",
      "max_till_now 1\n",
      "n 4\n",
      "cur_max: 4\n",
      "max_till_now 4\n",
      "n -1\n",
      "cur_max: 3\n",
      "max_till_now 4\n",
      "n 2\n",
      "cur_max: 5\n",
      "max_till_now 5\n",
      "n 1\n",
      "cur_max: 6\n",
      "max_till_now 6\n",
      "n -5\n",
      "cur_max: 1\n",
      "max_till_now 6\n",
      "n 4\n",
      "cur_max: 5\n",
      "max_till_now 6\n"
     ]
    },
    {
     "data": {
      "text/plain": [
       "6"
      ]
     },
     "execution_count": 65,
     "metadata": {},
     "output_type": "execute_result"
    }
   ],
   "source": [
    "maxSubArray([-2,1,-3,4,-1,2,1,-5,4])"
   ]
  },
  {
   "cell_type": "code",
   "execution_count": null,
   "metadata": {},
   "outputs": [],
   "source": [
    "#This line:\n",
    "# cur_max = max(n, cur_max + n)\n",
    "\n",
    "#is equivalent to saying \n",
    "# if curSum+n < n:\n",
    "#     curSum = n\n",
    "# else:\n",
    "#     curSum +=n"
   ]
  },
  {
   "cell_type": "markdown",
   "metadata": {},
   "source": [
    "Middle of Linked List: https://leetcode.com/problems/middle-of-the-linked-list/?envType=study-plan&id=algorithm-i"
   ]
  },
  {
   "cell_type": "code",
   "execution_count": null,
   "metadata": {},
   "outputs": [],
   "source": [
    "class ListNode:\n",
    "    def __init__(self, val=0, next=None):\n",
    "        self.val = val\n",
    "        self.next = next\n",
    "\n",
    "def middleNode(head):\n",
    "    len_list = 0\n",
    "    start = head\n",
    "    node = head\n",
    "    #This will get the length of the list, its saved in len_list\n",
    "    while start:\n",
    "        len_list+=1\n",
    "        start = start.next\n",
    "\n",
    "    #this is just the index \n",
    "    middle = len_list//2\n",
    "    \n",
    "    #use the index to find the value in the LL\n",
    "    counter = 0\n",
    "    while node:\n",
    "        if counter == middle:\n",
    "            return node.val\n",
    "        else:\n",
    "            node = node.next \n",
    "        counter+=1 \n",
    "    return None\n",
    "    \n",
    "\n",
    "\n"
   ]
  },
  {
   "cell_type": "markdown",
   "metadata": {},
   "source": [
    "Remove Nth node from end of list: https://leetcode.com/problems/remove-nth-node-from-end-of-list/?envType=study-plan&id=algorithm-i"
   ]
  },
  {
   "cell_type": "code",
   "execution_count": null,
   "metadata": {},
   "outputs": [],
   "source": [
    "def removeNthNode(head, n):\n",
    "    #My wrong attempt\n",
    "    start = head\n",
    "    counter = 0\n",
    "    len_list = 0\n",
    "\n",
    "    node = head\n",
    "    #get the length of the list\n",
    "    while start:\n",
    "        len_list+=1\n",
    "        start = start.next\n",
    "        #5-2 = 3\n",
    "    index = len_list - n\n",
    "    while counter < index:\n",
    "        if counter == index:\n",
    "            del node.val\n",
    "            return node\n",
    "        else:\n",
    "            counter+=1\n",
    "    return None\n",
    "\n",
    "       "
   ]
  },
  {
   "cell_type": "code",
   "execution_count": null,
   "metadata": {},
   "outputs": [],
   "source": [
    "def removeNthNode(head, n):\n",
    "    dummy = ListNode(0, head)\n",
    "    left = dummy #[0,1,2,3,4,5]\n",
    "    right = head\n",
    "    #[1,2,3,4,5]\n",
    "    #for n=2\n",
    "    while n > 0 and right:\n",
    "        right = right.next #[2,3,4,5], [3,4,5]\n",
    "        n -=1\n",
    "    #[3,4,5] at the start\n",
    "    while right:  \n",
    "        left = left.next #[1,2,3,4,5], [2,3,4,5], [3,4,5]\n",
    "        right.next # [4,5],  [5], []\n",
    "\n",
    "    left.next = left.next.next\n",
    "\n",
    "    return dummy.next\n",
    "\n",
    "\n",
    "    \n"
   ]
  }
 ],
 "metadata": {
  "kernelspec": {
   "display_name": "Python 3.8.9 64-bit",
   "language": "python",
   "name": "python3"
  },
  "language_info": {
   "codemirror_mode": {
    "name": "ipython",
    "version": 3
   },
   "file_extension": ".py",
   "mimetype": "text/x-python",
   "name": "python",
   "nbconvert_exporter": "python",
   "pygments_lexer": "ipython3",
   "version": "3.8.9"
  },
  "orig_nbformat": 4,
  "vscode": {
   "interpreter": {
    "hash": "31f2aee4e71d21fbe5cf8b01ff0e069b9275f58929596ceb00d14d90e3e16cd6"
   }
  }
 },
 "nbformat": 4,
 "nbformat_minor": 2
}
