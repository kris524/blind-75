{
 "cells": [
  {
   "cell_type": "code",
   "execution_count": 6,
   "metadata": {},
   "outputs": [],
   "source": [
    "def twoSum(nums, target):\n",
    "    nums.sort()\n",
    "    for i in range(len(nums)):\n",
    "        for j in range(len(nums)):\n",
    "            if i!= j and nums[i] + nums[j] == target:\n",
    "                return [i,j]"
   ]
  },
  {
   "cell_type": "code",
   "execution_count": 28,
   "metadata": {},
   "outputs": [],
   "source": [
    "def twoSum2(nums, target):\n",
    "    nums_dict = {}\n",
    "    for idx, num in enumerate(nums):\n",
    "        potentialTarget = target - num\n",
    "        if potentialTarget in nums_dict:\n",
    "             print(nums_dict)\n",
    "             return [nums.index(potentialTarget), idx]\n",
    "        else:\n",
    "            nums_dict[num]= True\n",
    "    return []"
   ]
  },
  {
   "cell_type": "code",
   "execution_count": 30,
   "metadata": {},
   "outputs": [
    {
     "name": "stdout",
     "output_type": "stream",
     "text": [
      "{7: True, 1: True, 64: True, 11: True, 15: True}\n"
     ]
    },
    {
     "data": {
      "text/plain": [
       "[0, 5]"
      ]
     },
     "execution_count": 30,
     "metadata": {},
     "output_type": "execute_result"
    }
   ],
   "source": [
    "twoSum2([7,1,64,11,15,2], 9)"
   ]
  },
  {
   "cell_type": "code",
   "execution_count": 82,
   "metadata": {},
   "outputs": [],
   "source": [
    "def maxProfit(prices):\n",
    "    # profits = []\n",
    "    max_profit = 0\n",
    "    inverted_prices = prices[::-1]\n",
    "    for i in range(len(prices)):\n",
    "        current_sum = 0\n",
    "        for j in range(len(inverted_prices)):\n",
    "            if prices[i] > prices[j]:\n",
    "                continue\n",
    "            elif j > i:\n",
    "                print(max_profit)\n",
    "                if prices[j] - prices[i] > max_profit:\n",
    "                    max_profit = prices[j] - prices[i]\n",
    "\n",
    "    return max_profit\n",
    "\n",
    "\n",
    "\n",
    "\n"
   ]
  },
  {
   "cell_type": "code",
   "execution_count": 84,
   "metadata": {},
   "outputs": [
    {
     "data": {
      "text/plain": [
       "0"
      ]
     },
     "execution_count": 84,
     "metadata": {},
     "output_type": "execute_result"
    }
   ],
   "source": [
    "maxProfit([7,4,3,2,1])"
   ]
  },
  {
   "cell_type": "code",
   "execution_count": 35,
   "metadata": {},
   "outputs": [
    {
     "data": {
      "text/plain": [
       "[4, 6, 3, 5, 1, 7]"
      ]
     },
     "execution_count": 35,
     "metadata": {},
     "output_type": "execute_result"
    }
   ],
   "source": [
    "def maxProfit2(prices):\n",
    "    l, r =0, 1 #left is buy, right is sell\n",
    "    maxP = 0\n",
    "    while r < len(prices):\n",
    "        if prices[l] < prices[r]:\n",
    "            profit = prices[r] - prices[l]\n",
    "            if profit > maxP:\n",
    "                maxP = profit\n",
    "        else:\n",
    "            l = r #become the rightmost price that is the lowest detected\n",
    "        r+=1\n",
    "    return maxP"
   ]
  },
  {
   "cell_type": "code",
   "execution_count": 127,
   "metadata": {},
   "outputs": [],
   "source": [
    "def merge(nums1, m, nums2, n):\n",
    "    nums3 = nums1[:m]\n",
    "    \n",
    "    print(nums3)\n",
    "    final_array = nums3 + nums2\n",
    "    final_array.sort()\n",
    "    nums1[:] = list(final_array)\n",
    "    print(nums1)"
   ]
  },
  {
   "cell_type": "code",
   "execution_count": 128,
   "metadata": {},
   "outputs": [
    {
     "name": "stdout",
     "output_type": "stream",
     "text": [
      "[1]\n",
      "[1]\n"
     ]
    }
   ],
   "source": [
    "merge([1], m = 1, nums2 = [], n=0 )"
   ]
  },
  {
   "cell_type": "code",
   "execution_count": 134,
   "metadata": {},
   "outputs": [
    {
     "name": "stdout",
     "output_type": "stream",
     "text": [
      "[1, 2, 3]\n",
      "[1, 2, 5]\n"
     ]
    },
    {
     "data": {
      "text/plain": [
       "False"
      ]
     },
     "execution_count": 134,
     "metadata": {},
     "output_type": "execute_result"
    }
   ],
   "source": [
    "# merge([1,2,3,0,0,0], m = 3, nums2 = [2,5,6], n = 3)\n",
    "a = [1,2,3]\n",
    "print(a)\n",
    "a[-1] = 5\n",
    "print(a)\n",
    "3<3"
   ]
  },
  {
   "cell_type": "code",
   "execution_count": 135,
   "metadata": {},
   "outputs": [],
   "source": [
    "def merge2(nums1, m, nums2, n):\n",
    "    up, down = m, n\n",
    "    zero_idx = -1\n",
    "    while abs(zero_idx) <= down:\n",
    "        if nums1[up] < nums2[down]:\n",
    "            nums1[zero_idx] = nums2[down]\n",
    "\n",
    "        else:\n",
    "            nums1[zero_idx] = nums1[up]\n",
    "            up -=1 \n",
    "\n",
    "    zero_idx -=1\n",
    "    down -=1\n",
    "\n",
    "        \n"
   ]
  },
  {
   "cell_type": "code",
   "execution_count": null,
   "metadata": {},
   "outputs": [],
   "source": [
    "\n",
    "\n",
    "def merge3(nums1, m, nums2, n):\n",
    "    last = m+n-1\n",
    "    while m>0 and n>0:\n",
    "        if nums1[m-1] > nums2[n-1]: \n",
    "            nums1[last] = nums1[m-1]\n",
    "            m-=1\n",
    "        else:\n",
    "            nums1[last] = nums2[n-1]\n",
    "            n-=1\n",
    "        last-=1\n",
    "    \n",
    "    # for this case [2,2,2,3,5,6] #[1,5,6] -> [1,2,2,3,5,6]\n",
    "    while n>0: #while there are remaining elements in nums2, fill them inside nums1\n",
    "        nums1[last] = nums2[n-1]\n",
    "        n, last = n-1, last-1\n"
   ]
  },
  {
   "cell_type": "code",
   "execution_count": null,
   "metadata": {},
   "outputs": [],
   "source": [
    "#codewars regex password verifier\n",
    "\n",
    "regex = \"^(?=.*[a-z])(?=.*[A-Z])(?=.*\\d)[a-zA-Z\\d]{6,}$\""
   ]
  },
  {
   "cell_type": "code",
   "execution_count": 151,
   "metadata": {},
   "outputs": [],
   "source": [
    "import re\n",
    "'Pig latin is cool'\n",
    "def git_it(text):\n",
    "    final_new_txt = \"\"\n",
    "    list_text = (text).split()\n",
    "\n",
    "\n",
    "    print(list_text)\n",
    "    for i in list_text:\n",
    "        if i == \"!\" or i == \"?\":\n",
    "            final_new_txt += i\n",
    "            continue\n",
    "\n",
    "        first_letter = i[0]\n",
    "        the_rest = i[1:]\n",
    "        new_word = the_rest + first_letter + \"ay\"\n",
    "        final_new_txt += new_word + \" \"\n",
    "        print(new_word)\n",
    "    print(final_new_txt.strip())"
   ]
  },
  {
   "cell_type": "code",
   "execution_count": 152,
   "metadata": {},
   "outputs": [
    {
     "name": "stdout",
     "output_type": "stream",
     "text": [
      "['Pig', 'latin', 'is', 'cool', '!']\n",
      "igPay\n",
      "atinlay\n",
      "siay\n",
      "oolcay\n",
      "igPay atinlay siay oolcay !\n"
     ]
    }
   ],
   "source": [
    "git_it('Pig latin is cool !')"
   ]
  },
  {
   "cell_type": "code",
   "execution_count": 21,
   "metadata": {},
   "outputs": [],
   "source": [
    "def gradingStudents(grades):\n",
    "    new_grades = []\n",
    "    for i in grades:\n",
    "        \n",
    "        if i >= 38:\n",
    "            if (i + 2) % 5 ==0:\n",
    "                new_grades.append(i+2)\n",
    "                \n",
    "            elif (i+1) % 5 == 0:\n",
    "                new_grades.append(i+1)\n",
    "            else:\n",
    "                new_grades.append(i)\n",
    "        else:\n",
    "            new_grades.append(i)\n",
    "\n",
    "\n",
    "    return new_grades\n"
   ]
  },
  {
   "cell_type": "code",
   "execution_count": 22,
   "metadata": {},
   "outputs": [
    {
     "data": {
      "text/plain": [
       "[75, 67, 40, 33]"
      ]
     },
     "execution_count": 22,
     "metadata": {},
     "output_type": "execute_result"
    }
   ],
   "source": [
    "gradingStudents([73,67,38,33])"
   ]
  },
  {
   "cell_type": "markdown",
   "metadata": {},
   "source": [
    "---"
   ]
  },
  {
   "cell_type": "markdown",
   "metadata": {},
   "source": [
    "https://leetcode.com/problems/two-sum-ii-input-array-is-sorted/"
   ]
  },
  {
   "cell_type": "code",
   "execution_count": null,
   "metadata": {},
   "outputs": [],
   "source": [
    "def TwoSum2(nums, target):\n",
    "    nums_dict = {}\n",
    "    for idx, num in enumerate(nums):\n",
    "        potentialTarget = target - num\n",
    "        if potentialTarget in nums_dict:\n",
    "             \n",
    "             return [nums.index(potentialTarget)+1, idx+1]\n",
    "        else:\n",
    "            nums_dict[num]= True\n",
    "    return []\n",
    "    \n",
    "\n"
   ]
  },
  {
   "cell_type": "code",
   "execution_count": null,
   "metadata": {},
   "outputs": [],
   "source": [
    "def TwoSum2(numbers, target):\n",
    "    l, r = 0, len(numbers)-1\n",
    "    while l<r:\n",
    "        curSum = numbers[l] + numbers[r]\n",
    "        if curSum > target:\n",
    "            r-=1\n",
    "        elif curSum < target:\n",
    "            l+=1\n",
    "            \n",
    "        else:\n",
    "            return [l+1, r+1]\n",
    "    \n",
    "\n",
    "    \n",
    "\n"
   ]
  },
  {
   "cell_type": "markdown",
   "metadata": {},
   "source": [
    "Reverse String\n",
    "https://leetcode.com/problems/reverse-string/?envType=study-plan&id=algorithm-i"
   ]
  },
  {
   "cell_type": "code",
   "execution_count": 7,
   "metadata": {},
   "outputs": [],
   "source": [
    "def reverse(s):\n",
    "    l, r = 0, len(s)-1\n",
    "\n",
    "    while l < r:\n",
    "        s[l], s[r] = s[r], s[l]\n",
    "        l+=1\n",
    "        r-=1\n",
    "    return s"
   ]
  },
  {
   "cell_type": "code",
   "execution_count": 8,
   "metadata": {},
   "outputs": [
    {
     "data": {
      "text/plain": [
       "['o', 'l', 'l', 'e', 'h']"
      ]
     },
     "execution_count": 8,
     "metadata": {},
     "output_type": "execute_result"
    }
   ],
   "source": [
    "reverse([\"h\",\"e\",\"l\",\"l\",\"o\"])"
   ]
  },
  {
   "cell_type": "code",
   "execution_count": null,
   "metadata": {},
   "outputs": [],
   "source": [
    "def reverseString(s):\n",
    "    stack = []\n",
    "    for c in s:\n",
    "        stack.append(c)\n",
    "    i = 0\n",
    "    while stack:\n",
    "        s[i] = stack.pop()\n",
    "        i+=1\n"
   ]
  },
  {
   "cell_type": "markdown",
   "metadata": {},
   "source": [
    "Contains Duplicate\n",
    "https://leetcode.com/problems/contains-duplicate/"
   ]
  },
  {
   "cell_type": "code",
   "execution_count": 15,
   "metadata": {},
   "outputs": [],
   "source": [
    "def containstDuplicate(nums):\n",
    "    set_nums = set(nums)\n",
    "    if len(set_nums) != len(nums):\n",
    "        return True\n",
    "    else:\n",
    "        return False"
   ]
  },
  {
   "cell_type": "markdown",
   "metadata": {},
   "source": [
    "Reverse Words in a String |||\n",
    "https://leetcode.com/problems/reverse-words-in-a-string-iii/?envType=study-plan&id=algorithm-i"
   ]
  },
  {
   "cell_type": "code",
   "execution_count": 20,
   "metadata": {},
   "outputs": [],
   "source": [
    "def reverseWords(s):\n",
    "    new_str = \"\"\n",
    "    a = s.split(\" \")\n",
    "    for i in a:\n",
    "        new_i = i[::-1]\n",
    "        new_str+= new_i + \" \"\n",
    "\n",
    "    return new_str.strip()"
   ]
  },
  {
   "cell_type": "code",
   "execution_count": 21,
   "metadata": {},
   "outputs": [
    {
     "data": {
      "text/plain": [
       "\"s'teL ekat edoCteeL tsetnoc\""
      ]
     },
     "execution_count": 21,
     "metadata": {},
     "output_type": "execute_result"
    }
   ],
   "source": [
    "s = \"Let's take LeetCode contest\"\n",
    "reverseWords(s)"
   ]
  },
  {
   "cell_type": "markdown",
   "metadata": {},
   "source": [
    "Maximum Subarray:\n",
    "https://leetcode.com/problems/maximum-subarray/"
   ]
  },
  {
   "cell_type": "code",
   "execution_count": 49,
   "metadata": {},
   "outputs": [],
   "source": [
    "def maxSubArray(nums):\n",
    "    maxSub = nums[0]\n",
    "    curSum = 0\n",
    "    for n in nums:\n",
    "        print(\"n: \", n)\n",
    "        if curSum < 0:\n",
    "            curSum = 0\n",
    "        curSum +=n #-2, 1, -2, 4, 3\n",
    "        print(\"curSum: \", curSum)\n",
    "        maxSub = max(maxSub, curSum)\n",
    "        print(\"maxSub: \", maxSub)\n",
    "    return maxSub\n",
    "    \n",
    "\n"
   ]
  },
  {
   "cell_type": "code",
   "execution_count": 56,
   "metadata": {},
   "outputs": [
    {
     "name": "stdout",
     "output_type": "stream",
     "text": [
      "n:  -10\n",
      "curSum:  -10\n",
      "maxSub:  -10\n",
      "n:  100\n",
      "curSum:  100\n",
      "maxSub:  100\n",
      "n:  -100\n",
      "curSum:  0\n",
      "maxSub:  100\n",
      "n:  5\n",
      "curSum:  5\n",
      "maxSub:  100\n",
      "n:  4\n",
      "curSum:  9\n",
      "maxSub:  100\n",
      "n:  -1\n",
      "curSum:  8\n",
      "maxSub:  100\n",
      "n:  7\n",
      "curSum:  15\n",
      "maxSub:  100\n",
      "n:  8\n",
      "curSum:  23\n",
      "maxSub:  100\n"
     ]
    },
    {
     "data": {
      "text/plain": [
       "100"
      ]
     },
     "execution_count": 56,
     "metadata": {},
     "output_type": "execute_result"
    }
   ],
   "source": [
    "a = [-10, 100, -100,5,4,-1,7,8]\n",
    "maxSubArray(a)"
   ]
  },
  {
   "cell_type": "code",
   "execution_count": 54,
   "metadata": {},
   "outputs": [
    {
     "data": {
      "text/plain": [
       "[-10]"
      ]
     },
     "execution_count": 54,
     "metadata": {},
     "output_type": "execute_result"
    }
   ],
   "source": [
    "#brute force\n",
    "from cmath import inf\n",
    "\n",
    "\n",
    "def maxSubArray(nums):\n",
    "    ans = -inf\n",
    "    for i in range(len(nums)):\n",
    "        cur_sum = 0\n",
    "        for j in range(i, len(nums)):\n",
    "            cur_sum += nums[j]\n",
    "            ans = max(ans, cur_sum)\n",
    "    return ans"
   ]
  },
  {
   "cell_type": "code",
   "execution_count": null,
   "metadata": {},
   "outputs": [],
   "source": [
    "#using DP - need to study this from here:\n",
    "# https://leetcode.com/problems/maximum-subarray/discuss/1595195/C%2B%2BPython-7-Simple-Solutions-w-Explanation-or-Brute-Force-%2B-DP-%2B-Kadane-%2B-Divide-and-Conquer\n",
    "from functools import cache\n",
    "\n",
    "\n",
    "def maxSubArray(nums):\n",
    "    @cache\n",
    "    def solve(i, must_pick):\n",
    "        if i>=len(nums): return 0 if must_pick else -inf\n",
    "        return max(nums[i] + solve(i+1, True), 0 if must_pick else solve(i+1, False))\n",
    "    return solve(0, False)"
   ]
  },
  {
   "cell_type": "code",
   "execution_count": 64,
   "metadata": {},
   "outputs": [],
   "source": [
    "#Kadance's Algorithm\n",
    "\n",
    "#[-2,1,-3,4,-1,2,1,-5,4]\n",
    "from cmath import inf\n",
    "\n",
    "def maxSubArray(nums):\n",
    "    cur_max = 0\n",
    "    max_till_now = -inf\n",
    "    for n in nums:\n",
    "        print(\"n\", n)\n",
    "        cur_max = max(n, cur_max + n) #this is the same as before but this is a different type of fiter\n",
    "        #it states: a cutoff that picks n if the current n \n",
    "        #is bigger than the previous cur_sum with n. \n",
    "        print(\"cur_max:\", cur_max)\n",
    "        max_till_now = max(max_till_now, cur_max)\n",
    "        print(\"max_till_now\", max_till_now)\n",
    "\n",
    "    return max_till_now\n"
   ]
  },
  {
   "cell_type": "code",
   "execution_count": 65,
   "metadata": {},
   "outputs": [
    {
     "name": "stdout",
     "output_type": "stream",
     "text": [
      "n -2\n",
      "cur_max: -2\n",
      "max_till_now -2\n",
      "n 1\n",
      "cur_max: 1\n",
      "max_till_now 1\n",
      "n -3\n",
      "cur_max: -2\n",
      "max_till_now 1\n",
      "n 4\n",
      "cur_max: 4\n",
      "max_till_now 4\n",
      "n -1\n",
      "cur_max: 3\n",
      "max_till_now 4\n",
      "n 2\n",
      "cur_max: 5\n",
      "max_till_now 5\n",
      "n 1\n",
      "cur_max: 6\n",
      "max_till_now 6\n",
      "n -5\n",
      "cur_max: 1\n",
      "max_till_now 6\n",
      "n 4\n",
      "cur_max: 5\n",
      "max_till_now 6\n"
     ]
    },
    {
     "data": {
      "text/plain": [
       "6"
      ]
     },
     "execution_count": 65,
     "metadata": {},
     "output_type": "execute_result"
    }
   ],
   "source": [
    "maxSubArray([-2,1,-3,4,-1,2,1,-5,4])"
   ]
  },
  {
   "cell_type": "code",
   "execution_count": null,
   "metadata": {},
   "outputs": [],
   "source": [
    "#This line:\n",
    "# cur_max = max(n, cur_max + n)\n",
    "\n",
    "#is equivalent to saying \n",
    "# if curSum+n < n:\n",
    "#     curSum = n\n",
    "# else:\n",
    "#     curSum +=n"
   ]
  },
  {
   "cell_type": "markdown",
   "metadata": {},
   "source": [
    "Middle of Linked List: https://leetcode.com/problems/middle-of-the-linked-list/?envType=study-plan&id=algorithm-i"
   ]
  },
  {
   "cell_type": "code",
   "execution_count": null,
   "metadata": {},
   "outputs": [],
   "source": [
    "class ListNode:\n",
    "    def __init__(self, val=0, next=None):\n",
    "        self.val = val\n",
    "        self.next = next\n",
    "\n",
    "def middleNode(head):\n",
    "    len_list = 0\n",
    "    start = head\n",
    "    node = head\n",
    "    #This will get the length of the list, its saved in len_list\n",
    "    while start:\n",
    "        len_list+=1\n",
    "        start = start.next\n",
    "\n",
    "    #this is just the index \n",
    "    middle = len_list//2\n",
    "    \n",
    "    #use the index to find the value in the LL\n",
    "    counter = 0\n",
    "    while node:\n",
    "        if counter == middle:\n",
    "            return node.val\n",
    "        else:\n",
    "            node = node.next \n",
    "        counter+=1 \n",
    "    return None\n",
    "    \n",
    "\n",
    "\n"
   ]
  },
  {
   "cell_type": "markdown",
   "metadata": {},
   "source": [
    "Remove Nth node from end of list: https://leetcode.com/problems/remove-nth-node-from-end-of-list/?envType=study-plan&id=algorithm-i"
   ]
  },
  {
   "cell_type": "code",
   "execution_count": null,
   "metadata": {},
   "outputs": [],
   "source": [
    "def removeNthNode(head, n):\n",
    "    #My wrong attempt\n",
    "    start = head\n",
    "    counter = 0\n",
    "    len_list = 0\n",
    "\n",
    "    node = head\n",
    "    #get the length of the list\n",
    "    while start:\n",
    "        len_list+=1\n",
    "        start = start.next\n",
    "        #5-2 = 3\n",
    "    index = len_list - n\n",
    "    while counter < index:\n",
    "        if counter == index:\n",
    "            del node.val\n",
    "            return node\n",
    "        else:\n",
    "            counter+=1\n",
    "    return None\n",
    "\n",
    "       "
   ]
  },
  {
   "cell_type": "code",
   "execution_count": null,
   "metadata": {},
   "outputs": [],
   "source": [
    "def removeNthNode(head, n):\n",
    "    dummy = ListNode(0, head)\n",
    "    left = dummy #[0,1,2,3,4,5]\n",
    "    right = head\n",
    "    #[1,2,3,4,5]\n",
    "    #for n=2\n",
    "    while n > 0 and right:\n",
    "        right = right.next #[2,3,4,5], [3,4,5]\n",
    "        n -=1\n",
    "    #[3,4,5] at the start\n",
    "    while right:  \n",
    "        left = left.next #[1,2,3,4,5], [2,3,4,5], [3,4,5]\n",
    "        right.next # [4,5],  [5], []\n",
    "\n",
    "    left.next = left.next.next\n",
    "\n",
    "    return dummy.next\n",
    "\n",
    "\n",
    "    \n"
   ]
  },
  {
   "cell_type": "markdown",
   "metadata": {},
   "source": [
    "Valid Anagram https://leetcode.com/problems/valid-anagram/"
   ]
  },
  {
   "cell_type": "code",
   "execution_count": 85,
   "metadata": {},
   "outputs": [],
   "source": [
    "def solution(s, t):\n",
    "    if len(s) == len(t):\n",
    "        # s_list = list(s)\n",
    "        # t_list = list(t)\n",
    "        counts_s = dict()\n",
    "        for i in s:\n",
    "            counts_s[i] = counts_s.get(i, 0) + 1\n",
    "\n",
    "        counts_t = dict()\n",
    "        for j in t:\n",
    "            counts_t[j] = counts_t.get(j, 0) + 1\n",
    "        # s_dict = dict.fromkeys(s_list, True)\n",
    "\n",
    "        # t_dict = dict.fromkeys(t_list, True)\n",
    "        print(counts_t, counts_s)\n",
    "        if counts_t == counts_s:\n",
    "            return True\n",
    "        else:\n",
    "            return False\n",
    "    return False"
   ]
  },
  {
   "cell_type": "code",
   "execution_count": 86,
   "metadata": {},
   "outputs": [],
   "source": [
    "a = {'a': True, 'b': True}\n",
    "b = {'b': True, 'a': True}"
   ]
  },
  {
   "cell_type": "code",
   "execution_count": 87,
   "metadata": {},
   "outputs": [
    {
     "name": "stdout",
     "output_type": "stream",
     "text": [
      "{'c': 3, 'a': 1} {'a': 2, 'c': 2}\n"
     ]
    },
    {
     "data": {
      "text/plain": [
       "False"
      ]
     },
     "execution_count": 87,
     "metadata": {},
     "output_type": "execute_result"
    }
   ],
   "source": [
    "solution(s = \"aacc\", t = \"ccac\")"
   ]
  },
  {
   "cell_type": "code",
   "execution_count": 88,
   "metadata": {},
   "outputs": [],
   "source": [
    "a = \"bgbzmouptra\"\n"
   ]
  },
  {
   "cell_type": "code",
   "execution_count": 89,
   "metadata": {},
   "outputs": [
    {
     "data": {
      "text/plain": [
       "['a', 'b', 'b', 'g', 'm', 'o', 'p', 'r', 't', 'u', 'z']"
      ]
     },
     "execution_count": 89,
     "metadata": {},
     "output_type": "execute_result"
    }
   ],
   "source": [
    "sorted(a)"
   ]
  },
  {
   "cell_type": "markdown",
   "metadata": {},
   "source": [
    "https://leetcode.com/problems/replace-elements-with-greatest-element-on-right-side/"
   ]
  },
  {
   "cell_type": "code",
   "execution_count": 95,
   "metadata": {},
   "outputs": [],
   "source": [
    "def solution(arr):\n",
    "    max_list = []\n",
    "    for i in range(1,len(arr)):\n",
    "        max_value = max(arr[i:])\n",
    "        max_list.append(max_value)\n",
    "    max_list.append(-1)\n",
    "    return max_list"
   ]
  },
  {
   "cell_type": "code",
   "execution_count": 8,
   "metadata": {},
   "outputs": [
    {
     "name": "stdout",
     "output_type": "stream",
     "text": [
      "rightmax: -1\n",
      "newMax: 1\n",
      "rightmax: 1\n",
      "newMax: 6\n",
      "rightmax: 6\n",
      "newMax: 6\n",
      "rightmax: 6\n",
      "newMax: 6\n",
      "rightmax: 6\n",
      "newMax: 18\n",
      "rightmax: 18\n",
      "newMax: 18\n"
     ]
    },
    {
     "data": {
      "text/plain": [
       "[18, 6, 6, 6, 1, -1]"
      ]
     },
     "execution_count": 8,
     "metadata": {},
     "output_type": "execute_result"
    }
   ],
   "source": [
    "solution2([17,18,5,4,6,1])"
   ]
  },
  {
   "cell_type": "code",
   "execution_count": 7,
   "metadata": {},
   "outputs": [],
   "source": [
    "def solution2(arr):\n",
    "    rightMax = -1\n",
    "    for i in range(len(arr)-1,-1,-1):\n",
    "        print(\"rightmax:\", rightMax)\n",
    "        # max_value = max(arr[i], arr[i:])\n",
    "        newMax = max(rightMax, arr[i])\n",
    "        print(\"newMax:\", newMax)\n",
    "        arr[i] = rightMax #overwrite the array using the rightMax along the way/iteration\n",
    "\n",
    "        rightMax = newMax #rightmax is the highest value we stick to that is used to compate \n",
    "        #against the iteration value across the array\n",
    "    return arr\n",
    "\n"
   ]
  },
  {
   "cell_type": "code",
   "execution_count": 13,
   "metadata": {},
   "outputs": [],
   "source": [
    "def ThreeSum(nums, target):\n",
    "    prevMap = {}\n",
    "    grand_list = []\n",
    "    for i, n1 in enumerate(nums):\n",
    "        print('n1', n1)\n",
    "        for j, n2 in enumerate(nums):\n",
    "            \n",
    "            if n1 != n2:\n",
    "                print(n2)\n",
    "                diff = target - n2 - n1\n",
    "                if diff in prevMap:\n",
    "                    grand_list.append([n1,n2,diff])\n",
    "                # prevMap[n2] = j\n",
    "        prevMap[n1] = i\n",
    "    print(grand_list)\n"
   ]
  },
  {
   "cell_type": "code",
   "execution_count": 14,
   "metadata": {},
   "outputs": [
    {
     "name": "stdout",
     "output_type": "stream",
     "text": [
      "n1 12\n",
      "3\n",
      "1\n",
      "2\n",
      "-6\n",
      "5\n",
      "-8\n",
      "6\n",
      "n1 3\n",
      "12\n",
      "1\n",
      "2\n",
      "-6\n",
      "5\n",
      "-8\n",
      "6\n",
      "n1 1\n",
      "12\n",
      "3\n",
      "2\n",
      "-6\n",
      "5\n",
      "-8\n",
      "6\n",
      "n1 2\n",
      "12\n",
      "3\n",
      "1\n",
      "-6\n",
      "5\n",
      "-8\n",
      "6\n",
      "n1 -6\n",
      "12\n",
      "3\n",
      "1\n",
      "2\n",
      "5\n",
      "-8\n",
      "6\n",
      "n1 5\n",
      "12\n",
      "3\n",
      "1\n",
      "2\n",
      "-6\n",
      "-8\n",
      "6\n",
      "n1 -8\n",
      "12\n",
      "3\n",
      "1\n",
      "2\n",
      "-6\n",
      "5\n",
      "6\n",
      "n1 6\n",
      "12\n",
      "3\n",
      "1\n",
      "2\n",
      "-6\n",
      "5\n",
      "-8\n",
      "[[-6, 3, 3], [-6, 5, 1], [5, 1, -6], [5, -6, 1], [5, -8, 3], [-8, 3, 5], [-8, 5, 3], [-8, 6, 2], [6, 2, -8], [6, -8, 2]]\n"
     ]
    }
   ],
   "source": [
    "a = [12, 3,1,2,-6,5,-8,6]\n",
    "ThreeSum(a, 0)"
   ]
  },
  {
   "cell_type": "code",
   "execution_count": 42,
   "metadata": {},
   "outputs": [],
   "source": [
    "def threeSum(nums, target):\n",
    "    nums = sorted(nums)\n",
    "    grand_list = []\n",
    "    j = 1\n",
    "    k = len(nums)-1\n",
    "    for i in range(len(nums)):\n",
    "        j = i+1\n",
    "        k = len(nums)-1\n",
    "        while j < k:\n",
    "            diff = nums[i]+ nums[j]+ nums[k]\n",
    "            # print([nums[i], nums[j], nums[k]])\n",
    "            if diff < target:\n",
    "                j+=1\n",
    "            elif diff > target:\n",
    "                k-=1\n",
    "            elif diff == target:\n",
    "                grand_list.append([nums[i], nums[j], nums[k]])\n",
    "                j+=1\n",
    "                k-=1\n",
    "                # print(j,k)\n",
    "\n",
    "    print(grand_list)\n",
    "\n",
    "\n"
   ]
  },
  {
   "cell_type": "code",
   "execution_count": 43,
   "metadata": {},
   "outputs": [
    {
     "name": "stdout",
     "output_type": "stream",
     "text": [
      "[-8, -6, 12]\n",
      "[-8, 1, 12]\n",
      "[-8, 1, 6]\n",
      "[-8, 2, 6]\n",
      "4 5\n",
      "[-8, 3, 5]\n",
      "5 4\n",
      "[-6, 1, 12]\n",
      "[-6, 1, 6]\n",
      "[-6, 1, 5]\n",
      "3 4\n",
      "[-6, 2, 3]\n",
      "[1, 2, 12]\n",
      "[1, 2, 6]\n",
      "[1, 2, 5]\n",
      "[1, 2, 3]\n",
      "[2, 3, 12]\n",
      "[2, 3, 6]\n",
      "[2, 3, 5]\n",
      "[3, 5, 12]\n",
      "[3, 5, 6]\n",
      "[5, 6, 12]\n",
      "[[-8, 2, 6], [-8, 3, 5], [-6, 1, 5]]\n"
     ]
    }
   ],
   "source": [
    "a = [12, 3,1,2,-6,5,-8,6]\n",
    "threeSum(a, 0)"
   ]
  },
  {
   "cell_type": "code",
   "execution_count": 14,
   "metadata": {},
   "outputs": [],
   "source": [
    "a = \"A man, a plan, a canal: Panama\"\n",
    "# a.join(\" \")"
   ]
  },
  {
   "cell_type": "code",
   "execution_count": 21,
   "metadata": {},
   "outputs": [],
   "source": [
    "import re\n",
    "text = re.sub(\"[^a-zA-Z0-9]+\", \"\",a)\n",
    "text = text.lower()"
   ]
  },
  {
   "cell_type": "code",
   "execution_count": 34,
   "metadata": {},
   "outputs": [],
   "source": [
    "import re\n",
    "def solution(s):\n",
    "    text = re.sub(\"[^a-zA-Z0-9]+\", \"\",s)\n",
    "    text = text.lower() \n",
    "    print(text)\n",
    "    i = 0\n",
    "    j = len(text)-1\n",
    "    while i<j:\n",
    "        if text[i] == text[j]:\n",
    "            i+=1\n",
    "            j-=1\n",
    "            continue\n",
    "        else:\n",
    "            return False\n",
    "    return True\n",
    "        \n",
    "\n",
    "\n"
   ]
  },
  {
   "cell_type": "markdown",
   "metadata": {},
   "source": [
    "Ugly numbers: https://leetcode.com/problems/ugly-number/"
   ]
  },
  {
   "cell_type": "code",
   "execution_count": 42,
   "metadata": {},
   "outputs": [],
   "source": [
    "def isUgly( n: int) -> bool:\n",
    "    if n <=0:\n",
    "        return False\n",
    "    while n != 1:\n",
    "        \n",
    "        if n%2==0:\n",
    "            n = n/2\n",
    "            continue\n",
    "        if n%3==0:\n",
    "            n = n/3\n",
    "            continue\n",
    "        if n%5 ==0:\n",
    "            n=n/5\n",
    "            continue\n",
    "        if n == 1:\n",
    "            return True\n",
    "        else:\n",
    "            return False\n",
    "   \n",
    "    "
   ]
  },
  {
   "cell_type": "code",
   "execution_count": null,
   "metadata": {},
   "outputs": [],
   "source": [
    "def isugly(n):\n",
    "    #solution from neetcode\n",
    "    if n<= 0:\n",
    "        return False\n",
    "    for p in [2,3,5]:\n",
    "        while n % p == 0:\n",
    "            n= n//p\n",
    "    return n==1"
   ]
  },
  {
   "cell_type": "markdown",
   "metadata": {},
   "source": [
    "Same Tree: https://leetcode.com/problems/same-tree/"
   ]
  },
  {
   "cell_type": "code",
   "execution_count": null,
   "metadata": {},
   "outputs": [],
   "source": [
    "def isSameTree(p, q):\n",
    "    if p and q:\n",
    "        return p.val == q.val and isSameTree(p.left, q.left) and isSameTree(p.right, q.right)"
   ]
  },
  {
   "cell_type": "markdown",
   "metadata": {},
   "source": [
    "Single Number: https://leetcode.com/problems/single-number/"
   ]
  },
  {
   "cell_type": "code",
   "execution_count": 63,
   "metadata": {},
   "outputs": [],
   "source": [
    "from collections import Counter\n",
    "def singleNumber(nums):\n",
    "    a = Counter(nums)\n",
    "    print(a.keys())\n",
    "    print(list(a.keys())[list(a.values()).index(1)])\n"
   ]
  },
  {
   "cell_type": "code",
   "execution_count": 64,
   "metadata": {},
   "outputs": [
    {
     "name": "stdout",
     "output_type": "stream",
     "text": [
      "dict_keys([1, 2, 3, 5])\n",
      "1\n"
     ]
    }
   ],
   "source": [
    "singleNumber([1,2,2,3,3,5,5,5])"
   ]
  },
  {
   "cell_type": "code",
   "execution_count": null,
   "metadata": {},
   "outputs": [],
   "source": [
    "def singleNumberList(nums):\n",
    "    collection = []\n",
    "    for i in nums:\n",
    "        if i not in collection:\n",
    "            collection.append(i)\n",
    "        if i in collection:\n",
    "            collection.remove(i)\n",
    "    return collection[0]\n",
    "    \n",
    "\n",
    "        "
   ]
  },
  {
   "cell_type": "markdown",
   "metadata": {},
   "source": [
    "Rotate Array: https://leetcode.com/problems/rotate-array/"
   ]
  },
  {
   "cell_type": "code",
   "execution_count": 85,
   "metadata": {},
   "outputs": [],
   "source": [
    "def rotate(nums, k: int) -> None:\n",
    "    # speed up the rotation\n",
    "    k %= len(nums)\n",
    "    print(k)\n",
    "    # [1,2,3,4,5,6,7]\n",
    "    # print(k %= len(nums))\n",
    "    for i in range(k):\n",
    "        previous = nums[-1]\n",
    "        for j in range(len(nums)):\n",
    "            nums[j], previous = previous, nums[j]\n",
    "            print(nums)"
   ]
  },
  {
   "cell_type": "code",
   "execution_count": 100,
   "metadata": {},
   "outputs": [
    {
     "name": "stdout",
     "output_type": "stream",
     "text": [
      "[1, 2]\n",
      "[1, 2]\n"
     ]
    }
   ],
   "source": [
    "rotate([1,2],3)"
   ]
  },
  {
   "cell_type": "markdown",
   "metadata": {},
   "source": [
    "Intersection of Two Arrays || https://leetcode.com/problems/intersection-of-two-arrays-ii/"
   ]
  },
  {
   "cell_type": "code",
   "execution_count": 176,
   "metadata": {},
   "outputs": [],
   "source": [
    "def intersect(nums1, nums2):\n",
    "    nums1.sort()\n",
    "    nums2.sort()\n",
    "    intersection = []\n",
    "    print(nums1)\n",
    "    print(nums2)\n",
    "\n",
    "    i=j=0\n",
    "    while i<len(nums1) and j<len(nums2):\n",
    "        print(i,j)\n",
    "        if nums2[j] > nums1[i]:\n",
    "            print(\"1nd\")\n",
    "            i+=1\n",
    "        elif nums2[j] < nums1[i]:\n",
    "            print(\"2nd\")\n",
    "            j+=1\n",
    "        else:\n",
    "            print(i)\n",
    "            intersection.append(nums1[i])\n",
    "            i+=1\n",
    "            j+=1\n",
    "    return intersection\n"
   ]
  },
  {
   "cell_type": "code",
   "execution_count": 180,
   "metadata": {},
   "outputs": [
    {
     "name": "stdout",
     "output_type": "stream",
     "text": [
      "[1, 1, 2, 2]\n",
      "[2, 3]\n",
      "0 0\n",
      "1nd\n",
      "1\n",
      "2 1\n",
      "1nd\n",
      "3\n"
     ]
    },
    {
     "data": {
      "text/plain": [
       "[1, 2]"
      ]
     },
     "execution_count": 180,
     "metadata": {},
     "output_type": "execute_result"
    }
   ],
   "source": [
    "intersect([1,2,2,1], [2,3])"
   ]
  },
  {
   "cell_type": "code",
   "execution_count": 179,
   "metadata": {},
   "outputs": [],
   "source": [
    "#Using a HashMap\n",
    "def intersection(nums1, nums2):\n",
    "    #Make sure we have this setup nums1<nums2 in length\n",
    "    if len(nums1) > len(nums2): return self.intersection(nums2, nums1)\n",
    "\n",
    "    nums1_dict = Counter(nums1)\n",
    "    ans = []\n",
    "    for x in nums2:\n",
    "        if nums1_dict[x] >0:\n",
    "            ans.append(x)\n",
    "            nums1_dict[x]=-1\n",
    "    return ans\n"
   ]
  },
  {
   "cell_type": "markdown",
   "metadata": {},
   "source": [
    "Remove Duplicates from Sorted Array: https://leetcode.com/problems/remove-duplicates-from-sorted-array/"
   ]
  },
  {
   "cell_type": "code",
   "execution_count": 3,
   "metadata": {},
   "outputs": [],
   "source": [
    "def removeDuplicates(nums):\n",
    "    #1. Iterate over the array and only get unique values by saving them in the dict, by using the dict as a filer\n",
    "    #2. if its a new \n",
    "    counter = set()\n",
    "    j=0 #pointer used for poiting where to place the unique number \n",
    "    for i in range(len(nums)):\n",
    "        if nums[i] in counter:\n",
    "            nums[i]=0\n",
    "        else:\n",
    "            counter.add(nums[i])\n",
    "            nums[j] = nums[i]\n",
    "            j+=1\n",
    "            # nums[i]=0\n",
    "            print(nums[j])\n",
    "            print(nums)\n",
    "        # else:\n",
    "        #     counter.add(nums[i])\n",
    "        #     nums[j] = nums[i]\n",
    "        #     j+=1\n",
    "        #     nums[i]=0\n",
    "        #     print(nums[j])\n",
    "        #     print(nums)\n",
    "    print(j)\n",
    "\n"
   ]
  },
  {
   "cell_type": "code",
   "execution_count": 11,
   "metadata": {},
   "outputs": [
    {
     "data": {
      "text/plain": [
       "5"
      ]
     },
     "execution_count": 11,
     "metadata": {},
     "output_type": "execute_result"
    }
   ],
   "source": [
    "removeDuplicates2([0,0,1,1,1,2,2,3,3,4])"
   ]
  },
  {
   "cell_type": "code",
   "execution_count": 10,
   "metadata": {},
   "outputs": [],
   "source": [
    "def removeDuplicates2(nums):\n",
    "    l = 1\n",
    "    for r in range(1, len(nums)):\n",
    "        if nums[r] != nums[r-1]:\n",
    "            nums[l] = nums[r]\n",
    "            l+=1\n",
    "    return l"
   ]
  },
  {
   "cell_type": "markdown",
   "metadata": {},
   "source": [
    "Best time to buy and sell stock || : https://leetcode.com/problems/best-time-to-buy-and-sell-stock-ii/"
   ]
  },
  {
   "cell_type": "code",
   "execution_count": 12,
   "metadata": {},
   "outputs": [],
   "source": [
    "def maxProfit(prices):\n",
    "    max_profit = 0\n",
    "    l = 0\n",
    "    for r in range(1, len(prices)):\n",
    "        if prices[r]>prices[r-1]:\n",
    "            difference = prices[r] - prices[r-1]\n",
    "            max_profit += difference\n",
    "\n",
    "    return max_profit"
   ]
  },
  {
   "cell_type": "code",
   "execution_count": 15,
   "metadata": {},
   "outputs": [
    {
     "data": {
      "text/plain": [
       "0"
      ]
     },
     "execution_count": 15,
     "metadata": {},
     "output_type": "execute_result"
    }
   ],
   "source": [
    "maxProfit([5,4,3,2,1])"
   ]
  },
  {
   "cell_type": "markdown",
   "metadata": {},
   "source": [
    "Plus One: https://leetcode.com/problems/plus-one/"
   ]
  },
  {
   "cell_type": "code",
   "execution_count": 39,
   "metadata": {},
   "outputs": [],
   "source": [
    "def plusOne2(digits):\n",
    "    str_digits = [str(x) for x in digits]\n",
    "    # print(str_digits)\n",
    "    a = ''.join(str_digits)\n",
    "    b = int(a)+1\n",
    "    res = [int(x) for x in str(b)]\n",
    "    print(res)\n",
    "\n",
    "    \n"
   ]
  },
  {
   "cell_type": "code",
   "execution_count": 40,
   "metadata": {},
   "outputs": [
    {
     "name": "stdout",
     "output_type": "stream",
     "text": [
      "[1, 2, 4]\n"
     ]
    }
   ],
   "source": [
    "plusOne2([1,2,3])"
   ]
  },
  {
   "cell_type": "code",
   "execution_count": null,
   "metadata": {},
   "outputs": [],
   "source": [
    "#From Neetcode\n",
    "def plusOne3(digits):\n",
    "    digits = digits[::-1]\n",
    "    one, i = 1, 0 \n",
    "    while one:\n",
    "        if i<len(digits):\n",
    "            if digits[i] == 9:\n",
    "                digits[i]=0\n",
    "            else:\n",
    "                digits[i] +=1\n",
    "                one = 0\n",
    "        else:\n",
    "            digits.append(1)\n",
    "            one = 0\n",
    "        i+=1\n",
    "    return digits[::-1]\n",
    "\n"
   ]
  },
  {
   "cell_type": "code",
   "execution_count": 41,
   "metadata": {},
   "outputs": [],
   "source": [
    "def plusOne(digits):\n",
    "    n = len(digits)\n",
    "\n",
    "    for i in range(n):\n",
    "        #start and iterate from the rightmost index \n",
    "        index = n-1-i\n",
    "\n",
    "        if digits[index] == 9:\n",
    "            digits[index] = 0\n",
    "        else:\n",
    "            digits[index] +=1\n",
    "            return digits\n",
    "    return [1] + digits\n",
    "        \n",
    "\n"
   ]
  },
  {
   "cell_type": "markdown",
   "metadata": {},
   "source": [
    "Moving Zeros: https://leetcode.com/problems/move-zeroes/"
   ]
  },
  {
   "cell_type": "code",
   "execution_count": 68,
   "metadata": {},
   "outputs": [],
   "source": [
    "def moveZeros(nums):\n",
    "    slow= 0\n",
    "    for fast in range(len(nums)):\n",
    "        print(fast, slow)\n",
    "        if nums[fast] != 0 and nums[slow] == 0:\n",
    "            nums[slow], nums[fast] = nums[fast], nums[slow] \n",
    "\n",
    "        if nums[slow] != 0:\n",
    "            slow+=1\n",
    "        print(nums)"
   ]
  },
  {
   "cell_type": "code",
   "execution_count": 69,
   "metadata": {},
   "outputs": [
    {
     "name": "stdout",
     "output_type": "stream",
     "text": [
      "0 0\n",
      "[0, 1, 0, 3, 12]\n",
      "1 0\n",
      "[1, 0, 0, 3, 12]\n",
      "2 1\n",
      "[1, 0, 0, 3, 12]\n",
      "3 1\n",
      "[1, 3, 0, 0, 12]\n",
      "4 2\n",
      "[1, 3, 12, 0, 0]\n"
     ]
    }
   ],
   "source": [
    "moveZeros([0,1,0,3,12]) #[0,1,0]"
   ]
  },
  {
   "cell_type": "markdown",
   "metadata": {},
   "source": [
    "Two Sum: https://leetcode.com/problems/two-sum/"
   ]
  },
  {
   "cell_type": "code",
   "execution_count": 94,
   "metadata": {},
   "outputs": [],
   "source": [
    "def twoSum(nums, target):\n",
    "    the_dict = {}\n",
    "    for i in range(len(nums)):\n",
    "        diff = target-nums[i]\n",
    "        print(diff)\n",
    "        if diff in the_dict:\n",
    "            return [i, nums.index(diff)]\n",
    "        else:\n",
    "            the_dict[nums[i]] = True    "
   ]
  },
  {
   "cell_type": "code",
   "execution_count": 95,
   "metadata": {},
   "outputs": [
    {
     "name": "stdout",
     "output_type": "stream",
     "text": [
      "3\n",
      "4\n",
      "2\n"
     ]
    },
    {
     "data": {
      "text/plain": [
       "[2, 1]"
      ]
     },
     "execution_count": 95,
     "metadata": {},
     "output_type": "execute_result"
    }
   ],
   "source": [
    "twoSum([3,2,4], 6)"
   ]
  },
  {
   "cell_type": "markdown",
   "metadata": {},
   "source": [
    "Rotate Image: https://leetcode.com/problems/rotate-image/"
   ]
  },
  {
   "cell_type": "code",
   "execution_count": null,
   "metadata": {},
   "outputs": [],
   "source": [
    "def rotate(matrix):\n",
    "     l, r = 0, len(matrix)-1\n",
    "\n",
    "     while l<r:\n",
    "        for i in range(r-l):\n",
    "            top, bottom = l, r \n",
    "            #save the top left value\n",
    "            topLeft = matrix[top][l+i]\n",
    "\n",
    "            #move the bottom left into top left\n",
    "            matrix[top][l+i] = matrix[bottom-i][l] #use the +/-i for the shift \n",
    "\n",
    "            #move bottom right into bottom left \n",
    "            matrix[bottom-i][l] = matrix[bottom][r-i]\n",
    "\n",
    "            #move the top right into the bottom right\n",
    "            matrix[bottom][r-i] = matrix[top+i][r]\n",
    "\n",
    "            #move the topleft into the top right\n",
    "            matrix[top+i][r] = topLeft\n",
    "        r-=1\n",
    "        l+=1"
   ]
  },
  {
   "cell_type": "code",
   "execution_count": null,
   "metadata": {},
   "outputs": [],
   "source": [
    "rotate([[1,2,3],[4,5,6],[7,8,9]])"
   ]
  },
  {
   "cell_type": "code",
   "execution_count": null,
   "metadata": {},
   "outputs": [],
   "source": []
  }
 ],
 "metadata": {
  "kernelspec": {
   "display_name": "Python 3.8.9 64-bit",
   "language": "python",
   "name": "python3"
  },
  "language_info": {
   "codemirror_mode": {
    "name": "ipython",
    "version": 3
   },
   "file_extension": ".py",
   "mimetype": "text/x-python",
   "name": "python",
   "nbconvert_exporter": "python",
   "pygments_lexer": "ipython3",
   "version": "3.8.9"
  },
  "orig_nbformat": 4,
  "vscode": {
   "interpreter": {
    "hash": "31f2aee4e71d21fbe5cf8b01ff0e069b9275f58929596ceb00d14d90e3e16cd6"
   }
  }
 },
 "nbformat": 4,
 "nbformat_minor": 2
}
