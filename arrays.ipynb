{
 "cells": [
  {
   "cell_type": "code",
   "execution_count": 6,
   "metadata": {},
   "outputs": [],
   "source": [
    "def twoSum(nums, target):\n",
    "    nums.sort()\n",
    "    for i in range(len(nums)):\n",
    "        for j in range(len(nums)):\n",
    "            if i!= j and nums[i] + nums[j] == target:\n",
    "                return [i,j]"
   ]
  },
  {
   "cell_type": "code",
   "execution_count": 28,
   "metadata": {},
   "outputs": [],
   "source": [
    "def twoSum2(nums, target):\n",
    "    nums_dict = {}\n",
    "    for idx, num in enumerate(nums):\n",
    "        potentialTarget = target - num\n",
    "        if potentialTarget in nums_dict:\n",
    "             print(nums_dict)\n",
    "             return [nums.index(potentialTarget), idx]\n",
    "        else:\n",
    "            nums_dict[num]= True\n",
    "    return []"
   ]
  },
  {
   "cell_type": "code",
   "execution_count": 30,
   "metadata": {},
   "outputs": [
    {
     "name": "stdout",
     "output_type": "stream",
     "text": [
      "{7: True, 1: True, 64: True, 11: True, 15: True}\n"
     ]
    },
    {
     "data": {
      "text/plain": [
       "[0, 5]"
      ]
     },
     "execution_count": 30,
     "metadata": {},
     "output_type": "execute_result"
    }
   ],
   "source": [
    "twoSum2([7,1,64,11,15,2], 9)"
   ]
  },
  {
   "cell_type": "code",
   "execution_count": 82,
   "metadata": {},
   "outputs": [],
   "source": [
    "def maxProfit(prices):\n",
    "    # profits = []\n",
    "    max_profit = 0\n",
    "    inverted_prices = prices[::-1]\n",
    "    for i in range(len(prices)):\n",
    "        current_sum = 0\n",
    "        for j in range(len(inverted_prices)):\n",
    "            if prices[i] > prices[j]:\n",
    "                continue\n",
    "            elif j > i:\n",
    "                print(max_profit)\n",
    "                if prices[j] - prices[i] > max_profit:\n",
    "                    max_profit = prices[j] - prices[i]\n",
    "\n",
    "    return max_profit\n",
    "\n",
    "\n",
    "\n",
    "\n"
   ]
  },
  {
   "cell_type": "code",
   "execution_count": 84,
   "metadata": {},
   "outputs": [
    {
     "data": {
      "text/plain": [
       "0"
      ]
     },
     "execution_count": 84,
     "metadata": {},
     "output_type": "execute_result"
    }
   ],
   "source": [
    "maxProfit([7,4,3,2,1])"
   ]
  },
  {
   "cell_type": "code",
   "execution_count": 35,
   "metadata": {},
   "outputs": [
    {
     "data": {
      "text/plain": [
       "[4, 6, 3, 5, 1, 7]"
      ]
     },
     "execution_count": 35,
     "metadata": {},
     "output_type": "execute_result"
    }
   ],
   "source": [
    "def maxProfit2(prices):\n",
    "    l, r =0, 1 #left is buy, right is sell\n",
    "    maxP = 0\n",
    "    while r < len(prices):\n",
    "        if prices[l] < prices[r]:\n",
    "            profit = prices[r] - prices[l]\n",
    "            if profit > maxP:\n",
    "                maxP = profit\n",
    "        else:\n",
    "            l = r #become the rightmost price that is the lowest detected\n",
    "        r+=1\n",
    "    return maxP"
   ]
  },
  {
   "cell_type": "code",
   "execution_count": 127,
   "metadata": {},
   "outputs": [],
   "source": [
    "def merge(nums1, m, nums2, n):\n",
    "    nums3 = nums1[:m]\n",
    "    \n",
    "    print(nums3)\n",
    "    final_array = nums3 + nums2\n",
    "    final_array.sort()\n",
    "    nums1[:] = list(final_array)\n",
    "    print(nums1)"
   ]
  },
  {
   "cell_type": "code",
   "execution_count": 128,
   "metadata": {},
   "outputs": [
    {
     "name": "stdout",
     "output_type": "stream",
     "text": [
      "[1]\n",
      "[1]\n"
     ]
    }
   ],
   "source": [
    "merge([1], m = 1, nums2 = [], n=0 )"
   ]
  },
  {
   "cell_type": "code",
   "execution_count": 134,
   "metadata": {},
   "outputs": [
    {
     "name": "stdout",
     "output_type": "stream",
     "text": [
      "[1, 2, 3]\n",
      "[1, 2, 5]\n"
     ]
    },
    {
     "data": {
      "text/plain": [
       "False"
      ]
     },
     "execution_count": 134,
     "metadata": {},
     "output_type": "execute_result"
    }
   ],
   "source": [
    "# merge([1,2,3,0,0,0], m = 3, nums2 = [2,5,6], n = 3)\n",
    "a = [1,2,3]\n",
    "print(a)\n",
    "a[-1] = 5\n",
    "print(a)\n",
    "3<3"
   ]
  },
  {
   "cell_type": "code",
   "execution_count": 135,
   "metadata": {},
   "outputs": [],
   "source": [
    "def merge2(nums1, m, nums2, n):\n",
    "    up, down = m, n\n",
    "    zero_idx = -1\n",
    "    while abs(zero_idx) <= down:\n",
    "        if nums1[up] < nums2[down]:\n",
    "            nums1[zero_idx] = nums2[down]\n",
    "\n",
    "        else:\n",
    "            nums1[zero_idx] = nums1[up]\n",
    "            up -=1 \n",
    "\n",
    "    zero_idx -=1\n",
    "    down -=1\n",
    "\n",
    "        \n"
   ]
  },
  {
   "cell_type": "code",
   "execution_count": null,
   "metadata": {},
   "outputs": [],
   "source": [
    "\n",
    "\n",
    "def merge3(nums1, m, nums2, n):\n",
    "    last = m+n-1\n",
    "    while m>0 and n>0:\n",
    "        if nums1[m-1] > nums2[n-1]: \n",
    "            nums1[last] = nums1[m-1]\n",
    "            m-=1\n",
    "        else:\n",
    "            nums1[last] = nums2[n-1]\n",
    "            n-=1\n",
    "        last-=1\n",
    "    \n",
    "    # for this case [2,2,2,3,5,6] #[1,5,6] -> [1,2,2,3,5,6]\n",
    "    while n>0: #while there are remaining elements in nums2, fill them inside nums1\n",
    "        nums1[last] = nums2[n-1]\n",
    "        n, last = n-1, last-1\n"
   ]
  },
  {
   "cell_type": "code",
   "execution_count": null,
   "metadata": {},
   "outputs": [],
   "source": [
    "#codewars regex password verifier\n",
    "\n",
    "regex = \"^(?=.*[a-z])(?=.*[A-Z])(?=.*\\d)[a-zA-Z\\d]{6,}$\""
   ]
  },
  {
   "cell_type": "code",
   "execution_count": 151,
   "metadata": {},
   "outputs": [],
   "source": [
    "import re\n",
    "'Pig latin is cool'\n",
    "def git_it(text):\n",
    "    final_new_txt = \"\"\n",
    "    list_text = (text).split()\n",
    "\n",
    "\n",
    "    print(list_text)\n",
    "    for i in list_text:\n",
    "        if i == \"!\" or i == \"?\":\n",
    "            final_new_txt += i\n",
    "            continue\n",
    "\n",
    "        first_letter = i[0]\n",
    "        the_rest = i[1:]\n",
    "        new_word = the_rest + first_letter + \"ay\"\n",
    "        final_new_txt += new_word + \" \"\n",
    "        print(new_word)\n",
    "    print(final_new_txt.strip())"
   ]
  },
  {
   "cell_type": "code",
   "execution_count": 152,
   "metadata": {},
   "outputs": [
    {
     "name": "stdout",
     "output_type": "stream",
     "text": [
      "['Pig', 'latin', 'is', 'cool', '!']\n",
      "igPay\n",
      "atinlay\n",
      "siay\n",
      "oolcay\n",
      "igPay atinlay siay oolcay !\n"
     ]
    }
   ],
   "source": [
    "git_it('Pig latin is cool !')"
   ]
  },
  {
   "cell_type": "code",
   "execution_count": 21,
   "metadata": {},
   "outputs": [],
   "source": [
    "def gradingStudents(grades):\n",
    "    new_grades = []\n",
    "    for i in grades:\n",
    "        \n",
    "        if i >= 38:\n",
    "            if (i + 2) % 5 ==0:\n",
    "                new_grades.append(i+2)\n",
    "                \n",
    "            elif (i+1) % 5 == 0:\n",
    "                new_grades.append(i+1)\n",
    "            else:\n",
    "                new_grades.append(i)\n",
    "        else:\n",
    "            new_grades.append(i)\n",
    "\n",
    "\n",
    "    return new_grades\n"
   ]
  },
  {
   "cell_type": "code",
   "execution_count": 22,
   "metadata": {},
   "outputs": [
    {
     "data": {
      "text/plain": [
       "[75, 67, 40, 33]"
      ]
     },
     "execution_count": 22,
     "metadata": {},
     "output_type": "execute_result"
    }
   ],
   "source": [
    "gradingStudents([73,67,38,33])"
   ]
  },
  {
   "cell_type": "markdown",
   "metadata": {},
   "source": [
    "---"
   ]
  },
  {
   "cell_type": "markdown",
   "metadata": {},
   "source": [
    "https://leetcode.com/problems/two-sum-ii-input-array-is-sorted/"
   ]
  },
  {
   "cell_type": "code",
   "execution_count": null,
   "metadata": {},
   "outputs": [],
   "source": [
    "def TwoSum2(nums, target):\n",
    "    nums_dict = {}\n",
    "    for idx, num in enumerate(nums):\n",
    "        potentialTarget = target - num\n",
    "        if potentialTarget in nums_dict:\n",
    "             \n",
    "             return [nums.index(potentialTarget)+1, idx+1]\n",
    "        else:\n",
    "            nums_dict[num]= True\n",
    "    return []\n",
    "    \n",
    "\n"
   ]
  },
  {
   "cell_type": "code",
   "execution_count": null,
   "metadata": {},
   "outputs": [],
   "source": [
    "def TwoSum2(numbers, target):\n",
    "    l, r = 0, len(numbers)-1\n",
    "    while l<r:\n",
    "        curSum = numbers[l] + numbers[r]\n",
    "        if curSum > target:\n",
    "            r-=1\n",
    "        elif curSum < target:\n",
    "            l+=1\n",
    "            \n",
    "        else:\n",
    "            return [l+1, r+1]\n",
    "    \n",
    "\n",
    "    \n",
    "\n"
   ]
  },
  {
   "cell_type": "markdown",
   "metadata": {},
   "source": [
    "Reverse String\n",
    "https://leetcode.com/problems/reverse-string/?envType=study-plan&id=algorithm-i"
   ]
  },
  {
   "cell_type": "code",
   "execution_count": 7,
   "metadata": {},
   "outputs": [],
   "source": [
    "def reverse(s):\n",
    "    l, r = 0, len(s)-1\n",
    "\n",
    "    while l < r:\n",
    "        s[l], s[r] = s[r], s[l]\n",
    "        l+=1\n",
    "        r-=1\n",
    "    return s"
   ]
  },
  {
   "cell_type": "code",
   "execution_count": 8,
   "metadata": {},
   "outputs": [
    {
     "data": {
      "text/plain": [
       "['o', 'l', 'l', 'e', 'h']"
      ]
     },
     "execution_count": 8,
     "metadata": {},
     "output_type": "execute_result"
    }
   ],
   "source": [
    "reverse([\"h\",\"e\",\"l\",\"l\",\"o\"])"
   ]
  },
  {
   "cell_type": "code",
   "execution_count": null,
   "metadata": {},
   "outputs": [],
   "source": []
  }
 ],
 "metadata": {
  "kernelspec": {
   "display_name": "Python 3.8.9 64-bit",
   "language": "python",
   "name": "python3"
  },
  "language_info": {
   "codemirror_mode": {
    "name": "ipython",
    "version": 3
   },
   "file_extension": ".py",
   "mimetype": "text/x-python",
   "name": "python",
   "nbconvert_exporter": "python",
   "pygments_lexer": "ipython3",
   "version": "3.8.9"
  },
  "orig_nbformat": 4,
  "vscode": {
   "interpreter": {
    "hash": "31f2aee4e71d21fbe5cf8b01ff0e069b9275f58929596ceb00d14d90e3e16cd6"
   }
  }
 },
 "nbformat": 4,
 "nbformat_minor": 2
}
