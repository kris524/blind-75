{
 "cells": [
  {
   "cell_type": "code",
   "execution_count": null,
   "metadata": {},
   "outputs": [],
   "source": [
    "def gridChallenge(grid):\n",
    "    while True:\n",
    "        for i in len(range(grid)): #column\n",
    "            for j in len(range(grid)): #row\n",
    "                word = grid[i][j]\n",
    "\n",
    "            # letter = grid[i]\n"
   ]
  },
  {
   "cell_type": "code",
   "execution_count": 76,
   "metadata": {},
   "outputs": [],
   "source": [
    "def gridChallenge(grid):\n",
    "    column_list = []\n",
    "    alphabetical_column_list = []\n",
    "    grid = [list(row) for row in grid]\n",
    "    print(grid) #grid here is [[] [] [] ...]\n",
    "    i = 0\n",
    "    while i<len(grid):\n",
    "        for j in range(len(grid)):\n",
    "            print(j, i)\n",
    "            print(grid[j][i])\n",
    "            column_list.append(grid[j][i])\n",
    "            alphabetical_column_list.append(grid[j][i])\n",
    "        i+=1\n",
    "\n",
    "    alphabetical_column_list_new = []\n",
    "    number_of_columns = len(grid)\n",
    "    for i in range(0, len(alphabetical_column_list), number_of_columns):\n",
    "        sorted_chunk = sorted(alphabetical_column_list[i: i+number_of_columns])\n",
    "        alphabetical_column_list_new.append(sorted_chunk)\n",
    "\n",
    "    column_list_new = []\n",
    "    for i in range(0, len(column_list), number_of_columns):\n",
    "        # sorted_chunk = sorted(alphabetical_column_list[i: i+number_of_columns])\n",
    "        column_list_new.append(column_list[i: i+number_of_columns])\n",
    "\n",
    "    print(column_list)\n",
    "    print(alphabetical_column_list)\n",
    "    print(alphabetical_column_list_new)\n",
    "    print(column_list_new)\n",
    "    if column_list_new == alphabetical_column_list_new:\n",
    "        return \"YES\"\n",
    "    else:\n",
    "        return \"NO\"\n",
    "    "
   ]
  },
  {
   "cell_type": "code",
   "execution_count": 78,
   "metadata": {},
   "outputs": [
    {
     "name": "stdout",
     "output_type": "stream",
     "text": [
      "[['u', 'x', 'f'], ['v', 'o', 'f'], ['h', 'm', 'p']]\n",
      "0 0\n",
      "u\n",
      "1 0\n",
      "v\n",
      "2 0\n",
      "h\n",
      "0 1\n",
      "x\n",
      "1 1\n",
      "o\n",
      "2 1\n",
      "m\n",
      "0 2\n",
      "f\n",
      "1 2\n",
      "f\n",
      "2 2\n",
      "p\n",
      "['u', 'v', 'h', 'x', 'o', 'm', 'f', 'f', 'p']\n",
      "['u', 'v', 'h', 'x', 'o', 'm', 'f', 'f', 'p']\n",
      "[['h', 'u', 'v'], ['m', 'o', 'x'], ['f', 'f', 'p']]\n",
      "[['u', 'v', 'h'], ['x', 'o', 'm'], ['f', 'f', 'p']]\n"
     ]
    },
    {
     "data": {
      "text/plain": [
       "'NO'"
      ]
     },
     "execution_count": 78,
     "metadata": {},
     "output_type": "execute_result"
    }
   ],
   "source": [
    "gridChallenge(['uxf', 'vof', 'hmp'])"
   ]
  },
  {
   "cell_type": "code",
   "execution_count": null,
   "metadata": {},
   "outputs": [],
   "source": [
    "def gridChallenge(grid):\n",
    "    # Sort each row.\n",
    "    for i in range(len(grid)):\n",
    "        grid[i] = sorted(grid[i])\n",
    "        \n",
    "    # Check each column is sorted.\n",
    "    for i in range(len(grid[0])):\n",
    "        column_list = []\n",
    "        for j in range(len(grid)): \n",
    "            column_list.append(grid[j][i])\n",
    "        if (column_list != sorted(column_list)):\n",
    "            return \"NO\"\n",
    "            \n",
    "    return \"YES\""
   ]
  },
  {
   "cell_type": "code",
   "execution_count": 105,
   "metadata": {},
   "outputs": [],
   "source": [
    "from functools import reduce\n",
    "\n",
    "\n",
    "def product(nums):\n",
    "    dummy = nums[:]\n",
    "    answer = []\n",
    "    i = 0\n",
    "    \n",
    "    for i in range(len(nums)):\n",
    "        \n",
    "        dummy = nums[:]\n",
    "        dummy.pop(i)\n",
    "        result = reduce((lambda x, y: x * y), dummy)\n",
    "        answer.append(result)\n",
    "\n",
    "\n",
    "\n",
    "\n",
    "    # for i in nums:\n",
    "    #     result1 = reduce(   (lambda x,y: (x*y) while (x !=i and y !=i) )   ,    dummy)\n",
    "    #     answer.append(result1)\n",
    "    # print(dummy)\n",
    "    # dummy.pop(1)\n",
    "    print(answer)"
   ]
  },
  {
   "cell_type": "code",
   "execution_count": 106,
   "metadata": {},
   "outputs": [
    {
     "name": "stdout",
     "output_type": "stream",
     "text": [
      "[24, 12, 8, 6]\n"
     ]
    }
   ],
   "source": [
    "product([1,2,3,4])"
   ]
  },
  {
   "cell_type": "code",
   "execution_count": 122,
   "metadata": {},
   "outputs": [],
   "source": [
    "import math\n",
    "def solution(nums):\n",
    "    answer = []\n",
    "   \n",
    "    for i in range(len(nums)):\n",
    "        \n",
    "        if i == len(nums)-1:\n",
    "            postfix = 1\n",
    "            prefix = math.prod(nums[:i])\n",
    "            answer.append(prefix*postfix)\n",
    "        elif i == 0:\n",
    "            prefix = 1\n",
    "            postfix = math.prod(nums[i+1:])\n",
    "            answer.append(prefix*postfix)\n",
    "        else:\n",
    "            prefix = math.prod(nums[:i])\n",
    "            postfix = math.prod(nums[i+1:])\n",
    "            answer.append(prefix*postfix)\n",
    "    print(answer)\n",
    "        "
   ]
  },
  {
   "cell_type": "code",
   "execution_count": 123,
   "metadata": {},
   "outputs": [
    {
     "name": "stdout",
     "output_type": "stream",
     "text": [
      "[]\n",
      "[1, 2, 3, 4]\n",
      "[1]\n",
      "[2, 3, 4]\n",
      "[1, 2]\n",
      "[3, 4]\n",
      "[1, 2, 3]\n",
      "[4]\n",
      "[24, 12, 8, 6]\n"
     ]
    }
   ],
   "source": [
    "solution([1,2,3, 4])"
   ]
  },
  {
   "cell_type": "code",
   "execution_count": 140,
   "metadata": {},
   "outputs": [],
   "source": [
    "def solution(nums):\n",
    "    prefix = 1\n",
    "    res = [1]*len(nums)\n",
    "    for i in range(len(nums)):\n",
    "        # print(nums[i])\n",
    "        res[i] = prefix\n",
    "        print(res)\n",
    "        prefix *= nums[i] #1, 2, 6, 24\n",
    "        print(prefix)\n",
    "    \n",
    "    postfix = 1\n",
    "    for i in range(len(nums)-1,-1,-1):\n",
    "        # print(nums[i])\n",
    "        res[i] *= postfix\n",
    "        print(res)\n",
    "        postfix *= nums[i]# 4, 12, 24, 24\n",
    "        print(postfix)\n",
    "\n",
    "    return res"
   ]
  },
  {
   "cell_type": "code",
   "execution_count": 141,
   "metadata": {},
   "outputs": [
    {
     "name": "stdout",
     "output_type": "stream",
     "text": [
      "[1, 1, 1, 1]\n",
      "1\n",
      "[1, 1, 1, 1]\n",
      "2\n",
      "[1, 1, 2, 1]\n",
      "6\n",
      "[1, 1, 2, 6]\n",
      "24\n",
      "[1, 1, 2, 6]\n",
      "4\n",
      "[1, 1, 8, 6]\n",
      "12\n",
      "[1, 12, 8, 6]\n",
      "24\n",
      "[24, 12, 8, 6]\n",
      "24\n"
     ]
    },
    {
     "data": {
      "text/plain": [
       "[24, 12, 8, 6]"
      ]
     },
     "execution_count": 141,
     "metadata": {},
     "output_type": "execute_result"
    }
   ],
   "source": [
    "solution([1,2,3,4])"
   ]
  },
  {
   "cell_type": "code",
   "execution_count": 181,
   "metadata": {},
   "outputs": [],
   "source": [
    "def superDigit(n, k):\n",
    "    n_str = str(n)\n",
    "    n_str_total = k * n_str\n",
    "    for num in n_str_total:\n",
    "        total += int(num)\n",
    "\n",
    "    # print(n)\n",
    "    list_n_str_totla = [int(x) for x in n_str_total]\n",
    "\n",
    "    if len(list_n_str_totla) ==1:\n",
    "        return list_n_str_totla[0]\n",
    "    else:\n",
    "        return superDigit(sum(list_n_str_totla),1)\n",
    "\n"
   ]
  },
  {
   "cell_type": "code",
   "execution_count": 197,
   "metadata": {},
   "outputs": [
    {
     "name": "stdout",
     "output_type": "stream",
     "text": [
      "148148148\n",
      "148148148\n",
      "39\n",
      "39\n",
      "12\n",
      "12\n"
     ]
    },
    {
     "data": {
      "text/plain": [
       "'3'"
      ]
     },
     "execution_count": 197,
     "metadata": {},
     "output_type": "execute_result"
    }
   ],
   "source": [
    "superDigit('148', 3)"
   ]
  },
  {
   "cell_type": "code",
   "execution_count": null,
   "metadata": {},
   "outputs": [],
   "source": [
    "def superDigit(n, k):\n",
    "    \n",
    "    def helper(n):\n",
    "        \n",
    "        total = 0\n",
    "        for num in n:\n",
    "            total += int(num)\n",
    "        total = str(total)\n",
    "        if len(total) == 1:\n",
    "            return total\n",
    "        else:\n",
    "            print(total)\n",
    "            return helper(total)\n",
    "    # use the helper at the start so you can simplify if you get a very big number at the start\n",
    "    p = str(helper(n)*k)\n",
    "    print(p)\n",
    "    return helper(p)\n",
    "        \n"
   ]
  },
  {
   "cell_type": "markdown",
   "metadata": {},
   "source": [
    "New Year Chaos: https://www.hackerrank.com/challenges/one-week-preparation-kit-new-year-chaos/problem?isFullScreen=true&h_l=interview&playlist_slugs%5B%5D=preparation-kits&playlist_slugs%5B%5D=one-week-preparation-kit&playlist_slugs%5B%5D=one-week-day-four&h_r=next-challenge&h_v=zen"
   ]
  },
  {
   "cell_type": "code",
   "execution_count": 59,
   "metadata": {},
   "outputs": [],
   "source": [
    "def minBribes(q):\n",
    "    counter = 0\n",
    "    k=0\n",
    "    i = 0\n",
    "    j=1\n",
    "    statement = True\n",
    "\n",
    "    while statement:\n",
    "        for k in range(len(q)-1):\n",
    "            if q[k]>q[k+1]:\n",
    "                q[k], q[k+1] = q[k+1], q[k]   \n",
    "            \n",
    "                j+=1\n",
    "                counter +=1\n",
    "\n",
    "            if q == sorted(q):\n",
    "                statement = False\n",
    "\n",
    "    return counter,q\n",
    "            \n"
   ]
  },
  {
   "cell_type": "code",
   "execution_count": 60,
   "metadata": {},
   "outputs": [
    {
     "data": {
      "text/plain": [
       "(4, [1, 2, 3, 4, 5, 6, 7, 8])"
      ]
     },
     "execution_count": 60,
     "metadata": {},
     "output_type": "execute_result"
    }
   ],
   "source": [
    "minBribes([1 ,2, 5, 3, 4, 7, 8, 6])"
   ]
  },
  {
   "cell_type": "code",
   "execution_count": 63,
   "metadata": {},
   "outputs": [],
   "source": [
    "def minBribes(q):\n",
    "    bribe = 0\n",
    "    for i in range(len(q)-1,0,-1):\n",
    "        if q[i] != i+1:\n",
    "            if q[i-1]==i+1:\n",
    "                bribe+=1\n",
    "                q[i-1], q[i] = q[i], q[i-1]\n",
    "\n",
    "            elif q[i-2] == i+1:\n",
    "                bribe+=2\n",
    "                print(q[i-2], q[i-1], q[i])\n",
    "                #5      3       4      3       4      5\n",
    "                q[i-2], q[i-1], q[i] = q[i-1], q[i], q[i-2]\n",
    "                print(q)\n",
    "            else:\n",
    "                print(\"Too chaotic\")\n",
    "                return \n",
    "    print(bribe)\n"
   ]
  },
  {
   "attachments": {},
   "cell_type": "markdown",
   "metadata": {},
   "source": [
    "---"
   ]
  },
  {
   "attachments": {},
   "cell_type": "markdown",
   "metadata": {},
   "source": [
    "Sort Integers by The Number of 1 Bits: https://leetcode.com/problems/sort-integers-by-the-number-of-1-bits/"
   ]
  },
  {
   "cell_type": "code",
   "execution_count": 51,
   "metadata": {},
   "outputs": [],
   "source": [
    "class Solution:\n",
    "    def counter(self, arr):\n",
    "        lol = set()\n",
    "        for i in range(len(arr)):\n",
    "            bytes = bin(arr[i]).count(\"1\")\n",
    "            lol.add((bytes, arr[i]))\n",
    "        # return lol\n",
    "\n",
    "    def sortByBits(self, arr: List[int]) -> List[int]:\n",
    "        return sorted(arr, key = lambda x: (bin(x).count(\"1\"), x))"
   ]
  },
  {
   "cell_type": "code",
   "execution_count": null,
   "metadata": {},
   "outputs": [],
   "source": []
  },
  {
   "attachments": {},
   "cell_type": "markdown",
   "metadata": {},
   "source": [
    "Rotate Left: https://www.hackerrank.com/challenges/array-left-rotation/problem?isFullScreen=true"
   ]
  },
  {
   "cell_type": "code",
   "execution_count": 59,
   "metadata": {},
   "outputs": [],
   "source": [
    "def rotateLeft(d, arr):\n",
    "    # d is the number of rotations by 1 \n",
    "    for i in range(d):\n",
    "        number = arr.pop(0)\n",
    "        arr.insert(len(arr), number)\n",
    "        print(arr)\n"
   ]
  },
  {
   "cell_type": "code",
   "execution_count": 61,
   "metadata": {},
   "outputs": [
    {
     "name": "stdout",
     "output_type": "stream",
     "text": [
      "[2, 3, 4, 5, 1]\n",
      "[3, 4, 5, 1, 2]\n",
      "[4, 5, 1, 2, 3]\n"
     ]
    }
   ],
   "source": [
    "rotateLeft(3, [1,2,3,4,5])"
   ]
  },
  {
   "cell_type": "code",
   "execution_count": 75,
   "metadata": {},
   "outputs": [],
   "source": [
    "def palindromeIndex(s):\n",
    "    s_list = list(s)\n",
    "    if s_list == s_list[::-1]:\n",
    "            return -1\n",
    "    \n",
    "    for i in range(len(s_list)):\n",
    "        letter = s_list.pop(i)\n",
    "        if s_list == s_list[::-1]:\n",
    "            return i\n",
    "        else:\n",
    "            s_list.insert(i, letter)\n",
    "    return -1"
   ]
  },
  {
   "cell_type": "code",
   "execution_count": 78,
   "metadata": {},
   "outputs": [],
   "source": [
    "def palindromeIndex2(s):\n",
    "    if s ==s[::-1]:\n",
    "        return -1\n",
    "    n = len(s)\n",
    "    for i in range(n//2):\n",
    "        print(i)\n",
    "        if s[i] != s[n-1-i]: #here we are comparing the symmetrical way\n",
    "            #check the first and the last characters are different \n",
    "            if s[i:n-1-i] == s[i:n-1-i][::-1]: #bcb\n",
    "                return n-1-i #will return c\n",
    "            elif s[i+1:n-i] == s[i+1:n-i][::-1]: \n",
    "                # dont use the -1 here as we want to capture the middle and we dont want to exclude the element in question\n",
    "                return i\n",
    "    return -1"
   ]
  },
  {
   "cell_type": "code",
   "execution_count": 80,
   "metadata": {},
   "outputs": [
    {
     "name": "stdout",
     "output_type": "stream",
     "text": [
      "0\n",
      "1\n",
      "2\n",
      "3\n",
      "4\n"
     ]
    }
   ],
   "source": [
    "palindromeIndex2(\"aabcbcaa\")"
   ]
  },
  {
   "cell_type": "code",
   "execution_count": 64,
   "metadata": {},
   "outputs": [
    {
     "data": {
      "text/plain": [
       "'cvba'"
      ]
     },
     "execution_count": 64,
     "metadata": {},
     "output_type": "execute_result"
    }
   ],
   "source": [
    "a[::-1]"
   ]
  },
  {
   "cell_type": "markdown",
   "metadata": {},
   "source": []
  },
  {
   "cell_type": "code",
   "execution_count": null,
   "metadata": {},
   "outputs": [],
   "source": [
    "def truckTour(pertolpumps):\n",
    "    position = fuel = 0\n",
    "    for i in range(len(pertolpumps)):\n",
    "        fuel += pertolpumps[i][0] - pertolpumps[i][1]\n",
    "        if fuel < 0:\n",
    "            position = i+1\n",
    "            fuel = 0\n",
    "    return position\n"
   ]
  },
  {
   "attachments": {},
   "cell_type": "markdown",
   "metadata": {},
   "source": [
    "Merge two sorted linked lists: https://www.hackerrank.com/challenges/one-week-preparation-kit-merge-two-sorted-linked-lists/problem?isFullScreen=true&h_l=interview&playlist_slugs%5B%5D=preparation-kits&playlist_slugs%5B%5D=one-week-preparation-kit&playlist_slugs%5B%5D=one-week-day-five"
   ]
  },
  {
   "cell_type": "code",
   "execution_count": null,
   "metadata": {},
   "outputs": [],
   "source": [
    "def mergeLists(head1, head2):\n",
    "    l1 = head1\n",
    "    l2 = head2\n",
    "    prehead = SinglyLinkedListNode(-1)\n",
    "    prev = prehead\n",
    "    \n",
    "    while l1 and l2:\n",
    "        if l1.data <= l2.data:\n",
    "            prev.next = l1\n",
    "            l1 = l1.next\n",
    "            prev = prev.next\n",
    "        elif l1.data > l2.data:\n",
    "            prev.next = l2\n",
    "            l2 = l2.next\n",
    "            prev = prev.next\n",
    "    prev.next = l1 if l1 else l2\n",
    "            \n",
    "    return prehead.next\n",
    "    "
   ]
  },
  {
   "cell_type": "code",
   "execution_count": null,
   "metadata": {},
   "outputs": [],
   "source": [
    "\n",
    "stack = []\n",
    "if type == 1:\n",
    "    \n",
    "\n"
   ]
  },
  {
   "cell_type": "code",
   "execution_count": 82,
   "metadata": {},
   "outputs": [
    {
     "data": {
      "text/plain": [
       "['1', '42']"
      ]
     },
     "execution_count": 82,
     "metadata": {},
     "output_type": "execute_result"
    }
   ],
   "source": [
    "\"1 42\".split()"
   ]
  },
  {
   "attachments": {},
   "cell_type": "markdown",
   "metadata": {},
   "source": [
    "Queue using two stacks"
   ]
  },
  {
   "cell_type": "code",
   "execution_count": null,
   "metadata": {},
   "outputs": [],
   "source": [
    "# Enter your code here. Read input from STDIN. Print output to STDOUT\n",
    "# first iteratin -> Wrong since using only one stack\n",
    "stack_append = []\n",
    "\n",
    "q = int(input())\n",
    "for i in range(q):\n",
    "    t = input().split()\n",
    "    \n",
    "    if t[0] == \"1\":\n",
    "        queue.append(t[1])\n",
    "    elif t[0] == \"2\":\n",
    "        queue.pop(0)\n",
    "    elif t[0] == \"3\":\n",
    "        print(queue[0])\n",
    "        "
   ]
  },
  {
   "cell_type": "code",
   "execution_count": null,
   "metadata": {},
   "outputs": [],
   "source": [
    "# Enter your code here. Read input from STDIN. Print output to STDOUT\n",
    "# correct way\n",
    "stack_push = []\n",
    "stack_delete = []\n",
    "q = int(input())\n",
    "for i in range(q):\n",
    "    t = input().split()\n",
    "    \n",
    "    if t[0] == \"1\":\n",
    "        stack_push.append(t[1])\n",
    "    elif t[0] == \"2\":\n",
    "        if not stack_delete: #if stack delete is empty\n",
    "            while stack_push:\n",
    "                stack_delete.append(stack_push.pop())\n",
    "        stack_delete.pop()\n",
    "        # stack_push = stack_delete[::-1]\n",
    "           \n",
    "    elif t[0] == \"3\":\n",
    "       \n",
    "        if not stack_delete: #if stack delete is empty\n",
    "            while stack_push:\n",
    "                stack_delete.append(stack_push.pop())\n",
    "        print(stack_delete[-1])\n"
   ]
  },
  {
   "attachments": {},
   "cell_type": "markdown",
   "metadata": {},
   "source": [
    "Balanced Brackets"
   ]
  },
  {
   "cell_type": "code",
   "execution_count": 162,
   "metadata": {},
   "outputs": [],
   "source": [
    "def isBalanced(s):\n",
    "    # Write your code here\n",
    "    stack = [] \n",
    "    \n",
    "    for i in range(len(s)):\n",
    "        if len(s)%2 != 0:\n",
    "            return \"NO\"\n",
    "        # print(s[i])\n",
    "        stack.append(s[i])\n",
    "        # print(stack)\n",
    "        if len(stack) >=2:\n",
    "            if stack[-1] == \")\" and stack[-2] == \"(\":\n",
    "                \n",
    "                stack.pop()\n",
    "                stack.pop()\n",
    "                \n",
    "            elif stack[-1] == \"]\" and stack[-2] == \"[\":\n",
    "                \n",
    "                stack.pop()\n",
    "                stack.pop()\n",
    "            elif stack[-1]== \"}\" and stack[-2] == \"{\":\n",
    "                \n",
    "                stack.pop()\n",
    "                stack.pop()\n",
    "        \n",
    "    return \"YES\" if stack==[] else \"NO\""
   ]
  },
  {
   "cell_type": "code",
   "execution_count": 163,
   "metadata": {},
   "outputs": [
    {
     "data": {
      "text/plain": [
       "'NO'"
      ]
     },
     "execution_count": 163,
     "metadata": {},
     "output_type": "execute_result"
    }
   ],
   "source": [
    "isBalanced(\"{[()]}}\")"
   ]
  },
  {
   "cell_type": "code",
   "execution_count": 185,
   "metadata": {},
   "outputs": [],
   "source": [
    "from collections import Counter\n",
    "def pairs(k, nums):\n",
    "    counter = 0\n",
    "    the_dict = Counter(nums)\n",
    "    for i in range(len(nums)):\n",
    "        print(the_dict)\n",
    "        diff = k+nums[i]\n",
    "        \n",
    "        if diff in the_dict:\n",
    "            counter +=1\n",
    "        if nums[i] - k in the_dict:\n",
    "            counter +=1\n",
    "\n",
    "        del the_dict[ nums[i] ] #to avoid double counting\n",
    "    return counter"
   ]
  },
  {
   "cell_type": "code",
   "execution_count": 186,
   "metadata": {},
   "outputs": [
    {
     "name": "stdout",
     "output_type": "stream",
     "text": [
      "Counter({1: 1, 2: 1, 3: 1, 4: 1})\n",
      "Counter({1: 1, 2: 1, 3: 1, 4: 1})\n",
      "Counter({1: 1, 2: 1, 3: 1, 4: 1})\n",
      "Counter({1: 1, 2: 1, 3: 1, 4: 1})\n"
     ]
    },
    {
     "data": {
      "text/plain": [
       "6"
      ]
     },
     "execution_count": 186,
     "metadata": {},
     "output_type": "execute_result"
    }
   ],
   "source": [
    "pairs(1, [1,2,3,4])"
   ]
  },
  {
   "cell_type": "code",
   "execution_count": 197,
   "metadata": {},
   "outputs": [],
   "source": [
    "a = \"abcde\"\n",
    "latest = a"
   ]
  },
  {
   "cell_type": "code",
   "execution_count": 198,
   "metadata": {},
   "outputs": [],
   "source": [
    "a += \"fg\""
   ]
  },
  {
   "cell_type": "code",
   "execution_count": 199,
   "metadata": {},
   "outputs": [
    {
     "data": {
      "text/plain": [
       "'abcdefg'"
      ]
     },
     "execution_count": 199,
     "metadata": {},
     "output_type": "execute_result"
    }
   ],
   "source": [
    "a"
   ]
  },
  {
   "cell_type": "code",
   "execution_count": 193,
   "metadata": {},
   "outputs": [
    {
     "data": {
      "text/plain": [
       "'abcd'"
      ]
     },
     "execution_count": 193,
     "metadata": {},
     "output_type": "execute_result"
    }
   ],
   "source": [
    "latest"
   ]
  },
  {
   "cell_type": "code",
   "execution_count": 195,
   "metadata": {},
   "outputs": [
    {
     "data": {
      "text/plain": [
       "''"
      ]
     },
     "execution_count": 195,
     "metadata": {},
     "output_type": "execute_result"
    }
   ],
   "source": []
  },
  {
   "cell_type": "code",
   "execution_count": 203,
   "metadata": {},
   "outputs": [
    {
     "data": {
      "text/plain": [
       "'ab'"
      ]
     },
     "execution_count": 203,
     "metadata": {},
     "output_type": "execute_result"
    }
   ],
   "source": [
    "a[:len(a)-5]"
   ]
  },
  {
   "cell_type": "code",
   "execution_count": 204,
   "metadata": {},
   "outputs": [],
   "source": [
    "a = \"abcdefg\""
   ]
  },
  {
   "cell_type": "code",
   "execution_count": 206,
   "metadata": {},
   "outputs": [
    {
     "data": {
      "text/plain": [
       "'g'"
      ]
     },
     "execution_count": 206,
     "metadata": {},
     "output_type": "execute_result"
    }
   ],
   "source": [
    "a[7-1]"
   ]
  },
  {
   "attachments": {},
   "cell_type": "markdown",
   "metadata": {},
   "source": [
    "Simple Text Editor"
   ]
  },
  {
   "cell_type": "code",
   "execution_count": null,
   "metadata": {},
   "outputs": [],
   "source": [
    "# Enter your code here. Read input from STDIN. Print output to STDOUT\n",
    "s = \"\"\n",
    "\n",
    "stack_last_operation = []\n",
    "\n",
    "q = int(input())\n",
    "for i in range(q):\n",
    "    t=input().split()\n",
    "    # print(t)\n",
    "\n",
    "    #append\n",
    "    if t[0] == \"1\":\n",
    "        # cash the unchanged s string\n",
    "        no_change_s = s\n",
    "        stack_last_operation.append( [no_change_s, \"1\"] )\n",
    "        s += t[1]\n",
    "        \n",
    "    if t[0] == \"2\":\n",
    "        no_change_s = s\n",
    "        stack_last_operation.append( [no_change_s, \"2\"] )\n",
    "        s = s[: len(s)-int(t[1])]\n",
    "        \n",
    "    if t[0] ==\"3\":\n",
    "        print(s[int(t[1])-1])\n",
    "        \n",
    "    if t[0] == \"4\":\n",
    "        latest_change = stack_last_operation.pop()\n",
    "        s = latest_change[0]\n",
    "        \n",
    "    "
   ]
  },
  {
   "attachments": {},
   "cell_type": "markdown",
   "metadata": {},
   "source": [
    "Jesse and Cookies"
   ]
  },
  {
   "cell_type": "code",
   "execution_count": 235,
   "metadata": {},
   "outputs": [],
   "source": [
    "#!/bin/python3\n",
    "# USE HEAPS HERE\n",
    "import math\n",
    "import os\n",
    "import random\n",
    "import re\n",
    "import sys\n",
    "from heapq import heapify, heappush, heappop\n",
    "#\n",
    "# Complete the 'cookies' function below.\n",
    "#\n",
    "# The function is expected to return an INTEGER.\n",
    "# The function accepts following parameters:\n",
    "#  1. INTEGER k\n",
    "#  2. INTEGER_ARRAY A\n",
    "#\n",
    "\n",
    "def cookies(k, A):\n",
    "    # Write your code here\n",
    "    heapify(A)\n",
    "    print(\"start:\", A)\n",
    "    result = 0\n",
    "    while True:\n",
    "        x = heappop(A)\n",
    "        print(A)\n",
    "        print(x)\n",
    "        #base condition\n",
    "        if x >= k:\n",
    "            return result\n",
    "        if A:\n",
    "            y = heappop(A)\n",
    "            s = x + 2*y\n",
    "            heappush(A, s)\n",
    "            print(\"end:\", A)\n",
    "            result +=1\n",
    "        else:\n",
    "            return -1\n"
   ]
  },
  {
   "cell_type": "code",
   "execution_count": 236,
   "metadata": {},
   "outputs": [
    {
     "name": "stdout",
     "output_type": "stream",
     "text": [
      "start: [2, 4, 3, 6, 7, 6]\n",
      "[3, 4, 6, 6, 7]\n",
      "2\n",
      "end: [4, 6, 6, 7, 8]\n",
      "[6, 6, 8, 7]\n",
      "4\n",
      "end: [6, 7, 8, 16]\n",
      "[7, 16, 8]\n",
      "6\n",
      "end: [8, 16, 20]\n",
      "[16, 20]\n",
      "8\n",
      "end: [20, 40]\n",
      "[40]\n",
      "20\n"
     ]
    },
    {
     "data": {
      "text/plain": [
       "4"
      ]
     },
     "execution_count": 236,
     "metadata": {},
     "output_type": "execute_result"
    }
   ],
   "source": [
    "cookies(9, [2,7,3,6,4,6])"
   ]
  },
  {
   "attachments": {},
   "cell_type": "markdown",
   "metadata": {},
   "source": [
    "---"
   ]
  },
  {
   "attachments": {},
   "cell_type": "markdown",
   "metadata": {},
   "source": [
    "BFS: Shortest Path"
   ]
  },
  {
   "cell_type": "code",
   "execution_count": 239,
   "metadata": {},
   "outputs": [],
   "source": [
    "# n = 5, m=3, edges = [[1,2], [1,3], [3,4]]\n",
    "# s = 1 \n",
    "\n",
    "from collections import defaultdict\n",
    "def bfs(n, m, edges, s):\n",
    "    print(edges)\n",
    "    graph = defaultdict(list)\n",
    "    print(graph)\n",
    "    for edge in edges:\n",
    "        a, b = edge[0], edge[1]\n",
    "\n",
    "        graph[a].append(b)\n",
    "        graph[b].append(a)\n",
    "    print(graph)"
   ]
  },
  {
   "cell_type": "code",
   "execution_count": 242,
   "metadata": {},
   "outputs": [
    {
     "name": "stdout",
     "output_type": "stream",
     "text": [
      "[[], [2, 3], [1], [1, 4], [3], []]\n"
     ]
    }
   ],
   "source": [
    "bfs(5,3,[[1,2], [1,3], [3,4]], 1)"
   ]
  },
  {
   "cell_type": "code",
   "execution_count": 312,
   "metadata": {},
   "outputs": [],
   "source": [
    "from collections import deque\n",
    "\n",
    "def bfs(n, m, edges, s):\n",
    "    # create the graph\n",
    "    graph = [[] for i in range(n+1)]\n",
    "    #bidirectional graph so add it two times\n",
    "    for x, y in edges:\n",
    "        graph[x].append(y) \n",
    "        graph[y].append(x)\n",
    "    \n",
    "\n",
    "    visited = [False] * (n+1) #used to avoid double counting I guess \n",
    "\n",
    "    distances = [-1] * (n+1) # the final distances list\n",
    "    #initialise the queue\n",
    "    q = deque([(s, 0)])\n",
    "    # print(q)\n",
    "\n",
    "    #update values for starting node/root\n",
    "    distances[s] = 0 # set the distance for the root to be 0\n",
    "    visited[s] = True # set the visited for the root to be True\n",
    "    print(graph)\n",
    "\n",
    "\n",
    "    # main logic\n",
    "    while q:\n",
    "\n",
    "        node, weight = q.popleft()\n",
    "\n",
    "        for edge in graph[node]:  \n",
    "            if visited[edge] == False: # continue only if the node is not visited\n",
    "                #update the distance vector\n",
    "                distances[edge] = weight+6\n",
    "                visited[edge] = True\n",
    "                q.append((edge, weight+6))\n",
    "                # print(distances)\n",
    "                # print(visited)\n",
    "                # print(q)\n",
    "        #remove starting node distance\n",
    "    distances.remove(0) # remove the 0, we placed it originally there because we want\n",
    "    # to calculate all weights with respect to the root.\n",
    "    return distances[1:]\n",
    "\n",
    "    "
   ]
  },
  {
   "cell_type": "code",
   "execution_count": 313,
   "metadata": {},
   "outputs": [
    {
     "name": "stdout",
     "output_type": "stream",
     "text": [
      "[[], [2, 3], [1], [1, 4], [3], []]\n"
     ]
    },
    {
     "data": {
      "text/plain": [
       "[6, 6, 12, -1]"
      ]
     },
     "execution_count": 313,
     "metadata": {},
     "output_type": "execute_result"
    }
   ],
   "source": [
    "bfs(5,3,[[1,2], [1,3], [3,4]], 1)"
   ]
  },
  {
   "attachments": {},
   "cell_type": "markdown",
   "metadata": {},
   "source": [
    "---"
   ]
  },
  {
   "cell_type": "code",
   "execution_count": 250,
   "metadata": {},
   "outputs": [],
   "source": [
    "# GS INTERVIEW QUESTION - everything passed\n",
    "# find the count of teams that we can make\n",
    "def perfect_team_counter(skills):\n",
    "    number_teams = []\n",
    "    the_list = [\"p\", \"c\", \"m\", \"b\", \"z\"]\n",
    "    for i in the_list:\n",
    "        if i not in skills:\n",
    "            return 0\n",
    "\n",
    "        else:\n",
    "            number_teams.append(skills.count(i))\n",
    "    return min(number_teams)\n",
    "\n",
    "    # find the count of each letter\n",
    "\n",
    "    # first make sure we all have at least one skill\n",
    "    # if skills.count('p') >=1 and skills.count('p')"
   ]
  },
  {
   "cell_type": "code",
   "execution_count": 258,
   "metadata": {},
   "outputs": [
    {
     "data": {
      "text/plain": [
       "4"
      ]
     },
     "execution_count": 258,
     "metadata": {},
     "output_type": "execute_result"
    }
   ],
   "source": [
    "perfect(\"ppppccccmmmmbbbbbbzzzzzz\")"
   ]
  },
  {
   "cell_type": "code",
   "execution_count": 295,
   "metadata": {},
   "outputs": [],
   "source": [
    "# GS INTERVIEW QUESTION - 10/17 passes \n",
    "def finaRange(num):\n",
    "    \n",
    "    num_str = str(num)\n",
    "    num_list = list(num_str)\n",
    "    max_list = num_list[:]\n",
    "    min_list = num_list[:]\n",
    "\n",
    "    print(num_list)\n",
    "    # build the max\n",
    "    for i in range(len(max_list)):\n",
    "        if max_list[i] == '1' or max_list[i] == '0':\n",
    "            max_list[i] = '9'\n",
    "        \n",
    "\n",
    "        # if min_list[i] != '1' and min_list[i] != '0' and i>=1:\n",
    "\n",
    "    \n",
    "    print(max_list) \n",
    "    the_mapper = None\n",
    "    # find the mapper\n",
    "    for i in range(1, len(num_list)):\n",
    "        if num_list[i] != '1' and num_list[i] != '9' and num_list[i] != '0':\n",
    "            the_mapper = str(num_list[i])\n",
    "            break\n",
    "\n",
    "    print(the_mapper)\n",
    "\n",
    "    #build the min\n",
    "    # take the first non zero digit that is not 1 or 9 or 0 or the first element and map it to 0 everywhere\n",
    "    for j in range(len(min_list)):\n",
    "\n",
    "        if min_list[j] == \"9\":\n",
    "            min_list[j] = '1'\n",
    "\n",
    "        if min_list[j] == the_mapper:\n",
    "            min_list[j] = '0'\n",
    "\n",
    "        # if min_list[i] != '1' and min_list[i] != '0' and i>=1:\n",
    "        #     the_mapper = min_list[i]\n",
    "    print(min_list)\n",
    "    max_num = int(''.join(max_list))\n",
    "    min_num = int(''.join(min_list))\n",
    "    print(max_num)\n",
    "    print(min_num)\n",
    "    return max_num - min_num\n",
    "    # print(intmax_num) \n",
    "\n",
    "            \n"
   ]
  },
  {
   "cell_type": "code",
   "execution_count": 299,
   "metadata": {},
   "outputs": [
    {
     "name": "stdout",
     "output_type": "stream",
     "text": [
      "['2', '2', '2', '2']\n",
      "['2', '2', '2', '2']\n",
      "2\n",
      "['0', '0', '0', '0']\n",
      "2222\n",
      "0\n"
     ]
    },
    {
     "data": {
      "text/plain": [
       "2222"
      ]
     },
     "execution_count": 299,
     "metadata": {},
     "output_type": "execute_result"
    }
   ],
   "source": [
    "finaRange(2222)"
   ]
  },
  {
   "attachments": {},
   "cell_type": "markdown",
   "metadata": {},
   "source": [
    "---"
   ]
  },
  {
   "attachments": {},
   "cell_type": "markdown",
   "metadata": {},
   "source": [
    "HourGlass Sum: https://www.hackerrank.com/challenges/2d-array/problem?isFullScreen=true"
   ]
  },
  {
   "cell_type": "code",
   "execution_count": null,
   "metadata": {},
   "outputs": [],
   "source": [
    "def hourglassSum(arr):\n",
    "    the_sum = []\n",
    "    for i in range(len(a)-2):\n",
    "        for j in range(len(a)-2):\n",
    "            top = sum(a[i][j: j+3])\n",
    "            mid = a[i+1][j+1]\n",
    "            bot = sum(a[i+2][j:j+3])\n",
    "            the_sum.append(top+mid+bot)\n",
    "    return max(the_sum)"
   ]
  },
  {
   "cell_type": "code",
   "execution_count": 4,
   "metadata": {},
   "outputs": [
    {
     "data": {
      "text/plain": [
       "36"
      ]
     },
     "execution_count": 4,
     "metadata": {},
     "output_type": "execute_result"
    }
   ],
   "source": [
    "a = [   [1, 1, 1, 0, 0, 0],\n",
    "        [0,1 ,0 ,0, 0, 0],\n",
    "        [1 ,1 ,1 ,0 ,0 ,0],\n",
    "        [0, 0, 2 ,4 ,4 ,0],\n",
    "        [0 ,0 ,0 ,2, 0, 0],\n",
    "        [0 ,0, 1, 2, 4 ,0]\n",
    "    ]\n",
    "the_sum = []\n",
    "for i in range(len(a)-2):\n",
    "    for j in range(len(a)-2):\n",
    "        top = sum(a[i][j: j+3])\n",
    "        mid = a[i+1][j+1]\n",
    "        bot = sum(a[i+2][j:j+3])\n",
    "\n",
    "        the_sum.append(top+mid+bot)\n",
    "        print(a[i][j: j+3])\n",
    "        print(a[i+1][j+1] )\n",
    "        print(a[i+2][j: j+3])"
   ]
  },
  {
   "attachments": {},
   "cell_type": "markdown",
   "metadata": {},
   "source": [
    "---"
   ]
  },
  {
   "attachments": {},
   "cell_type": "markdown",
   "metadata": {},
   "source": [
    "matchingStrings: https://www.hackerrank.com/challenges/sparse-arrays/problem?isFullScreen=true"
   ]
  },
  {
   "cell_type": "code",
   "execution_count": 20,
   "metadata": {},
   "outputs": [],
   "source": [
    "from collections import Counter\n",
    "def matchingStrings(stringList, queries):\n",
    "    # Write your code here\n",
    "    the_dict = Counter(stringList)\n",
    "    res = []\n",
    "    for query in queries:\n",
    "        res.append(the_dict.get(query, 0))\n",
    "    return res"
   ]
  },
  {
   "cell_type": "code",
   "execution_count": null,
   "metadata": {},
   "outputs": [],
   "source": []
  },
  {
   "attachments": {},
   "cell_type": "markdown",
   "metadata": {},
   "source": [
    "---"
   ]
  },
  {
   "attachments": {},
   "cell_type": "markdown",
   "metadata": {},
   "source": [
    "dynamicArray: https://www.hackerrank.com/challenges/dynamic-array/problem?isFullScreen=true"
   ]
  },
  {
   "cell_type": "code",
   "execution_count": 72,
   "metadata": {},
   "outputs": [],
   "source": [
    "def dynamicArray(n, queries):\n",
    "    last_answer = 0\n",
    "    res = []\n",
    "    arr = []\n",
    "    for i in range(n):\n",
    "        arr.append([])\n",
    "        \n",
    "    # arr = [1*[]] * n\n",
    "    for query in queries:\n",
    "        print(query)\n",
    "        if query[0] == 1:\n",
    "            idx = ((  query[1] ^ last_answer)%n )\n",
    "            arr[idx].append(query[2])\n",
    "\n",
    "        else:\n",
    "            idx = ((query[1] ^ last_answer)%n )\n",
    "            idx_2 = query[2] % len(arr[idx])\n",
    "            \n",
    "            last_answer = arr[idx][idx_2]\n",
    "            # print(arr)\n",
    "            # print(last_answer)\n",
    "            res.append(last_answer)\n",
    "    return res\n"
   ]
  },
  {
   "cell_type": "code",
   "execution_count": 73,
   "metadata": {},
   "outputs": [
    {
     "name": "stdout",
     "output_type": "stream",
     "text": [
      "[1, 0, 5]\n",
      "[1, 1, 7]\n",
      "[1, 0, 3]\n",
      "[2, 1, 0]\n",
      "[2, 1, 1]\n"
     ]
    },
    {
     "data": {
      "text/plain": [
       "[7, 3]"
      ]
     },
     "execution_count": 73,
     "metadata": {},
     "output_type": "execute_result"
    }
   ],
   "source": [
    "dynamicArray(2, [[1, 0, 5], [1, 1, 7], [1, 0, 3], [2, 1, 0], [2, 1, 1]])"
   ]
  },
  {
   "attachments": {},
   "cell_type": "markdown",
   "metadata": {},
   "source": [
    "---\n",
    "Time Conversion"
   ]
  },
  {
   "cell_type": "code",
   "execution_count": null,
   "metadata": {},
   "outputs": [],
   "source": [
    "\n",
    "def timeConversion(s):\n",
    "    # Write your code here\n",
    "    if s[-2:] == \"AM\" and s[:2] == '12':\n",
    "        return '00' + s[2:-2]\n",
    "    elif s[-2:] == \"AM\":\n",
    "        return s[:-2]\n",
    "    \n",
    "    elif s[-2:] == \"PM\" and s[:2] == '12':\n",
    "        return s[:-2]\n",
    "    \n",
    "    else:\n",
    "        ans = int(s[:2]) + 12\n",
    "        return str(ans)+s[2:-2]\n"
   ]
  },
  {
   "attachments": {},
   "cell_type": "markdown",
   "metadata": {},
   "source": [
    "---\n",
    "Pre Order Traversal"
   ]
  },
  {
   "cell_type": "code",
   "execution_count": null,
   "metadata": {},
   "outputs": [],
   "source": [
    "def preOrder(root):\n",
    "    #Write your code here\n",
    "    \n",
    "    if root:\n",
    "        print(root.info, end = ' ')\n",
    "        \n",
    "        preOrder(root.left)\n",
    "        \n",
    "        preOrder(root.right)\n",
    "       "
   ]
  },
  {
   "attachments": {},
   "cell_type": "markdown",
   "metadata": {},
   "source": [
    "---\n",
    "Post Order Traversal"
   ]
  },
  {
   "cell_type": "code",
   "execution_count": null,
   "metadata": {},
   "outputs": [],
   "source": [
    "def postOrder(root):\n",
    "    #Write your code here\n",
    "    \n",
    "    if root:\n",
    "        \n",
    "        preOrder(root.left)\n",
    "        preOrder(root.right)\n",
    "        print(root.info, end = ' ')\n",
    "       "
   ]
  },
  {
   "attachments": {},
   "cell_type": "markdown",
   "metadata": {},
   "source": [
    "---\n",
    "In Order Traversal"
   ]
  },
  {
   "cell_type": "code",
   "execution_count": null,
   "metadata": {},
   "outputs": [],
   "source": [
    "def inOrder(root):\n",
    "    if root:\n",
    "        inOrder(root.left)\n",
    "        print(root.info, end = ' ') #to print on one line\n",
    "        inOrder(root.right)"
   ]
  },
  {
   "attachments": {},
   "cell_type": "markdown",
   "metadata": {},
   "source": [
    "---\n",
    "\n",
    "Tree: Huffman Decoding"
   ]
  },
  {
   "cell_type": "code",
   "execution_count": null,
   "metadata": {},
   "outputs": [],
   "source": [
    "# Enter your code here. Read input from STDIN. Print output to STDOUT\n",
    "def decodeHuff(root, s):\n",
    "    #Enter Your Code Here\n",
    "    temp = root\n",
    "    res = []\n",
    "    for i in range(len(s)):\n",
    "        if s[i] == \"0\":\n",
    "           temp = temp.left\n",
    "                \n",
    "        else:\n",
    "            temp = temp.right\n",
    "\n",
    "        if temp.left is None and temp.right is None:\n",
    "            res.append(temp.data)\n",
    "            temp = root\n",
    "\n",
    "    print(''.join(res))                "
   ]
  },
  {
   "attachments": {},
   "cell_type": "markdown",
   "metadata": {},
   "source": [
    "---\n",
    "Insert a Node at the Tail of a Linked List: https://www.hackerrank.com/challenges/insert-a-node-at-the-tail-of-a-linked-list/problem?isFullScreen=true&h_r=next-challenge&h_v=zen"
   ]
  },
  {
   "cell_type": "code",
   "execution_count": null,
   "metadata": {},
   "outputs": [],
   "source": [
    "def insertNodeAtTail(head, data):\n",
    "    node = SinglyLinkedListNode(data)\n",
    "    if head == None:\n",
    "        head = node\n",
    "    else:\n",
    "        temp = head\n",
    "        while temp.next is not None:\n",
    "            # print(temp.data)\n",
    "            temp = temp.next\n",
    "        temp.next = node\n",
    "            \n",
    "        \n",
    "    return head\n"
   ]
  },
  {
   "attachments": {},
   "cell_type": "markdown",
   "metadata": {},
   "source": [
    "---\n",
    "Insert a Node at the Head of a Linked List: https://www.hackerrank.com/challenges/insert-a-node-at-the-head-of-a-linked-list/problem?isFullScreen=true"
   ]
  },
  {
   "cell_type": "code",
   "execution_count": null,
   "metadata": {},
   "outputs": [],
   "source": [
    "def insertNodeAtHead(llist, data):\n",
    "    # Write your code here\n",
    "    node = SinglyLinkedListNode(data)\n",
    "    if llist is None:\n",
    "        llist = node\n",
    "        \n",
    "    else:\n",
    "        node.next = llist\n",
    "        llist = node\n",
    "    return llist\n",
    "    \n",
    "    "
   ]
  },
  {
   "attachments": {},
   "cell_type": "markdown",
   "metadata": {},
   "source": [
    "---\n",
    "Insert a node at a specific position in a linked list | Linked List | Python:\n",
    "https://www.hackerrank.com/challenges/insert-a-node-at-a-specific-position-in-a-linked-list/problem?isFullScreen=true"
   ]
  },
  {
   "cell_type": "code",
   "execution_count": null,
   "metadata": {},
   "outputs": [],
   "source": [
    "\n",
    "def insertNodeAtPosition(llist, data, position):\n",
    "    # Write your code here\n",
    "    counter = 0\n",
    "    if llist is None:\n",
    "        llist = SinglyLinkedListNode(data)\n",
    "    \n",
    "    temp = llist\n",
    "    final_ll = []\n",
    "    while temp is not None:\n",
    "        final_ll.append(temp.data)\n",
    "        temp = temp.next\n",
    "        \n",
    "        # counter +=1\n",
    "    final_ll.insert( position, data)\n",
    "    print(final_ll)\n",
    "    # f inal_ll.next = SinglyLinkedListNode(data)\n",
    "    root = None\n",
    "    for item in final_ll:\n",
    "        root = insert(root, item)\n",
    "    return root\n",
    "        \n",
    "        \n",
    "def insert(root, item):\n",
    "    temp = SinglyLinkedListNode(item)\n",
    "    \n",
    "    if root == None:\n",
    "        root = temp\n",
    "    else:\n",
    "        ptr = root\n",
    "        while ptr.next is not None:\n",
    "            ptr = ptr.next\n",
    "        ptr.next = temp\n",
    "        \n",
    "    return root   "
   ]
  },
  {
   "cell_type": "code",
   "execution_count": null,
   "metadata": {},
   "outputs": [],
   "source": [
    "# Another way of solving it\n",
    "\n",
    "def insertNodeAtPosition2(head, data, position):\n",
    "    # Write your code here\n",
    "    node = SinglyLinkedListNode(data)\n",
    "    \n",
    "    if head is None:\n",
    "        head = node\n",
    "    else:\n",
    "        temp = head\n",
    "        count = 1\n",
    "        \n",
    "        while temp is not None and count < position:\n",
    "             temp = temp.next\n",
    "             count+=1\n",
    "        node.next = temp.next\n",
    "        temp.next = node\n",
    "    return head\n"
   ]
  },
  {
   "attachments": {},
   "cell_type": "markdown",
   "metadata": {},
   "source": [
    "---\n",
    "Plus Minus"
   ]
  },
  {
   "cell_type": "code",
   "execution_count": null,
   "metadata": {},
   "outputs": [],
   "source": [
    "def plusMinus(arr):\n",
    "    # Write your code here\n",
    "    #\"{:.6f}\".format(your value here)\n",
    "    count_p = 0\n",
    "    count_0 = 0\n",
    "    count_n = 0\n",
    "    for i in arr:\n",
    "        if i >0:\n",
    "            count_p+=1\n",
    "        elif i<0:\n",
    "            count_n+=1\n",
    "        else:\n",
    "            count_0+=1\n",
    "    print(\"{:.6f}\".format(count_p/len(arr)))\n",
    "    print(\"{:.6f}\".format(count_n/len(arr)))      \n",
    "    print(\"{:.6f}\".format(count_0/len(arr)))      \n",
    "    \n",
    "    "
   ]
  },
  {
   "attachments": {},
   "cell_type": "markdown",
   "metadata": {},
   "source": [
    "---\n",
    "Sparese Arrays"
   ]
  },
  {
   "cell_type": "code",
   "execution_count": null,
   "metadata": {},
   "outputs": [],
   "source": [
    "def matchingStrings(strings, queries):\n",
    "    # Write your code here\n",
    "    counter = Counter(strings)\n",
    "    res = []\n",
    "    for k in queries:\n",
    "        res.append(counter.get(k,0))\n",
    "    return res\n"
   ]
  },
  {
   "attachments": {},
   "cell_type": "markdown",
   "metadata": {},
   "source": [
    "---\n",
    "Lonely Integer"
   ]
  },
  {
   "cell_type": "code",
   "execution_count": null,
   "metadata": {},
   "outputs": [],
   "source": [
    "def lonelyinteger(a):\n",
    "    key_values = Counter(a)\n",
    "    for k,v in key_values.items():\n",
    "        if v == 1:\n",
    "            return k\n",
    "    "
   ]
  },
  {
   "attachments": {},
   "cell_type": "markdown",
   "metadata": {},
   "source": [
    "---\n",
    "Reverse A Linked List"
   ]
  },
  {
   "cell_type": "code",
   "execution_count": null,
   "metadata": {},
   "outputs": [],
   "source": [
    "\n",
    "def reverse(llist):\n",
    "    # Write your code here\n",
    "    curr = llist\n",
    "    prev = None\n",
    "    while curr:\n",
    "        saved = curr.next\n",
    "        curr.next = prev\n",
    "        prev = curr\n",
    "        curr = saved\n",
    "    return prev\n",
    "        \n",
    "    "
   ]
  },
  {
   "attachments": {},
   "cell_type": "markdown",
   "metadata": {},
   "source": [
    "---\n",
    "Reverse a doubly linked list"
   ]
  },
  {
   "cell_type": "code",
   "execution_count": null,
   "metadata": {},
   "outputs": [],
   "source": [
    "def reverse(head):\n",
    "    # Write your code here\n",
    "\n",
    "    while head.next is not None: #iterate until you reach the TAIL NODE\n",
    "        head.prev, head.next, head = head.next, head.prev, head.next\n",
    "        \n",
    "    #NOW we are at the tail node \n",
    "    head.next, head.prev = head.prev, None\n",
    "    return head\n"
   ]
  },
  {
   "attachments": {},
   "cell_type": "markdown",
   "metadata": {},
   "source": [
    "---\n",
    "Insert a node at a specific position in a linked list "
   ]
  },
  {
   "cell_type": "code",
   "execution_count": null,
   "metadata": {},
   "outputs": [],
   "source": [
    "def insertNodeAtPosition(head, data, position):\n",
    "    # Write your code here\n",
    "    node = head\n",
    "    start = 1\n",
    "    while start < position:\n",
    "        node = node.next\n",
    "        start+=1\n",
    "    temp = node.next\n",
    "    node.next = SinglyLinkedListNode(data)\n",
    "    node.next.next = temp\n",
    "    return head"
   ]
  },
  {
   "attachments": {},
   "cell_type": "markdown",
   "metadata": {},
   "source": [
    "---\n",
    "Queue using two stacks"
   ]
  },
  {
   "cell_type": "code",
   "execution_count": null,
   "metadata": {},
   "outputs": [],
   "source": [
    "# Enter your code here. Read input from STDIN. Print output to S\n",
    "\n",
    "\n",
    "#THIS is only using one stack\n",
    "stack1 = []\n",
    "stack2 = []\n",
    "i = int(input())\n",
    "\n",
    "for i in range(i):\n",
    "    q= input()\n",
    "    if q[0]==\"1\":\n",
    "        q, num = q.split(\" \")\n",
    "        stack1.append(num)\n",
    "        \n",
    "    elif q == \"2\":\n",
    "        stack2 = stack1[::-1]\n",
    "        stack2.pop()\n",
    "        stack1 = stack2[::-1]\n",
    "        \n",
    "    else:\n",
    "        print(stack1[0])\n"
   ]
  },
  {
   "attachments": {},
   "cell_type": "markdown",
   "metadata": {},
   "source": [
    "---\n",
    "Is this a BST?"
   ]
  },
  {
   "cell_type": "code",
   "execution_count": null,
   "metadata": {},
   "outputs": [],
   "source": [
    "# Definition for a binary tree node.\n",
    "# class TreeNode:\n",
    "#     def __init__(self, val=0, left=None, right=None):\n",
    "#         self.val = val\n",
    "#         self.left = left\n",
    "#         self.right = right\n",
    "class Solution:\n",
    "    def isValidBST(self, root: Optional[TreeNode], min=-math.inf, max =math.inf ) -> bool:\n",
    "        if root is None:\n",
    "            return True\n",
    "        if root.val <= min:\n",
    "            return False\n",
    "        if root.val >=max:\n",
    "            return False\n",
    "        \n",
    "        left = self.isValidBST(root.left, min, root.val)\n",
    "        right = self.isValidBST(root.right, root.val, max)\n",
    "\n",
    "        return left and right\n",
    "    "
   ]
  },
  {
   "attachments": {},
   "cell_type": "markdown",
   "metadata": {},
   "source": [
    "---\n",
    "Delete duplicate-value nodes from a sorted LL"
   ]
  },
  {
   "cell_type": "code",
   "execution_count": null,
   "metadata": {},
   "outputs": [],
   "source": [
    "def removeDuplicates(llist):\n",
    "    # Write your code here\n",
    "    unique = set()\n",
    "    node = llist\n",
    "    \n",
    "    while node:\n",
    "        unique.add(node.data)\n",
    "        temp = node.next\n",
    "        while temp and temp.data in unique:\n",
    "            temp = temp.next\n",
    "            \n",
    "        node.next = temp \n",
    "        node = node.next\n",
    "    return llist"
   ]
  },
  {
   "attachments": {},
   "cell_type": "markdown",
   "metadata": {},
   "source": [
    "---\n",
    "Ice Cream Parlor"
   ]
  },
  {
   "cell_type": "code",
   "execution_count": null,
   "metadata": {},
   "outputs": [],
   "source": [
    "def icecreamParlor(m, arr):\n",
    "    # Write your code here\n",
    "    dictionary = {}\n",
    "    for i in range(len(arr)):\n",
    "        diff = m-arr[i]\n",
    "        if diff in dictionary:\n",
    "            return dictionary[diff]+1, i+1\n",
    "        else:\n",
    "            dictionary[arr[i]] = i\n",
    "        "
   ]
  },
  {
   "attachments": {},
   "cell_type": "markdown",
   "metadata": {},
   "source": [
    "---\n",
    "Forming a Magic Square: https://www.hackerrank.com/challenges/magic-square-forming/problem?isFullScreen=true"
   ]
  },
  {
   "cell_type": "code",
   "execution_count": null,
   "metadata": {},
   "outputs": [],
   "source": [
    "#!/bin/python3\n",
    "\n",
    "import math\n",
    "import os\n",
    "import random\n",
    "import re\n",
    "import sys\n",
    "\n",
    "#\n",
    "# Complete the 'formingMagicSquare' function below.\n",
    "#\n",
    "# The function is expected to return an INTEGER.\n",
    "# The function accepts 2D_INTEGER_ARRAY s as parameter.\n",
    "#\n",
    "\n",
    "def formingMagicSquare(s):\n",
    "    # Write your code here\n",
    "    squares = [\n",
    "    [8, 1, 6, 3, 5, 7, 4, 9, 2], \n",
    "    [4, 3, 8, 9, 5, 1, 2, 7, 6], \n",
    "    [2, 9, 4, 7, 5, 3, 6, 1, 8], \n",
    "    [6, 7, 2, 1, 5, 9, 8, 3, 4], \n",
    "    [4, 9, 2, 3, 5, 7, 8, 1, 6], \n",
    "    [8, 3, 4, 1, 5, 9, 6, 7, 2], \n",
    "    [6, 1, 8, 7, 5, 3, 2, 9, 4], \n",
    "    [2, 7, 6, 9, 5, 1, 4, 3, 8]\n",
    "        ]\n",
    "    s = sum(s, [])\n",
    "    mincost = float(\"inf\")\n",
    "    for mat in squares:\n",
    "        diff = 0\n",
    "        for i, j in zip(s, mat):\n",
    "            diff += abs(i-j)\n",
    "        mincost = min(mincost, diff)\n",
    "    return mincost\n",
    "                 \n",
    "                        \n",
    "\n",
    "if __name__ == '__main__':\n",
    "    fptr = open(os.environ['OUTPUT_PATH'], 'w')\n",
    "\n",
    "    s = []\n",
    "\n",
    "    for _ in range(3):\n",
    "        s.append(list(map(int, input().rstrip().split())))\n",
    "\n",
    "    result = formingMagicSquare(s)\n",
    "\n",
    "    fptr.write(str(result) + '\\n')\n",
    "\n",
    "    fptr.close()\n"
   ]
  },
  {
   "attachments": {},
   "cell_type": "markdown",
   "metadata": {},
   "source": [
    "---\n",
    "Random Google coding challenge"
   ]
  },
  {
   "cell_type": "code",
   "execution_count": 70,
   "metadata": {},
   "outputs": [],
   "source": [
    "def soluiton(s):\n",
    "    res = \"\"    \n",
    "    brillesLib = [\"000000\", \"100000\", \"110000\", \"100100\", \"100110\", \"100010\", \"110100\", \"110110\", \"110010\", \"010100\", \"010110\", \"101000\", \"111000\", \"101100\", \"101110\", \"101010\", \"111100\", \"111110\", \"111010\", \"011100\", \"011110\", \"101001\", \"111001\", \"010111\", \"101101\", \"101111\", \"101011\"]\n",
    "    list_s = list(s)\n",
    "    for element in list_s:\n",
    "        if element == ' ':\n",
    "            res+= brillesLib[0]\n",
    "            continue\n",
    "\n",
    "        if element.isupper():\n",
    "            res += \"000001\"\n",
    "           \n",
    "            # print(ord(element.lower())-96)\n",
    "            # print(brillesLib[20])\n",
    "            el = element.lower()\n",
    "            res +=  brillesLib[ ord(el)-96]   #the lowercase code of the letter\n",
    "\n",
    "        else:\n",
    "            \n",
    "            res += brillesLib[ord(element)-96]\n",
    "\n",
    "    return res\n",
    "\n"
   ]
  },
  {
   "attachments": {},
   "cell_type": "markdown",
   "metadata": {},
   "source": [
    "---\n",
    "Climbing the Leaderboard"
   ]
  },
  {
   "cell_type": "code",
   "execution_count": null,
   "metadata": {},
   "outputs": [],
   "source": [
    "\n",
    "def climbingLeaderboard(scores, player):\n",
    "    # Write your code here\n",
    "    scores = list(set(scores))\n",
    "    scores.sort()\n",
    "    n = len(scores)\n",
    "    i = 0\n",
    "    res = []        \n",
    "        \n",
    "    for s in player:\n",
    "        while i<n and scores[i] <= s:\n",
    "            i+=1\n",
    "        res.append(n-i + 1)\n",
    "    return res\n",
    "        "
   ]
  },
  {
   "attachments": {},
   "cell_type": "markdown",
   "metadata": {},
   "source": [
    "---\n",
    "The Hirdle Race"
   ]
  },
  {
   "cell_type": "code",
   "execution_count": null,
   "metadata": {},
   "outputs": [],
   "source": [
    "def hurdleRace(k, height):\n",
    "    # Write your code here\n",
    "    if max(height) > k:\n",
    "        return max(height) - k\n",
    "    return 0\n",
    "   "
   ]
  },
  {
   "attachments": {},
   "cell_type": "markdown",
   "metadata": {},
   "source": [
    "---\n",
    "!!! VERY IMPORTANT PROBLEM !!!\n",
    "\n",
    "Non Divisible Subset"
   ]
  },
  {
   "cell_type": "code",
   "execution_count": null,
   "metadata": {},
   "outputs": [],
   "source": [
    "def nonDivisibleSubset(k, s):\n",
    "    # Write your code here\n",
    "    remainder = [0]*k\n",
    "    \n",
    "    for i in s:\n",
    "        remainder[i%k] += 1\n",
    "        \n",
    "    maxnum = 0\n",
    "    maxnum += min(remainder[0], 1)\n",
    "    \n",
    "    if k % 2 == 0:\n",
    "        maxnum += min(remainder[k//2], 1)\n",
    "    \n",
    "    for i in range(1, k//2 + 1): #start from 1, so you dont take the 0 remainder counter\n",
    "    #and take it until the end, k//2+1\n",
    "        if i != k-i: # this is a condition that prevents from counting the even numbers\n",
    "            maxnum+= max(remainder[i], remainder[k-i])\n",
    "            \n",
    "    return maxnum"
   ]
  },
  {
   "attachments": {},
   "cell_type": "markdown",
   "metadata": {},
   "source": [
    "---\n",
    "Cycle Detection: https://www.hackerrank.com/challenges/detect-whether-a-linked-list-contains-a-cycle/problem?isFullScreen=true"
   ]
  },
  {
   "cell_type": "code",
   "execution_count": null,
   "metadata": {},
   "outputs": [],
   "source": [
    "#\n",
    "def has_cycle(head):\n",
    "    visited = []\n",
    "    curr = head\n",
    "    while curr:\n",
    "        if curr in visited:\n",
    "            return 1\n",
    "        else:\n",
    "            visited.append(curr)\n",
    "            curr= curr.next\n",
    "    return 0"
   ]
  },
  {
   "cell_type": "code",
   "execution_count": 2,
   "metadata": {},
   "outputs": [],
   "source": [
    "a = set()\n",
    "a.add(1)\n",
    "a.add(2)\n",
    "a.add(3)\n",
    "a.add(4)\n",
    "\n",
    "\n",
    "\n",
    "b = set()\n",
    "b.add(1)\n",
    "b.add(2)\n",
    "b.add(3)\n",
    "b.add(5)\n"
   ]
  },
  {
   "cell_type": "code",
   "execution_count": 8,
   "metadata": {},
   "outputs": [
    {
     "ename": "TypeError",
     "evalue": "'set' object is not subscriptable",
     "output_type": "error",
     "traceback": [
      "\u001b[0;31m---------------------------------------------------------------------------\u001b[0m",
      "\u001b[0;31mTypeError\u001b[0m                                 Traceback (most recent call last)",
      "\u001b[1;32m/Users/kristiyandilov/grind-75/hackerRank.ipynb Cell 129\u001b[0m in \u001b[0;36m<cell line: 1>\u001b[0;34m()\u001b[0m\n\u001b[0;32m----> <a href='vscode-notebook-cell:/Users/kristiyandilov/grind-75/hackerRank.ipynb#Y243sZmlsZQ%3D%3D?line=0'>1</a>\u001b[0m b\u001b[39m&\u001b[39ma[\u001b[39m0\u001b[39;49m]\n",
      "\u001b[0;31mTypeError\u001b[0m: 'set' object is not subscriptable"
     ]
    }
   ],
   "source": [
    "\n",
    "def sortedInsert(llist, data):\n",
    "    node = llist\n",
    "    \n",
    "    # dummy= DoublyLinkedListNode(-1)\n",
    "    data_node = DoublyLinkedListNode(data)\n",
    "    if llist is None:\n",
    "        llist = data_node\n",
    "        \n",
    "    if llist.data > data:\n",
    "            \n",
    "            data_node.next = llist\n",
    "            llist.prev = data_node\n",
    "            llist = data_node\n",
    "            \n",
    "            return data_node\n",
    "    else:\n",
    "\n",
    "        while node:\n",
    "            #insert at the end\n",
    "            if node.next is None and node.data < data:\n",
    "                node.next = data_node\n",
    "                data_node.prev = node\n",
    "                data_node.next = None\n",
    "                break\n",
    "                \n",
    "            elif node.data > data:\n",
    "                saved = node.prev\n",
    "                node.prev = data_node\n",
    "                data_node.next = node\n",
    "                data_node.prev = saved\n",
    "                saved.next = data_node\n",
    "                break\n",
    "            else:\n",
    "                node=node.next\n",
    "        \n",
    "    return llist "
   ]
  },
  {
   "cell_type": "code",
   "execution_count": null,
   "metadata": {},
   "outputs": [],
   "source": [
    "def sortedInsert(head, data):\n",
    "    cur = head\n",
    "\n",
    "    node=DoublyLinkedListNode(data)\n",
    "    if cur.data>data:\n",
    "        node.next=cur\n",
    "        cur.prev=node\n",
    "        head=node\n",
    "        return head\n",
    "    while cur.next:\n",
    "        if (cur.data<data and cur.next.data>data) or cur.data==data:\n",
    "            node.next=cur.next\n",
    "            cur.next.prev=node\n",
    "            node.prev=cur\n",
    "            cur.next=node\n",
    "            return head\n",
    "        cur=cur.next\n",
    "    if cur.data<data or cur.data==data:\n",
    "        node.prev=cur\n",
    "        cur.next=node\n",
    "        node.next = None\n",
    "        return head"
   ]
  },
  {
   "cell_type": "code",
   "execution_count": null,
   "metadata": {},
   "outputs": [],
   "source": [
    "\n",
    "def countApplesAndOranges(s, t, a, b, apples, oranges):\n",
    "    # Write your code here\n",
    "    a_counter = 0\n",
    "    o_counter = 0\n",
    "    loc_of_apples = []\n",
    "    loc_oranges = []\n",
    "    for i in apples:\n",
    "        loc_of_apples.append(a+i)\n",
    "    for i in loc_of_apples:\n",
    "        if i>=s and i<=t:\n",
    "            a_counter+=1\n",
    "            \n",
    "    for i in oranges:\n",
    "        loc_oranges.append(b+i)\n",
    "    for i in loc_oranges:\n",
    "        if i>=s and i<=t:\n",
    "            o_counter+=1\n",
    "    print(a_counter)\n",
    "    print(o_counter)\n",
    "    \n",
    "    "
   ]
  },
  {
   "cell_type": "code",
   "execution_count": null,
   "metadata": {},
   "outputs": [],
   "source": [
    "def birthday(s, d, m):\n",
    "    # Write your code here\n",
    "    \n",
    "    j = m-1\n",
    "    count = 0\n",
    "    for i in range(len(s)):\n",
    "        if sum(s[i:j+1]) == d:\n",
    "            count+=1\n",
    "        j+=1\n",
    "    return count"
   ]
  },
  {
   "cell_type": "code",
   "execution_count": null,
   "metadata": {},
   "outputs": [],
   "source": [
    "\n",
    "def arrayManipulation(n, queries):\n",
    "    # Write your code here\n",
    "    a = [0]* (n+2)\n",
    "    for s, e, k in queries:\n",
    "        a[s] += k\n",
    "        a[e+1] -= k\n",
    "        # print(a)\n",
    "    \n",
    "    v = 0\n",
    "    res = 0\n",
    "    for i in a:\n",
    "        v+=i\n",
    "        res = max(res, v)\n",
    "        \n",
    "    return res"
   ]
  },
  {
   "cell_type": "code",
   "execution_count": 8,
   "metadata": {},
   "outputs": [
    {
     "data": {
      "text/plain": [
       "3"
      ]
     },
     "execution_count": 8,
     "metadata": {},
     "output_type": "execute_result"
    }
   ],
   "source": [
    "def divisibleSumPairs(n, k, ar):\n",
    "    # Write your code here\n",
    "    j=0\n",
    "    count = 0\n",
    "    for i in range(n):\n",
    "        for j in range(i+1, n):\n",
    "            if (ar[i] + ar[j]) %k==0:\n",
    "                count+=1\n",
    "    return count \n",
    "        \n",
    "        \n",
    "        "
   ]
  },
  {
   "cell_type": "code",
   "execution_count": 11,
   "metadata": {},
   "outputs": [],
   "source": [
    "a = set()\n",
    "\n",
    "a.add(1)\n",
    "a.add(4)\n",
    "a.add(5)\n",
    "a.add(6)\n",
    "a.add(7)\n",
    "b = set()\n",
    "b.add(1)\n",
    "b.add(4)\n",
    "b.add(5)\n",
    "b.add(6)\n",
    "b.add(7)\n",
    "\n"
   ]
  },
  {
   "cell_type": "code",
   "execution_count": 12,
   "metadata": {},
   "outputs": [
    {
     "data": {
      "text/plain": [
       "True"
      ]
     },
     "execution_count": 12,
     "metadata": {},
     "output_type": "execute_result"
    }
   ],
   "source": [
    "a==b"
   ]
  },
  {
   "cell_type": "code",
   "execution_count": 24,
   "metadata": {},
   "outputs": [
    {
     "data": {
      "text/plain": [
       "False"
      ]
     },
     "execution_count": 24,
     "metadata": {},
     "output_type": "execute_result"
    }
   ],
   "source": [
    "\"cdkh\">\"dkhc\""
   ]
  },
  {
   "cell_type": "code",
   "execution_count": 28,
   "metadata": {},
   "outputs": [
    {
     "data": {
      "text/plain": [
       "'abdc'"
      ]
     },
     "execution_count": 28,
     "metadata": {},
     "output_type": "execute_result"
    }
   ],
   "source": [
    "a = \"abdc\"\n",
    "list(a)[0] = \"bgfb\"\n",
    "print\n",
    "''.join(a)"
   ]
  },
  {
   "cell_type": "code",
   "execution_count": 29,
   "metadata": {},
   "outputs": [],
   "source": [
    "def beautifulTriplets(d, arr):\n",
    "    # Write your code here\n",
    "    count = 0\n",
    "    for i in arr:\n",
    "        if i+d in arr:\n",
    "            if i+d+d in arr:\n",
    "                count+=1\n",
    "                \n",
    "    return count"
   ]
  },
  {
   "cell_type": "code",
   "execution_count": 36,
   "metadata": {},
   "outputs": [],
   "source": [
    "arr = [7, 1, 3, 4, 1 ]"
   ]
  },
  {
   "cell_type": "code",
   "execution_count": 37,
   "metadata": {},
   "outputs": [
    {
     "data": {
      "text/plain": [
       "3"
      ]
     },
     "execution_count": 37,
     "metadata": {},
     "output_type": "execute_result"
    }
   ],
   "source": [
    "len(arr)//2"
   ]
  },
  {
   "cell_type": "code",
   "execution_count": null,
   "metadata": {},
   "outputs": [],
   "source": [
    "def minimumDistances(a):\n",
    "    # Write your code here\n",
    "    res = math.inf\n",
    "    for i in range(len(a)):\n",
    "        for j in range(i, len(a)):\n",
    "            if a[i] == a[j] and i!=j:\n",
    "                res = min(res, (j-i))\n",
    "    if res == math.inf:\n",
    "        return -1\n",
    "    else:\n",
    "        return res"
   ]
  },
  {
   "cell_type": "code",
   "execution_count": null,
   "metadata": {},
   "outputs": [],
   "source": [
    "\n",
    "def surfaceArea(A):\n",
    "    # Write your code here\n",
    "    rows = len(A)\n",
    "    cols = len(A[0])\n",
    "    total = 2*(rows*cols)\n",
    "    for i in range(rows):\n",
    "        for j in range(cols):\n",
    "                \n",
    "            # for i in range(row):\n",
    "\n",
    "            if j-1 < 0:\n",
    "                prev = 0 \n",
    "                total += abs(A[i][j] - prev)\n",
    "            else:\n",
    "                total += abs(A[i][j] - A[i][j-1])\n",
    "    \n",
    "    # for j in range(cols):\n",
    "    #     for i in range(rows):\n",
    "                \n",
    "            # for i in range(row):\n",
    "\n",
    "            if i-1 < 0:\n",
    "                prev = 0 \n",
    "                total += abs(A[i][j] - prev)\n",
    "            else:\n",
    "                total += abs(A[i][j] - A[i-1][j])\n",
    "            \n",
    "            if j == cols-1: #This add the wall at the end of every colum \n",
    "                total+= A[i][j]\n",
    "                \n",
    "        if i == rows-1: #this adds the wall at the last row\n",
    "            total += sum(A[i])\n",
    "    return total\n",
    "            "
   ]
  }
 ],
 "metadata": {
  "kernelspec": {
   "display_name": "Python 3",
   "language": "python",
   "name": "python3"
  },
  "language_info": {
   "codemirror_mode": {
    "name": "ipython",
    "version": 3
   },
   "file_extension": ".py",
   "mimetype": "text/x-python",
   "name": "python",
   "nbconvert_exporter": "python",
   "pygments_lexer": "ipython3",
   "version": "3.8.9"
  },
  "orig_nbformat": 4,
  "vscode": {
   "interpreter": {
    "hash": "31f2aee4e71d21fbe5cf8b01ff0e069b9275f58929596ceb00d14d90e3e16cd6"
   }
  }
 },
 "nbformat": 4,
 "nbformat_minor": 2
}
