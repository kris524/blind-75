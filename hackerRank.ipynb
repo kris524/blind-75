{
 "cells": [
  {
   "cell_type": "code",
   "execution_count": null,
   "metadata": {},
   "outputs": [],
   "source": [
    "def gridChallenge(grid):\n",
    "    while True:\n",
    "        for i in len(range(grid)): #column\n",
    "            for j in len(range(grid)): #row\n",
    "                word = grid[i][j]\n",
    "\n",
    "            # letter = grid[i]\n"
   ]
  },
  {
   "cell_type": "code",
   "execution_count": 76,
   "metadata": {},
   "outputs": [],
   "source": [
    "def gridChallenge(grid):\n",
    "    column_list = []\n",
    "    alphabetical_column_list = []\n",
    "    grid = [list(row) for row in grid]\n",
    "    print(grid) #grid here is [[] [] [] ...]\n",
    "    i = 0\n",
    "    while i<len(grid):\n",
    "        for j in range(len(grid)):\n",
    "            print(j, i)\n",
    "            print(grid[j][i])\n",
    "            column_list.append(grid[j][i])\n",
    "            alphabetical_column_list.append(grid[j][i])\n",
    "        i+=1\n",
    "\n",
    "    alphabetical_column_list_new = []\n",
    "    number_of_columns = len(grid)\n",
    "    for i in range(0, len(alphabetical_column_list), number_of_columns):\n",
    "        sorted_chunk = sorted(alphabetical_column_list[i: i+number_of_columns])\n",
    "        alphabetical_column_list_new.append(sorted_chunk)\n",
    "\n",
    "    column_list_new = []\n",
    "    for i in range(0, len(column_list), number_of_columns):\n",
    "        # sorted_chunk = sorted(alphabetical_column_list[i: i+number_of_columns])\n",
    "        column_list_new.append(column_list[i: i+number_of_columns])\n",
    "\n",
    "    print(column_list)\n",
    "    print(alphabetical_column_list)\n",
    "    print(alphabetical_column_list_new)\n",
    "    print(column_list_new)\n",
    "    if column_list_new == alphabetical_column_list_new:\n",
    "        return \"YES\"\n",
    "    else:\n",
    "        return \"NO\"\n",
    "    "
   ]
  },
  {
   "cell_type": "code",
   "execution_count": 78,
   "metadata": {},
   "outputs": [
    {
     "name": "stdout",
     "output_type": "stream",
     "text": [
      "[['u', 'x', 'f'], ['v', 'o', 'f'], ['h', 'm', 'p']]\n",
      "0 0\n",
      "u\n",
      "1 0\n",
      "v\n",
      "2 0\n",
      "h\n",
      "0 1\n",
      "x\n",
      "1 1\n",
      "o\n",
      "2 1\n",
      "m\n",
      "0 2\n",
      "f\n",
      "1 2\n",
      "f\n",
      "2 2\n",
      "p\n",
      "['u', 'v', 'h', 'x', 'o', 'm', 'f', 'f', 'p']\n",
      "['u', 'v', 'h', 'x', 'o', 'm', 'f', 'f', 'p']\n",
      "[['h', 'u', 'v'], ['m', 'o', 'x'], ['f', 'f', 'p']]\n",
      "[['u', 'v', 'h'], ['x', 'o', 'm'], ['f', 'f', 'p']]\n"
     ]
    },
    {
     "data": {
      "text/plain": [
       "'NO'"
      ]
     },
     "execution_count": 78,
     "metadata": {},
     "output_type": "execute_result"
    }
   ],
   "source": [
    "gridChallenge(['uxf', 'vof', 'hmp'])"
   ]
  },
  {
   "cell_type": "code",
   "execution_count": null,
   "metadata": {},
   "outputs": [],
   "source": [
    "def gridChallenge(grid):\n",
    "    # Sort each row.\n",
    "    for i in range(len(grid)):\n",
    "        grid[i] = sorted(grid[i])\n",
    "        \n",
    "    # Check each column is sorted.\n",
    "    for i in range(len(grid[0])):\n",
    "        column_list = []\n",
    "        for j in range(len(grid)): \n",
    "            column_list.append(grid[j][i])\n",
    "        if (column_list != sorted(column_list)):\n",
    "            return \"NO\"\n",
    "            \n",
    "    return \"YES\""
   ]
  },
  {
   "cell_type": "code",
   "execution_count": 105,
   "metadata": {},
   "outputs": [],
   "source": [
    "from functools import reduce\n",
    "\n",
    "\n",
    "def product(nums):\n",
    "    dummy = nums[:]\n",
    "    answer = []\n",
    "    i = 0\n",
    "    \n",
    "    for i in range(len(nums)):\n",
    "        \n",
    "        dummy = nums[:]\n",
    "        dummy.pop(i)\n",
    "        result = reduce((lambda x, y: x * y), dummy)\n",
    "        answer.append(result)\n",
    "\n",
    "\n",
    "\n",
    "\n",
    "    # for i in nums:\n",
    "    #     result1 = reduce(   (lambda x,y: (x*y) while (x !=i and y !=i) )   ,    dummy)\n",
    "    #     answer.append(result1)\n",
    "    # print(dummy)\n",
    "    # dummy.pop(1)\n",
    "    print(answer)"
   ]
  },
  {
   "cell_type": "code",
   "execution_count": 106,
   "metadata": {},
   "outputs": [
    {
     "name": "stdout",
     "output_type": "stream",
     "text": [
      "[24, 12, 8, 6]\n"
     ]
    }
   ],
   "source": [
    "product([1,2,3,4])"
   ]
  },
  {
   "cell_type": "code",
   "execution_count": 122,
   "metadata": {},
   "outputs": [],
   "source": [
    "import math\n",
    "def solution(nums):\n",
    "    answer = []\n",
    "   \n",
    "    for i in range(len(nums)):\n",
    "        \n",
    "        if i == len(nums)-1:\n",
    "            postfix = 1\n",
    "            prefix = math.prod(nums[:i])\n",
    "            answer.append(prefix*postfix)\n",
    "        elif i == 0:\n",
    "            prefix = 1\n",
    "            postfix = math.prod(nums[i+1:])\n",
    "            answer.append(prefix*postfix)\n",
    "        else:\n",
    "            prefix = math.prod(nums[:i])\n",
    "            postfix = math.prod(nums[i+1:])\n",
    "            answer.append(prefix*postfix)\n",
    "    print(answer)\n",
    "        "
   ]
  },
  {
   "cell_type": "code",
   "execution_count": 123,
   "metadata": {},
   "outputs": [
    {
     "name": "stdout",
     "output_type": "stream",
     "text": [
      "[]\n",
      "[1, 2, 3, 4]\n",
      "[1]\n",
      "[2, 3, 4]\n",
      "[1, 2]\n",
      "[3, 4]\n",
      "[1, 2, 3]\n",
      "[4]\n",
      "[24, 12, 8, 6]\n"
     ]
    }
   ],
   "source": [
    "solution([1,2,3, 4])"
   ]
  },
  {
   "cell_type": "code",
   "execution_count": 140,
   "metadata": {},
   "outputs": [],
   "source": [
    "def solution(nums):\n",
    "    prefix = 1\n",
    "    res = [1]*len(nums)\n",
    "    for i in range(len(nums)):\n",
    "        # print(nums[i])\n",
    "        res[i] = prefix\n",
    "        print(res)\n",
    "        prefix *= nums[i] #1, 2, 6, 24\n",
    "        print(prefix)\n",
    "    \n",
    "    postfix = 1\n",
    "    for i in range(len(nums)-1,-1,-1):\n",
    "        # print(nums[i])\n",
    "        res[i] *= postfix\n",
    "        print(res)\n",
    "        postfix *= nums[i]# 4, 12, 24, 24\n",
    "        print(postfix)\n",
    "\n",
    "    return res"
   ]
  },
  {
   "cell_type": "code",
   "execution_count": 141,
   "metadata": {},
   "outputs": [
    {
     "name": "stdout",
     "output_type": "stream",
     "text": [
      "[1, 1, 1, 1]\n",
      "1\n",
      "[1, 1, 1, 1]\n",
      "2\n",
      "[1, 1, 2, 1]\n",
      "6\n",
      "[1, 1, 2, 6]\n",
      "24\n",
      "[1, 1, 2, 6]\n",
      "4\n",
      "[1, 1, 8, 6]\n",
      "12\n",
      "[1, 12, 8, 6]\n",
      "24\n",
      "[24, 12, 8, 6]\n",
      "24\n"
     ]
    },
    {
     "data": {
      "text/plain": [
       "[24, 12, 8, 6]"
      ]
     },
     "execution_count": 141,
     "metadata": {},
     "output_type": "execute_result"
    }
   ],
   "source": [
    "solution([1,2,3,4])"
   ]
  },
  {
   "cell_type": "code",
   "execution_count": 181,
   "metadata": {},
   "outputs": [],
   "source": [
    "def superDigit(n, k):\n",
    "    n_str = str(n)\n",
    "    n_str_total = k * n_str\n",
    "    for num in n_str_total:\n",
    "        total += int(num)\n",
    "\n",
    "    # print(n)\n",
    "    list_n_str_totla = [int(x) for x in n_str_total]\n",
    "\n",
    "    if len(list_n_str_totla) ==1:\n",
    "        return list_n_str_totla[0]\n",
    "    else:\n",
    "        return superDigit(sum(list_n_str_totla),1)\n",
    "\n"
   ]
  },
  {
   "cell_type": "code",
   "execution_count": 197,
   "metadata": {},
   "outputs": [
    {
     "name": "stdout",
     "output_type": "stream",
     "text": [
      "148148148\n",
      "148148148\n",
      "39\n",
      "39\n",
      "12\n",
      "12\n"
     ]
    },
    {
     "data": {
      "text/plain": [
       "'3'"
      ]
     },
     "execution_count": 197,
     "metadata": {},
     "output_type": "execute_result"
    }
   ],
   "source": [
    "superDigit('148', 3)"
   ]
  },
  {
   "cell_type": "code",
   "execution_count": null,
   "metadata": {},
   "outputs": [],
   "source": [
    "def superDigit(n, k):\n",
    "    \n",
    "    def helper(n):\n",
    "        \n",
    "        total = 0\n",
    "        for num in n:\n",
    "            total += int(num)\n",
    "        total = str(total)\n",
    "        if len(total) == 1:\n",
    "            return total\n",
    "        else:\n",
    "            print(total)\n",
    "            return helper(total)\n",
    "    # use the helper at the start so you can simplify if you get a very big number at the start\n",
    "    p = str(helper(n)*k)\n",
    "    print(p)\n",
    "    return helper(p)\n",
    "        \n"
   ]
  },
  {
   "cell_type": "markdown",
   "metadata": {},
   "source": [
    "New Year Chaos: https://www.hackerrank.com/challenges/one-week-preparation-kit-new-year-chaos/problem?isFullScreen=true&h_l=interview&playlist_slugs%5B%5D=preparation-kits&playlist_slugs%5B%5D=one-week-preparation-kit&playlist_slugs%5B%5D=one-week-day-four&h_r=next-challenge&h_v=zen"
   ]
  },
  {
   "cell_type": "code",
   "execution_count": 59,
   "metadata": {},
   "outputs": [],
   "source": [
    "def minBribes(q):\n",
    "    counter = 0\n",
    "    k=0\n",
    "    i = 0\n",
    "    j=1\n",
    "    statement = True\n",
    "\n",
    "    while statement:\n",
    "        for k in range(len(q)-1):\n",
    "            if q[k]>q[k+1]:\n",
    "                q[k], q[k+1] = q[k+1], q[k]   \n",
    "            \n",
    "                j+=1\n",
    "                counter +=1\n",
    "\n",
    "            if q == sorted(q):\n",
    "                statement = False\n",
    "\n",
    "    return counter,q\n",
    "            \n"
   ]
  },
  {
   "cell_type": "code",
   "execution_count": 60,
   "metadata": {},
   "outputs": [
    {
     "data": {
      "text/plain": [
       "(4, [1, 2, 3, 4, 5, 6, 7, 8])"
      ]
     },
     "execution_count": 60,
     "metadata": {},
     "output_type": "execute_result"
    }
   ],
   "source": [
    "minBribes([1 ,2, 5, 3, 4, 7, 8, 6])"
   ]
  },
  {
   "cell_type": "code",
   "execution_count": 63,
   "metadata": {},
   "outputs": [],
   "source": [
    "def minBribes(q):\n",
    "    bribe = 0\n",
    "    for i in range(len(q)-1,0,-1):\n",
    "        if q[i] != i+1:\n",
    "            if q[i-1]==i+1:\n",
    "                bribe+=1\n",
    "                q[i-1], q[i] = q[i], q[i-1]\n",
    "\n",
    "            elif q[i-2] == i+1:\n",
    "                bribe+=2\n",
    "                print(q[i-2], q[i-1], q[i])\n",
    "                #5      3       4      3       4      5\n",
    "                q[i-2], q[i-1], q[i] = q[i-1], q[i], q[i-2]\n",
    "                print(q)\n",
    "            else:\n",
    "                print(\"Too chaotic\")\n",
    "                return \n",
    "    print(bribe)\n"
   ]
  },
  {
   "attachments": {},
   "cell_type": "markdown",
   "metadata": {},
   "source": [
    "---"
   ]
  },
  {
   "attachments": {},
   "cell_type": "markdown",
   "metadata": {},
   "source": [
    "Sort Integers by The Number of 1 Bits: https://leetcode.com/problems/sort-integers-by-the-number-of-1-bits/"
   ]
  },
  {
   "cell_type": "code",
   "execution_count": 51,
   "metadata": {},
   "outputs": [],
   "source": [
    "class Solution:\n",
    "    def counter(self, arr):\n",
    "        lol = set()\n",
    "        for i in range(len(arr)):\n",
    "            bytes = bin(arr[i]).count(\"1\")\n",
    "            lol.add((bytes, arr[i]))\n",
    "        # return lol\n",
    "\n",
    "    def sortByBits(self, arr: List[int]) -> List[int]:\n",
    "        return sorted(arr, key = lambda x: (bin(x).count(\"1\"), x))"
   ]
  },
  {
   "cell_type": "code",
   "execution_count": null,
   "metadata": {},
   "outputs": [],
   "source": []
  },
  {
   "attachments": {},
   "cell_type": "markdown",
   "metadata": {},
   "source": [
    "Rotate Left: https://www.hackerrank.com/challenges/array-left-rotation/problem?isFullScreen=true"
   ]
  },
  {
   "cell_type": "code",
   "execution_count": 59,
   "metadata": {},
   "outputs": [],
   "source": [
    "def rotateLeft(d, arr):\n",
    "    # d is the number of rotations by 1 \n",
    "    for i in range(d):\n",
    "        number = arr.pop(0)\n",
    "        arr.insert(len(arr), number)\n",
    "        print(arr)\n"
   ]
  },
  {
   "cell_type": "code",
   "execution_count": 61,
   "metadata": {},
   "outputs": [
    {
     "name": "stdout",
     "output_type": "stream",
     "text": [
      "[2, 3, 4, 5, 1]\n",
      "[3, 4, 5, 1, 2]\n",
      "[4, 5, 1, 2, 3]\n"
     ]
    }
   ],
   "source": [
    "rotateLeft(3, [1,2,3,4,5])"
   ]
  },
  {
   "cell_type": "code",
   "execution_count": 75,
   "metadata": {},
   "outputs": [],
   "source": [
    "def palindromeIndex(s):\n",
    "    s_list = list(s)\n",
    "    if s_list == s_list[::-1]:\n",
    "            return -1\n",
    "    \n",
    "    for i in range(len(s_list)):\n",
    "        letter = s_list.pop(i)\n",
    "        if s_list == s_list[::-1]:\n",
    "            return i\n",
    "        else:\n",
    "            s_list.insert(i, letter)\n",
    "    return -1"
   ]
  },
  {
   "cell_type": "code",
   "execution_count": 78,
   "metadata": {},
   "outputs": [],
   "source": [
    "def palindromeIndex2(s):\n",
    "    if s ==s[::-1]:\n",
    "        return -1\n",
    "    n = len(s)\n",
    "    for i in range(n//2):\n",
    "        print(i)\n",
    "        if s[i] != s[n-1-i]: #here we are comparing the symmetrical way\n",
    "            #check the first and the last characters are different \n",
    "            if s[i:n-1-i] == s[i:n-1-i][::-1]: #bcb\n",
    "                return n-1-i #will return c\n",
    "            elif s[i+1:n-i] == s[i+1:n-i][::-1]: \n",
    "                # dont use the -1 here as we want to capture the middle and we dont want to exclude the element in question\n",
    "                return i\n",
    "    return -1"
   ]
  },
  {
   "cell_type": "code",
   "execution_count": 80,
   "metadata": {},
   "outputs": [
    {
     "name": "stdout",
     "output_type": "stream",
     "text": [
      "0\n",
      "1\n",
      "2\n",
      "3\n",
      "4\n"
     ]
    }
   ],
   "source": [
    "palindromeIndex2(\"aabcbcaa\")"
   ]
  },
  {
   "cell_type": "code",
   "execution_count": 64,
   "metadata": {},
   "outputs": [
    {
     "data": {
      "text/plain": [
       "'cvba'"
      ]
     },
     "execution_count": 64,
     "metadata": {},
     "output_type": "execute_result"
    }
   ],
   "source": [
    "a[::-1]"
   ]
  },
  {
   "cell_type": "markdown",
   "metadata": {},
   "source": []
  },
  {
   "cell_type": "code",
   "execution_count": null,
   "metadata": {},
   "outputs": [],
   "source": [
    "def truckTour(pertolpumps):\n",
    "    position = fuel = 0\n",
    "    for i in range(len(pertolpumps)):\n",
    "        fuel += pertolpumps[i][0] - pertolpumps[i][1]\n",
    "        if fuel < 0:\n",
    "            position = i+1\n",
    "            fuel = 0\n",
    "    return position\n"
   ]
  },
  {
   "attachments": {},
   "cell_type": "markdown",
   "metadata": {},
   "source": [
    "Merge two sorted linked lists: https://www.hackerrank.com/challenges/one-week-preparation-kit-merge-two-sorted-linked-lists/problem?isFullScreen=true&h_l=interview&playlist_slugs%5B%5D=preparation-kits&playlist_slugs%5B%5D=one-week-preparation-kit&playlist_slugs%5B%5D=one-week-day-five"
   ]
  },
  {
   "cell_type": "code",
   "execution_count": null,
   "metadata": {},
   "outputs": [],
   "source": [
    "def mergeLists(head1, head2):\n",
    "    l1 = head1\n",
    "    l2 = head2\n",
    "    prehead = SinglyLinkedListNode(-1)\n",
    "    prev = prehead\n",
    "    \n",
    "    while l1 and l2:\n",
    "        if l1.data <= l2.data:\n",
    "            prev.next = l1\n",
    "            l1 = l1.next\n",
    "            prev = prev.next\n",
    "        elif l1.data > l2.data:\n",
    "            prev.next = l2\n",
    "            l2 = l2.next\n",
    "            prev = prev.next\n",
    "    prev.next = l1 if l1 else l2\n",
    "            \n",
    "    return prehead.next\n",
    "    "
   ]
  },
  {
   "cell_type": "code",
   "execution_count": null,
   "metadata": {},
   "outputs": [],
   "source": [
    "\n",
    "stack = []\n",
    "if type == 1:\n",
    "    \n",
    "\n"
   ]
  },
  {
   "cell_type": "code",
   "execution_count": 82,
   "metadata": {},
   "outputs": [
    {
     "data": {
      "text/plain": [
       "['1', '42']"
      ]
     },
     "execution_count": 82,
     "metadata": {},
     "output_type": "execute_result"
    }
   ],
   "source": [
    "\"1 42\".split()"
   ]
  },
  {
   "attachments": {},
   "cell_type": "markdown",
   "metadata": {},
   "source": [
    "Queue using two stacks"
   ]
  },
  {
   "cell_type": "code",
   "execution_count": null,
   "metadata": {},
   "outputs": [],
   "source": [
    "# Enter your code here. Read input from STDIN. Print output to STDOUT\n",
    "# first iteratin -> Wrong since using only one stack\n",
    "stack_append = []\n",
    "\n",
    "q = int(input())\n",
    "for i in range(q):\n",
    "    t = input().split()\n",
    "    \n",
    "    if t[0] == \"1\":\n",
    "        queue.append(t[1])\n",
    "    elif t[0] == \"2\":\n",
    "        queue.pop(0)\n",
    "    elif t[0] == \"3\":\n",
    "        print(queue[0])\n",
    "        "
   ]
  },
  {
   "cell_type": "code",
   "execution_count": null,
   "metadata": {},
   "outputs": [],
   "source": [
    "# Enter your code here. Read input from STDIN. Print output to STDOUT\n",
    "# correct way\n",
    "stack_push = []\n",
    "stack_delete = []\n",
    "q = int(input())\n",
    "for i in range(q):\n",
    "    t = input().split()\n",
    "    \n",
    "    if t[0] == \"1\":\n",
    "        stack_push.append(t[1])\n",
    "    elif t[0] == \"2\":\n",
    "        if not stack_delete: #if stack delete is empty\n",
    "            while stack_push:\n",
    "                stack_delete.append(stack_push.pop())\n",
    "        stack_delete.pop()\n",
    "        # stack_push = stack_delete[::-1]\n",
    "           \n",
    "    elif t[0] == \"3\":\n",
    "       \n",
    "        if not stack_delete: #if stack delete is empty\n",
    "            while stack_push:\n",
    "                stack_delete.append(stack_push.pop())\n",
    "        print(stack_delete[-1])\n"
   ]
  },
  {
   "attachments": {},
   "cell_type": "markdown",
   "metadata": {},
   "source": [
    "Balanced Brackets"
   ]
  },
  {
   "cell_type": "code",
   "execution_count": 162,
   "metadata": {},
   "outputs": [],
   "source": [
    "def isBalanced(s):\n",
    "    # Write your code here\n",
    "    stack = [] \n",
    "    \n",
    "    for i in range(len(s)):\n",
    "        if len(s)%2 != 0:\n",
    "            return \"NO\"\n",
    "        # print(s[i])\n",
    "        stack.append(s[i])\n",
    "        # print(stack)\n",
    "        if len(stack) >=2:\n",
    "            if stack[-1] == \")\" and stack[-2] == \"(\":\n",
    "                \n",
    "                stack.pop()\n",
    "                stack.pop()\n",
    "                \n",
    "            elif stack[-1] == \"]\" and stack[-2] == \"[\":\n",
    "                \n",
    "                stack.pop()\n",
    "                stack.pop()\n",
    "            elif stack[-1]== \"}\" and stack[-2] == \"{\":\n",
    "                \n",
    "                stack.pop()\n",
    "                stack.pop()\n",
    "        \n",
    "    return \"YES\" if stack==[] else \"NO\""
   ]
  },
  {
   "cell_type": "code",
   "execution_count": 163,
   "metadata": {},
   "outputs": [
    {
     "data": {
      "text/plain": [
       "'NO'"
      ]
     },
     "execution_count": 163,
     "metadata": {},
     "output_type": "execute_result"
    }
   ],
   "source": [
    "isBalanced(\"{[()]}}\")"
   ]
  },
  {
   "cell_type": "code",
   "execution_count": null,
   "metadata": {},
   "outputs": [],
   "source": []
  }
 ],
 "metadata": {
  "kernelspec": {
   "display_name": "Python 3",
   "language": "python",
   "name": "python3"
  },
  "language_info": {
   "codemirror_mode": {
    "name": "ipython",
    "version": 3
   },
   "file_extension": ".py",
   "mimetype": "text/x-python",
   "name": "python",
   "nbconvert_exporter": "python",
   "pygments_lexer": "ipython3",
   "version": "3.8.9"
  },
  "orig_nbformat": 4,
  "vscode": {
   "interpreter": {
    "hash": "31f2aee4e71d21fbe5cf8b01ff0e069b9275f58929596ceb00d14d90e3e16cd6"
   }
  }
 },
 "nbformat": 4,
 "nbformat_minor": 2
}
