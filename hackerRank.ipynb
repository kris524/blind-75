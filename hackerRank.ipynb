{
 "cells": [
  {
   "cell_type": "code",
   "execution_count": null,
   "metadata": {},
   "outputs": [],
   "source": [
    "def gridChallenge(grid):\n",
    "    while True:\n",
    "        for i in len(range(grid)): #column\n",
    "            for j in len(range(grid)): #row\n",
    "                word = grid[i][j]\n",
    "\n",
    "            # letter = grid[i]\n"
   ]
  },
  {
   "cell_type": "code",
   "execution_count": 76,
   "metadata": {},
   "outputs": [],
   "source": [
    "def gridChallenge(grid):\n",
    "    column_list = []\n",
    "    alphabetical_column_list = []\n",
    "    grid = [list(row) for row in grid]\n",
    "    print(grid) #grid here is [[] [] [] ...]\n",
    "    i = 0\n",
    "    while i<len(grid):\n",
    "        for j in range(len(grid)):\n",
    "            print(j, i)\n",
    "            print(grid[j][i])\n",
    "            column_list.append(grid[j][i])\n",
    "            alphabetical_column_list.append(grid[j][i])\n",
    "        i+=1\n",
    "\n",
    "    alphabetical_column_list_new = []\n",
    "    number_of_columns = len(grid)\n",
    "    for i in range(0, len(alphabetical_column_list), number_of_columns):\n",
    "        sorted_chunk = sorted(alphabetical_column_list[i: i+number_of_columns])\n",
    "        alphabetical_column_list_new.append(sorted_chunk)\n",
    "\n",
    "    column_list_new = []\n",
    "    for i in range(0, len(column_list), number_of_columns):\n",
    "        # sorted_chunk = sorted(alphabetical_column_list[i: i+number_of_columns])\n",
    "        column_list_new.append(column_list[i: i+number_of_columns])\n",
    "\n",
    "    print(column_list)\n",
    "    print(alphabetical_column_list)\n",
    "    print(alphabetical_column_list_new)\n",
    "    print(column_list_new)\n",
    "    if column_list_new == alphabetical_column_list_new:\n",
    "        return \"YES\"\n",
    "    else:\n",
    "        return \"NO\"\n",
    "    "
   ]
  },
  {
   "cell_type": "code",
   "execution_count": 78,
   "metadata": {},
   "outputs": [
    {
     "name": "stdout",
     "output_type": "stream",
     "text": [
      "[['u', 'x', 'f'], ['v', 'o', 'f'], ['h', 'm', 'p']]\n",
      "0 0\n",
      "u\n",
      "1 0\n",
      "v\n",
      "2 0\n",
      "h\n",
      "0 1\n",
      "x\n",
      "1 1\n",
      "o\n",
      "2 1\n",
      "m\n",
      "0 2\n",
      "f\n",
      "1 2\n",
      "f\n",
      "2 2\n",
      "p\n",
      "['u', 'v', 'h', 'x', 'o', 'm', 'f', 'f', 'p']\n",
      "['u', 'v', 'h', 'x', 'o', 'm', 'f', 'f', 'p']\n",
      "[['h', 'u', 'v'], ['m', 'o', 'x'], ['f', 'f', 'p']]\n",
      "[['u', 'v', 'h'], ['x', 'o', 'm'], ['f', 'f', 'p']]\n"
     ]
    },
    {
     "data": {
      "text/plain": [
       "'NO'"
      ]
     },
     "execution_count": 78,
     "metadata": {},
     "output_type": "execute_result"
    }
   ],
   "source": [
    "gridChallenge(['uxf', 'vof', 'hmp'])"
   ]
  },
  {
   "cell_type": "code",
   "execution_count": null,
   "metadata": {},
   "outputs": [],
   "source": [
    "def gridChallenge(grid):\n",
    "    # Sort each row.\n",
    "    for i in range(len(grid)):\n",
    "        grid[i] = sorted(grid[i])\n",
    "        \n",
    "    # Check each column is sorted.\n",
    "    for i in range(len(grid[0])):\n",
    "        column_list = []\n",
    "        for j in range(len(grid)): \n",
    "            column_list.append(grid[j][i])\n",
    "        if (column_list != sorted(column_list)):\n",
    "            return \"NO\"\n",
    "            \n",
    "    return \"YES\""
   ]
  },
  {
   "cell_type": "code",
   "execution_count": 105,
   "metadata": {},
   "outputs": [],
   "source": [
    "from functools import reduce\n",
    "\n",
    "\n",
    "def product(nums):\n",
    "    dummy = nums[:]\n",
    "    answer = []\n",
    "    i = 0\n",
    "    \n",
    "    for i in range(len(nums)):\n",
    "        \n",
    "        dummy = nums[:]\n",
    "        dummy.pop(i)\n",
    "        result = reduce((lambda x, y: x * y), dummy)\n",
    "        answer.append(result)\n",
    "\n",
    "\n",
    "\n",
    "\n",
    "    # for i in nums:\n",
    "    #     result1 = reduce(   (lambda x,y: (x*y) while (x !=i and y !=i) )   ,    dummy)\n",
    "    #     answer.append(result1)\n",
    "    # print(dummy)\n",
    "    # dummy.pop(1)\n",
    "    print(answer)"
   ]
  },
  {
   "cell_type": "code",
   "execution_count": 106,
   "metadata": {},
   "outputs": [
    {
     "name": "stdout",
     "output_type": "stream",
     "text": [
      "[24, 12, 8, 6]\n"
     ]
    }
   ],
   "source": [
    "product([1,2,3,4])"
   ]
  },
  {
   "cell_type": "code",
   "execution_count": 122,
   "metadata": {},
   "outputs": [],
   "source": [
    "import math\n",
    "def solution(nums):\n",
    "    answer = []\n",
    "   \n",
    "    for i in range(len(nums)):\n",
    "        \n",
    "        if i == len(nums)-1:\n",
    "            postfix = 1\n",
    "            prefix = math.prod(nums[:i])\n",
    "            answer.append(prefix*postfix)\n",
    "        elif i == 0:\n",
    "            prefix = 1\n",
    "            postfix = math.prod(nums[i+1:])\n",
    "            answer.append(prefix*postfix)\n",
    "        else:\n",
    "            prefix = math.prod(nums[:i])\n",
    "            postfix = math.prod(nums[i+1:])\n",
    "            answer.append(prefix*postfix)\n",
    "    print(answer)\n",
    "        "
   ]
  },
  {
   "cell_type": "code",
   "execution_count": 123,
   "metadata": {},
   "outputs": [
    {
     "name": "stdout",
     "output_type": "stream",
     "text": [
      "[]\n",
      "[1, 2, 3, 4]\n",
      "[1]\n",
      "[2, 3, 4]\n",
      "[1, 2]\n",
      "[3, 4]\n",
      "[1, 2, 3]\n",
      "[4]\n",
      "[24, 12, 8, 6]\n"
     ]
    }
   ],
   "source": [
    "solution([1,2,3, 4])"
   ]
  },
  {
   "cell_type": "code",
   "execution_count": 140,
   "metadata": {},
   "outputs": [],
   "source": [
    "def solution(nums):\n",
    "    prefix = 1\n",
    "    res = [1]*len(nums)\n",
    "    for i in range(len(nums)):\n",
    "        # print(nums[i])\n",
    "        res[i] = prefix\n",
    "        print(res)\n",
    "        prefix *= nums[i] #1, 2, 6, 24\n",
    "        print(prefix)\n",
    "    \n",
    "    postfix = 1\n",
    "    for i in range(len(nums)-1,-1,-1):\n",
    "        # print(nums[i])\n",
    "        res[i] *= postfix\n",
    "        print(res)\n",
    "        postfix *= nums[i]# 4, 12, 24, 24\n",
    "        print(postfix)\n",
    "\n",
    "    return res"
   ]
  },
  {
   "cell_type": "code",
   "execution_count": 141,
   "metadata": {},
   "outputs": [
    {
     "name": "stdout",
     "output_type": "stream",
     "text": [
      "[1, 1, 1, 1]\n",
      "1\n",
      "[1, 1, 1, 1]\n",
      "2\n",
      "[1, 1, 2, 1]\n",
      "6\n",
      "[1, 1, 2, 6]\n",
      "24\n",
      "[1, 1, 2, 6]\n",
      "4\n",
      "[1, 1, 8, 6]\n",
      "12\n",
      "[1, 12, 8, 6]\n",
      "24\n",
      "[24, 12, 8, 6]\n",
      "24\n"
     ]
    },
    {
     "data": {
      "text/plain": [
       "[24, 12, 8, 6]"
      ]
     },
     "execution_count": 141,
     "metadata": {},
     "output_type": "execute_result"
    }
   ],
   "source": [
    "solution([1,2,3,4])"
   ]
  },
  {
   "cell_type": "code",
   "execution_count": 181,
   "metadata": {},
   "outputs": [],
   "source": [
    "def superDigit(n, k):\n",
    "    n_str = str(n)\n",
    "    n_str_total = k * n_str\n",
    "    for num in n_str_total:\n",
    "        total += int(num)\n",
    "\n",
    "    # print(n)\n",
    "    list_n_str_totla = [int(x) for x in n_str_total]\n",
    "\n",
    "    if len(list_n_str_totla) ==1:\n",
    "        return list_n_str_totla[0]\n",
    "    else:\n",
    "        return superDigit(sum(list_n_str_totla),1)\n",
    "\n"
   ]
  },
  {
   "cell_type": "code",
   "execution_count": 197,
   "metadata": {},
   "outputs": [
    {
     "name": "stdout",
     "output_type": "stream",
     "text": [
      "148148148\n",
      "148148148\n",
      "39\n",
      "39\n",
      "12\n",
      "12\n"
     ]
    },
    {
     "data": {
      "text/plain": [
       "'3'"
      ]
     },
     "execution_count": 197,
     "metadata": {},
     "output_type": "execute_result"
    }
   ],
   "source": [
    "superDigit('148', 3)"
   ]
  },
  {
   "cell_type": "code",
   "execution_count": 196,
   "metadata": {},
   "outputs": [],
   "source": [
    "def superDigit(n, k):\n",
    "    \n",
    "    def helper(n):\n",
    "        \n",
    "        total = 0\n",
    "        for num in n:\n",
    "            total += int(num)\n",
    "        total = str(total)\n",
    "        if len(total) == 1:\n",
    "            return total\n",
    "        else:\n",
    "            print(total)\n",
    "            return helper(total)\n",
    "    # use the helper at the start so you can simplify if you get a very big number at the start\n",
    "    p = str(helper(n)*k)\n",
    "    print(p)\n",
    "    return helper(p)\n",
    "        \n"
   ]
  }
 ],
 "metadata": {
  "kernelspec": {
   "display_name": "Python 3.10.3 64-bit",
   "language": "python",
   "name": "python3"
  },
  "language_info": {
   "codemirror_mode": {
    "name": "ipython",
    "version": 3
   },
   "file_extension": ".py",
   "mimetype": "text/x-python",
   "name": "python",
   "nbconvert_exporter": "python",
   "pygments_lexer": "ipython3",
   "version": "3.10.3"
  },
  "orig_nbformat": 4,
  "vscode": {
   "interpreter": {
    "hash": "aee8b7b246df8f9039afb4144a1f6fd8d2ca17a180786b69acc140d282b71a49"
   }
  }
 },
 "nbformat": 4,
 "nbformat_minor": 2
}
