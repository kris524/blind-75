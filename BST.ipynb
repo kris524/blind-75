{
 "cells": [
  {
   "cell_type": "markdown",
   "metadata": {},
   "source": [
    "Validate Binray search tree: https://leetcode.com/explore/learn/card/introduction-to-data-structure-binary-search-tree/140/introduction-to-a-bst/997/"
   ]
  },
  {
   "cell_type": "code",
   "execution_count": 4,
   "metadata": {},
   "outputs": [],
   "source": [
    "# Definition for a binary tree node.\n",
    "# class TreeNode:\n",
    "#     def __init__(self, val=0, left=None, right=None):\n",
    "#         self.val = val\n",
    "#         self.left = left\n",
    "#         self.right = right\n",
    "#Approach one\n",
    "class Solution:\n",
    "    def isValidBST(self, root: Optional[TreeNode]) -> bool:\n",
    "        def validate(node, lower_limit=-math.inf, upper_limit=math.inf):\n",
    "            if not node:\n",
    "                \n",
    "                return True\n",
    "            if node.val >= upper_limit or node.val <= lower_limit:\n",
    "                return False\n",
    "            \n",
    "            return (validate(node.left, lower_limit, node.val) and validate(node.right, node.val, upper_limit))\n",
    "        \n",
    "        return validate(root)\n",
    "        "
   ]
  },
  {
   "cell_type": "code",
   "execution_count": null,
   "metadata": {},
   "outputs": [],
   "source": [
    "def isValidBST(root):\n",
    "    if not root:\n",
    "        return True\n",
    "    \n",
    "    stack = [(root, -math.inf, math.inf)]\n",
    "    while stack:\n",
    "        print(stack)\n",
    "        root, low, high = stack.pop()\n",
    "        if not root:\n",
    "            continue\n",
    "        val = root.val\n",
    "        if val < low or val > high:\n",
    "            return False\n",
    "        stack.append((root.right, val, high))\n",
    "        stack.append((root.left, low, val))\n",
    "    return True"
   ]
  }
 ],
 "metadata": {
  "kernelspec": {
   "display_name": "Python 3.10.3 64-bit",
   "language": "python",
   "name": "python3"
  },
  "language_info": {
   "codemirror_mode": {
    "name": "ipython",
    "version": 3
   },
   "file_extension": ".py",
   "mimetype": "text/x-python",
   "name": "python",
   "nbconvert_exporter": "python",
   "pygments_lexer": "ipython3",
   "version": "3.10.3"
  },
  "orig_nbformat": 4,
  "vscode": {
   "interpreter": {
    "hash": "aee8b7b246df8f9039afb4144a1f6fd8d2ca17a180786b69acc140d282b71a49"
   }
  }
 },
 "nbformat": 4,
 "nbformat_minor": 2
}
